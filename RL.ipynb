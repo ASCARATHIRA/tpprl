{
 "cells": [
  {
   "cell_type": "code",
   "execution_count": 1,
   "metadata": {
    "collapsed": true
   },
   "outputs": [],
   "source": [
    "%matplotlib inline"
   ]
  },
  {
   "cell_type": "code",
   "execution_count": 2,
   "metadata": {
    "collapsed": true
   },
   "outputs": [],
   "source": [
    "import redqueen.opt_model as OM\n",
    "import redqueen.opt_runs as OR\n",
    "import redqueen.utils as RU\n",
    "import tensorflow as tf\n",
    "import matplotlib.pyplot as plt\n",
    "import seaborn as sns\n",
    "import numpy as np\n",
    "import decorated_options as Deco\n",
    "import multiprocessing as MP"
   ]
  },
  {
   "cell_type": "code",
   "execution_count": 3,
   "metadata": {
    "collapsed": true
   },
   "outputs": [],
   "source": [
    "sns.set_style(style='dark')\n",
    "sns.set_palette('Set2')"
   ]
  },
  {
   "cell_type": "code",
   "execution_count": 4,
   "metadata": {},
   "outputs": [
    {
     "data": {
      "text/plain": [
       "<module 'redqueen.utils' from '/NL/stackexchange/work/prog/broadcast-online/redqueen/utils.py'>"
      ]
     },
     "execution_count": 4,
     "metadata": {},
     "output_type": "execute_result"
    }
   ],
   "source": [
    "from importlib import reload\n",
    "reload(OM)\n",
    "reload(OR)\n",
    "reload(RU)"
   ]
  },
  {
   "cell_type": "code",
   "execution_count": 5,
   "metadata": {},
   "outputs": [
    {
     "data": {
      "text/plain": [
       "<redqueen.opt_model.SimOpts at 0x7f101614fe10>"
      ]
     },
     "execution_count": 5,
     "metadata": {},
     "output_type": "execute_result"
    }
   ],
   "source": [
    "OR.SimOpts(**{\n",
    "        'src_id': 1,\n",
    "        'q_vec': [],\n",
    "        's': 1.0,\n",
    "        'other_sources': [\n",
    "            (\n",
    "                'Poisson', \n",
    "                {\n",
    "                    'src_id': 2,\n",
    "                    'seed': 42,\n",
    "                    'rates': 100\n",
    "                }\n",
    "            )\n",
    "        ],\n",
    "        'sink_ids': [1001],\n",
    "        'end_time': 100.0,\n",
    "        'edge_list': [(1, 1001), (2, 1001)]\n",
    "    })"
   ]
  },
  {
   "cell_type": "code",
   "execution_count": 6,
   "metadata": {
    "collapsed": true
   },
   "outputs": [],
   "source": [
    "simOpts = OR.SimOpts.std_poisson(42, 1000)"
   ]
  },
  {
   "cell_type": "markdown",
   "metadata": {},
   "source": [
    "# Exponential sampler"
   ]
  },
  {
   "cell_type": "markdown",
   "metadata": {},
   "source": [
    "The output intensity is given by:\n",
    "\n",
    "$$\n",
    "u(t) = \\exp( \\underbrace{W_h \\cdot h_j}_{\\text{past}} + \\overbrace{W_t (t - t_j)}^{\\text{decay}} + \\underbrace{b_t}_{\\text{base}} )\n",
    "$$\n",
    "\n",
    "where $t_j$ is the last event before $t$.\n",
    "\n",
    "It is simplified to the following in the code:\n",
    "\n",
    "$$\n",
    "u(t) = c \\cdot e^{W_t \\cdot (t - t_j)}\n",
    "$$"
   ]
  },
  {
   "cell_type": "code",
   "execution_count": 7,
   "metadata": {
    "collapsed": true
   },
   "outputs": [],
   "source": [
    "%run -i tpprl/exp_sampler.py"
   ]
  },
  {
   "cell_type": "markdown",
   "metadata": {},
   "source": [
    "Testing the sampler."
   ]
  },
  {
   "cell_type": "code",
   "execution_count": 8,
   "metadata": {
    "collapsed": true
   },
   "outputs": [],
   "source": [
    "def_plot_opts = Deco.Options(vt=0.5, \n",
    "                             wt=-1.0,\n",
    "                             bt=1.0,\n",
    "                             init_h=0,\n",
    "                             t_min=0,\n",
    "                             t_max=10,\n",
    "                             resolution=200)\n",
    "\n",
    "@Deco.optioned()\n",
    "def plot_lambda(vt, wt, bt, init_h, t_min, t_max, events, resolution):\n",
    "    X = np.linspace(t_min, t_max, num=resolution)\n",
    "    \n",
    "    \n",
    "    event_idx = 0\n",
    "    c = np.exp(vt * init_h + bt)\n",
    "    t0 = t_min\n",
    "    \n",
    "    # TODO: In the baseilne, shouldn't the t_0 still be updated to the latest event?\n",
    "    Y1 = [c * np.exp(wt * (x - t0)) for x in X]\n",
    "    \n",
    "    Y2 = [None] * len(X)\n",
    "    for idx, x in enumerate(X):\n",
    "        while event_idx < len(events) and events[event_idx][0] < x:\n",
    "            c = np.exp(vt * events[event_idx][1] + bt)\n",
    "            t0 = events[event_idx][0]\n",
    "            event_idx += 1\n",
    "            \n",
    "        Y2[idx] = c * np.exp(wt * (x - t0))\n",
    "    \n",
    "    plt.step(X, Y1, '--', label='Baseline')\n",
    "    plt.step(X, Y2, '-', label='Correct')\n",
    "    plt.vlines([x[0] for x in events], ymin=0, ymax=max(Y2), label='Events')\n",
    "    plt.legend()\n",
    "    return (X, Y1, Y2)"
   ]
  },
  {
   "cell_type": "code",
   "execution_count": 9,
   "metadata": {
    "collapsed": true
   },
   "outputs": [],
   "source": [
    "events = [(1, -8), (5, 5), (9, 0)]"
   ]
  },
  {
   "cell_type": "code",
   "execution_count": 10,
   "metadata": {},
   "outputs": [
    {
     "data": {
      "image/png": "[encoded data removed]",
      "text/plain": [
       "<matplotlib.figure.Figure at 0x7f101614fb70>"
      ]
     },
     "metadata": {},
     "output_type": "display_data"
    }
   ],
   "source": [
    "X, Y1, Y2 = plot_lambda(events=events, _opts=def_plot_opts)"
   ]
  },
  {
   "cell_type": "code",
   "execution_count": null,
   "metadata": {
    "collapsed": true
   },
   "outputs": [],
   "source": []
  },
  {
   "cell_type": "code",
   "execution_count": 11,
   "metadata": {
    "collapsed": true
   },
   "outputs": [],
   "source": [
    "sampler = ExpCDFSampler(_opts=def_plot_opts, seed=101 + 1279)"
   ]
  },
  {
   "cell_type": "code",
   "execution_count": 12,
   "metadata": {},
   "outputs": [
    {
     "data": {
      "text/plain": [
       "0.6092880541958573"
      ]
     },
     "execution_count": 12,
     "metadata": {},
     "output_type": "execute_result"
    }
   ],
   "source": [
    "sampler.generate_sample()"
   ]
  },
  {
   "cell_type": "code",
   "execution_count": 13,
   "metadata": {},
   "outputs": [
    {
     "data": {
      "text/plain": [
       "0.98369540000156641"
      ]
     },
     "execution_count": 13,
     "metadata": {},
     "output_type": "execute_result"
    }
   ],
   "source": [
    "sampler.reset_only_sample(sampler.generate_sample())"
   ]
  },
  {
   "cell_type": "code",
   "execution_count": 14,
   "metadata": {},
   "outputs": [
    {
     "data": {
      "text/plain": [
       "0.9725887021550208"
      ]
     },
     "execution_count": 14,
     "metadata": {},
     "output_type": "execute_result"
    }
   ],
   "source": [
    "sampler.reset(1, -4, False)"
   ]
  },
  {
   "cell_type": "code",
   "execution_count": 15,
   "metadata": {},
   "outputs": [
    {
     "data": {
      "text/plain": [
       "4.924794439657469"
      ]
     },
     "execution_count": 15,
     "metadata": {},
     "output_type": "execute_result"
    }
   ],
   "source": [
    "sampler.register_event(5, 0.5, False)"
   ]
  },
  {
   "cell_type": "code",
   "execution_count": 16,
   "metadata": {},
   "outputs": [
    {
     "data": {
      "text/plain": [
       "4.9482122321618336"
      ]
     },
     "execution_count": 16,
     "metadata": {},
     "output_type": "execute_result"
    }
   ],
   "source": [
    "sampler.reset_only_sample(sampler.generate_sample())"
   ]
  },
  {
   "cell_type": "code",
   "execution_count": 17,
   "metadata": {},
   "outputs": [
    {
     "data": {
      "text/plain": [
       "8.7893001591946209"
      ]
     },
     "execution_count": 17,
     "metadata": {},
     "output_type": "execute_result"
    }
   ],
   "source": [
    "sampler.register_event(9, 0, False)"
   ]
  },
  {
   "cell_type": "code",
   "execution_count": 18,
   "metadata": {},
   "outputs": [
    {
     "data": {
      "text/plain": [
       "9.0386156318159898"
      ]
     },
     "execution_count": 18,
     "metadata": {},
     "output_type": "execute_result"
    }
   ],
   "source": [
    "sampler.reset_only_sample(sampler.generate_sample())"
   ]
  },
  {
   "cell_type": "code",
   "execution_count": 19,
   "metadata": {},
   "outputs": [
    {
     "data": {
      "text/plain": [
       "9.0386156318159898"
      ]
     },
     "execution_count": 19,
     "metadata": {},
     "output_type": "execute_result"
    }
   ],
   "source": [
    "sampler.generate_sample()"
   ]
  },
  {
   "cell_type": "markdown",
   "metadata": {
    "collapsed": true
   },
   "source": [
    "## Tests"
   ]
  },
  {
   "cell_type": "code",
   "execution_count": 15,
   "metadata": {},
   "outputs": [
    {
     "name": "stdout",
     "output_type": "stream",
     "text": [
      "CPU times: user 1.44 s, sys: 693 ms, total: 2.14 s\n",
      "Wall time: 2.21 s\n"
     ]
    }
   ],
   "source": [
    "%%time\n",
    "all_sim_events = []\n",
    "processes = None\n",
    "N = 10000\n",
    "verbose = False\n",
    "\n",
    "assert not verbose or (N < 10 and processes is not None), \"Cannot have verbose output with these settings.\"\n",
    "\n",
    "def worker_sampler(params):\n",
    "    ii, sampler = params\n",
    "    event_idx = 0\n",
    "    next_sample = sampler.generate_sample()\n",
    "    sim_events = []\n",
    "        \n",
    "    while next_sample < def_plot_opts.t_max or event_idx < len(events):\n",
    "        while event_idx < len(events) and \\\n",
    "              events[event_idx][0] < next_sample:\n",
    "            # print(\"Old = \", next_sample)\n",
    "            old_sample = next_sample\n",
    "            next_sample = sampler.register_event(events[event_idx][0], \n",
    "                                                 events[event_idx][1], \n",
    "                                                 False)\n",
    "            if verbose:\n",
    "                print(\"Eps = {}, Old = {}, Event = {}, Next = {}\"\n",
    "                      .format(ii, old_sample, events[event_idx], next_sample))\n",
    "                \n",
    "            event_idx += 1\n",
    "            \n",
    "        if next_sample > def_plot_opts.t_max:\n",
    "            break\n",
    "            \n",
    "        if verbose:\n",
    "            print(\"Final sample = {}\".format(next_sample))                \n",
    "        \n",
    "        sim_events.append(next_sample)\n",
    "        next_sample = sampler.reset_only_sample(next_sample)\n",
    "    \n",
    "    return sim_events\n",
    "    \n",
    "\n",
    "with MP.Pool(processes=processes) as pool:\n",
    "    for sim_events in pool.map(worker_sampler,\n",
    "                               [(ii, ExpCDFSampler(_opts=def_plot_opts, seed=101 + ii))\n",
    "                                for ii in range(N)]):\n",
    "        all_sim_events.append(sim_events)\n"
   ]
  },
  {
   "cell_type": "code",
   "execution_count": 16,
   "metadata": {
    "collapsed": true
   },
   "outputs": [],
   "source": [
    "flat_events = [x for y in all_sim_events for x in y]"
   ]
  },
  {
   "cell_type": "code",
   "execution_count": 17,
   "metadata": {},
   "outputs": [
    {
     "data": {
      "text/plain": [
       "[]"
      ]
     },
     "execution_count": 17,
     "metadata": {},
     "output_type": "execute_result"
    }
   ],
   "source": [
    "[x for x in flat_events if x < 0]"
   ]
  },
  {
   "cell_type": "code",
   "execution_count": 18,
   "metadata": {
    "scrolled": true
   },
   "outputs": [
    {
     "data": {
      "image/png": "[encoded data removed]",
      "text/plain": [
       "<matplotlib.figure.Figure at 0x7f101612eb70>"
      ]
     },
     "metadata": {},
     "output_type": "display_data"
    }
   ],
   "source": [
    "plt.hist(flat_events, bins=200);"
   ]
  },
  {
   "cell_type": "code",
   "execution_count": 19,
   "metadata": {},
   "outputs": [
    {
     "data": {
      "image/png": "[encoded data removed]",
      "text/plain": [
       "<matplotlib.figure.Figure at 0x7f1015dae550>"
      ]
     },
     "metadata": {},
     "output_type": "display_data"
    }
   ],
   "source": [
    "X, Y1, Y2 = plot_lambda(events=events, _opts=def_plot_opts)"
   ]
  },
  {
   "cell_type": "code",
   "execution_count": 20,
   "metadata": {},
   "outputs": [
    {
     "data": {
      "text/plain": [
       "10000"
      ]
     },
     "execution_count": 20,
     "metadata": {},
     "output_type": "execute_result"
    }
   ],
   "source": [
    "len(all_sim_events)"
   ]
  },
  {
   "cell_type": "markdown",
   "metadata": {},
   "source": [
    "## ExpCDFBroadcaster"
   ]
  },
  {
   "cell_type": "code",
   "execution_count": 21,
   "metadata": {
    "collapsed": true
   },
   "outputs": [],
   "source": [
    "class ExpBroadcasterOld(OM.Broadcaster):\n",
    "    \n",
    "    @Deco.optioned()\n",
    "    def __init__(self, src_id, seed, vt, wt, bt, init_h, t_min=0):\n",
    "        super(ExpBroadcasterOld, self).__init__(src_id, seed)\n",
    "        self.init = False\n",
    "        self.vt = vt\n",
    "        self.wt = wt\n",
    "        self.bt = bt\n",
    "        self.init_h = init_h\n",
    "        self.exp_sampler = ExpCDFSampler(vt=vt, wt=wt, bt=bt,\n",
    "                                         init_h=init_h, t_min=t_min, seed=seed)\n",
    "        \n",
    "    def get_next_interval(self, event):\n",
    "        if not self.init:\n",
    "            self.init = True\n",
    "            # Nothing special to do for the first event.\n",
    "            \n",
    "        self.state.apply_event(event)\n",
    "        \n",
    "        if event is None:\n",
    "            # This is the first event. Post immediately to join the party?\n",
    "            # Or hold off?\n",
    "            return self.exp_sampler.generate_sample()\n",
    "        elif event.src_id == self.src_id:\n",
    "            # We posted.\n",
    "            hidden_state = self.exp_sampler.get_last_hidden_state()\n",
    "            new_hidden_state = self.random_state.randn(*hidden_state.shape)\n",
    "            self.exp_sampler.register_event(time=self.get_current_time(event), \n",
    "                                            new_h=hidden_state,\n",
    "                                            own_event=True)\n",
    "        else:\n",
    "            # Have to update the hidden state and the t0 of our ExpSampler\n",
    "            return None # Preserve the old time"
   ]
  },
  {
   "cell_type": "code",
   "execution_count": 22,
   "metadata": {
    "collapsed": true
   },
   "outputs": [],
   "source": [
    "OM.SimOpts.registerSource('ExpBroadcasterOld', ExpBroadcasterOld)"
   ]
  },
  {
   "cell_type": "code",
   "execution_count": 23,
   "metadata": {
    "collapsed": true
   },
   "outputs": [],
   "source": [
    "RS = np.random.RandomState(420)\n",
    "\n",
    "simOpts = OM.SimOpts(\n",
    "   src_id = 1,\n",
    "   end_time = 100, # When the simulations stop\n",
    "   q_vec = np.asarray([1.0, 1.0]), # Weights of followers\n",
    "   s = 1.0, # Control parameter for RedQueen\n",
    "   sink_ids = [1, 2],\n",
    "   other_sources = [\n",
    "      ('ExpBroadcasterOld', \n",
    "       {'src_id': 2,\n",
    "        'seed': 42,\n",
    "        'wt': 0.5,\n",
    "        'init_h': 0.1 * RS.randn(10),\n",
    "        'vt': 0.1 * RS.randn(10),\n",
    "        'bt': 1.0,\n",
    "       }\n",
    "      ),\n",
    "      ('Hawkes',\n",
    "       {'src_id': 3,\n",
    "        'seed': 43,\n",
    "        'alpha': 0.01 * np.exp(RS.randn(10).dot(RS.randn(10))),\n",
    "        'beta': 0.5,\n",
    "        'l_0': np.exp(1.0)\n",
    "       }\n",
    "      )\n",
    "   ],\n",
    "   edge_list=[(1, 1), (1, 2), \n",
    "              (2, 1), (2, 2),\n",
    "              (3, 1), (3, 2)]\n",
    ")"
   ]
  },
  {
   "cell_type": "code",
   "execution_count": 30,
   "metadata": {
    "collapsed": true
   },
   "outputs": [],
   "source": [
    "mgr = simOpts.create_manager_with_opt(seed=6)"
   ]
  },
  {
   "cell_type": "code",
   "execution_count": 31,
   "metadata": {},
   "outputs": [
    {
     "name": "stdout",
     "output_type": "stream",
     "text": [
      "CPU times: user 153 ms, sys: 3.33 ms, total: 157 ms\n",
      "Wall time: 150 ms\n"
     ]
    },
    {
     "data": {
      "text/plain": [
       "<redqueen.opt_model.Manager at 0x7f03d53f7048>"
      ]
     },
     "execution_count": 31,
     "metadata": {},
     "output_type": "execute_result"
    }
   ],
   "source": [
    "%%time\n",
    "mgr.run_dynamic()"
   ]
  },
  {
   "cell_type": "code",
   "execution_count": 32,
   "metadata": {
    "collapsed": true
   },
   "outputs": [],
   "source": [
    "df = mgr.get_state().get_dataframe()"
   ]
  },
  {
   "cell_type": "code",
   "execution_count": 33,
   "metadata": {},
   "outputs": [
    {
     "data": {
      "text/html": [
       "<div>\n",
       "<style>\n",
       "    .dataframe thead tr:only-child th {\n",
       "        text-align: right;\n",
       "    }\n",
       "\n",
       "    .dataframe thead th {\n",
       "        text-align: left;\n",
       "    }\n",
       "\n",
       "    .dataframe tbody tr th {\n",
       "        vertical-align: top;\n",
       "    }\n",
       "</style>\n",
       "<table border=\"1\" class=\"dataframe\">\n",
       "  <thead>\n",
       "    <tr style=\"text-align: right;\">\n",
       "      <th></th>\n",
       "      <th>event_id</th>\n",
       "      <th>sink_id</th>\n",
       "      <th>src_id</th>\n",
       "      <th>t</th>\n",
       "      <th>time_delta</th>\n",
       "    </tr>\n",
       "  </thead>\n",
       "  <tbody>\n",
       "    <tr>\n",
       "      <th>0</th>\n",
       "      <td>100</td>\n",
       "      <td>1</td>\n",
       "      <td>1</td>\n",
       "      <td>0.000000</td>\n",
       "      <td>0.000000</td>\n",
       "    </tr>\n",
       "    <tr>\n",
       "      <th>1</th>\n",
       "      <td>100</td>\n",
       "      <td>2</td>\n",
       "      <td>1</td>\n",
       "      <td>0.000000</td>\n",
       "      <td>0.000000</td>\n",
       "    </tr>\n",
       "    <tr>\n",
       "      <th>2</th>\n",
       "      <td>101</td>\n",
       "      <td>1</td>\n",
       "      <td>3</td>\n",
       "      <td>0.044966</td>\n",
       "      <td>0.044966</td>\n",
       "    </tr>\n",
       "    <tr>\n",
       "      <th>3</th>\n",
       "      <td>101</td>\n",
       "      <td>2</td>\n",
       "      <td>3</td>\n",
       "      <td>0.044966</td>\n",
       "      <td>0.044966</td>\n",
       "    </tr>\n",
       "    <tr>\n",
       "      <th>4</th>\n",
       "      <td>102</td>\n",
       "      <td>1</td>\n",
       "      <td>3</td>\n",
       "      <td>0.097634</td>\n",
       "      <td>0.052668</td>\n",
       "    </tr>\n",
       "  </tbody>\n",
       "</table>\n",
       "</div>"
      ],
      "text/plain": [
       "   event_id  sink_id  src_id         t  time_delta\n",
       "0       100        1       1  0.000000    0.000000\n",
       "1       100        2       1  0.000000    0.000000\n",
       "2       101        1       3  0.044966    0.044966\n",
       "3       101        2       3  0.044966    0.044966\n",
       "4       102        1       3  0.097634    0.052668"
      ]
     },
     "execution_count": 33,
     "metadata": {},
     "output_type": "execute_result"
    }
   ],
   "source": [
    "df.head()"
   ]
  },
  {
   "cell_type": "code",
   "execution_count": 34,
   "metadata": {},
   "outputs": [
    {
     "data": {
      "text/plain": [
       "src_id\n",
       "1     614\n",
       "2    1174\n",
       "3     520\n",
       "dtype: int64"
      ]
     },
     "execution_count": 34,
     "metadata": {},
     "output_type": "execute_result"
    }
   ],
   "source": [
    "df.groupby('src_id').size()"
   ]
  },
  {
   "cell_type": "markdown",
   "metadata": {},
   "source": [
    "# Reinf broadcaster"
   ]
  },
  {
   "cell_type": "code",
   "execution_count": 34,
   "metadata": {
    "collapsed": true
   },
   "outputs": [],
   "source": [
    "# iterSession = tf.InteractiveSession()"
   ]
  },
  {
   "cell_type": "code",
   "execution_count": 35,
   "metadata": {
    "collapsed": true
   },
   "outputs": [],
   "source": [
    "# iterSession.run(tf.one_hot([0,1], depth=1, dtype=tf.float32))"
   ]
  },
  {
   "cell_type": "code",
   "execution_count": 36,
   "metadata": {},
   "outputs": [],
   "source": [
    "# input_dim = 1\n",
    "# hidden_dim = 16\n",
    "\n",
    "# class ReinfNetwork():\n",
    "#     def __init__(self, s_size, scope, trainer):\n",
    "#         with tf.variable_scope(scope):\n",
    "#             self.event_source = tf.placeholder(dtype=tf.int64, name='Event source', shape=[1])\n",
    "#             self.inp = tf.one_hot(indices=[self.event_source], depth=1, dtype=tf.float32)\n",
    "#             self.cell = tf.contrib.rnn.BasicRNNCell(hidden_dim)\n",
    "#             self.Wh = tf.get_variable('Wh', shape=)            "
   ]
  },
  {
   "cell_type": "code",
   "execution_count": 37,
   "metadata": {
    "collapsed": true
   },
   "outputs": [],
   "source": [
    "# class Reinf(OM.Broadcaster):\n",
    "    \n",
    "#     @Deco.optioned()\n",
    "#     def __init__(self, src_id, seed, hidden_dim):\n",
    "#         super(Reinf, self).__init__(src_id, seed)\n",
    "#         self.init = False\n",
    "        \n",
    "#         self.Wh = tf.get_variable()\n",
    "        \n",
    "#     def get_next_interval(self, event):\n",
    "#         if not self.init:\n",
    "#             # Create variables here?\n",
    "#             self.init = True\n",
    "        \n",
    "#         self.state.apply_event(event)\n",
    "        \n",
    "#         if event is None:\n",
    "#             # This is the first event. Post immediately to join the party?\n",
    "#             # Or hold off?\n",
    "#             return np.inf\n",
    "        \n",
    "#         elif event.src_id == self.src_id:\n",
    "#             # We posted. Calculate reward.\n",
    "#             # We would never like to post now.\n",
    "#             return np.inf\n",
    "        \n",
    "#         else:\n",
    "#             # Update our rate of posting.\n",
    "#             r_t = self.state.get_wall_rank(self.src_id, self.sink_ids,\n",
    "#                                            dict_form=False)\n",
    "#             # TODO: Magic.\n",
    "#             #  1 - Reward for this interval?\n",
    "#             #  2 - Sample the posting time again using inverse CDF\n",
    "#             #  3 - New sample is guaranteed to be closer to now than\n",
    "#             #      the original posting time.\n",
    "#             cur_time = event.cur_time\n",
    "#             t_delta_new = 10 # TODO: Take a new sample here.\n",
    "#             return cur_time + t_delta_new - self.last_self_event_time\n",
    "        \n",
    "#     def train(self):\n",
    "#         \"\"\"Will do RL here.\"\"\"\n",
    "#         pass\n",
    "            \n"
   ]
  },
  {
   "cell_type": "code",
   "execution_count": 38,
   "metadata": {
    "collapsed": true
   },
   "outputs": [],
   "source": [
    "# mgr = simOpts.create_manager_with_broadcaster(Reinf(1, 100))"
   ]
  },
  {
   "cell_type": "code",
   "execution_count": 39,
   "metadata": {},
   "outputs": [],
   "source": [
    "# mgr.run_dynamic()"
   ]
  },
  {
   "cell_type": "code",
   "execution_count": 40,
   "metadata": {
    "collapsed": true
   },
   "outputs": [],
   "source": [
    "# df = mgr.state.get_dataframe()"
   ]
  },
  {
   "cell_type": "code",
   "execution_count": 41,
   "metadata": {},
   "outputs": [],
   "source": [
    "# df.head()"
   ]
  },
  {
   "cell_type": "markdown",
   "metadata": {
    "collapsed": true
   },
   "source": [
    "# ExpTrainer"
   ]
  },
  {
   "cell_type": "code",
   "execution_count": 42,
   "metadata": {},
   "outputs": [],
   "source": [
    "%run -i tpprl/exp_broadcaster.py\n",
    "%run -i tpprl/exp_sampler.py"
   ]
  },
  {
   "cell_type": "code",
   "execution_count": 43,
   "metadata": {
    "collapsed": true
   },
   "outputs": [],
   "source": [
    "# reload(exp_sampler)"
   ]
  },
  {
   "cell_type": "code",
   "execution_count": 44,
   "metadata": {
    "collapsed": true
   },
   "outputs": [],
   "source": [
    "tf.reset_default_graph()"
   ]
  },
  {
   "cell_type": "code",
   "execution_count": 26,
   "metadata": {},
   "outputs": [
    {
     "ename": "NameError",
     "evalue": "name 'iterSession' is not defined",
     "output_type": "error",
     "traceback": [
      "\u001b[0;31m---------------------------------------------------------------------------\u001b[0m",
      "\u001b[0;31mNameError\u001b[0m                                 Traceback (most recent call last)",
      "\u001b[0;32m/home/utkarshu/prog/work/broadcast-rl/tpprl/exp_sampler.py\u001b[0m in \u001b[0;36m<module>\u001b[0;34m()\u001b[0m\n\u001b[0;32m----> 1\u001b[0;31m \u001b[0miterSession\u001b[0m\u001b[0;34m.\u001b[0m\u001b[0mclose\u001b[0m\u001b[0;34m(\u001b[0m\u001b[0;34m)\u001b[0m\u001b[0;34m\u001b[0m\u001b[0m\n\u001b[0m",
      "\u001b[0;31mNameError\u001b[0m: name 'iterSession' is not defined"
     ]
    }
   ],
   "source": [
    "iterSession.close()"
   ]
  },
  {
   "cell_type": "code",
   "execution_count": 45,
   "metadata": {
    "collapsed": true
   },
   "outputs": [],
   "source": [
    "iterSession = tf.Session()"
   ]
  },
  {
   "cell_type": "code",
   "execution_count": 28,
   "metadata": {
    "scrolled": false
   },
   "outputs": [
    {
     "name": "stdout",
     "output_type": "stream",
     "text": [
      "CPU times: user 18min 36s, sys: 1min 50s, total: 20min 27s\n",
      "Wall time: 18min 50s\n"
     ]
    }
   ],
   "source": [
    "%%time\n",
    "hidden_dims = 10\n",
    "num_other_broadcasters = 1\n",
    "RS = np.random.RandomState(seed=42)\n",
    "\n",
    "trainer_opts = Deco.Options(\n",
    "    Wh=RS.randn(hidden_dims, hidden_dims) * 0.1 + np.diag(np.ones(hidden_dims)), # Careful initialization\n",
    "    Wm=RS.randn(num_other_broadcasters + 1, hidden_dims),\n",
    "    Wr=RS.randn(hidden_dims, 1),\n",
    "    Wt=RS.randn(hidden_dims, 1),\n",
    "    Bh=RS.randn(hidden_dims, 1),\n",
    "    \n",
    "    vt=RS.randn(hidden_dims, 1),\n",
    "    wt= -1 * np.abs(RS.rand(1)),\n",
    "    bt=np.abs(RS.randn(1)),\n",
    "    \n",
    "    init_h=RS.randn(hidden_dims),\n",
    "    \n",
    "    max_events=50,\n",
    "    batch_size=16,\n",
    "    \n",
    "    learning_rate=.01,\n",
    "    clip_norm=1.0\n",
    ")\n",
    "sim_opts = OM.SimOpts(\n",
    "    sink_ids=[1000],\n",
    "    src_id=1,\n",
    "    other_sources=[('Hawkes', {'src_id': 100, 'seed': 93})],\n",
    "    end_time=100.0,\n",
    "    q_vec=None,\n",
    "    s=1.0,\n",
    "    edge_list=None\n",
    ")\n",
    "\n",
    "trainer = ExpRecurrentTrainer(sim_opts=sim_opts, _opts=trainer_opts, sess=iterSession)"
   ]
  },
  {
   "cell_type": "code",
   "execution_count": 29,
   "metadata": {},
   "outputs": [
    {
     "name": "stdout",
     "output_type": "stream",
     "text": [
      "CPU times: user 2min 18s, sys: 13.6 s, total: 2min 32s\n",
      "Wall time: 2min 21s\n"
     ]
    }
   ],
   "source": [
    "%%time\n",
    "trainer.initialize(finalize=False)"
   ]
  },
  {
   "cell_type": "code",
   "execution_count": 162,
   "metadata": {
    "collapsed": true
   },
   "outputs": [
    {
     "name": "stdout",
     "output_type": "stream",
     "text": [
      "INFO:tensorflow:Restoring parameters from tpprl-log/tpprl.ckpt-1\n"
     ]
    }
   ],
   "source": [
    "# trainer.restore(epoch_to_recover=1)"
   ]
  },
  {
   "cell_type": "code",
   "execution_count": 30,
   "metadata": {},
   "outputs": [
    {
     "data": {
      "text/plain": [
       "[array([-0.71217924], dtype=float32), array([ 0.7511794], dtype=float32)]"
      ]
     },
     "execution_count": 30,
     "metadata": {},
     "output_type": "execute_result"
    }
   ],
   "source": [
    "iterSession.run([trainer.tf_wt, trainer.tf_bt])"
   ]
  },
  {
   "cell_type": "code",
   "execution_count": 11,
   "metadata": {},
   "outputs": [
    {
     "data": {
      "text/plain": [
       "[array([-0.71217924], dtype=float32), array([ 0.7511794], dtype=float32)]"
      ]
     },
     "execution_count": 11,
     "metadata": {},
     "output_type": "execute_result"
    }
   ],
   "source": [
    "iterSession.run([trainer.tf_wt, trainer.tf_bt])"
   ]
  },
  {
   "cell_type": "code",
   "execution_count": 31,
   "metadata": {},
   "outputs": [
    {
     "name": "stdout",
     "output_type": "stream",
     "text": [
      "\u001b[31m[2018-02-22T14:50:11]\u001b[0m Run 0, LL -247.556, loss 90.538, r^2(t) 19630.652, CTG 19721.191, seeds 42--57, grad_norm 2927765.500\n",
      "\u001b[31m[2018-02-22T14:51:30]\u001b[0m Run 1, LL -258.703, loss 56.753, r^2(t) 18935.678, CTG 18992.430, seeds 58--73, grad_norm 2857852.000\n",
      "\u001b[31m[2018-02-22T14:52:41]\u001b[0m Run 2, LL -262.570, loss 51.390, r^2(t) 20569.812, CTG 20621.203, seeds 74--89, grad_norm 3085788.000\n",
      "\u001b[31m[2018-02-22T14:53:52]\u001b[0m Run 3, LL -269.341, loss 46.575, r^2(t) 19957.938, CTG 20004.514, seeds 90--105, grad_norm 3009411.750\n",
      "\u001b[31m[2018-02-22T14:55:03]\u001b[0m Run 4, LL -275.382, loss 29.797, r^2(t) 20409.555, CTG 20439.352, seeds 106--121, grad_norm 3093509.000\n",
      "\u001b[31m[2018-02-22T14:56:12]\u001b[0m Run 5, LL -280.476, loss 32.520, r^2(t) 19965.473, CTG 19997.992, seeds 122--137, grad_norm 3000724.000\n",
      "\u001b[31m[2018-02-22T14:57:20]\u001b[0m Run 6, LL -288.407, loss 33.282, r^2(t) 22931.113, CTG 22964.395, seeds 138--153, grad_norm 3484569.500\n",
      "\u001b[31m[2018-02-22T14:58:29]\u001b[0m Run 7, LL -293.404, loss 32.861, r^2(t) 21852.051, CTG 21884.912, seeds 154--169, grad_norm 3301474.500\n",
      "\u001b[31m[2018-02-22T14:59:38]\u001b[0m Run 8, LL -295.757, loss 39.813, r^2(t) 22036.488, CTG 22076.301, seeds 170--185, grad_norm 3288556.500\n",
      "\u001b[31m[2018-02-22T15:00:45]\u001b[0m Run 9, LL -299.914, loss 47.293, r^2(t) 21431.598, CTG 21478.891, seeds 186--201, grad_norm 3193470.000\n",
      "\u001b[31m[2018-02-22T15:01:56]\u001b[0m Run 10, LL -300.471, loss 73.754, r^2(t) 21004.617, CTG 21078.371, seeds 202--217, grad_norm 3083851.250\n",
      "\u001b[31m[2018-02-22T15:03:14]\u001b[0m Run 11, LL -308.160, loss 105.199, r^2(t) 21223.125, CTG 21328.324, seeds 218--233, grad_norm 3141140.500\n",
      "\u001b[31m[2018-02-22T15:04:23]\u001b[0m Run 12, LL -309.472, loss 197.741, r^2(t) 20042.025, CTG 20239.766, seeds 234--249, grad_norm 2934673.250\n",
      "\u001b[31m[2018-02-22T15:05:32]\u001b[0m Run 13, LL -305.165, loss 835.523, r^2(t) 19272.043, CTG 20107.566, seeds 250--265, grad_norm 2917594.750\n",
      "\u001b[31m[2018-02-22T15:06:42]\u001b[0m Run 14, LL -308.152, loss 1763.388, r^2(t) 18253.715, CTG 20017.104, seeds 266--281, grad_norm 2955980.250\n",
      "\u001b[31m[2018-02-22T15:07:50]\u001b[0m Run 15, LL -286.375, loss 5754.332, r^2(t) 13025.536, CTG 18779.867, seeds 282--297, grad_norm 2743602.000\n",
      "\u001b[31m[2018-02-22T15:09:00]\u001b[0m Run 16, LL -252.088, loss 15898.471, r^2(t) 9502.104, CTG 25400.574, seeds 298--313, grad_norm 3989217.500\n",
      "\u001b[31m[2018-02-22T15:10:07]\u001b[0m Run 17, LL -197.062, loss 46736.055, r^2(t) 5120.540, CTG 51856.594, seeds 314--329, grad_norm 15328962.000\n",
      "\u001b[31m[2018-02-22T15:11:17]\u001b[0m Run 18, LL -59.955, loss 318185.500, r^2(t) 238.470, CTG 318423.969, seeds 330--345, grad_norm 251018496.000\n",
      "\u001b[31m[2018-02-22T15:12:28]\u001b[0m Run 19, LL -49.163, loss 527528.250, r^2(t) 0.000, CTG 527528.250, seeds 346--361, grad_norm 200560960.000\n",
      "\u001b[31m[2018-02-22T15:13:35]\u001b[0m Run 20, LL -73.377, loss 784798.125, r^2(t) 1683.123, CTG 786481.250, seeds 362--377, grad_norm 301782464.000\n",
      "\u001b[31m[2018-02-22T15:14:43]\u001b[0m Run 21, LL -54.886, loss 1205505.750, r^2(t) 0.000, CTG 1205505.750, seeds 378--393, grad_norm 395540160.000\n",
      "\u001b[31m[2018-02-22T15:15:52]\u001b[0m Run 22, LL -99.083, loss 1461859.500, r^2(t) 3328.284, CTG 1465187.750, seeds 394--409, grad_norm 431987072.000\n",
      "\u001b[31m[2018-02-22T15:16:59]\u001b[0m Run 23, LL -80.994, loss 2148521.750, r^2(t) 1755.683, CTG 2150277.500, seeds 410--425, grad_norm 580212608.000\n",
      "\u001b[31m[2018-02-22T15:18:06]\u001b[0m Run 24, LL -81.633, loss 2755956.000, r^2(t) 1755.683, CTG 2757711.750, seeds 426--441, grad_norm 675080704.000\n",
      "\u001b[31m[2018-02-22T15:19:24]\u001b[0m Run 25, LL -60.075, loss 3526892.000, r^2(t) 0.000, CTG 3526892.000, seeds 442--457, grad_norm 816752896.000\n",
      "\u001b[31m[2018-02-22T15:20:31]\u001b[0m Run 26, LL -64.393, loss 4503161.500, r^2(t) 0.000, CTG 4503161.500, seeds 458--473, grad_norm 1058691008.000\n",
      "\u001b[31m[2018-02-22T15:21:41]\u001b[0m Run 27, LL -66.945, loss 5453626.000, r^2(t) 0.000, CTG 5453626.000, seeds 474--489, grad_norm 1267411328.000\n",
      "\u001b[31m[2018-02-22T15:22:50]\u001b[0m Run 28, LL -66.191, loss 6280678.000, r^2(t) 0.000, CTG 6280678.000, seeds 490--505, grad_norm 1449108480.000\n",
      "\u001b[31m[2018-02-22T15:23:56]\u001b[0m Run 29, LL -63.624, loss 7141993.000, r^2(t) 0.000, CTG 7141993.000, seeds 506--521, grad_norm 1539769088.000\n",
      "\u001b[31m[2018-02-22T15:25:03]\u001b[0m Run 30, LL -67.164, loss 8642578.000, r^2(t) 0.000, CTG 8642578.000, seeds 522--537, grad_norm 2087510656.000\n",
      "\u001b[31m[2018-02-22T15:26:12]\u001b[0m Run 31, LL -71.166, loss 12187928.000, r^2(t) 0.000, CTG 12187928.000, seeds 538--553, grad_norm 6694041088.000\n",
      "\u001b[31m[2018-02-22T15:27:19]\u001b[0m Run 32, LL -85.239, loss 13142913.000, r^2(t) 1645.152, CTG 13144558.000, seeds 554--569, grad_norm 2897396736.000\n",
      "\u001b[31m[2018-02-22T15:28:25]\u001b[0m Run 33, LL -61.934, loss 16752200.000, r^2(t) 0.000, CTG 16752200.000, seeds 570--585, grad_norm 3380361472.000\n",
      "\u001b[31m[2018-02-22T15:29:32]\u001b[0m Run 34, LL -64.586, loss 19425300.000, r^2(t) 0.000, CTG 19425300.000, seeds 586--601, grad_norm 4036564224.000\n",
      "\u001b[31m[2018-02-22T15:30:41]\u001b[0m Run 35, LL -64.353, loss 22049616.000, r^2(t) 0.000, CTG 22049616.000, seeds 602--617, grad_norm 4590307328.000\n",
      "\u001b[31m[2018-02-22T15:31:48]\u001b[0m Run 36, LL -76.131, loss 26085628.000, r^2(t) 0.000, CTG 26085628.000, seeds 618--633, grad_norm 6589592576.000\n",
      "\u001b[31m[2018-02-22T15:32:56]\u001b[0m Run 37, LL -65.211, loss 29524696.000, r^2(t) 0.000, CTG 29524696.000, seeds 634--649, grad_norm 6126271488.000\n",
      "\u001b[31m[2018-02-22T15:34:05]\u001b[0m Run 38, LL -63.024, loss 30928448.000, r^2(t) 0.000, CTG 30928448.000, seeds 650--665, grad_norm 6241083392.000\n",
      "\u001b[31m[2018-02-22T15:35:21]\u001b[0m Run 39, LL -82.279, loss 39148528.000, r^2(t) 0.000, CTG 39148528.000, seeds 666--681, grad_norm 10718063616.000\n",
      "\u001b[31m[2018-02-22T15:36:31]\u001b[0m Run 40, LL -76.238, loss 45027776.000, r^2(t) 0.000, CTG 45027776.000, seeds 682--697, grad_norm 10826427392.000\n",
      "\u001b[31m[2018-02-22T15:37:37]\u001b[0m Run 41, LL -83.389, loss 50774216.000, r^2(t) 0.000, CTG 50774216.000, seeds 698--713, grad_norm 13526913024.000\n",
      "\u001b[31m[2018-02-22T15:38:46]\u001b[0m Run 42, LL -95.691, loss 63690240.000, r^2(t) 0.000, CTG 63690240.000, seeds 714--729, grad_norm 21507110912.000\n",
      "\u001b[31m[2018-02-22T15:39:52]\u001b[0m Run 43, LL -84.996, loss 66168340.000, r^2(t) 0.000, CTG 66168340.000, seeds 730--745, grad_norm 18534746112.000\n",
      "\u001b[31m[2018-02-22T15:41:00]\u001b[0m Run 44, LL -78.745, loss 70144608.000, r^2(t) 0.000, CTG 70144608.000, seeds 746--761, grad_norm 17580421120.000\n",
      "\u001b[31m[2018-02-22T15:42:10]\u001b[0m Run 45, LL -85.993, loss 86229024.000, r^2(t) 0.000, CTG 86229024.000, seeds 762--777, grad_norm 24310099968.000\n",
      "\u001b[31m[2018-02-22T15:43:18]\u001b[0m Run 46, LL -92.637, loss 95565808.000, r^2(t) 0.000, CTG 95565808.000, seeds 778--793, grad_norm 29619290112.000\n",
      "\u001b[31m[2018-02-22T15:44:26]\u001b[0m Run 47, LL -85.975, loss 108102832.000, r^2(t) 0.000, CTG 108102832.000, seeds 794--809, grad_norm 29315119104.000\n",
      "\u001b[31m[2018-02-22T15:45:32]\u001b[0m Run 48, LL -86.041, loss 123219184.000, r^2(t) 0.000, CTG 123219184.000, seeds 810--825, grad_norm 33810110464.000\n",
      "\u001b[31m[2018-02-22T15:46:41]\u001b[0m Run 49, LL -96.596, loss 147799200.000, r^2(t) 0.000, CTG 147799200.000, seeds 826--841, grad_norm 47862366208.000\n",
      "\u001b[31m[2018-02-22T15:47:49]\u001b[0m Run 50, LL -104.510, loss 174292896.000, r^2(t) 0.000, CTG 174292896.000, seeds 842--857, grad_norm 63781679104.000\n",
      "\u001b[31m[2018-02-22T15:48:57]\u001b[0m Run 51, LL -101.953, loss 182552960.000, r^2(t) 0.000, CTG 182552960.000, seeds 858--873, grad_norm 61353148416.000\n",
      "\u001b[31m[2018-02-22T15:50:05]\u001b[0m Run 52, LL -120.689, loss 240649408.000, r^2(t) 0.000, CTG 240649408.000, seeds 874--889, grad_norm 101507784704.000\n",
      "\u001b[31m[2018-02-22T15:51:21]\u001b[0m Run 53, LL -124.573, loss 274806112.000, r^2(t) 0.000, CTG 274806112.000, seeds 890--905, grad_norm 111105253376.000\n",
      "\u001b[31m[2018-02-22T15:52:28]\u001b[0m Run 54, LL -97.041, loss 257163904.000, r^2(t) 0.000, CTG 257163904.000, seeds 906--921, grad_norm 84372430848.000\n",
      "\u001b[31m[2018-02-22T15:53:38]\u001b[0m Run 55, LL -130.071, loss 342773280.000, r^2(t) 0.000, CTG 342773280.000, seeds 922--937, grad_norm 154101104640.000\n",
      "\u001b[31m[2018-02-22T15:54:47]\u001b[0m Run 56, LL -118.235, loss 353733888.000, r^2(t) 0.000, CTG 353733888.000, seeds 938--953, grad_norm 135235944448.000\n",
      "\u001b[31m[2018-02-22T15:55:53]\u001b[0m Run 57, LL -118.206, loss 383483072.000, r^2(t) 0.000, CTG 383483072.000, seeds 954--969, grad_norm 146790809600.000\n"
     ]
    },
    {
     "name": "stdout",
     "output_type": "stream",
     "text": [
      "\u001b[31m[2018-02-22T15:57:01]\u001b[0m Run 58, LL -137.605, loss 421559616.000, r^2(t) 0.000, CTG 421559616.000, seeds 970--985, grad_norm 192162414592.000\n",
      "\u001b[31m[2018-02-22T15:58:08]\u001b[0m Run 59, LL -143.465, loss 534835584.000, r^2(t) 0.000, CTG 534835584.000, seeds 986--1001, grad_norm 258384674816.000\n",
      "\u001b[31m[2018-02-22T15:59:17]\u001b[0m Run 60, LL -153.255, loss 483925536.000, r^2(t) 0.000, CTG 483925536.000, seeds 1002--1017, grad_norm 260591878144.000\n",
      "\u001b[31m[2018-02-22T16:00:25]\u001b[0m Run 61, LL -212.871, loss 765105536.000, r^2(t) 0.000, CTG 765105536.000, seeds 1018--1033, grad_norm 563864338432.000\n",
      "\u001b[31m[2018-02-22T16:01:33]\u001b[0m Run 62, LL -240.808, loss 764470784.000, r^2(t) 0.000, CTG 764470784.000, seeds 1034--1049, grad_norm 613557665792.000\n",
      "\u001b[31m[2018-02-22T16:02:41]\u001b[0m Run 63, LL -227.261, loss 785328768.000, r^2(t) 0.000, CTG 785328768.000, seeds 1050--1065, grad_norm 664778440704.000\n",
      "\u001b[31m[2018-02-22T16:03:49]\u001b[0m Run 64, LL -301.840, loss 893326400.000, r^2(t) 0.000, CTG 893326400.000, seeds 1066--1081, grad_norm 972768673792.000\n",
      "\u001b[31m[2018-02-22T16:05:00]\u001b[0m Run 65, LL -326.065, loss 1022028352.000, r^2(t) 0.000, CTG 1022028352.000, seeds 1082--1097, grad_norm 1107956465664.000\n",
      "\u001b[31m[2018-02-22T16:06:07]\u001b[0m Run 66, LL -478.112, loss 1207852288.000, r^2(t) 0.000, CTG 1207852288.000, seeds 1098--1113, grad_norm 2190084276224.000\n",
      "\u001b[31m[2018-02-22T16:07:23]\u001b[0m Run 67, LL -406.360, loss 1211732608.000, r^2(t) 0.000, CTG 1211732608.000, seeds 1114--1129, grad_norm 1860459823104.000\n",
      "\u001b[31m[2018-02-22T16:08:32]\u001b[0m Run 68, LL -531.441, loss 1542008960.000, r^2(t) 0.000, CTG 1542008960.000, seeds 1130--1145, grad_norm 3355723956224.000\n",
      "\u001b[31m[2018-02-22T16:09:40]\u001b[0m Run 69, LL -756.328, loss 1672536576.000, r^2(t) 0.000, CTG 1672536576.000, seeds 1146--1161, grad_norm 5319571800064.000\n",
      "\u001b[31m[2018-02-22T16:10:49]\u001b[0m Run 70, LL -880.295, loss 1900204672.000, r^2(t) 0.000, CTG 1900204672.000, seeds 1162--1177, grad_norm 7941303828480.000\n",
      "\u001b[31m[2018-02-22T16:11:55]\u001b[0m Run 71, LL -1064.766, loss 2264986112.000, r^2(t) 0.000, CTG 2264986112.000, seeds 1178--1193, grad_norm 11405436649472.000\n",
      "\u001b[31m[2018-02-22T16:13:04]\u001b[0m Run 72, LL -797.245, loss 2629320448.000, r^2(t) 0.000, CTG 2629320448.000, seeds 1194--1209, grad_norm 10876684861440.000\n",
      "\u001b[31m[2018-02-22T16:14:10]\u001b[0m Run 73, LL -982.106, loss 2966963200.000, r^2(t) 0.000, CTG 2966963200.000, seeds 1210--1225, grad_norm 19900313632768.000\n",
      "\u001b[31m[2018-02-22T16:15:19]\u001b[0m Run 74, LL -1831.075, loss 4491755008.000, r^2(t) 0.000, CTG 4491755008.000, seeds 1226--1241, grad_norm 42355222642688.000\n",
      "\u001b[31m[2018-02-22T16:16:27]\u001b[0m Run 75, LL -2120.186, loss 5800772608.000, r^2(t) 0.000, CTG 5800772608.000, seeds 1242--1257, grad_norm 65873725358080.000\n",
      "\u001b[31m[2018-02-22T16:17:37]\u001b[0m Run 76, LL -1931.220, loss 6360725504.000, r^2(t) 0.000, CTG 6360725504.000, seeds 1258--1273, grad_norm 72636252028928.000\n",
      "\u001b[31m[2018-02-22T16:18:45]\u001b[0m Run 77, LL -2317.164, loss 8419788800.000, r^2(t) 0.000, CTG 8419788800.000, seeds 1274--1289, grad_norm 99906115076096.000\n",
      "\u001b[31m[2018-02-22T16:19:51]\u001b[0m Run 78, LL -2797.294, loss 11770406912.000, r^2(t) 0.000, CTG 11770406912.000, seeds 1290--1305, grad_norm 189689327779840.000\n",
      "\u001b[31m[2018-02-22T16:20:59]\u001b[0m Run 79, LL -3519.779, loss 16865585152.000, r^2(t) 0.000, CTG 16865585152.000, seeds 1306--1321, grad_norm 379937974386688.000\n",
      "\u001b[31m[2018-02-22T16:22:17]\u001b[0m Run 80, LL -3481.426, loss 19822182400.000, r^2(t) 0.000, CTG 19822182400.000, seeds 1322--1337, grad_norm 377833272639488.000\n",
      "\u001b[31m[2018-02-22T16:23:24]\u001b[0m Run 81, LL -5945.928, loss 37696102400.000, r^2(t) 0.000, CTG 37696102400.000, seeds 1338--1353, grad_norm 1384379225997312.000\n",
      "\u001b[31m[2018-02-22T16:24:32]\u001b[0m Run 82, LL -7337.927, loss 54400598016.000, r^2(t) 0.000, CTG 54400598016.000, seeds 1354--1369, grad_norm 2365676039700480.000\n",
      "\u001b[31m[2018-02-22T16:25:40]\u001b[0m Run 83, LL -5619.036, loss 50429681664.000, r^2(t) 0.000, CTG 50429681664.000, seeds 1370--1385, grad_norm 1734247530364928.000\n",
      "\u001b[31m[2018-02-22T16:26:47]\u001b[0m Run 84, LL -7521.570, loss 78844690432.000, r^2(t) 0.000, CTG 78844690432.000, seeds 1386--1401, grad_norm 3255907601350656.000\n",
      "\u001b[31m[2018-02-22T16:27:54]\u001b[0m Run 85, LL -10368.908, loss 129267843072.000, r^2(t) 0.000, CTG 129267843072.000, seeds 1402--1417, grad_norm 8155960358993920.000\n",
      "\u001b[31m[2018-02-22T16:29:02]\u001b[0m Run 86, LL -7717.442, loss 112964059136.000, r^2(t) 0.000, CTG 112964059136.000, seeds 1418--1433, grad_norm 5393219424616448.000\n",
      "\u001b[31m[2018-02-22T16:30:09]\u001b[0m Run 87, LL -10188.808, loss 175152087040.000, r^2(t) 0.000, CTG 175152087040.000, seeds 1434--1449, grad_norm 12664907220647936.000\n",
      "\u001b[31m[2018-02-22T16:31:16]\u001b[0m Run 88, LL -16363.309, loss 333069713408.000, r^2(t) 0.000, CTG 333069713408.000, seeds 1450--1465, grad_norm 90893662740807680.000\n",
      "\u001b[31m[2018-02-22T16:32:25]\u001b[0m Run 89, LL -19978.541, loss 473833996288.000, r^2(t) 0.000, CTG 473833996288.000, seeds 1466--1481, grad_norm 57488674127872000.000\n",
      "\u001b[31m[2018-02-22T16:33:34]\u001b[0m Run 90, LL -18417.906, loss 510860853248.000, r^2(t) 0.000, CTG 510860853248.000, seeds 1482--1497, grad_norm 59745026606891008.000\n",
      "\u001b[31m[2018-02-22T16:34:43]\u001b[0m Run 91, LL -31143.480, loss 1013497987072.000, r^2(t) 0.000, CTG 1013497987072.000, seeds 1498--1513, grad_norm 200053340355166208.000\n",
      "\u001b[31m[2018-02-22T16:35:52]\u001b[0m Run 92, LL -25504.322, loss 982306848768.000, r^2(t) 0.000, CTG 982306848768.000, seeds 1514--1529, grad_norm 271952003423272960.000\n",
      "\u001b[31m[2018-02-22T16:37:00]\u001b[0m Run 93, LL -25421.070, loss 1124777852928.000, r^2(t) 0.000, CTG 1124777852928.000, seeds 1530--1545, grad_norm 153251975083851776.000\n",
      "\u001b[31m[2018-02-22T16:38:18]\u001b[0m Run 94, LL -44926.902, loss 2357363474432.000, r^2(t) 0.000, CTG 2357363474432.000, seeds 1546--1561, grad_norm 859845237114142720.000\n",
      "\u001b[31m[2018-02-22T16:39:25]\u001b[0m Run 95, LL -21319.561, loss 1288351645696.000, r^2(t) 0.000, CTG 1288351645696.000, seeds 1562--1577, grad_norm 269794658530361344.000\n",
      "\u001b[31m[2018-02-22T16:40:34]\u001b[0m Run 96, LL -28799.912, loss 2010887225344.000, r^2(t) 0.000, CTG 2010887225344.000, seeds 1578--1593, grad_norm 334146084806852608.000\n",
      "\u001b[31m[2018-02-22T16:41:43]\u001b[0m Run 97, LL -57905.422, loss 4762769031168.000, r^2(t) 0.000, CTG 4762769031168.000, seeds 1594--1609, grad_norm 1849635843640131584.000\n",
      "\u001b[31m[2018-02-22T16:42:51]\u001b[0m Run 98, LL -56905.512, loss 5402813005824.000, r^2(t) 0.000, CTG 5402813005824.000, seeds 1610--1625, grad_norm 1795272965105909760.000\n",
      "\u001b[31m[2018-02-22T16:43:57]\u001b[0m Run 99, LL -42331.281, loss 4628390346752.000, r^2(t) 0.000, CTG 4628390346752.000, seeds 1626--1641, grad_norm 1016415143153631232.000\n",
      "CPU times: user 1h 52min 13s, sys: 11min 15s, total: 2h 3min 29s\n",
      "Wall time: 1h 59min 17s\n"
     ]
    }
   ],
   "source": [
    "%%time\n",
    "trainer.train_many(100)"
   ]
  },
  {
   "cell_type": "code",
   "execution_count": 37,
   "metadata": {},
   "outputs": [
    {
     "name": "stdout",
     "output_type": "stream",
     "text": [
      "CPU times: user 4.3 s, sys: 937 ms, total: 5.24 s\n",
      "Wall time: 2.82 s\n"
     ]
    }
   ],
   "source": [
    "%%time\n",
    "init_seed = 426\n",
    "dfs = [trainer.run_sim(seed) for seed in range(init_seed, init_seed + trainer.batch_size)]\n",
    "f_d = trainer.get_feed_dict(dfs)"
   ]
  },
  {
   "cell_type": "code",
   "execution_count": 46,
   "metadata": {},
   "outputs": [
    {
     "data": {
      "text/html": [
       "<div>\n",
       "<style>\n",
       "    .dataframe thead tr:only-child th {\n",
       "        text-align: right;\n",
       "    }\n",
       "\n",
       "    .dataframe thead th {\n",
       "        text-align: left;\n",
       "    }\n",
       "\n",
       "    .dataframe tbody tr th {\n",
       "        vertical-align: top;\n",
       "    }\n",
       "</style>\n",
       "<table border=\"1\" class=\"dataframe\">\n",
       "  <thead>\n",
       "    <tr style=\"text-align: right;\">\n",
       "      <th></th>\n",
       "      <th>event_id</th>\n",
       "      <th>sink_id</th>\n",
       "      <th>src_id</th>\n",
       "      <th>t</th>\n",
       "      <th>time_delta</th>\n",
       "    </tr>\n",
       "  </thead>\n",
       "  <tbody>\n",
       "    <tr>\n",
       "      <th>0</th>\n",
       "      <td>100</td>\n",
       "      <td>1000</td>\n",
       "      <td>1</td>\n",
       "      <td>0.000662</td>\n",
       "      <td>0.000662</td>\n",
       "    </tr>\n",
       "    <tr>\n",
       "      <th>1</th>\n",
       "      <td>101</td>\n",
       "      <td>1000</td>\n",
       "      <td>1</td>\n",
       "      <td>0.055321</td>\n",
       "      <td>0.054659</td>\n",
       "    </tr>\n",
       "    <tr>\n",
       "      <th>2</th>\n",
       "      <td>102</td>\n",
       "      <td>1000</td>\n",
       "      <td>1</td>\n",
       "      <td>0.111139</td>\n",
       "      <td>0.055818</td>\n",
       "    </tr>\n",
       "    <tr>\n",
       "      <th>3</th>\n",
       "      <td>103</td>\n",
       "      <td>1000</td>\n",
       "      <td>1</td>\n",
       "      <td>0.151551</td>\n",
       "      <td>0.040412</td>\n",
       "    </tr>\n",
       "    <tr>\n",
       "      <th>4</th>\n",
       "      <td>104</td>\n",
       "      <td>1000</td>\n",
       "      <td>1</td>\n",
       "      <td>0.229441</td>\n",
       "      <td>0.077890</td>\n",
       "    </tr>\n",
       "    <tr>\n",
       "      <th>5</th>\n",
       "      <td>105</td>\n",
       "      <td>1000</td>\n",
       "      <td>100</td>\n",
       "      <td>0.932304</td>\n",
       "      <td>0.702864</td>\n",
       "    </tr>\n",
       "    <tr>\n",
       "      <th>6</th>\n",
       "      <td>106</td>\n",
       "      <td>1000</td>\n",
       "      <td>100</td>\n",
       "      <td>1.066635</td>\n",
       "      <td>0.134331</td>\n",
       "    </tr>\n",
       "    <tr>\n",
       "      <th>7</th>\n",
       "      <td>107</td>\n",
       "      <td>1000</td>\n",
       "      <td>100</td>\n",
       "      <td>2.545212</td>\n",
       "      <td>1.478577</td>\n",
       "    </tr>\n",
       "    <tr>\n",
       "      <th>8</th>\n",
       "      <td>108</td>\n",
       "      <td>1000</td>\n",
       "      <td>100</td>\n",
       "      <td>3.188729</td>\n",
       "      <td>0.643516</td>\n",
       "    </tr>\n",
       "    <tr>\n",
       "      <th>9</th>\n",
       "      <td>109</td>\n",
       "      <td>1000</td>\n",
       "      <td>100</td>\n",
       "      <td>3.393168</td>\n",
       "      <td>0.204440</td>\n",
       "    </tr>\n",
       "    <tr>\n",
       "      <th>10</th>\n",
       "      <td>110</td>\n",
       "      <td>1000</td>\n",
       "      <td>100</td>\n",
       "      <td>4.255046</td>\n",
       "      <td>0.861878</td>\n",
       "    </tr>\n",
       "    <tr>\n",
       "      <th>11</th>\n",
       "      <td>111</td>\n",
       "      <td>1000</td>\n",
       "      <td>100</td>\n",
       "      <td>6.290588</td>\n",
       "      <td>2.035542</td>\n",
       "    </tr>\n",
       "    <tr>\n",
       "      <th>12</th>\n",
       "      <td>112</td>\n",
       "      <td>1000</td>\n",
       "      <td>100</td>\n",
       "      <td>7.132385</td>\n",
       "      <td>0.841797</td>\n",
       "    </tr>\n",
       "    <tr>\n",
       "      <th>13</th>\n",
       "      <td>113</td>\n",
       "      <td>1000</td>\n",
       "      <td>100</td>\n",
       "      <td>8.754112</td>\n",
       "      <td>1.621727</td>\n",
       "    </tr>\n",
       "    <tr>\n",
       "      <th>14</th>\n",
       "      <td>114</td>\n",
       "      <td>1000</td>\n",
       "      <td>100</td>\n",
       "      <td>10.262406</td>\n",
       "      <td>1.508294</td>\n",
       "    </tr>\n",
       "    <tr>\n",
       "      <th>15</th>\n",
       "      <td>115</td>\n",
       "      <td>1000</td>\n",
       "      <td>100</td>\n",
       "      <td>13.460973</td>\n",
       "      <td>3.198567</td>\n",
       "    </tr>\n",
       "    <tr>\n",
       "      <th>16</th>\n",
       "      <td>116</td>\n",
       "      <td>1000</td>\n",
       "      <td>100</td>\n",
       "      <td>13.777981</td>\n",
       "      <td>0.317008</td>\n",
       "    </tr>\n",
       "    <tr>\n",
       "      <th>17</th>\n",
       "      <td>117</td>\n",
       "      <td>1000</td>\n",
       "      <td>100</td>\n",
       "      <td>14.401037</td>\n",
       "      <td>0.623056</td>\n",
       "    </tr>\n",
       "    <tr>\n",
       "      <th>18</th>\n",
       "      <td>118</td>\n",
       "      <td>1000</td>\n",
       "      <td>100</td>\n",
       "      <td>14.625036</td>\n",
       "      <td>0.223998</td>\n",
       "    </tr>\n",
       "    <tr>\n",
       "      <th>19</th>\n",
       "      <td>119</td>\n",
       "      <td>1000</td>\n",
       "      <td>100</td>\n",
       "      <td>14.920129</td>\n",
       "      <td>0.295094</td>\n",
       "    </tr>\n",
       "    <tr>\n",
       "      <th>20</th>\n",
       "      <td>120</td>\n",
       "      <td>1000</td>\n",
       "      <td>100</td>\n",
       "      <td>15.694110</td>\n",
       "      <td>0.773981</td>\n",
       "    </tr>\n",
       "    <tr>\n",
       "      <th>21</th>\n",
       "      <td>121</td>\n",
       "      <td>1000</td>\n",
       "      <td>100</td>\n",
       "      <td>18.648234</td>\n",
       "      <td>2.954124</td>\n",
       "    </tr>\n",
       "    <tr>\n",
       "      <th>22</th>\n",
       "      <td>122</td>\n",
       "      <td>1000</td>\n",
       "      <td>100</td>\n",
       "      <td>19.275053</td>\n",
       "      <td>0.626819</td>\n",
       "    </tr>\n",
       "    <tr>\n",
       "      <th>23</th>\n",
       "      <td>123</td>\n",
       "      <td>1000</td>\n",
       "      <td>100</td>\n",
       "      <td>19.411248</td>\n",
       "      <td>0.136195</td>\n",
       "    </tr>\n",
       "    <tr>\n",
       "      <th>24</th>\n",
       "      <td>124</td>\n",
       "      <td>1000</td>\n",
       "      <td>100</td>\n",
       "      <td>20.099326</td>\n",
       "      <td>0.688078</td>\n",
       "    </tr>\n",
       "    <tr>\n",
       "      <th>25</th>\n",
       "      <td>125</td>\n",
       "      <td>1000</td>\n",
       "      <td>100</td>\n",
       "      <td>20.141501</td>\n",
       "      <td>0.042175</td>\n",
       "    </tr>\n",
       "    <tr>\n",
       "      <th>26</th>\n",
       "      <td>126</td>\n",
       "      <td>1000</td>\n",
       "      <td>100</td>\n",
       "      <td>20.762970</td>\n",
       "      <td>0.621469</td>\n",
       "    </tr>\n",
       "    <tr>\n",
       "      <th>27</th>\n",
       "      <td>127</td>\n",
       "      <td>1000</td>\n",
       "      <td>100</td>\n",
       "      <td>21.368268</td>\n",
       "      <td>0.605298</td>\n",
       "    </tr>\n",
       "    <tr>\n",
       "      <th>28</th>\n",
       "      <td>128</td>\n",
       "      <td>1000</td>\n",
       "      <td>100</td>\n",
       "      <td>22.578934</td>\n",
       "      <td>1.210666</td>\n",
       "    </tr>\n",
       "    <tr>\n",
       "      <th>29</th>\n",
       "      <td>129</td>\n",
       "      <td>1000</td>\n",
       "      <td>100</td>\n",
       "      <td>22.609791</td>\n",
       "      <td>0.030857</td>\n",
       "    </tr>\n",
       "    <tr>\n",
       "      <th>30</th>\n",
       "      <td>130</td>\n",
       "      <td>1000</td>\n",
       "      <td>100</td>\n",
       "      <td>22.776446</td>\n",
       "      <td>0.166655</td>\n",
       "    </tr>\n",
       "    <tr>\n",
       "      <th>31</th>\n",
       "      <td>131</td>\n",
       "      <td>1000</td>\n",
       "      <td>100</td>\n",
       "      <td>23.294177</td>\n",
       "      <td>0.517731</td>\n",
       "    </tr>\n",
       "    <tr>\n",
       "      <th>32</th>\n",
       "      <td>132</td>\n",
       "      <td>1000</td>\n",
       "      <td>100</td>\n",
       "      <td>23.538919</td>\n",
       "      <td>0.244742</td>\n",
       "    </tr>\n",
       "    <tr>\n",
       "      <th>33</th>\n",
       "      <td>133</td>\n",
       "      <td>1000</td>\n",
       "      <td>100</td>\n",
       "      <td>23.713596</td>\n",
       "      <td>0.174677</td>\n",
       "    </tr>\n",
       "    <tr>\n",
       "      <th>34</th>\n",
       "      <td>134</td>\n",
       "      <td>1000</td>\n",
       "      <td>100</td>\n",
       "      <td>23.856785</td>\n",
       "      <td>0.143189</td>\n",
       "    </tr>\n",
       "    <tr>\n",
       "      <th>35</th>\n",
       "      <td>135</td>\n",
       "      <td>1000</td>\n",
       "      <td>100</td>\n",
       "      <td>25.063793</td>\n",
       "      <td>1.207008</td>\n",
       "    </tr>\n",
       "    <tr>\n",
       "      <th>36</th>\n",
       "      <td>136</td>\n",
       "      <td>1000</td>\n",
       "      <td>100</td>\n",
       "      <td>25.417995</td>\n",
       "      <td>0.354202</td>\n",
       "    </tr>\n",
       "    <tr>\n",
       "      <th>37</th>\n",
       "      <td>137</td>\n",
       "      <td>1000</td>\n",
       "      <td>100</td>\n",
       "      <td>26.232073</td>\n",
       "      <td>0.814078</td>\n",
       "    </tr>\n",
       "    <tr>\n",
       "      <th>38</th>\n",
       "      <td>138</td>\n",
       "      <td>1000</td>\n",
       "      <td>100</td>\n",
       "      <td>26.253611</td>\n",
       "      <td>0.021538</td>\n",
       "    </tr>\n",
       "    <tr>\n",
       "      <th>39</th>\n",
       "      <td>139</td>\n",
       "      <td>1000</td>\n",
       "      <td>100</td>\n",
       "      <td>26.262139</td>\n",
       "      <td>0.008528</td>\n",
       "    </tr>\n",
       "    <tr>\n",
       "      <th>40</th>\n",
       "      <td>140</td>\n",
       "      <td>1000</td>\n",
       "      <td>100</td>\n",
       "      <td>27.280359</td>\n",
       "      <td>1.018220</td>\n",
       "    </tr>\n",
       "    <tr>\n",
       "      <th>41</th>\n",
       "      <td>141</td>\n",
       "      <td>1000</td>\n",
       "      <td>100</td>\n",
       "      <td>30.902208</td>\n",
       "      <td>3.621849</td>\n",
       "    </tr>\n",
       "    <tr>\n",
       "      <th>42</th>\n",
       "      <td>142</td>\n",
       "      <td>1000</td>\n",
       "      <td>100</td>\n",
       "      <td>31.979303</td>\n",
       "      <td>1.077096</td>\n",
       "    </tr>\n",
       "    <tr>\n",
       "      <th>43</th>\n",
       "      <td>143</td>\n",
       "      <td>1000</td>\n",
       "      <td>100</td>\n",
       "      <td>32.090739</td>\n",
       "      <td>0.111435</td>\n",
       "    </tr>\n",
       "    <tr>\n",
       "      <th>44</th>\n",
       "      <td>144</td>\n",
       "      <td>1000</td>\n",
       "      <td>100</td>\n",
       "      <td>33.125026</td>\n",
       "      <td>1.034287</td>\n",
       "    </tr>\n",
       "    <tr>\n",
       "      <th>45</th>\n",
       "      <td>145</td>\n",
       "      <td>1000</td>\n",
       "      <td>100</td>\n",
       "      <td>33.734411</td>\n",
       "      <td>0.609386</td>\n",
       "    </tr>\n",
       "    <tr>\n",
       "      <th>46</th>\n",
       "      <td>146</td>\n",
       "      <td>1000</td>\n",
       "      <td>100</td>\n",
       "      <td>33.977285</td>\n",
       "      <td>0.242873</td>\n",
       "    </tr>\n",
       "    <tr>\n",
       "      <th>47</th>\n",
       "      <td>147</td>\n",
       "      <td>1000</td>\n",
       "      <td>100</td>\n",
       "      <td>34.834142</td>\n",
       "      <td>0.856857</td>\n",
       "    </tr>\n",
       "    <tr>\n",
       "      <th>48</th>\n",
       "      <td>148</td>\n",
       "      <td>1000</td>\n",
       "      <td>100</td>\n",
       "      <td>35.117720</td>\n",
       "      <td>0.283578</td>\n",
       "    </tr>\n",
       "    <tr>\n",
       "      <th>49</th>\n",
       "      <td>149</td>\n",
       "      <td>1000</td>\n",
       "      <td>100</td>\n",
       "      <td>35.759803</td>\n",
       "      <td>0.642082</td>\n",
       "    </tr>\n",
       "    <tr>\n",
       "      <th>50</th>\n",
       "      <td>150</td>\n",
       "      <td>1000</td>\n",
       "      <td>100</td>\n",
       "      <td>36.243336</td>\n",
       "      <td>0.483534</td>\n",
       "    </tr>\n",
       "  </tbody>\n",
       "</table>\n",
       "</div>"
      ],
      "text/plain": [
       "    event_id  sink_id  src_id          t  time_delta\n",
       "0        100     1000       1   0.000662    0.000662\n",
       "1        101     1000       1   0.055321    0.054659\n",
       "2        102     1000       1   0.111139    0.055818\n",
       "3        103     1000       1   0.151551    0.040412\n",
       "4        104     1000       1   0.229441    0.077890\n",
       "5        105     1000     100   0.932304    0.702864\n",
       "6        106     1000     100   1.066635    0.134331\n",
       "7        107     1000     100   2.545212    1.478577\n",
       "8        108     1000     100   3.188729    0.643516\n",
       "9        109     1000     100   3.393168    0.204440\n",
       "10       110     1000     100   4.255046    0.861878\n",
       "11       111     1000     100   6.290588    2.035542\n",
       "12       112     1000     100   7.132385    0.841797\n",
       "13       113     1000     100   8.754112    1.621727\n",
       "14       114     1000     100  10.262406    1.508294\n",
       "15       115     1000     100  13.460973    3.198567\n",
       "16       116     1000     100  13.777981    0.317008\n",
       "17       117     1000     100  14.401037    0.623056\n",
       "18       118     1000     100  14.625036    0.223998\n",
       "19       119     1000     100  14.920129    0.295094\n",
       "20       120     1000     100  15.694110    0.773981\n",
       "21       121     1000     100  18.648234    2.954124\n",
       "22       122     1000     100  19.275053    0.626819\n",
       "23       123     1000     100  19.411248    0.136195\n",
       "24       124     1000     100  20.099326    0.688078\n",
       "25       125     1000     100  20.141501    0.042175\n",
       "26       126     1000     100  20.762970    0.621469\n",
       "27       127     1000     100  21.368268    0.605298\n",
       "28       128     1000     100  22.578934    1.210666\n",
       "29       129     1000     100  22.609791    0.030857\n",
       "30       130     1000     100  22.776446    0.166655\n",
       "31       131     1000     100  23.294177    0.517731\n",
       "32       132     1000     100  23.538919    0.244742\n",
       "33       133     1000     100  23.713596    0.174677\n",
       "34       134     1000     100  23.856785    0.143189\n",
       "35       135     1000     100  25.063793    1.207008\n",
       "36       136     1000     100  25.417995    0.354202\n",
       "37       137     1000     100  26.232073    0.814078\n",
       "38       138     1000     100  26.253611    0.021538\n",
       "39       139     1000     100  26.262139    0.008528\n",
       "40       140     1000     100  27.280359    1.018220\n",
       "41       141     1000     100  30.902208    3.621849\n",
       "42       142     1000     100  31.979303    1.077096\n",
       "43       143     1000     100  32.090739    0.111435\n",
       "44       144     1000     100  33.125026    1.034287\n",
       "45       145     1000     100  33.734411    0.609386\n",
       "46       146     1000     100  33.977285    0.242873\n",
       "47       147     1000     100  34.834142    0.856857\n",
       "48       148     1000     100  35.117720    0.283578\n",
       "49       149     1000     100  35.759803    0.642082\n",
       "50       150     1000     100  36.243336    0.483534"
      ]
     },
     "execution_count": 46,
     "metadata": {},
     "output_type": "execute_result"
    }
   ],
   "source": [
    "dfs[6]"
   ]
  },
  {
   "cell_type": "code",
   "execution_count": 45,
   "metadata": {},
   "outputs": [
    {
     "data": {
      "text/plain": [
       "[(0, 2, 26929.961944348572),\n",
       " (1, 5, 23011.06967654089),\n",
       " (2, 6, 22519.251060823568),\n",
       " (3, 4, 24824.17966373836),\n",
       " (4, 3, 25450.603999536146),\n",
       " (5, 1, 28090.926177383324),\n",
       " (6, 5, 21541.715340849867),\n",
       " (7, 4, 24824.17966373836),\n",
       " (8, 3, 25450.603999536146),\n",
       " (9, 3, 25450.603999536146),\n",
       " (10, 4, 24824.17966373836),\n",
       " (11, 2, 26929.961944348572),\n",
       " (12, 3, 25450.603999536146),\n",
       " (13, 4, 24824.17966373836),\n",
       " (14, 5, 23011.06967654089),\n",
       " (15, 1, 28090.926177383324),\n",
       " (16, 6, 22519.251060823568),\n",
       " (17, 4, 24824.17966373836),\n",
       " (18, 4, 24824.17966373836),\n",
       " (19, 3, 25450.603999536146),\n",
       " (20, 3, 25450.603999536146),\n",
       " (21, 5, 23011.06967654089),\n",
       " (22, 5, 23011.06967654089),\n",
       " (23, 2, 29193.199962325645),\n",
       " (24, 7, 21339.480410333927),\n",
       " (25, 4, 24824.17966373836),\n",
       " (26, 3, 25450.603999536146),\n",
       " (27, 5, 23011.06967654089),\n",
       " (28, 2, 25208.519790511255),\n",
       " (29, 4, 24824.17966373836),\n",
       " (30, 6, 22519.251060823568),\n",
       " (31, 2, 26929.961944348572)]"
      ]
     },
     "execution_count": 45,
     "metadata": {},
     "output_type": "execute_result"
    }
   ],
   "source": [
    "[(idx, (x['src_id'] == trainer.src_id).sum(), trainer.reward_fn(x)) for idx, x in enumerate(dfs)]"
   ]
  },
  {
   "cell_type": "code",
   "execution_count": 19,
   "metadata": {},
   "outputs": [
    {
     "data": {
      "text/plain": [
       "[[array([ 179.61761475], dtype=float32)],\n",
       " [array([ 290.08447266], dtype=float32)]]"
      ]
     },
     "execution_count": 19,
     "metadata": {},
     "output_type": "execute_result"
    }
   ],
   "source": [
    "iterSession.run(trainer.loss_grads[trainer.tf_bt], f_d)"
   ]
  },
  {
   "cell_type": "code",
   "execution_count": 20,
   "metadata": {},
   "outputs": [
    {
     "data": {
      "text/plain": [
       "[[array([ 4.88509989], dtype=float32)], [array([ 3.63118172], dtype=float32)]]"
      ]
     },
     "execution_count": 20,
     "metadata": {},
     "output_type": "execute_result"
    }
   ],
   "source": [
    "iterSession.run(trainer.LL_grads[trainer.tf_bt], f_d)"
   ]
  },
  {
   "cell_type": "code",
   "execution_count": 21,
   "metadata": {},
   "outputs": [
    {
     "data": {
      "text/plain": [
       "array([  89.80886078,  145.04223633], dtype=float32)"
      ]
     },
     "execution_count": 21,
     "metadata": {},
     "output_type": "execute_result"
    }
   ],
   "source": [
    "iterSession.run(trainer.loss, f_d)"
   ]
  },
  {
   "cell_type": "code",
   "execution_count": 22,
   "metadata": {},
   "outputs": [
    {
     "data": {
      "text/plain": [
       "[151.66595477933765, 88.832070596539239]"
      ]
     },
     "execution_count": 22,
     "metadata": {},
     "output_type": "execute_result"
    }
   ],
   "source": [
    "[trainer.reward_fn(x) for x in dfs]"
   ]
  },
  {
   "cell_type": "code",
   "execution_count": 66,
   "metadata": {
    "collapsed": true
   },
   "outputs": [],
   "source": [
    "avg_grads = {v: iterSession.run(g, f_d) for g, v in trainer.avg_gradient}"
   ]
  },
  {
   "cell_type": "code",
   "execution_count": 67,
   "metadata": {
    "collapsed": true
   },
   "outputs": [],
   "source": [
    "clipped_avg_grads = {v: iterSession.run(g, f_d) for g, v in trainer.clipped_avg_gradient}"
   ]
  },
  {
   "cell_type": "code",
   "execution_count": 68,
   "metadata": {},
   "outputs": [
    {
     "data": {
      "text/plain": [
       "array([-441.78869629], dtype=float32)"
      ]
     },
     "execution_count": 68,
     "metadata": {},
     "output_type": "execute_result"
    }
   ],
   "source": [
    "avg_grads[trainer.tf_bt]"
   ]
  },
  {
   "cell_type": "code",
   "execution_count": 69,
   "metadata": {},
   "outputs": [
    {
     "data": {
      "text/plain": [
       "array([-0.08035056], dtype=float32)"
      ]
     },
     "execution_count": 69,
     "metadata": {},
     "output_type": "execute_result"
    }
   ],
   "source": [
    "clipped_avg_grads[trainer.tf_bt]"
   ]
  },
  {
   "cell_type": "code",
   "execution_count": 117,
   "metadata": {},
   "outputs": [
    {
     "name": "stdout",
     "output_type": "stream",
     "text": [
      "Epoch 0, LL = -324.516, loss = 1.711, r^2(t) = 20443.799, CTG = 20445.510, seeds = (42 -- 51), grad_norm = 3110774.750\n",
      "Epoch 1, LL = -348.639, loss = 0.857, r^2(t) = 22956.141, CTG = 22956.998, seeds = (52 -- 61), grad_norm = 3592988.000\n",
      "Epoch 2, LL = -365.516, loss = 0.569, r^2(t) = 24625.248, CTG = 24625.816, seeds = (62 -- 71), grad_norm = 3896732.750\n",
      "Epoch 3, LL = -379.356, loss = 0.844, r^2(t) = 24123.980, CTG = 24124.824, seeds = (72 -- 81), grad_norm = 3792365.250\n",
      "Epoch 4, LL = -393.344, loss = 0.614, r^2(t) = 25880.381, CTG = 25880.996, seeds = (82 -- 91), grad_norm = 4047851.250\n",
      "Epoch 5, LL = -407.098, loss = 0.600, r^2(t) = 23554.219, CTG = 23554.818, seeds = (92 -- 101), grad_norm = 3667592.750\n",
      "Epoch 6, LL = -424.691, loss = 0.836, r^2(t) = 24424.900, CTG = 24425.736, seeds = (102 -- 111), grad_norm = 3813131.500\n",
      "Epoch 7, LL = -442.882, loss = 0.613, r^2(t) = 26666.854, CTG = 26667.467, seeds = (112 -- 121), grad_norm = 4204935.000\n",
      "Epoch 8, LL = -457.008, loss = 0.869, r^2(t) = 25884.520, CTG = 25885.389, seeds = (122 -- 131), grad_norm = 4070307.250\n",
      "Epoch 9, LL = -475.916, loss = 0.450, r^2(t) = 25766.699, CTG = 25767.148, seeds = (132 -- 141), grad_norm = 4072593.000\n",
      "CPU times: user 8min 40s, sys: 38.8 s, total: 9min 19s\n",
      "Wall time: 8min 51s\n"
     ]
    }
   ],
   "source": [
    "%%time\n",
    "trainer.train_many(10)"
   ]
  },
  {
   "cell_type": "code",
   "execution_count": 13,
   "metadata": {},
   "outputs": [
    {
     "name": "stdout",
     "output_type": "stream",
     "text": [
      "Epoch 0, LL = -454.514, loss = 731.477, reward = -45518.801, CTG = 46250.277, seeds = (142 -- 151), grad_norm = 28885670.000\n",
      "Epoch 1, LL = -402.544, loss = 1432.914, reward = -23003.945, CTG = 24436.859, seeds = (152 -- 161), grad_norm = 14691251.000\n",
      "Epoch 2, LL = -345.390, loss = 2262.753, reward = -12755.557, CTG = 15018.310, seeds = (162 -- 171), grad_norm = 8834047.000\n",
      "Epoch 3, LL = -300.101, loss = 4945.729, reward = -7306.900, CTG = 12252.629, seeds = (172 -- 181), grad_norm = 6963074.500\n",
      "Epoch 4, LL = -255.462, loss = 13729.977, reward = -5559.104, CTG = 19289.082, seeds = (182 -- 191), grad_norm = 10709583.000\n",
      "Epoch 5, LL = -210.694, loss = 22376.148, reward = -3516.953, CTG = 25893.102, seeds = (192 -- 201), grad_norm = 14146411.000\n",
      "Epoch 6, LL = -176.515, loss = 54413.219, reward = -2459.592, CTG = 56872.812, seeds = (202 -- 211), grad_norm = 29751408.000\n",
      "Epoch 7, LL = -135.238, loss = 103955.500, reward = -1995.079, CTG = 105950.578, seeds = (212 -- 221), grad_norm = 54860092.000\n",
      "Epoch 8, LL = -96.685, loss = 197989.031, reward = -1283.889, CTG = 199272.922, seeds = (222 -- 231), grad_norm = 100317632.000\n",
      "Epoch 9, LL = -63.855, loss = 433491.000, reward = -750.116, CTG = 434241.125, seeds = (232 -- 241), grad_norm = 205860272.000\n",
      "Epoch 10, LL = -29.940, loss = 1197066.250, reward = -665.441, CTG = 1197731.750, seeds = (242 -- 251), grad_norm = 564622080.000\n",
      "Epoch 11, LL = -5.409, loss = 2404109.500, reward = -418.161, CTG = 2404527.750, seeds = (252 -- 261), grad_norm = 1043504000.000\n",
      "Epoch 12, LL = 11.924, loss = 2239495.500, reward = -465.838, CTG = 2239961.250, seeds = (262 -- 271), grad_norm = 880026624.000\n",
      "Epoch 13, LL = 40.412, loss = 5681662.500, reward = -173.582, CTG = 5681836.000, seeds = (272 -- 281), grad_norm = 1997051520.000\n",
      "Epoch 14, LL = 44.197, loss = 6934335.000, reward = -230.380, CTG = 6934565.500, seeds = (282 -- 291), grad_norm = 2200191232.000\n",
      "Epoch 15, LL = 51.111, loss = 11604722.000, reward = -251.010, CTG = 11604973.000, seeds = (292 -- 301), grad_norm = 3504349696.000\n",
      "Epoch 16, LL = 44.156, loss = 18447054.000, reward = -99.813, CTG = 18447154.000, seeds = (302 -- 311), grad_norm = 4003436288.000\n",
      "Epoch 17, LL = 20.686, loss = 24251156.000, reward = -13.972, CTG = 24251170.000, seeds = (312 -- 321), grad_norm = 3661483776.000\n",
      "Epoch 18, LL = 16.434, loss = 5336853.500, reward = -10.816, CTG = 5336864.500, seeds = (322 -- 331), grad_norm = 793322304.000\n",
      "Epoch 19, LL = 9.272, loss = 29976.141, reward = -0.791, CTG = 29976.932, seeds = (332 -- 341), grad_norm = 1713125.500\n",
      "CPU times: user 26min 33s, sys: 1min 50s, total: 28min 23s\n",
      "Wall time: 27min 37s\n"
     ]
    }
   ],
   "source": [
    "%%time\n",
    "trainer.train_many(20, init_seed=142)"
   ]
  },
  {
   "cell_type": "code",
   "execution_count": 14,
   "metadata": {},
   "outputs": [
    {
     "name": "stdout",
     "output_type": "stream",
     "text": [
      "Epoch 0, LL = 8.658, loss = 11822.967, reward = -0.366, CTG = 11823.332, seeds = (342 -- 351), grad_norm = 290734.156\n",
      "Epoch 1, LL = 10.988, loss = 14373.737, reward = -0.216, CTG = 14373.954, seeds = (352 -- 361), grad_norm = 365951.406\n",
      "Epoch 2, LL = 14.051, loss = 17589.227, reward = -0.158, CTG = 17589.385, seeds = (362 -- 371), grad_norm = 496065.906\n",
      "Epoch 3, LL = 15.108, loss = 22605.451, reward = -0.167, CTG = 22605.617, seeds = (372 -- 381), grad_norm = 539037.375\n",
      "Epoch 4, LL = 17.754, loss = 26967.557, reward = -0.087, CTG = 26967.645, seeds = (382 -- 391), grad_norm = 646980.812\n",
      "Epoch 5, LL = 18.581, loss = 33412.043, reward = -0.100, CTG = 33412.141, seeds = (392 -- 401), grad_norm = 740809.375\n",
      "Epoch 6, LL = 19.179, loss = 44093.578, reward = -19.727, CTG = 44113.305, seeds = (402 -- 411), grad_norm = 937188.938\n",
      "Epoch 7, LL = 13.325, loss = 57651.039, reward = -0.067, CTG = 57651.105, seeds = (412 -- 421), grad_norm = 773902.125\n",
      "Epoch 8, LL = 10.706, loss = 77571.898, reward = -0.050, CTG = 77571.945, seeds = (422 -- 431), grad_norm = 889138.000\n",
      "Epoch 9, LL = 7.671, loss = 113917.641, reward = -0.030, CTG = 113917.672, seeds = (432 -- 441), grad_norm = 1076724.375\n",
      "Epoch 10, LL = 4.411, loss = 137203.906, reward = -0.007, CTG = 137203.906, seeds = (442 -- 451), grad_norm = 899323.000\n",
      "Epoch 11, LL = 2.948, loss = 203963.656, reward = -0.018, CTG = 203963.672, seeds = (452 -- 461), grad_norm = 873362.688\n",
      "Epoch 12, LL = -0.029, loss = 260651.203, reward = -0.002, CTG = 260651.203, seeds = (462 -- 471), grad_norm = 1067735.375\n",
      "Epoch 13, LL = 2.331, loss = 371348.281, reward = -0.020, CTG = 371348.312, seeds = (472 -- 481), grad_norm = 1932526.625\n",
      "Epoch 14, LL = 3.853, loss = 454650.312, reward = -0.013, CTG = 454650.312, seeds = (482 -- 491), grad_norm = 2941559.250\n",
      "Epoch 15, LL = 2.180, loss = 619837.125, reward = -0.005, CTG = 619837.125, seeds = (492 -- 501), grad_norm = 3323309.000\n",
      "Epoch 16, LL = 2.201, loss = 835689.812, reward = -0.004, CTG = 835689.812, seeds = (502 -- 511), grad_norm = 4054525.500\n",
      "Epoch 17, LL = 2.577, loss = 1157690.375, reward = -0.005, CTG = 1157690.375, seeds = (512 -- 521), grad_norm = 6220394.000\n",
      "Epoch 18, LL = -0.179, loss = 1692268.750, reward = -0.001, CTG = 1692268.750, seeds = (522 -- 531), grad_norm = 4862477.500\n",
      "Epoch 19, LL = 6.396, loss = 2204704.750, reward = -0.004, CTG = 2204704.750, seeds = (532 -- 541), grad_norm = 15171995.000\n",
      "Epoch 20, LL = -0.668, loss = 3243775.750, reward = -0.000, CTG = 3243775.750, seeds = (542 -- 551), grad_norm = 14381837.000\n",
      "Epoch 21, LL = 5.782, loss = 4263857.000, reward = -0.003, CTG = 4263857.000, seeds = (552 -- 561), grad_norm = 27552324.000\n",
      "Epoch 22, LL = 6.016, loss = 5456065.500, reward = -0.002, CTG = 5456065.500, seeds = (562 -- 571), grad_norm = 29205460.000\n",
      "Epoch 23, LL = 4.687, loss = 5725923.000, reward = -0.001, CTG = 5725923.000, seeds = (572 -- 581), grad_norm = 32203526.000\n",
      "Epoch 24, LL = 3.298, loss = 8695523.000, reward = -0.000, CTG = 8695523.000, seeds = (582 -- 591), grad_norm = 40772196.000\n",
      "Epoch 25, LL = 4.023, loss = 10604819.000, reward = -0.000, CTG = 10604819.000, seeds = (592 -- 601), grad_norm = 71232312.000\n",
      "Epoch 26, LL = 0.651, loss = 13430035.000, reward = -0.000, CTG = 13430035.000, seeds = (602 -- 611), grad_norm = 54628272.000\n",
      "Epoch 27, LL = 3.039, loss = 27114474.000, reward = -0.000, CTG = 27114474.000, seeds = (612 -- 621), grad_norm = 181503824.000\n",
      "Epoch 28, LL = 2.604, loss = 30810268.000, reward = -0.000, CTG = 30810268.000, seeds = (622 -- 631), grad_norm = 219458112.000\n",
      "Epoch 29, LL = 4.287, loss = 54524968.000, reward = -0.000, CTG = 54524968.000, seeds = (632 -- 641), grad_norm = 472828032.000\n",
      "Epoch 30, LL = 2.989, loss = 67178608.000, reward = -0.000, CTG = 67178608.000, seeds = (642 -- 651), grad_norm = 606574784.000\n",
      "Epoch 31, LL = 0.925, loss = 69874256.000, reward = -0.000, CTG = 69874256.000, seeds = (652 -- 661), grad_norm = 586559360.000\n",
      "Epoch 32, LL = 5.336, loss = 308925056.000, reward = -0.000, CTG = 308925056.000, seeds = (662 -- 671), grad_norm = 3175620096.000\n",
      "Epoch 33, LL = 6.929, loss = 691656576.000, reward = -0.000, CTG = 691656576.000, seeds = (672 -- 681), grad_norm = 8024848896.000\n",
      "Epoch 34, LL = 14.078, loss = 2270247424.000, reward = -0.000, CTG = 2270247424.000, seeds = (682 -- 691), grad_norm = 26030938112.000\n",
      "Epoch 35, LL = 2.960, loss = 1275462272.000, reward = -0.000, CTG = 1275462272.000, seeds = (692 -- 701), grad_norm = 14382093312.000\n",
      "Epoch 36, LL = 8.074, loss = 4693677056.000, reward = -0.000, CTG = 4693677056.000, seeds = (702 -- 711), grad_norm = 57823338496.000\n",
      "Epoch 37, LL = 11.388, loss = 11348952064.000, reward = -0.000, CTG = 11348952064.000, seeds = (712 -- 721), grad_norm = 142659125248.000\n",
      "Epoch 38, LL = 3.726, loss = 9030521856.000, reward = -0.000, CTG = 9030521856.000, seeds = (722 -- 731), grad_norm = 100637442048.000\n",
      "Epoch 39, LL = 4.219, loss = 16662775808.000, reward = -0.000, CTG = 16662775808.000, seeds = (732 -- 741), grad_norm = 205828849664.000\n",
      "CPU times: user 48min 27s, sys: 2min 44s, total: 51min 12s\n",
      "Wall time: 50min 2s\n"
     ]
    }
   ],
   "source": [
    "%%time\n",
    "trainer.train_many(40, init_seed=342)"
   ]
  },
  {
   "cell_type": "code",
   "execution_count": 20,
   "metadata": {},
   "outputs": [
    {
     "data": {
      "text/plain": [
       "[<tf.Variable 'ExpRecurrentTrainer/hidden_state/Wm:0' shape=(2, 10) dtype=float32_ref>,\n",
       " <tf.Variable 'ExpRecurrentTrainer/hidden_state/Wh:0' shape=(10, 10) dtype=float32_ref>,\n",
       " <tf.Variable 'ExpRecurrentTrainer/hidden_state/Wt:0' shape=(10, 1) dtype=float32_ref>,\n",
       " <tf.Variable 'ExpRecurrentTrainer/hidden_state/Wr:0' shape=(10, 1) dtype=float32_ref>,\n",
       " <tf.Variable 'ExpRecurrentTrainer/hidden_state/Bh:0' shape=(10, 1) dtype=float32_ref>,\n",
       " <tf.Variable 'ExpRecurrentTrainer/hidden_state/h:0' shape=(10, 1) dtype=float32_ref>,\n",
       " <tf.Variable 'ExpRecurrentTrainer/output/bt:0' shape=(1,) dtype=float32_ref>,\n",
       " <tf.Variable 'ExpRecurrentTrainer/output/vt:0' shape=(10, 1) dtype=float32_ref>,\n",
       " <tf.Variable 'ExpRecurrentTrainer/output/wt:0' shape=(1,) dtype=float32_ref>]"
      ]
     },
     "execution_count": 20,
     "metadata": {},
     "output_type": "execute_result"
    }
   ],
   "source": [
    "tf.get_collection(tf.GraphKeys.TRAINABLE_VARIABLES)"
   ]
  },
  {
   "cell_type": "code",
   "execution_count": 16,
   "metadata": {},
   "outputs": [
    {
     "data": {
      "text/plain": [
       "array([ -8.30400658, -13.97833252], dtype=float32)"
      ]
     },
     "execution_count": 16,
     "metadata": {},
     "output_type": "execute_result"
    }
   ],
   "source": [
    "iterSession.run(trainer.LL, f_d)"
   ]
  },
  {
   "cell_type": "code",
   "execution_count": 25,
   "metadata": {
    "collapsed": true
   },
   "outputs": [],
   "source": [
    "h_s = iterSession.run(trainer.h_states, f_d)"
   ]
  },
  {
   "cell_type": "code",
   "execution_count": 26,
   "metadata": {
    "collapsed": true
   },
   "outputs": [],
   "source": [
    "brd = trainer._create_exp_broadcaster(4223)"
   ]
  },
  {
   "cell_type": "code",
   "execution_count": 27,
   "metadata": {},
   "outputs": [
    {
     "data": {
      "text/plain": [
       "-48.216849874529494"
      ]
     },
     "execution_count": 27,
     "metadata": {},
     "output_type": "execute_result"
    }
   ],
   "source": [
    "idx = 0\n",
    "brd.exp_sampler.calc_LL(event_time_deltas=dfs[idx].time_delta[:trainer.max_events],\n",
    "                        survival_time=dfs[idx].time_delta[trainer.max_events],\n",
    "                        hidden_states=[x[idx, :] for x in h_s],\n",
    "                        init_h=np.zeros(trainer.num_hidden_states))"
   ]
  },
  {
   "cell_type": "code",
   "execution_count": 28,
   "metadata": {},
   "outputs": [
    {
     "data": {
      "text/plain": [
       "0.3683156600301411"
      ]
     },
     "execution_count": 28,
     "metadata": {},
     "output_type": "execute_result"
    }
   ],
   "source": [
    "idx = 0\n",
    "brd.exp_sampler.calc_quad_loss(event_time_deltas=dfs[idx].time_delta[:trainer.max_events],\n",
    "                               survival_time=dfs[idx].time_delta[trainer.max_events],\n",
    "                               hidden_states=[x[idx, :] for x in h_s],\n",
    "                               init_h=np.zeros(trainer.num_hidden_states),\n",
    "                               q=trainer.q)"
   ]
  },
  {
   "cell_type": "code",
   "execution_count": 29,
   "metadata": {},
   "outputs": [
    {
     "data": {
      "text/html": [
       "<div>\n",
       "<style>\n",
       "    .dataframe thead tr:only-child th {\n",
       "        text-align: right;\n",
       "    }\n",
       "\n",
       "    .dataframe thead th {\n",
       "        text-align: left;\n",
       "    }\n",
       "\n",
       "    .dataframe tbody tr th {\n",
       "        vertical-align: top;\n",
       "    }\n",
       "</style>\n",
       "<table border=\"1\" class=\"dataframe\">\n",
       "  <thead>\n",
       "    <tr style=\"text-align: right;\">\n",
       "      <th></th>\n",
       "      <th>event_id</th>\n",
       "      <th>sink_id</th>\n",
       "      <th>src_id</th>\n",
       "      <th>t</th>\n",
       "      <th>time_delta</th>\n",
       "    </tr>\n",
       "  </thead>\n",
       "  <tbody>\n",
       "    <tr>\n",
       "      <th>0</th>\n",
       "      <td>100</td>\n",
       "      <td>1000</td>\n",
       "      <td>1</td>\n",
       "      <td>0.105753</td>\n",
       "      <td>0.105753</td>\n",
       "    </tr>\n",
       "    <tr>\n",
       "      <th>1</th>\n",
       "      <td>101</td>\n",
       "      <td>1000</td>\n",
       "      <td>1</td>\n",
       "      <td>0.115107</td>\n",
       "      <td>0.009354</td>\n",
       "    </tr>\n",
       "    <tr>\n",
       "      <th>2</th>\n",
       "      <td>102</td>\n",
       "      <td>1000</td>\n",
       "      <td>1</td>\n",
       "      <td>0.166718</td>\n",
       "      <td>0.051610</td>\n",
       "    </tr>\n",
       "    <tr>\n",
       "      <th>3</th>\n",
       "      <td>103</td>\n",
       "      <td>1000</td>\n",
       "      <td>1</td>\n",
       "      <td>0.640457</td>\n",
       "      <td>0.473740</td>\n",
       "    </tr>\n",
       "    <tr>\n",
       "      <th>4</th>\n",
       "      <td>104</td>\n",
       "      <td>1000</td>\n",
       "      <td>100</td>\n",
       "      <td>0.932304</td>\n",
       "      <td>0.291847</td>\n",
       "    </tr>\n",
       "    <tr>\n",
       "      <th>5</th>\n",
       "      <td>105</td>\n",
       "      <td>1000</td>\n",
       "      <td>100</td>\n",
       "      <td>1.299377</td>\n",
       "      <td>0.367073</td>\n",
       "    </tr>\n",
       "    <tr>\n",
       "      <th>6</th>\n",
       "      <td>106</td>\n",
       "      <td>1000</td>\n",
       "      <td>100</td>\n",
       "      <td>2.048015</td>\n",
       "      <td>0.748637</td>\n",
       "    </tr>\n",
       "    <tr>\n",
       "      <th>7</th>\n",
       "      <td>107</td>\n",
       "      <td>1000</td>\n",
       "      <td>100</td>\n",
       "      <td>9.423982</td>\n",
       "      <td>7.375967</td>\n",
       "    </tr>\n",
       "    <tr>\n",
       "      <th>8</th>\n",
       "      <td>108</td>\n",
       "      <td>1000</td>\n",
       "      <td>100</td>\n",
       "      <td>10.197303</td>\n",
       "      <td>0.773321</td>\n",
       "    </tr>\n",
       "    <tr>\n",
       "      <th>9</th>\n",
       "      <td>109</td>\n",
       "      <td>1000</td>\n",
       "      <td>100</td>\n",
       "      <td>10.465847</td>\n",
       "      <td>0.268544</td>\n",
       "    </tr>\n",
       "    <tr>\n",
       "      <th>10</th>\n",
       "      <td>110</td>\n",
       "      <td>1000</td>\n",
       "      <td>100</td>\n",
       "      <td>12.211233</td>\n",
       "      <td>1.745386</td>\n",
       "    </tr>\n",
       "  </tbody>\n",
       "</table>\n",
       "</div>"
      ],
      "text/plain": [
       "    event_id  sink_id  src_id          t  time_delta\n",
       "0        100     1000       1   0.105753    0.105753\n",
       "1        101     1000       1   0.115107    0.009354\n",
       "2        102     1000       1   0.166718    0.051610\n",
       "3        103     1000       1   0.640457    0.473740\n",
       "4        104     1000     100   0.932304    0.291847\n",
       "5        105     1000     100   1.299377    0.367073\n",
       "6        106     1000     100   2.048015    0.748637\n",
       "7        107     1000     100   9.423982    7.375967\n",
       "8        108     1000     100  10.197303    0.773321\n",
       "9        109     1000     100  10.465847    0.268544\n",
       "10       110     1000     100  12.211233    1.745386"
      ]
     },
     "execution_count": 29,
     "metadata": {},
     "output_type": "execute_result"
    }
   ],
   "source": [
    "dfs[0]"
   ]
  },
  {
   "cell_type": "code",
   "execution_count": 22,
   "metadata": {},
   "outputs": [
    {
     "data": {
      "text/plain": [
       "0.0"
      ]
     },
     "execution_count": 22,
     "metadata": {},
     "output_type": "execute_result"
    }
   ],
   "source": [
    "trainer.reward_fn(dfs[1])"
   ]
  },
  {
   "cell_type": "code",
   "execution_count": 210,
   "metadata": {},
   "outputs": [
    {
     "data": {
      "text/plain": [
       "src_id\n",
       "1       2\n",
       "100    49\n",
       "dtype: int64"
      ]
     },
     "execution_count": 210,
     "metadata": {},
     "output_type": "execute_result"
    }
   ],
   "source": [
    "dfs[0].groupby('src_id').size()"
   ]
  },
  {
   "cell_type": "code",
   "execution_count": 209,
   "metadata": {},
   "outputs": [
    {
     "data": {
      "text/plain": [
       "array([ 0.64208244,  0.64208244,  0.64208244,  0.28357824,  0.48353362,\n",
       "        0.65583489,  0.64208244,  0.48353362,  0.65583489,  0.48353362])"
      ]
     },
     "execution_count": 209,
     "metadata": {},
     "output_type": "execute_result"
    }
   ],
   "source": [
    "f_d[trainer.tf_batch_last_interval]"
   ]
  },
  {
   "cell_type": "code",
   "execution_count": 208,
   "metadata": {},
   "outputs": [
    {
     "data": {
      "text/plain": [
       "0.64208244132483827"
      ]
     },
     "execution_count": 208,
     "metadata": {},
     "output_type": "execute_result"
    }
   ],
   "source": [
    "dfs[1].time_delta[50]"
   ]
  },
  {
   "cell_type": "code",
   "execution_count": 147,
   "metadata": {},
   "outputs": [
    {
     "data": {
      "text/plain": [
       "50"
      ]
     },
     "execution_count": 147,
     "metadata": {},
     "output_type": "execute_result"
    }
   ],
   "source": [
    "len(h_s)"
   ]
  },
  {
   "cell_type": "code",
   "execution_count": 140,
   "metadata": {},
   "outputs": [
    {
     "data": {
      "text/plain": [
       "(51, 5)"
      ]
     },
     "execution_count": 140,
     "metadata": {},
     "output_type": "execute_result"
    }
   ],
   "source": [
    "df.shape"
   ]
  },
  {
   "cell_type": "code",
   "execution_count": 141,
   "metadata": {},
   "outputs": [
    {
     "data": {
      "text/plain": [
       "(23603.582353547634, 20778.60152852293)"
      ]
     },
     "execution_count": 141,
     "metadata": {},
     "output_type": "execute_result"
    }
   ],
   "source": [
    "trainer.reward_fn(df), trainer.reward_fn(df2)"
   ]
  },
  {
   "cell_type": "code",
   "execution_count": 109,
   "metadata": {},
   "outputs": [
    {
     "data": {
      "text/plain": [
       "45.909357075697727"
      ]
     },
     "execution_count": 109,
     "metadata": {},
     "output_type": "execute_result"
    }
   ],
   "source": [
    "df['t'].iloc[50]"
   ]
  },
  {
   "cell_type": "code",
   "execution_count": 107,
   "metadata": {},
   "outputs": [
    {
     "data": {
      "text/plain": [
       "(1518.9616195114122, 1560.8206297444681)"
      ]
     },
     "execution_count": 107,
     "metadata": {},
     "output_type": "execute_result"
    }
   ],
   "source": [
    "trainer.reward_fn(df), trainer.reward_fn(df2)"
   ]
  },
  {
   "cell_type": "code",
   "execution_count": 74,
   "metadata": {},
   "outputs": [
    {
     "data": {
      "text/plain": [
       "array([ 0.71217924], dtype=float32)"
      ]
     },
     "execution_count": 74,
     "metadata": {},
     "output_type": "execute_result"
    }
   ],
   "source": [
    "trainer.sess.run(trainer.tf_wt)"
   ]
  },
  {
   "cell_type": "code",
   "execution_count": 75,
   "metadata": {},
   "outputs": [
    {
     "data": {
      "text/plain": [
       "array([ inf,  inf], dtype=float32)"
      ]
     },
     "execution_count": 75,
     "metadata": {},
     "output_type": "execute_result"
    }
   ],
   "source": [
    "trainer.sess.run(trainer.loss, feed_dict=f_d)"
   ]
  },
  {
   "cell_type": "code",
   "execution_count": 76,
   "metadata": {},
   "outputs": [
    {
     "data": {
      "text/plain": [
       "array([ -4.09034506e+25,  -1.37661263e+27], dtype=float32)"
      ]
     },
     "execution_count": 76,
     "metadata": {},
     "output_type": "execute_result"
    }
   ],
   "source": [
    "trainer.sess.run(trainer.LL, feed_dict=f_d)"
   ]
  },
  {
   "cell_type": "code",
   "execution_count": 77,
   "metadata": {
    "collapsed": true
   },
   "outputs": [],
   "source": [
    "h_states, LL_log_terms, LL_int_terms, loss_terms = \\\n",
    "    trainer.sess.run([trainer.h_states, trainer.LL_log_terms, trainer.LL_int_terms, trainer.loss_terms],\n",
    "                     feed_dict=f_d)"
   ]
  },
  {
   "cell_type": "code",
   "execution_count": 85,
   "metadata": {},
   "outputs": [
    {
     "data": {
      "text/plain": [
       "array([ 90.57601826,  96.81127148])"
      ]
     },
     "execution_count": 85,
     "metadata": {},
     "output_type": "execute_result"
    }
   ],
   "source": [
    "f_d[trainer.tf_batch_last_interval]"
   ]
  },
  {
   "cell_type": "code",
   "execution_count": 78,
   "metadata": {},
   "outputs": [
    {
     "data": {
      "text/plain": [
       "[array([[-0.9115566 ,  0.71723014, -0.97521561, -0.47082722, -0.10776117,\n",
       "          0.91118366,  0.44068578, -0.83915508,  0.74536854, -0.05422911],\n",
       "        [-0.84137094,  0.71049112, -0.96230608, -0.54134536,  0.07595625,\n",
       "          0.84076971,  0.55810207, -0.81899536,  0.66369843,  0.19008458]], dtype=float32),\n",
       " array([[-0.99633706,  0.78127134, -0.96864825,  0.86236912, -0.25134704,\n",
       "          0.99995434, -0.97176838, -0.99928141,  0.99447763, -0.35514545],\n",
       "        [-0.99760336,  0.76176906, -0.97909141,  0.87795103, -0.31097731,\n",
       "          0.99997282, -0.97431773, -0.99947488,  0.99549544, -0.35482129]], dtype=float32),\n",
       " array([[-0.96259546,  0.10328309, -0.33070633,  0.71082175,  0.52160001,\n",
       "          0.99999905, -0.999695  , -0.99960703,  0.99258041, -0.68673784],\n",
       "        [-0.92427891,  0.07617671, -0.10500666,  0.65498424,  0.62975359,\n",
       "          0.99999803, -0.99956745, -0.99952984,  0.98923784, -0.50380194]], dtype=float32),\n",
       " array([[-0.942298  , -0.89893192,  0.86398196, -0.49262178,  0.90886152,\n",
       "          1.        , -0.99997616, -0.99994189,  0.99668181, -0.97908735],\n",
       "        [-0.99313867, -0.90000641,  0.64330745, -0.23403645,  0.7216363 ,\n",
       "          1.        , -0.99999273, -0.99996877,  0.9990496 , -0.99520373]], dtype=float32),\n",
       " array([[-1.        , -0.98996329, -0.9944433 , -0.04170226, -0.99849927,\n",
       "          1.        , -1.        , -0.99999988,  0.99999982, -1.        ],\n",
       "        [-0.72822362, -0.99615055,  0.99926525, -0.99516976,  0.98453337,\n",
       "          1.        , -0.99999577, -0.99998891,  0.99752074, -0.99589312]], dtype=float32)]"
      ]
     },
     "execution_count": 78,
     "metadata": {},
     "output_type": "execute_result"
    }
   ],
   "source": [
    "h_states"
   ]
  },
  {
   "cell_type": "code",
   "execution_count": 79,
   "metadata": {},
   "outputs": [
    {
     "data": {
      "text/plain": [
       "array([[ 0.        , -3.85976458, -4.83879995, -6.08512831, -0.61952037],\n",
       "       [ 0.        , -3.73670936, -5.01473522, -5.43658209, -6.33867979]], dtype=float32)"
      ]
     },
     "execution_count": 79,
     "metadata": {},
     "output_type": "execute_result"
    }
   ],
   "source": [
    "np.hstack([x[:, np.newaxis] for x in LL_log_terms])"
   ]
  },
  {
   "cell_type": "code",
   "execution_count": 80,
   "metadata": {},
   "outputs": [
    {
     "data": {
      "text/plain": [
       "array([[ 0.0626863 ,  0.01171056,  0.00255716,  0.00132096,  0.75175852],\n",
       "       [ 0.01133484,  0.0159338 ,  0.00085054,  0.00398099,  0.00091197]], dtype=float32)"
      ]
     },
     "execution_count": 80,
     "metadata": {},
     "output_type": "execute_result"
    }
   ],
   "source": [
    "np.hstack([x[:, np.newaxis] for x in LL_int_terms])"
   ]
  },
  {
   "cell_type": "code",
   "execution_count": 81,
   "metadata": {},
   "outputs": [
    {
     "data": {
      "text/plain": [
       "array([[  1.75098721e-02,   1.97943082e-04,   1.79153594e-05,\n",
       "          2.38577945e-06,   2.03357533e-01],\n",
       "       [  5.25153615e-03,   2.89334479e-04,   5.38948416e-06,\n",
       "          1.16911715e-05,   1.31496267e-06]], dtype=float32)"
      ]
     },
     "execution_count": 81,
     "metadata": {},
     "output_type": "execute_result"
    }
   ],
   "source": [
    "np.hstack([x[:, np.newaxis] for x in loss_terms])"
   ]
  },
  {
   "cell_type": "code",
   "execution_count": 82,
   "metadata": {},
   "outputs": [
    {
     "data": {
      "text/plain": [
       "[array([ 0.0626863 ,  0.01133484], dtype=float32),\n",
       " array([ 0.01171056,  0.0159338 ], dtype=float32),\n",
       " array([ 0.00255716,  0.00085054], dtype=float32),\n",
       " array([ 0.00132096,  0.00398099], dtype=float32),\n",
       " array([ 0.75175852,  0.00091197], dtype=float32)]"
      ]
     },
     "execution_count": 82,
     "metadata": {},
     "output_type": "execute_result"
    }
   ],
   "source": [
    "LL_int_terms"
   ]
  },
  {
   "cell_type": "code",
   "execution_count": 26,
   "metadata": {},
   "outputs": [
    {
     "name": "stdout",
     "output_type": "stream",
     "text": [
      "CPU times: user 671 ms, sys: 41 ms, total: 712 ms\n",
      "Wall time: 717 ms\n"
     ]
    }
   ],
   "source": [
    "%%time\n",
    "LL_grads = iterSession.run(trainer.LL_grads, feed_dict=f_d)\n",
    "loss_grads = iterSession.run(trainer.loss_grads, feed_dict=f_d)"
   ]
  },
  {
   "cell_type": "code",
   "execution_count": 275,
   "metadata": {
    "collapsed": true
   },
   "outputs": [
    {
     "data": {
      "text/plain": [
       "{<tf.Variable 'ExpRecurrentTrainer/hidden_state/Wh:0' shape=(10, 10) dtype=float32_ref>: [array([[ -2.99606800e+00,  -3.71909976e+00,   1.33702028e+00,\n",
       "           -1.39037979e+00,   2.38318825e+00,   5.02713108e+00,\n",
       "           -4.98379850e+00,  -5.02480364e+00,   5.00027657e+00,\n",
       "           -4.75504494e+00],\n",
       "         [ -4.26948833e+00,   6.26499414e-01,  -3.67279363e+00,\n",
       "           -2.40540743e+00,   5.53412390e+00,   1.09491434e+01,\n",
       "           -7.16436386e+00,  -1.08532867e+01,   1.05527220e+01,\n",
       "           -7.23006105e+00],\n",
       "         [  6.11900234e+00,  -2.49526954e+00,   5.35612297e+00,\n",
       "           -2.09307718e+00,  -2.65487337e+00,  -8.32765388e+00,\n",
       "            6.56142616e+00,   8.27307034e+00,  -8.13354778e+00,\n",
       "            5.22924948e+00],\n",
       "         [ -4.23263025e+00,   5.24473786e-01,  -2.38811493e+00,\n",
       "            5.79427004e-01,   2.33740950e+00,   4.85080910e+00,\n",
       "           -3.52857614e+00,  -4.82357693e+00,   4.70750713e+00,\n",
       "           -3.39204454e+00],\n",
       "         [ -5.24386501e+00,   2.75152969e+00,  -5.01500750e+00,\n",
       "            4.39886510e-01,   9.60898399e-02,   5.98953724e+00,\n",
       "           -2.51752853e+00,  -5.82190514e+00,   5.59879494e+00,\n",
       "           -2.83618069e+00],\n",
       "         [ -7.78012211e-03,   9.17432085e-03,  -7.95097742e-03,\n",
       "            1.09920967e-02,  -1.27925081e-02,  -1.86972469e-02,\n",
       "            1.67621896e-02,   1.86026692e-02,  -1.84916127e-02,\n",
       "            1.56339835e-02],\n",
       "         [ -5.98415971e-01,   3.22685003e-01,  -6.13908052e-01,\n",
       "           -4.44131255e-01,   2.02944428e-01,   9.74103391e-01,\n",
       "           -1.84238926e-01,  -9.37719464e-01,   8.89725447e-01,\n",
       "           -5.19677341e-01],\n",
       "         [ -2.28709113e-02,   1.73591319e-02,  -2.19340734e-02,\n",
       "            1.14847515e-02,  -3.32354964e-03,   2.18805186e-02,\n",
       "           -1.40963821e-02,  -2.14070193e-02,   2.09793076e-02,\n",
       "           -8.70618410e-03],\n",
       "         [  2.99361497e-01,   1.51817113e-01,   7.10226148e-02,\n",
       "            1.97488591e-01,  -3.90721887e-01,  -7.99967408e-01,\n",
       "            6.10552311e-01,   7.91182578e-01,  -7.78985262e-01,\n",
       "            6.36479855e-01],\n",
       "         [ -8.64119053e+00,   5.75426865e+00,  -8.34201336e+00,\n",
       "            3.67990971e-01,  -5.60631752e-02,   9.50978947e+00,\n",
       "           -3.14500904e+00,  -9.16685581e+00,   8.79675007e+00,\n",
       "           -4.28893375e+00]], dtype=float32)],\n",
       " <tf.Variable 'ExpRecurrentTrainer/hidden_state/Wm:0' shape=(2, 10) dtype=float32_ref>: [IndexedSlicesValue(values=array([[  0.00000000e+00,   0.00000000e+00,  -0.00000000e+00, ...,\n",
       "          0.00000000e+00,  -0.00000000e+00,   0.00000000e+00],\n",
       "       [  0.00000000e+00,   0.00000000e+00,  -0.00000000e+00, ...,\n",
       "          0.00000000e+00,  -0.00000000e+00,   0.00000000e+00],\n",
       "       [  0.00000000e+00,   0.00000000e+00,  -0.00000000e+00, ...,\n",
       "          0.00000000e+00,  -0.00000000e+00,   0.00000000e+00],\n",
       "       ..., \n",
       "       [  1.56972744e-03,   7.51397967e-01,  -1.39841303e-01, ...,\n",
       "          1.04910217e-03,  -2.38111950e-02,   1.60100532e+00],\n",
       "       [  2.47233408e-03,   2.41322309e-01,  -8.50178674e-03, ...,\n",
       "          3.76018099e-02,  -8.34240485e-03,   1.35665393e+00],\n",
       "       [  1.43668219e-03,   4.56360728e-01,  -1.72904059e-02, ...,\n",
       "          4.17300947e-02,  -3.79777737e-02,   1.27815723e+00]], dtype=float32), indices=array([1, 1, 1, 1, 1, 1, 1, 1, 1, 1, 1, 1, 1, 1, 1, 1, 1, 1, 1, 1, 1, 1, 1,\n",
       "       1, 1, 1, 1, 1, 1, 1, 1, 1, 1, 1, 1, 1, 1, 1, 1, 1, 1, 1, 1, 1, 1, 1,\n",
       "       1, 1, 1, 1, 1, 1, 1, 1, 1, 1, 1, 1, 1, 1, 1, 1, 1, 1, 1, 1, 1, 1, 1,\n",
       "       1, 1, 1, 1, 1, 1, 1, 1, 1, 1, 1, 1, 1, 1, 1, 1, 1, 1, 1, 1, 1, 1, 1,\n",
       "       1, 1, 1, 1, 1, 1, 1, 1, 1, 1, 1, 1, 1, 1, 1, 1, 1, 1, 1, 1, 1, 1, 1,\n",
       "       1, 1, 1, 1, 1, 1, 1, 1, 1, 1, 1, 1, 1, 0, 1, 1, 1, 1, 1, 1, 1, 1, 1,\n",
       "       1, 1, 1, 1, 1, 0, 1, 1, 1, 1, 1, 1, 1, 1, 1, 1, 1, 1, 1, 1, 1, 1, 1,\n",
       "       1, 1, 1, 1, 1, 1, 1, 1, 1, 1, 1, 1, 1, 1, 1, 1, 1, 1, 1, 1, 1, 1, 1,\n",
       "       1, 1, 1, 1, 1, 1, 1, 1, 1, 1, 0, 1, 1, 1, 0, 0], dtype=int32), dense_shape=array([ 2, 10], dtype=int32))],\n",
       " <tf.Variable 'ExpRecurrentTrainer/hidden_state/Wt:0' shape=(10, 1) dtype=float32_ref>: [array([[ 4.25242615],\n",
       "         [ 6.95624256],\n",
       "         [-3.2879734 ],\n",
       "         [ 6.22856712],\n",
       "         [ 3.91035533],\n",
       "         [-0.02293397],\n",
       "         [ 0.49859279],\n",
       "         [ 0.03239532],\n",
       "         [-0.24908522],\n",
       "         [ 4.45688248]], dtype=float32)],\n",
       " <tf.Variable 'ExpRecurrentTrainer/hidden_state/Bh:0' shape=(10, 1) dtype=float32_ref>: [array([[  5.03192472],\n",
       "         [ 11.7932272 ],\n",
       "         [ -8.3967495 ],\n",
       "         [  4.83488894],\n",
       "         [  7.35241699],\n",
       "         [ -0.12396005],\n",
       "         [  1.33698344],\n",
       "         [  0.10146739],\n",
       "         [ -0.85212827],\n",
       "         [ 12.43805885]], dtype=float32)],\n",
       " <tf.Variable 'ExpRecurrentTrainer/hidden_state/Wr:0' shape=(10, 1) dtype=float32_ref>: [array([[  2.38667641e+01],\n",
       "         [  1.28153582e+01],\n",
       "         [ -1.38487921e+01],\n",
       "         [  1.07183018e+01],\n",
       "         [  9.03369617e+00],\n",
       "         [ -2.41741887e-03],\n",
       "         [  7.91502714e-01],\n",
       "         [  1.43228322e-02],\n",
       "         [ -3.15096378e+00],\n",
       "         [  1.15220709e+01]], dtype=float32)],\n",
       " <tf.Variable 'ExpRecurrentTrainer/output/bt:0' shape=(1,) dtype=float32_ref>: [array([ 389.99560547], dtype=float32)],\n",
       " <tf.Variable 'ExpRecurrentTrainer/output/vt:0' shape=(10, 1) dtype=float32_ref>: [array([[ 316.67657471],\n",
       "         [-365.39379883],\n",
       "         [ 351.19436646],\n",
       "         [-350.58276367],\n",
       "         [ 369.57354736],\n",
       "         [ 389.99407959],\n",
       "         [-389.78704834],\n",
       "         [-389.98406982],\n",
       "         [ 389.68566895],\n",
       "         [-382.30545044]], dtype=float32)],\n",
       " <tf.Variable 'ExpRecurrentTrainer/output/wt:0' shape=(1,) dtype=float32_ref>: [array([ 389.68865967], dtype=float32)]}"
      ]
     },
     "execution_count": 275,
     "metadata": {},
     "output_type": "execute_result"
    }
   ],
   "source": [
    "LL_grads"
   ]
  },
  {
   "cell_type": "code",
   "execution_count": null,
   "metadata": {
    "collapsed": true
   },
   "outputs": [],
   "source": []
  },
  {
   "cell_type": "code",
   "execution_count": 42,
   "metadata": {
    "collapsed": true
   },
   "outputs": [],
   "source": [
    "def check_good_grad(grad_dict):\n",
    "    \"\"\"Check whether the gradient has only finite values.\"\"\"\n",
    "    all_good = True\n",
    "    for batch_grad in grad_dict.values():\n",
    "        for x in batch_grad:\n",
    "            # Unwrap gradient\n",
    "            grad = x[0]\n",
    "            \n",
    "            # Handle IndexedSlicesValue named tuple\n",
    "            if hasattr(grad, 'dense_shape'):\n",
    "                y = np.zeros(grad.dense_shape)\n",
    "                y[grad.indices] = grad.values\n",
    "                grad = y\n",
    "            all_good = all_good and np.all(np.isfinite(grad))\n",
    "    return all_good\n"
   ]
  },
  {
   "cell_type": "code",
   "execution_count": 44,
   "metadata": {},
   "outputs": [
    {
     "data": {
      "text/plain": [
       "(True, True)"
      ]
     },
     "execution_count": 44,
     "metadata": {},
     "output_type": "execute_result"
    }
   ],
   "source": [
    "check_good_grad(LL_grads), check_good_grad(loss_grads)"
   ]
  },
  {
   "cell_type": "code",
   "execution_count": 214,
   "metadata": {
    "collapsed": true
   },
   "outputs": [],
   "source": [
    "true_grads = trainer.get_batch_grad([df, df2])"
   ]
  },
  {
   "cell_type": "code",
   "execution_count": 216,
   "metadata": {
    "collapsed": true
   },
   "outputs": [],
   "source": [
    "avg_grad_np = average_gradients([[(grad.astype(np.float32), var) for var, grad in x.items()] for x in true_grads])"
   ]
  },
  {
   "cell_type": "code",
   "execution_count": 217,
   "metadata": {
    "collapsed": true
   },
   "outputs": [],
   "source": [
    "avg_grad_tf = [(iterSession.run(grad, feed_dict=f_d), var) \n",
    "               for grad, var in trainer.avg_gradient]"
   ]
  },
  {
   "cell_type": "code",
   "execution_count": 218,
   "metadata": {
    "collapsed": true
   },
   "outputs": [],
   "source": [
    "tower_grad_tf = [{var: iterSession.run(grad, feed_dict=f_d)\n",
    "                  for grad, var in trainer.tower_gradients[batch_idx]}\n",
    "                 for batch_idx in range(trainer.batch_size)]"
   ]
  },
  {
   "cell_type": "code",
   "execution_count": 198,
   "metadata": {},
   "outputs": [
    {
     "data": {
      "text/plain": [
       "array([ 174637.484375], dtype=float32)"
      ]
     },
     "execution_count": 198,
     "metadata": {},
     "output_type": "execute_result"
    }
   ],
   "source": [
    "tower_grad_tf[1][trainer.tf_bt]"
   ]
  },
  {
   "cell_type": "code",
   "execution_count": null,
   "metadata": {
    "collapsed": true
   },
   "outputs": [],
   "source": []
  },
  {
   "cell_type": "code",
   "execution_count": null,
   "metadata": {
    "collapsed": true
   },
   "outputs": [],
   "source": []
  },
  {
   "cell_type": "code",
   "execution_count": null,
   "metadata": {
    "collapsed": true
   },
   "outputs": [],
   "source": []
  },
  {
   "cell_type": "code",
   "execution_count": null,
   "metadata": {
    "collapsed": true
   },
   "outputs": [],
   "source": []
  },
  {
   "cell_type": "code",
   "execution_count": null,
   "metadata": {
    "collapsed": true
   },
   "outputs": [],
   "source": []
  }
 ],
 "metadata": {
  "kernelspec": {
   "display_name": "Python 3",
   "language": "python",
   "name": "python3"
  },
  "language_info": {
   "codemirror_mode": {
    "name": "ipython",
    "version": 3
   },
   "file_extension": ".py",
   "mimetype": "text/x-python",
   "name": "python",
   "nbconvert_exporter": "python",
   "pygments_lexer": "ipython3",
   "version": "3.6.1"
  },
  "nav_menu": {},
  "toc": {
   "navigate_menu": true,
   "number_sections": true,
   "sideBar": true,
   "threshold": 6,
   "toc_cell": false,
   "toc_section_display": "block",
   "toc_window_display": false
  }
 },
 "nbformat": 4,
 "nbformat_minor": 1
}
