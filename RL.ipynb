{
 "cells": [
  {
   "cell_type": "code",
   "execution_count": 220,
   "metadata": {
    "collapsed": true
   },
   "outputs": [],
   "source": [
    "%matplotlib inline"
   ]
  },
  {
   "cell_type": "code",
   "execution_count": 221,
   "metadata": {
    "collapsed": true
   },
   "outputs": [],
   "source": [
    "import redqueen.opt_model as OM\n",
    "import redqueen.opt_runs as OR\n",
    "import redqueen.utils as RU\n",
    "import tensorflow as tf\n",
    "import matplotlib.pyplot as plt\n",
    "import seaborn as sns\n",
    "import numpy as np\n",
    "import decorated_options as Deco\n",
    "import multiprocessing as MP"
   ]
  },
  {
   "cell_type": "code",
   "execution_count": 222,
   "metadata": {
    "collapsed": true
   },
   "outputs": [],
   "source": [
    "sns.set_style(style='dark')\n",
    "sns.set_palette('Set2')"
   ]
  },
  {
   "cell_type": "code",
   "execution_count": 223,
   "metadata": {},
   "outputs": [
    {
     "data": {
      "text/plain": [
       "<module 'redqueen.utils' from '/NL/stackexchange/work/prog/broadcast-online/redqueen/utils.py'>"
      ]
     },
     "execution_count": 223,
     "metadata": {},
     "output_type": "execute_result"
    }
   ],
   "source": [
    "from importlib import reload\n",
    "reload(OM)\n",
    "reload(OR)\n",
    "reload(RU)"
   ]
  },
  {
   "cell_type": "code",
   "execution_count": 224,
   "metadata": {},
   "outputs": [
    {
     "data": {
      "text/plain": [
       "<redqueen.opt_model.SimOpts at 0x7f6eeca3e358>"
      ]
     },
     "execution_count": 224,
     "metadata": {},
     "output_type": "execute_result"
    }
   ],
   "source": [
    "OR.SimOpts(**{\n",
    "        'src_id': 1,\n",
    "        'q_vec': [],\n",
    "        's': 1.0,\n",
    "        'other_sources': [\n",
    "            (\n",
    "                'Poisson', \n",
    "                {\n",
    "                    'src_id': 2,\n",
    "                    'seed': 42,\n",
    "                    'rates': 100\n",
    "                }\n",
    "            )\n",
    "        ],\n",
    "        'sink_ids': [1001],\n",
    "        'end_time': 100.0,\n",
    "        'edge_list': [(1, 1001), (2, 1001)]\n",
    "    })"
   ]
  },
  {
   "cell_type": "code",
   "execution_count": 225,
   "metadata": {
    "collapsed": true
   },
   "outputs": [],
   "source": [
    "simOpts = OR.SimOpts.std_poisson(42, 1000)"
   ]
  },
  {
   "cell_type": "markdown",
   "metadata": {},
   "source": [
    "# Exponential sampler"
   ]
  },
  {
   "cell_type": "markdown",
   "metadata": {},
   "source": [
    "The output intensity is given by:\n",
    "\n",
    "$$\n",
    "u(t) = \\exp( \\underbrace{W_h \\cdot h_j}_{\\text{past}} - \\overbrace{W_t (t - t_j)}^{\\text{decay}} + \\underbrace{b_t}_{\\text{base}} )\n",
    "$$\n",
    "\n",
    "where $t_j$ is the last event before $t$.\n",
    "\n",
    "It is simplified to the following in the code:\n",
    "\n",
    "$$\n",
    "u(t) = c \\cdot e^{- W_t \\cdot (t - t_j)}\n",
    "$$"
   ]
  },
  {
   "cell_type": "code",
   "execution_count": 7,
   "metadata": {
    "collapsed": true
   },
   "outputs": [],
   "source": [
    "%run -i tpprl/exp_sampler.py"
   ]
  },
  {
   "cell_type": "markdown",
   "metadata": {},
   "source": [
    "Testing the sampler."
   ]
  },
  {
   "cell_type": "code",
   "execution_count": 8,
   "metadata": {
    "collapsed": true
   },
   "outputs": [],
   "source": [
    "def_plot_opts = Deco.Options(vt=0.5, \n",
    "                             wt=1.0,\n",
    "                             bt=1.0,\n",
    "                             init_h=0,\n",
    "                             t_min=0,\n",
    "                             t_max=10,\n",
    "                             resolution=200)\n",
    "\n",
    "@Deco.optioned()\n",
    "def plot_lambda(vt, wt, bt, init_h, t_min, t_max, events, resolution):\n",
    "    X = np.linspace(t_min, t_max, num=resolution)\n",
    "    \n",
    "    \n",
    "    event_idx = 0\n",
    "    c = np.exp(vt * init_h + bt)\n",
    "    t0 = t_min\n",
    "    \n",
    "    # TODO: In the baseilne, shouldn't the t_0 still be updated to the latest event?\n",
    "    Y1 = [c * np.exp(-wt * (x - t0)) for x in X]\n",
    "    \n",
    "    Y2 = [None] * len(X)\n",
    "    for idx, x in enumerate(X):\n",
    "        while event_idx < len(events) and events[event_idx][0] < x:\n",
    "            c = np.exp(vt * events[event_idx][1] + bt)\n",
    "            t0 = events[event_idx][0]\n",
    "            event_idx += 1\n",
    "            \n",
    "        Y2[idx] = c * np.exp(-wt * (x - t0))\n",
    "    \n",
    "    plt.step(X, Y1, '--', label='Baseline')\n",
    "    plt.step(X, Y2, '-', label='Correct')\n",
    "    plt.vlines([x[0] for x in events], ymin=0, ymax=max(Y2), label='Events')\n",
    "    plt.legend()\n",
    "    return (X, Y1, Y2)"
   ]
  },
  {
   "cell_type": "code",
   "execution_count": 9,
   "metadata": {
    "collapsed": true
   },
   "outputs": [],
   "source": [
    "events = [(1, -8), (5, 5), (9, 0)]"
   ]
  },
  {
   "cell_type": "code",
   "execution_count": 10,
   "metadata": {},
   "outputs": [
    {
     "data": {
      "image/png": "[encoded data removed]",
      "text/plain": [
       "<matplotlib.figure.Figure at 0x7f70ae71da90>"
      ]
     },
     "metadata": {},
     "output_type": "display_data"
    }
   ],
   "source": [
    "X, Y1, Y2 = plot_lambda(events=events, _opts=def_plot_opts)"
   ]
  },
  {
   "cell_type": "code",
   "execution_count": 11,
   "metadata": {
    "collapsed": true
   },
   "outputs": [],
   "source": [
    "sampler = ExpCDFSampler(_opts=def_plot_opts, seed=101 + 1279)"
   ]
  },
  {
   "cell_type": "code",
   "execution_count": 12,
   "metadata": {},
   "outputs": [
    {
     "data": {
      "text/plain": [
       "0.6092880541958573"
      ]
     },
     "execution_count": 12,
     "metadata": {},
     "output_type": "execute_result"
    }
   ],
   "source": [
    "sampler.generate_sample()"
   ]
  },
  {
   "cell_type": "code",
   "execution_count": 13,
   "metadata": {},
   "outputs": [
    {
     "data": {
      "text/plain": [
       "0.98369540000156641"
      ]
     },
     "execution_count": 13,
     "metadata": {},
     "output_type": "execute_result"
    }
   ],
   "source": [
    "sampler.reset_only_sample(sampler.generate_sample())"
   ]
  },
  {
   "cell_type": "code",
   "execution_count": 14,
   "metadata": {},
   "outputs": [
    {
     "data": {
      "text/plain": [
       "0.9725887021550208"
      ]
     },
     "execution_count": 14,
     "metadata": {},
     "output_type": "execute_result"
    }
   ],
   "source": [
    "sampler.reset(1, -4, False)"
   ]
  },
  {
   "cell_type": "code",
   "execution_count": 15,
   "metadata": {},
   "outputs": [
    {
     "data": {
      "text/plain": [
       "4.924794439657469"
      ]
     },
     "execution_count": 15,
     "metadata": {},
     "output_type": "execute_result"
    }
   ],
   "source": [
    "sampler.register_event(5, 0.5, False)"
   ]
  },
  {
   "cell_type": "code",
   "execution_count": 16,
   "metadata": {},
   "outputs": [
    {
     "data": {
      "text/plain": [
       "4.9482122321618336"
      ]
     },
     "execution_count": 16,
     "metadata": {},
     "output_type": "execute_result"
    }
   ],
   "source": [
    "sampler.reset_only_sample(sampler.generate_sample())"
   ]
  },
  {
   "cell_type": "code",
   "execution_count": 17,
   "metadata": {},
   "outputs": [
    {
     "data": {
      "text/plain": [
       "8.7893001591946209"
      ]
     },
     "execution_count": 17,
     "metadata": {},
     "output_type": "execute_result"
    }
   ],
   "source": [
    "sampler.register_event(9, 0, False)"
   ]
  },
  {
   "cell_type": "code",
   "execution_count": 18,
   "metadata": {},
   "outputs": [
    {
     "data": {
      "text/plain": [
       "9.0386156318159898"
      ]
     },
     "execution_count": 18,
     "metadata": {},
     "output_type": "execute_result"
    }
   ],
   "source": [
    "sampler.reset_only_sample(sampler.generate_sample())"
   ]
  },
  {
   "cell_type": "code",
   "execution_count": 19,
   "metadata": {},
   "outputs": [
    {
     "data": {
      "text/plain": [
       "9.0386156318159898"
      ]
     },
     "execution_count": 19,
     "metadata": {},
     "output_type": "execute_result"
    }
   ],
   "source": [
    "sampler.generate_sample()"
   ]
  },
  {
   "cell_type": "markdown",
   "metadata": {
    "collapsed": true
   },
   "source": [
    "## Tests"
   ]
  },
  {
   "cell_type": "code",
   "execution_count": 20,
   "metadata": {},
   "outputs": [
    {
     "name": "stdout",
     "output_type": "stream",
     "text": [
      "CPU times: user 1.23 s, sys: 467 ms, total: 1.7 s\n",
      "Wall time: 1.85 s\n"
     ]
    }
   ],
   "source": [
    "%%time\n",
    "all_sim_events = []\n",
    "processes = None\n",
    "N = 10000\n",
    "verbose = False\n",
    "\n",
    "assert not verbose or (N < 10 and processes is not None), \"Cannot have verbose output with these settings.\"\n",
    "\n",
    "def worker_sampler(params):\n",
    "    ii, sampler = params\n",
    "    event_idx = 0\n",
    "    next_sample = sampler.generate_sample()\n",
    "    sim_events = []\n",
    "        \n",
    "    while next_sample < def_plot_opts.t_max or event_idx < len(events):\n",
    "        while event_idx < len(events) and \\\n",
    "              events[event_idx][0] < next_sample:\n",
    "            # print(\"Old = \", next_sample)\n",
    "            old_sample = next_sample\n",
    "            next_sample = sampler.register_event(events[event_idx][0], \n",
    "                                                 events[event_idx][1], \n",
    "                                                 False)\n",
    "            if verbose:\n",
    "                print(\"Eps = {}, Old = {}, Event = {}, Next = {}\"\n",
    "                      .format(ii, old_sample, events[event_idx], next_sample))\n",
    "                \n",
    "            event_idx += 1\n",
    "            \n",
    "        if next_sample > def_plot_opts.t_max:\n",
    "            break\n",
    "            \n",
    "        if verbose:\n",
    "            print(\"Final sample = {}\".format(next_sample))                \n",
    "        \n",
    "        sim_events.append(next_sample)\n",
    "        next_sample = sampler.reset_only_sample(next_sample)\n",
    "    \n",
    "    return sim_events\n",
    "    \n",
    "\n",
    "with MP.Pool(processes=processes) as pool:\n",
    "    for sim_events in pool.map(worker_sampler,\n",
    "                               [(ii, ExpCDFSampler(_opts=def_plot_opts, seed=101 + ii))\n",
    "                                for ii in range(N)]):\n",
    "        all_sim_events.append(sim_events)\n"
   ]
  },
  {
   "cell_type": "code",
   "execution_count": 21,
   "metadata": {
    "collapsed": true
   },
   "outputs": [],
   "source": [
    "flat_events = [x for y in all_sim_events for x in y]"
   ]
  },
  {
   "cell_type": "code",
   "execution_count": 22,
   "metadata": {},
   "outputs": [
    {
     "data": {
      "text/plain": [
       "[]"
      ]
     },
     "execution_count": 22,
     "metadata": {},
     "output_type": "execute_result"
    }
   ],
   "source": [
    "[x for x in flat_events if x < 0]"
   ]
  },
  {
   "cell_type": "code",
   "execution_count": 23,
   "metadata": {
    "scrolled": true
   },
   "outputs": [
    {
     "data": {
      "image/png": "[encoded data removed]",
      "text/plain": [
       "<matplotlib.figure.Figure at 0x7f70ac326668>"
      ]
     },
     "metadata": {},
     "output_type": "display_data"
    }
   ],
   "source": [
    "plt.hist(flat_events, bins=200);"
   ]
  },
  {
   "cell_type": "code",
   "execution_count": 24,
   "metadata": {},
   "outputs": [
    {
     "data": {
      "image/png": "[encoded data removed]",
      "text/plain": [
       "<matplotlib.figure.Figure at 0x7f719c8809b0>"
      ]
     },
     "metadata": {},
     "output_type": "display_data"
    }
   ],
   "source": [
    "X, Y1, Y2 = plot_lambda(events=events, _opts=def_plot_opts)"
   ]
  },
  {
   "cell_type": "code",
   "execution_count": 26,
   "metadata": {},
   "outputs": [
    {
     "data": {
      "text/plain": [
       "10000"
      ]
     },
     "execution_count": 26,
     "metadata": {},
     "output_type": "execute_result"
    }
   ],
   "source": [
    "len(all_sim_events)"
   ]
  },
  {
   "cell_type": "markdown",
   "metadata": {},
   "source": [
    "## ExpCDFBroadcaster"
   ]
  },
  {
   "cell_type": "code",
   "execution_count": 226,
   "metadata": {
    "collapsed": true
   },
   "outputs": [],
   "source": [
    "class ExpBroadcasterOld(OM.Broadcaster):\n",
    "    \n",
    "    @Deco.optioned()\n",
    "    def __init__(self, src_id, seed, vt, wt, bt, init_h, t_min=0):\n",
    "        super(ExpBroadcasterOld, self).__init__(src_id, seed)\n",
    "        self.init = False\n",
    "        self.vt = vt\n",
    "        self.wt = wt\n",
    "        self.bt = bt\n",
    "        self.init_h = init_h\n",
    "        self.exp_sampler = ExpCDFSampler(vt=vt, wt=wt, bt=bt,\n",
    "                                         init_h=init_h, t_min=t_min, seed=seed)\n",
    "        \n",
    "    def get_next_interval(self, event):\n",
    "        if not self.init:\n",
    "            self.init = True\n",
    "            # Nothing special to do for the first event.\n",
    "            \n",
    "        self.state.apply_event(event)\n",
    "        \n",
    "        if event is None:\n",
    "            # This is the first event. Post immediately to join the party?\n",
    "            # Or hold off?\n",
    "            return self.exp_sampler.generate_sample()\n",
    "        elif event.src_id == self.src_id:\n",
    "            # We posted.\n",
    "            hidden_state = self.exp_sampler.get_last_hidden_state()\n",
    "            new_hidden_state = self.random_state.randn(*hidden_state.shape)\n",
    "            self.exp_sampler.register_event(time=self.get_current_time(event), \n",
    "                                            new_h=hidden_state,\n",
    "                                            own_event=True)\n",
    "        else:\n",
    "            # Have to update the hidden state and the t0 of our ExpSampler\n",
    "            return None # Preserve the old time"
   ]
  },
  {
   "cell_type": "code",
   "execution_count": 227,
   "metadata": {
    "collapsed": true
   },
   "outputs": [],
   "source": [
    "OM.SimOpts.registerSource('ExpBroadcasterOld', ExpBroadcasterOld)"
   ]
  },
  {
   "cell_type": "code",
   "execution_count": 228,
   "metadata": {
    "collapsed": true
   },
   "outputs": [],
   "source": [
    "RS = np.random.RandomState(420)\n",
    "\n",
    "simOpts = OM.SimOpts(\n",
    "   src_id = 1,\n",
    "   end_time = 100, # When the simulations stop\n",
    "   q_vec = np.asarray([1.0, 1.0]), # Weights of followers\n",
    "   s = 1.0, # Control parameter for RedQueen\n",
    "   sink_ids = [1, 2],\n",
    "   other_sources = [\n",
    "      ('ExpBroadcasterOld', \n",
    "       {'src_id': 2,\n",
    "        'seed': 42,\n",
    "        'wt': 0.5,\n",
    "        'init_h': 0.1 * RS.randn(10),\n",
    "        'vt': 0.1 * RS.randn(10),\n",
    "        'bt': 1.0,\n",
    "       }\n",
    "      ),\n",
    "      ('Hawkes',\n",
    "       {'src_id': 3,\n",
    "        'seed': 43,\n",
    "        'alpha': 0.01 * np.exp(RS.randn(10).dot(RS.randn(10))),\n",
    "        'beta': 0.5,\n",
    "        'l_0': np.exp(1.0)\n",
    "       }\n",
    "      )\n",
    "   ],\n",
    "   edge_list=[(1, 1), (1, 2), \n",
    "              (2, 1), (2, 2),\n",
    "              (3, 1), (3, 2)]\n",
    ")"
   ]
  },
  {
   "cell_type": "code",
   "execution_count": 30,
   "metadata": {
    "collapsed": true
   },
   "outputs": [],
   "source": [
    "mgr = simOpts.create_manager_with_opt(seed=6)"
   ]
  },
  {
   "cell_type": "code",
   "execution_count": 31,
   "metadata": {},
   "outputs": [
    {
     "name": "stdout",
     "output_type": "stream",
     "text": [
      "CPU times: user 153 ms, sys: 3.33 ms, total: 157 ms\n",
      "Wall time: 150 ms\n"
     ]
    },
    {
     "data": {
      "text/plain": [
       "<redqueen.opt_model.Manager at 0x7f03d53f7048>"
      ]
     },
     "execution_count": 31,
     "metadata": {},
     "output_type": "execute_result"
    }
   ],
   "source": [
    "%%time\n",
    "mgr.run_dynamic()"
   ]
  },
  {
   "cell_type": "code",
   "execution_count": 32,
   "metadata": {
    "collapsed": true
   },
   "outputs": [],
   "source": [
    "df = mgr.get_state().get_dataframe()"
   ]
  },
  {
   "cell_type": "code",
   "execution_count": 33,
   "metadata": {},
   "outputs": [
    {
     "data": {
      "text/html": [
       "<div>\n",
       "<style>\n",
       "    .dataframe thead tr:only-child th {\n",
       "        text-align: right;\n",
       "    }\n",
       "\n",
       "    .dataframe thead th {\n",
       "        text-align: left;\n",
       "    }\n",
       "\n",
       "    .dataframe tbody tr th {\n",
       "        vertical-align: top;\n",
       "    }\n",
       "</style>\n",
       "<table border=\"1\" class=\"dataframe\">\n",
       "  <thead>\n",
       "    <tr style=\"text-align: right;\">\n",
       "      <th></th>\n",
       "      <th>event_id</th>\n",
       "      <th>sink_id</th>\n",
       "      <th>src_id</th>\n",
       "      <th>t</th>\n",
       "      <th>time_delta</th>\n",
       "    </tr>\n",
       "  </thead>\n",
       "  <tbody>\n",
       "    <tr>\n",
       "      <th>0</th>\n",
       "      <td>100</td>\n",
       "      <td>1</td>\n",
       "      <td>1</td>\n",
       "      <td>0.000000</td>\n",
       "      <td>0.000000</td>\n",
       "    </tr>\n",
       "    <tr>\n",
       "      <th>1</th>\n",
       "      <td>100</td>\n",
       "      <td>2</td>\n",
       "      <td>1</td>\n",
       "      <td>0.000000</td>\n",
       "      <td>0.000000</td>\n",
       "    </tr>\n",
       "    <tr>\n",
       "      <th>2</th>\n",
       "      <td>101</td>\n",
       "      <td>1</td>\n",
       "      <td>3</td>\n",
       "      <td>0.044966</td>\n",
       "      <td>0.044966</td>\n",
       "    </tr>\n",
       "    <tr>\n",
       "      <th>3</th>\n",
       "      <td>101</td>\n",
       "      <td>2</td>\n",
       "      <td>3</td>\n",
       "      <td>0.044966</td>\n",
       "      <td>0.044966</td>\n",
       "    </tr>\n",
       "    <tr>\n",
       "      <th>4</th>\n",
       "      <td>102</td>\n",
       "      <td>1</td>\n",
       "      <td>3</td>\n",
       "      <td>0.097634</td>\n",
       "      <td>0.052668</td>\n",
       "    </tr>\n",
       "  </tbody>\n",
       "</table>\n",
       "</div>"
      ],
      "text/plain": [
       "   event_id  sink_id  src_id         t  time_delta\n",
       "0       100        1       1  0.000000    0.000000\n",
       "1       100        2       1  0.000000    0.000000\n",
       "2       101        1       3  0.044966    0.044966\n",
       "3       101        2       3  0.044966    0.044966\n",
       "4       102        1       3  0.097634    0.052668"
      ]
     },
     "execution_count": 33,
     "metadata": {},
     "output_type": "execute_result"
    }
   ],
   "source": [
    "df.head()"
   ]
  },
  {
   "cell_type": "code",
   "execution_count": 34,
   "metadata": {},
   "outputs": [
    {
     "data": {
      "text/plain": [
       "src_id\n",
       "1     614\n",
       "2    1174\n",
       "3     520\n",
       "dtype: int64"
      ]
     },
     "execution_count": 34,
     "metadata": {},
     "output_type": "execute_result"
    }
   ],
   "source": [
    "df.groupby('src_id').size()"
   ]
  },
  {
   "cell_type": "markdown",
   "metadata": {},
   "source": [
    "# Reinf broadcaster"
   ]
  },
  {
   "cell_type": "code",
   "execution_count": 23,
   "metadata": {
    "collapsed": true
   },
   "outputs": [],
   "source": [
    "iterSession = tf.InteractiveSession()"
   ]
  },
  {
   "cell_type": "code",
   "execution_count": 96,
   "metadata": {
    "collapsed": true
   },
   "outputs": [
    {
     "ename": "RuntimeError",
     "evalue": "Graph is finalized and cannot be modified.",
     "output_type": "error",
     "traceback": [
      "\u001b[0;31m---------------------------------------------------------------------------\u001b[0m",
      "\u001b[0;31mRuntimeError\u001b[0m                              Traceback (most recent call last)",
      "\u001b[0;32m~/prog/work/tpprl/tpprl/exp_broadcaster.py\u001b[0m in \u001b[0;36m<module>\u001b[0;34m()\u001b[0m\n\u001b[0;32m----> 1\u001b[0;31m \u001b[0miterSession\u001b[0m\u001b[0;34m.\u001b[0m\u001b[0mrun\u001b[0m\u001b[0;34m(\u001b[0m\u001b[0mtf\u001b[0m\u001b[0;34m.\u001b[0m\u001b[0mone_hot\u001b[0m\u001b[0;34m(\u001b[0m\u001b[0;34m[\u001b[0m\u001b[0;36m0\u001b[0m\u001b[0;34m,\u001b[0m\u001b[0;36m1\u001b[0m\u001b[0;34m]\u001b[0m\u001b[0;34m,\u001b[0m \u001b[0mdepth\u001b[0m\u001b[0;34m=\u001b[0m\u001b[0;36m1\u001b[0m\u001b[0;34m,\u001b[0m \u001b[0mdtype\u001b[0m\u001b[0;34m=\u001b[0m\u001b[0mtf\u001b[0m\u001b[0;34m.\u001b[0m\u001b[0mfloat32\u001b[0m\u001b[0;34m)\u001b[0m\u001b[0;34m)\u001b[0m\u001b[0;34m\u001b[0m\u001b[0m\n\u001b[0m",
      "\u001b[0;32m~/miniconda3/lib/python3.6/site-packages/tensorflow/python/ops/array_ops.py\u001b[0m in \u001b[0;36mone_hot\u001b[0;34m(indices, depth, on_value, off_value, axis, dtype, name)\u001b[0m\n\u001b[1;32m   2203\u001b[0m     \u001b[0;32mif\u001b[0m \u001b[0;32mnot\u001b[0m \u001b[0mon_exists\u001b[0m\u001b[0;34m:\u001b[0m\u001b[0;34m\u001b[0m\u001b[0m\n\u001b[1;32m   2204\u001b[0m       \u001b[0;31m# on_value not provided: assign to value 1 of type dtype\u001b[0m\u001b[0;34m\u001b[0m\u001b[0;34m\u001b[0m\u001b[0m\n\u001b[0;32m-> 2205\u001b[0;31m       \u001b[0mon_value\u001b[0m \u001b[0;34m=\u001b[0m \u001b[0mops\u001b[0m\u001b[0;34m.\u001b[0m\u001b[0mconvert_to_tensor\u001b[0m\u001b[0;34m(\u001b[0m\u001b[0;36m1\u001b[0m\u001b[0;34m,\u001b[0m \u001b[0mdtype\u001b[0m\u001b[0;34m,\u001b[0m \u001b[0mname\u001b[0m\u001b[0;34m=\u001b[0m\u001b[0;34m\"on_value\"\u001b[0m\u001b[0;34m)\u001b[0m\u001b[0;34m\u001b[0m\u001b[0m\n\u001b[0m\u001b[1;32m   2206\u001b[0m       \u001b[0mon_dtype\u001b[0m \u001b[0;34m=\u001b[0m \u001b[0mdtype\u001b[0m\u001b[0;34m\u001b[0m\u001b[0m\n\u001b[1;32m   2207\u001b[0m     \u001b[0;32mif\u001b[0m \u001b[0;32mnot\u001b[0m \u001b[0moff_exists\u001b[0m\u001b[0;34m:\u001b[0m\u001b[0;34m\u001b[0m\u001b[0m\n",
      "\u001b[0;32m~/miniconda3/lib/python3.6/site-packages/tensorflow/python/framework/ops.py\u001b[0m in \u001b[0;36mconvert_to_tensor\u001b[0;34m(value, dtype, name, preferred_dtype)\u001b[0m\n\u001b[1;32m    609\u001b[0m       \u001b[0mname\u001b[0m\u001b[0;34m=\u001b[0m\u001b[0mname\u001b[0m\u001b[0;34m,\u001b[0m\u001b[0;34m\u001b[0m\u001b[0m\n\u001b[1;32m    610\u001b[0m       \u001b[0mpreferred_dtype\u001b[0m\u001b[0;34m=\u001b[0m\u001b[0mpreferred_dtype\u001b[0m\u001b[0;34m,\u001b[0m\u001b[0;34m\u001b[0m\u001b[0m\n\u001b[0;32m--> 611\u001b[0;31m       as_ref=False)\n\u001b[0m\u001b[1;32m    612\u001b[0m \u001b[0;34m\u001b[0m\u001b[0m\n\u001b[1;32m    613\u001b[0m \u001b[0;34m\u001b[0m\u001b[0m\n",
      "\u001b[0;32m~/miniconda3/lib/python3.6/site-packages/tensorflow/python/framework/ops.py\u001b[0m in \u001b[0;36minternal_convert_to_tensor\u001b[0;34m(value, dtype, name, as_ref, preferred_dtype)\u001b[0m\n\u001b[1;32m    674\u001b[0m \u001b[0;34m\u001b[0m\u001b[0m\n\u001b[1;32m    675\u001b[0m         \u001b[0;32mif\u001b[0m \u001b[0mret\u001b[0m \u001b[0;32mis\u001b[0m \u001b[0;32mNone\u001b[0m\u001b[0;34m:\u001b[0m\u001b[0;34m\u001b[0m\u001b[0m\n\u001b[0;32m--> 676\u001b[0;31m           \u001b[0mret\u001b[0m \u001b[0;34m=\u001b[0m \u001b[0mconversion_func\u001b[0m\u001b[0;34m(\u001b[0m\u001b[0mvalue\u001b[0m\u001b[0;34m,\u001b[0m \u001b[0mdtype\u001b[0m\u001b[0;34m=\u001b[0m\u001b[0mdtype\u001b[0m\u001b[0;34m,\u001b[0m \u001b[0mname\u001b[0m\u001b[0;34m=\u001b[0m\u001b[0mname\u001b[0m\u001b[0;34m,\u001b[0m \u001b[0mas_ref\u001b[0m\u001b[0;34m=\u001b[0m\u001b[0mas_ref\u001b[0m\u001b[0;34m)\u001b[0m\u001b[0;34m\u001b[0m\u001b[0m\n\u001b[0m\u001b[1;32m    677\u001b[0m \u001b[0;34m\u001b[0m\u001b[0m\n\u001b[1;32m    678\u001b[0m         \u001b[0;32mif\u001b[0m \u001b[0mret\u001b[0m \u001b[0;32mis\u001b[0m \u001b[0mNotImplemented\u001b[0m\u001b[0;34m:\u001b[0m\u001b[0;34m\u001b[0m\u001b[0m\n",
      "\u001b[0;32m~/miniconda3/lib/python3.6/site-packages/tensorflow/python/framework/constant_op.py\u001b[0m in \u001b[0;36m_constant_tensor_conversion_function\u001b[0;34m(v, dtype, name, as_ref)\u001b[0m\n\u001b[1;32m    119\u001b[0m                                          as_ref=False):\n\u001b[1;32m    120\u001b[0m   \u001b[0m_\u001b[0m \u001b[0;34m=\u001b[0m \u001b[0mas_ref\u001b[0m\u001b[0;34m\u001b[0m\u001b[0m\n\u001b[0;32m--> 121\u001b[0;31m   \u001b[0;32mreturn\u001b[0m \u001b[0mconstant\u001b[0m\u001b[0;34m(\u001b[0m\u001b[0mv\u001b[0m\u001b[0;34m,\u001b[0m \u001b[0mdtype\u001b[0m\u001b[0;34m=\u001b[0m\u001b[0mdtype\u001b[0m\u001b[0;34m,\u001b[0m \u001b[0mname\u001b[0m\u001b[0;34m=\u001b[0m\u001b[0mname\u001b[0m\u001b[0;34m)\u001b[0m\u001b[0;34m\u001b[0m\u001b[0m\n\u001b[0m\u001b[1;32m    122\u001b[0m \u001b[0;34m\u001b[0m\u001b[0m\n\u001b[1;32m    123\u001b[0m \u001b[0;34m\u001b[0m\u001b[0m\n",
      "\u001b[0;32m~/miniconda3/lib/python3.6/site-packages/tensorflow/python/framework/constant_op.py\u001b[0m in \u001b[0;36mconstant\u001b[0;34m(value, dtype, shape, name, verify_shape)\u001b[0m\n\u001b[1;32m    104\u001b[0m   const_tensor = g.create_op(\n\u001b[1;32m    105\u001b[0m       \u001b[0;34m\"Const\"\u001b[0m\u001b[0;34m,\u001b[0m \u001b[0;34m[\u001b[0m\u001b[0;34m]\u001b[0m\u001b[0;34m,\u001b[0m \u001b[0;34m[\u001b[0m\u001b[0mdtype_value\u001b[0m\u001b[0;34m.\u001b[0m\u001b[0mtype\u001b[0m\u001b[0;34m]\u001b[0m\u001b[0;34m,\u001b[0m\u001b[0;34m\u001b[0m\u001b[0m\n\u001b[0;32m--> 106\u001b[0;31m       attrs={\"value\": tensor_value, \"dtype\": dtype_value}, name=name).outputs[0]\n\u001b[0m\u001b[1;32m    107\u001b[0m   \u001b[0;32mreturn\u001b[0m \u001b[0mconst_tensor\u001b[0m\u001b[0;34m\u001b[0m\u001b[0m\n\u001b[1;32m    108\u001b[0m \u001b[0;34m\u001b[0m\u001b[0m\n",
      "\u001b[0;32m~/miniconda3/lib/python3.6/site-packages/tensorflow/python/framework/ops.py\u001b[0m in \u001b[0;36mcreate_op\u001b[0;34m(self, op_type, inputs, dtypes, input_types, name, attrs, op_def, compute_shapes, compute_device)\u001b[0m\n\u001b[1;32m   2580\u001b[0m \u001b[0;34m\u001b[0m\u001b[0m\n\u001b[1;32m   2581\u001b[0m     \"\"\"\n\u001b[0;32m-> 2582\u001b[0;31m     \u001b[0mself\u001b[0m\u001b[0;34m.\u001b[0m\u001b[0m_check_not_finalized\u001b[0m\u001b[0;34m(\u001b[0m\u001b[0;34m)\u001b[0m\u001b[0;34m\u001b[0m\u001b[0m\n\u001b[0m\u001b[1;32m   2583\u001b[0m     \u001b[0;32mfor\u001b[0m \u001b[0midx\u001b[0m\u001b[0;34m,\u001b[0m \u001b[0ma\u001b[0m \u001b[0;32min\u001b[0m \u001b[0menumerate\u001b[0m\u001b[0;34m(\u001b[0m\u001b[0minputs\u001b[0m\u001b[0;34m)\u001b[0m\u001b[0;34m:\u001b[0m\u001b[0;34m\u001b[0m\u001b[0m\n\u001b[1;32m   2584\u001b[0m       \u001b[0;32mif\u001b[0m \u001b[0;32mnot\u001b[0m \u001b[0misinstance\u001b[0m\u001b[0;34m(\u001b[0m\u001b[0ma\u001b[0m\u001b[0;34m,\u001b[0m \u001b[0mTensor\u001b[0m\u001b[0;34m)\u001b[0m\u001b[0;34m:\u001b[0m\u001b[0;34m\u001b[0m\u001b[0m\n",
      "\u001b[0;32m~/miniconda3/lib/python3.6/site-packages/tensorflow/python/framework/ops.py\u001b[0m in \u001b[0;36m_check_not_finalized\u001b[0;34m(self)\u001b[0m\n\u001b[1;32m   2288\u001b[0m     \"\"\"\n\u001b[1;32m   2289\u001b[0m     \u001b[0;32mif\u001b[0m \u001b[0mself\u001b[0m\u001b[0;34m.\u001b[0m\u001b[0m_finalized\u001b[0m\u001b[0;34m:\u001b[0m\u001b[0;34m\u001b[0m\u001b[0m\n\u001b[0;32m-> 2290\u001b[0;31m       \u001b[0;32mraise\u001b[0m \u001b[0mRuntimeError\u001b[0m\u001b[0;34m(\u001b[0m\u001b[0;34m\"Graph is finalized and cannot be modified.\"\u001b[0m\u001b[0;34m)\u001b[0m\u001b[0;34m\u001b[0m\u001b[0m\n\u001b[0m\u001b[1;32m   2291\u001b[0m \u001b[0;34m\u001b[0m\u001b[0m\n\u001b[1;32m   2292\u001b[0m   \u001b[0;32mdef\u001b[0m \u001b[0m_add_op\u001b[0m\u001b[0;34m(\u001b[0m\u001b[0mself\u001b[0m\u001b[0;34m,\u001b[0m \u001b[0mop\u001b[0m\u001b[0;34m)\u001b[0m\u001b[0;34m:\u001b[0m\u001b[0;34m\u001b[0m\u001b[0m\n",
      "\u001b[0;31mRuntimeError\u001b[0m: Graph is finalized and cannot be modified."
     ]
    }
   ],
   "source": [
    "iterSession.run(tf.one_hot([0,1], depth=1, dtype=tf.float32))"
   ]
  },
  {
   "cell_type": "code",
   "execution_count": 97,
   "metadata": {},
   "outputs": [
    {
     "ename": "SyntaxError",
     "evalue": "invalid syntax (<ipython-input-97-5ada64ef1d8c>, line 10)",
     "output_type": "error",
     "traceback": [
      "\u001b[0;36m  File \u001b[0;32m\"<ipython-input-97-5ada64ef1d8c>\"\u001b[0;36m, line \u001b[0;32m10\u001b[0m\n\u001b[0;31m    self.Wh = tf.get_variable('Wh', shape=)\u001b[0m\n\u001b[0m                                          ^\u001b[0m\n\u001b[0;31mSyntaxError\u001b[0m\u001b[0;31m:\u001b[0m invalid syntax\n"
     ]
    }
   ],
   "source": [
    "input_dim = 1\n",
    "hidden_dim = 16\n",
    "\n",
    "class ReinfNetwork():\n",
    "    def __init__(self, s_size, scope, trainer):\n",
    "        with tf.variable_scope(scope):\n",
    "            self.event_source = tf.placeholder(dtype=tf.int64, name='Event source', shape=[1])\n",
    "            self.inp = tf.one_hot(indices=[self.event_source], depth=1, dtype=tf.float32)\n",
    "            self.cell = tf.contrib.rnn.BasicRNNCell(hidden_dim)\n",
    "            self.Wh = tf.get_variable('Wh', shape=)            "
   ]
  },
  {
   "cell_type": "code",
   "execution_count": 25,
   "metadata": {
    "collapsed": true
   },
   "outputs": [],
   "source": [
    "class Reinf(OM.Broadcaster):\n",
    "    \n",
    "    @Deco.optioned()\n",
    "    def __init__(self, src_id, seed, hidden_dim):\n",
    "        super(Reinf, self).__init__(src_id, seed)\n",
    "        self.init = False\n",
    "        \n",
    "        self.Wh = tf.get_variable()\n",
    "        \n",
    "    def get_next_interval(self, event):\n",
    "        if not self.init:\n",
    "            # Create variables here?\n",
    "            self.init = True\n",
    "        \n",
    "        self.state.apply_event(event)\n",
    "        \n",
    "        if event is None:\n",
    "            # This is the first event. Post immediately to join the party?\n",
    "            # Or hold off?\n",
    "            return np.inf\n",
    "        \n",
    "        elif event.src_id == self.src_id:\n",
    "            # We posted. Calculate reward.\n",
    "            # We would never like to post now.\n",
    "            return np.inf\n",
    "        \n",
    "        else:\n",
    "            # Update our rate of posting.\n",
    "            r_t = self.state.get_wall_rank(self.src_id, self.sink_ids,\n",
    "                                           dict_form=False)\n",
    "            # TODO: Magic.\n",
    "            #  1 - Reward for this interval?\n",
    "            #  2 - Sample the posting time again using inverse CDF\n",
    "            #  3 - New sample is guaranteed to be closer to now than\n",
    "            #      the original posting time.\n",
    "            cur_time = event.cur_time\n",
    "            t_delta_new = 10 # TODO: Take a new sample here.\n",
    "            return cur_time + t_delta_new - self.last_self_event_time\n",
    "        \n",
    "    def train(self):\n",
    "        \"\"\"Will do RL here.\"\"\"\n",
    "        pass\n",
    "            \n"
   ]
  },
  {
   "cell_type": "code",
   "execution_count": 26,
   "metadata": {
    "collapsed": true
   },
   "outputs": [],
   "source": [
    "mgr = simOpts.create_manager_with_broadcaster(Reinf(1, 100))"
   ]
  },
  {
   "cell_type": "code",
   "execution_count": 27,
   "metadata": {},
   "outputs": [
    {
     "data": {
      "text/plain": [
       "<redqueen.opt_model.Manager at 0x7fb1e9e686a0>"
      ]
     },
     "execution_count": 27,
     "metadata": {},
     "output_type": "execute_result"
    }
   ],
   "source": [
    "mgr.run_dynamic()"
   ]
  },
  {
   "cell_type": "code",
   "execution_count": 28,
   "metadata": {
    "collapsed": true
   },
   "outputs": [],
   "source": [
    "df = mgr.state.get_dataframe()"
   ]
  },
  {
   "cell_type": "code",
   "execution_count": 29,
   "metadata": {},
   "outputs": [
    {
     "data": {
      "text/html": [
       "<div>\n",
       "<table border=\"1\" class=\"dataframe\">\n",
       "  <thead>\n",
       "    <tr style=\"text-align: right;\">\n",
       "      <th></th>\n",
       "      <th>event_id</th>\n",
       "      <th>sink_id</th>\n",
       "      <th>src_id</th>\n",
       "      <th>t</th>\n",
       "      <th>time_delta</th>\n",
       "    </tr>\n",
       "  </thead>\n",
       "  <tbody>\n",
       "    <tr>\n",
       "      <th>0</th>\n",
       "      <td>100</td>\n",
       "      <td>1001</td>\n",
       "      <td>2</td>\n",
       "      <td>0.004632</td>\n",
       "      <td>0.004632</td>\n",
       "    </tr>\n",
       "    <tr>\n",
       "      <th>1</th>\n",
       "      <td>101</td>\n",
       "      <td>1001</td>\n",
       "      <td>2</td>\n",
       "      <td>0.005062</td>\n",
       "      <td>0.000430</td>\n",
       "    </tr>\n",
       "    <tr>\n",
       "      <th>2</th>\n",
       "      <td>102</td>\n",
       "      <td>1001</td>\n",
       "      <td>2</td>\n",
       "      <td>0.005522</td>\n",
       "      <td>0.000461</td>\n",
       "    </tr>\n",
       "    <tr>\n",
       "      <th>3</th>\n",
       "      <td>103</td>\n",
       "      <td>1001</td>\n",
       "      <td>2</td>\n",
       "      <td>0.006952</td>\n",
       "      <td>0.001430</td>\n",
       "    </tr>\n",
       "    <tr>\n",
       "      <th>4</th>\n",
       "      <td>104</td>\n",
       "      <td>1001</td>\n",
       "      <td>2</td>\n",
       "      <td>0.009197</td>\n",
       "      <td>0.002245</td>\n",
       "    </tr>\n",
       "  </tbody>\n",
       "</table>\n",
       "</div>"
      ],
      "text/plain": [
       "   event_id  sink_id  src_id         t  time_delta\n",
       "0       100     1001       2  0.004632    0.004632\n",
       "1       101     1001       2  0.005062    0.000430\n",
       "2       102     1001       2  0.005522    0.000461\n",
       "3       103     1001       2  0.006952    0.001430\n",
       "4       104     1001       2  0.009197    0.002245"
      ]
     },
     "execution_count": 29,
     "metadata": {},
     "output_type": "execute_result"
    }
   ],
   "source": [
    "df.head()"
   ]
  },
  {
   "cell_type": "markdown",
   "metadata": {
    "collapsed": true
   },
   "source": [
    "# ExpTrainer"
   ]
  },
  {
   "cell_type": "code",
   "execution_count": 375,
   "metadata": {
    "collapsed": true
   },
   "outputs": [],
   "source": [
    "%run -i tpprl/exp_broadcaster.py"
   ]
  },
  {
   "cell_type": "code",
   "execution_count": 376,
   "metadata": {
    "collapsed": true
   },
   "outputs": [],
   "source": [
    "tf.reset_default_graph()"
   ]
  },
  {
   "cell_type": "code",
   "execution_count": 377,
   "metadata": {
    "collapsed": true
   },
   "outputs": [],
   "source": [
    "iterSession.close()"
   ]
  },
  {
   "cell_type": "code",
   "execution_count": 378,
   "metadata": {
    "collapsed": true
   },
   "outputs": [],
   "source": [
    "iterSession = tf.Session()"
   ]
  },
  {
   "cell_type": "code",
   "execution_count": 379,
   "metadata": {
    "collapsed": true,
    "scrolled": false
   },
   "outputs": [],
   "source": [
    "hidden_dims = 10\n",
    "num_other_broadcasters = 1\n",
    "RS = np.random.RandomState(seed=42)\n",
    "\n",
    "trainer_opts = Deco.Options(\n",
    "    Wh=RS.randn(hidden_dims, hidden_dims) * 0.1 + np.diag(np.ones(hidden_dims)), # Careful initialization\n",
    "    Wm=RS.randn(num_other_broadcasters + 1, hidden_dims),\n",
    "    Wr=RS.randn(hidden_dims, 1),\n",
    "    Wt=RS.randn(hidden_dims, 1),\n",
    "    Bh=RS.randn(hidden_dims, 1),\n",
    "    \n",
    "    vt=RS.randn(hidden_dims, 1),\n",
    "    wt=np.abs(RS.rand(1)),\n",
    "    bt=RS.randn(1),\n",
    "    \n",
    "    init_h=RS.randn(hidden_dims),\n",
    "    \n",
    "    max_events=5,\n",
    "    batch_size=2\n",
    ")\n",
    "sim_opts = OM.SimOpts(\n",
    "    sink_ids=[1000],\n",
    "    src_id=1,\n",
    "    other_sources=[('Hawkes', {'src_id': 100, 'seed': 93})],\n",
    "    end_time=100.0,\n",
    "    q_vec=None,\n",
    "    s=1.0,\n",
    "    edge_list=None\n",
    ")\n",
    "\n",
    "trainer = ExpRecurrentTrainer(sim_opts=sim_opts, _opts=trainer_opts, sess=iterSession)"
   ]
  },
  {
   "cell_type": "code",
   "execution_count": 380,
   "metadata": {
    "collapsed": true
   },
   "outputs": [],
   "source": [
    "trainer.initialize(finalize=False)"
   ]
  },
  {
   "cell_type": "code",
   "execution_count": 346,
   "metadata": {},
   "outputs": [
    {
     "data": {
      "text/plain": [
       "[<tf.Variable 'ExpRecurrentTrainer/hidden_state/Wm:0' shape=(2, 10) dtype=float32_ref>,\n",
       " <tf.Variable 'ExpRecurrentTrainer/hidden_state/Wh:0' shape=(10, 10) dtype=float32_ref>,\n",
       " <tf.Variable 'ExpRecurrentTrainer/hidden_state/Wt:0' shape=(10, 1) dtype=float32_ref>,\n",
       " <tf.Variable 'ExpRecurrentTrainer/hidden_state/Wr:0' shape=(10, 1) dtype=float32_ref>,\n",
       " <tf.Variable 'ExpRecurrentTrainer/hidden_state/Bh:0' shape=(10, 1) dtype=float32_ref>,\n",
       " <tf.Variable 'ExpRecurrentTrainer/hidden_state/h:0' shape=(10, 1) dtype=float32_ref>,\n",
       " <tf.Variable 'ExpRecurrentTrainer/output/bt:0' shape=(1,) dtype=float32_ref>,\n",
       " <tf.Variable 'ExpRecurrentTrainer/output/vt:0' shape=(10, 1) dtype=float32_ref>,\n",
       " <tf.Variable 'ExpRecurrentTrainer/output/wt:0' shape=(1,) dtype=float32_ref>]"
      ]
     },
     "execution_count": 346,
     "metadata": {},
     "output_type": "execute_result"
    }
   ],
   "source": [
    "tf.get_collection(tf.GraphKeys.TRAINABLE_VARIABLES)"
   ]
  },
  {
   "cell_type": "code",
   "execution_count": 311,
   "metadata": {},
   "outputs": [],
   "source": [
    "df = trainer.run_sim(42)"
   ]
  },
  {
   "cell_type": "code",
   "execution_count": 312,
   "metadata": {},
   "outputs": [],
   "source": [
    "df2 = trainer.run_sim(43)"
   ]
  },
  {
   "cell_type": "code",
   "execution_count": 313,
   "metadata": {},
   "outputs": [
    {
     "data": {
      "text/plain": [
       "223696.51133606216"
      ]
     },
     "execution_count": 313,
     "metadata": {},
     "output_type": "execute_result"
    }
   ],
   "source": [
    "trainer.reward_fn(df)"
   ]
  },
  {
   "cell_type": "code",
   "execution_count": 327,
   "metadata": {
    "collapsed": true
   },
   "outputs": [],
   "source": [
    "f_d = trainer.get_feed_dict([df, df2])"
   ]
  },
  {
   "cell_type": "code",
   "execution_count": 315,
   "metadata": {},
   "outputs": [
    {
     "data": {
      "text/plain": [
       "array([ 0.71217924], dtype=float32)"
      ]
     },
     "execution_count": 315,
     "metadata": {},
     "output_type": "execute_result"
    }
   ],
   "source": [
    "trainer.sess.run(trainer.tf_wt)"
   ]
  },
  {
   "cell_type": "code",
   "execution_count": 316,
   "metadata": {},
   "outputs": [
    {
     "data": {
      "text/plain": [
       "array([ 1.12259722,  1.34741533], dtype=float32)"
      ]
     },
     "execution_count": 316,
     "metadata": {},
     "output_type": "execute_result"
    }
   ],
   "source": [
    "trainer.sess.run(trainer.loss, feed_dict=f_d)"
   ]
  },
  {
   "cell_type": "code",
   "execution_count": 317,
   "metadata": {},
   "outputs": [
    {
     "data": {
      "text/plain": [
       "array([-77.3717804 , -77.38252258], dtype=float32)"
      ]
     },
     "execution_count": 317,
     "metadata": {},
     "output_type": "execute_result"
    }
   ],
   "source": [
    "trainer.sess.run(trainer.LL, feed_dict=f_d)"
   ]
  },
  {
   "cell_type": "code",
   "execution_count": 318,
   "metadata": {
    "collapsed": true
   },
   "outputs": [],
   "source": [
    "h_states, LL_log_terms, LL_int_terms, loss_terms = \\\n",
    "    trainer.sess.run([trainer.h_states, trainer.LL_log_terms, trainer.LL_int_terms, trainer.loss_terms],\n",
    "                     feed_dict=f_d)"
   ]
  },
  {
   "cell_type": "code",
   "execution_count": 243,
   "metadata": {
    "collapsed": true
   },
   "outputs": [
    {
     "data": {
      "text/plain": [
       "[array([[-0.56857789,  0.87188947, -0.97570437,  0.4127129 , -0.24575326,\n",
       "          0.92805529, -0.92910945, -0.90461588,  0.75090462, -0.36737645],\n",
       "        [ 0.06203905,  0.86417949, -0.9371953 ,  0.21917151,  0.1670471 ,\n",
       "          0.73383152, -0.86028886, -0.87407959,  0.53977203,  0.17443067]], dtype=float32),\n",
       " array([[-0.74964964,  0.97515643, -0.99486661,  0.66084003, -0.32035458,\n",
       "          0.98164982, -0.98546612, -0.98095316,  0.91558212, -0.49091104],\n",
       "        [-0.77941978,  0.97574413, -0.99785733,  0.67731714, -0.33509138,\n",
       "          0.99347496, -0.99188447, -0.98559117,  0.9382813 , -0.5049631 ]], dtype=float32),\n",
       " array([[-0.80943024,  0.97978187, -0.99508929,  0.76674902, -0.37377241,\n",
       "          0.98172915, -0.98583323, -0.9824326 ,  0.93501163, -0.56479216],\n",
       "        [-0.82032669,  0.97925359, -0.99489534,  0.77671045, -0.38317883,\n",
       "          0.9840281 , -0.98722285, -0.98348629,  0.93988305, -0.58258569]], dtype=float32),\n",
       " array([[-0.56394756,  0.97877687, -0.98936826,  0.74856478, -0.11692111,\n",
       "          0.94892913, -0.97703391, -0.97873038,  0.89387953, -0.27258775],\n",
       "        [-0.94484222,  0.98008966, -0.99765652,  0.8622061 , -0.66138029,\n",
       "          0.99519044, -0.99303907, -0.98704523,  0.96737975, -0.83921206]], dtype=float32),\n",
       " array([[-0.9105041 ,  0.98007149, -0.99768698,  0.85919601, -0.49465716,\n",
       "          0.99467331, -0.99277467, -0.98711145,  0.96419621, -0.71842873],\n",
       "        [-1.        ,  0.99190903, -1.        ,  0.99975741, -0.99999875,\n",
       "          1.        , -0.99999976, -0.99981594,  0.99999934, -1.        ]], dtype=float32),\n",
       " array([[-1.        ,  0.99197996, -1.        ,  0.99976343, -0.99999833,\n",
       "          1.        , -0.99999976, -0.99981636,  0.99999934, -1.        ],\n",
       "        [-0.96277094,  0.98042709, -0.99767888,  0.90531814, -0.887187  ,\n",
       "          0.99597216, -0.99377102, -0.98724675,  0.97233683, -0.93208247]], dtype=float32),\n",
       " array([[-0.96334457,  0.98077917, -0.99774301,  0.90781647, -0.88842976,\n",
       "          0.99579215, -0.9936468 , -0.98710239,  0.97228241, -0.9314186 ],\n",
       "        [-0.8195405 ,  0.97812647, -0.99298996,  0.81947964, -0.67943341,\n",
       "          0.98159468, -0.98637825, -0.98235524,  0.93493593, -0.75740898]], dtype=float32),\n",
       " array([[-0.82229251,  0.97852999, -0.99318463,  0.82482374, -0.68324482,\n",
       "          0.9807716 , -0.98610538, -0.98214883,  0.93480408, -0.75496823],\n",
       "        [-0.99725074,  0.98152083, -0.99968207,  0.94221669, -0.962376  ,\n",
       "          0.99981326, -0.99864954, -0.99329227,  0.99347532, -0.98984408]], dtype=float32),\n",
       " array([[-0.99730814,  0.98186332, -0.99969107,  0.944345  , -0.96308523,\n",
       "          0.99980462, -0.99862206, -0.99321169,  0.99346101, -0.98969173],\n",
       "        [-0.94200104,  0.97855449, -0.9966681 ,  0.8718074 , -0.84387946,\n",
       "          0.99472129, -0.99277705, -0.98648828,  0.96571022, -0.90856957]], dtype=float32),\n",
       " array([[-0.94288784,  0.9789499 , -0.99676043,  0.87562245, -0.8457619 ,\n",
       "          0.99448556, -0.99263316, -0.98633182,  0.96564186, -0.90766031],\n",
       "        [-0.7665168 ,  0.97660476, -0.99124277,  0.78180373, -0.61006427,\n",
       "          0.98029667, -0.98577136, -0.982274  ,  0.92752862, -0.7177043 ]], dtype=float32),\n",
       " array([[-0.77009392,  0.97703725, -0.99148661,  0.78862578, -0.61490941,\n",
       "          0.97941399, -0.98548645, -0.98206508,  0.92738044, -0.71480942],\n",
       "        [-0.95151144,  0.97789121, -0.99773037,  0.85109228, -0.79285926,\n",
       "          0.99746895, -0.99492019, -0.98863995,  0.97256577, -0.90990919]], dtype=float32),\n",
       " array([[-0.9525755 ,  0.97830099, -0.99779481,  0.85671788, -0.79681122,\n",
       "          0.99735105, -0.9948172 , -0.98850286,  0.97250551, -0.90853375],\n",
       "        [-0.99908662,  0.98103964, -0.99981034,  0.95350623, -0.98126596,\n",
       "          0.99993795, -0.99922025, -0.99467945,  0.99624896, -0.99646586]], dtype=float32),\n",
       " array([[-0.99910271,  0.98139125, -0.99981564,  0.9552508 , -0.98162651,\n",
       "          0.99993515, -0.99920464, -0.99461579,  0.99624115, -0.99642032],\n",
       "        [-0.96628952,  0.97755307, -0.99755383,  0.88303542, -0.88789153,\n",
       "          0.99760032, -0.99511111, -0.9886362 ,  0.97538012, -0.94576508]], dtype=float32),\n",
       " array([[-0.96680909,  0.9779672 , -0.9976216 ,  0.88645589, -0.88920259,\n",
       "          0.99749297, -0.99501359, -0.98850507,  0.97533101, -0.94522643],\n",
       "        [-0.99669808,  0.97925955, -0.99951667,  0.93231583, -0.96619058,\n",
       "          0.99979448, -0.99857032, -0.99316531,  0.99273497, -0.99108899]], dtype=float32),\n",
       " array([[-0.9967528 ,  0.97964424, -0.9995302 ,  0.93455541, -0.96666467,\n",
       "          0.99978524, -0.99854159, -0.99308485,  0.99271977, -0.99098957],\n",
       "        [-0.99551201,  0.97867107, -0.99937087,  0.92969489, -0.96389258,\n",
       "          0.99972117, -0.99833995, -0.99274385,  0.99158281, -0.98935235]], dtype=float32),\n",
       " array([[-0.99558246,  0.97906584, -0.99938834,  0.93186474, -0.96433967,\n",
       "          0.99970865, -0.99830675, -0.99265957,  0.99156576, -0.98924309],\n",
       "        [-0.9999758 ,  0.98271734, -0.99998218,  0.98492169, -0.99833143,\n",
       "          0.99999857, -0.99988461, -0.99757761,  0.99945968, -0.99983418]], dtype=float32),\n",
       " array([[-0.99997616,  0.98303819, -0.99998266,  0.98539793, -0.99835235,\n",
       "          0.99999851, -0.99988228, -0.99754941,  0.99945861, -0.99983251],\n",
       "        [-0.82998246,  0.97417372, -0.99168837,  0.80608881, -0.72720313,\n",
       "          0.98979539, -0.98977548, -0.98485696,  0.94390273, -0.82351029]], dtype=float32),\n",
       " array([[-0.83242542,  0.97464883, -0.99191749,  0.8111062 , -0.7299664 ,\n",
       "          0.98934084, -0.98957205, -0.98468453,  0.94379371, -0.82188207],\n",
       "        [-0.90253121,  0.97414172, -0.99542505,  0.7901274 , -0.7317732 ,\n",
       "          0.99615479, -0.99362808, -0.98769784,  0.96161556, -0.87953258]], dtype=float32),\n",
       " array([[-0.90441805,  0.97462261, -0.99555427,  0.79715598, -0.73576486,\n",
       "          0.99597931, -0.99349952, -0.98755151,  0.96153331, -0.87801462],\n",
       "        [-0.73182207,  0.97228456, -0.98914701,  0.69262934, -0.51075983,\n",
       "          0.98751569, -0.98842382, -0.98436171,  0.93032092, -0.73683733]], dtype=float32),\n",
       " array([[-0.73628581,  0.97279876, -0.98945075,  0.70337838, -0.51801097,\n",
       "          0.98695582, -0.98819327, -0.98417467,  0.93017709, -0.73382956],\n",
       "        [-0.69848025,  0.97170383, -0.99022949,  0.65137303, -0.38551024,\n",
       "          0.99029881, -0.98971444, -0.98540819,  0.93385869, -0.7133646 ]], dtype=float32),\n",
       " array([[-0.70467246,  0.97222924, -0.99050784,  0.66533279, -0.39662793,\n",
       "          0.98985523, -0.98950887, -0.98522937,  0.93371677, -0.70939302],\n",
       "        [-0.91644394,  0.972866  , -0.99636167,  0.73998266, -0.61542451,\n",
       "          0.99790549, -0.99522477, -0.98949212,  0.96932745, -0.89870268]], dtype=float32),\n",
       " array([[-0.91863686,  0.97337067, -0.9964658 ,  0.75230265, -0.62586021,\n",
       "          0.99780977, -0.99512994, -0.98936057,  0.96926194, -0.89695698],\n",
       "        [-0.99993378,  0.97971159, -0.99996418,  0.9677254 , -0.9944402 ,\n",
       "          0.99999768, -0.99984759, -0.99740607,  0.99916708, -0.99965912]], dtype=float32),\n",
       " array([[-0.99993503,  0.98009068, -0.99996519,  0.96934462, -0.99461734,\n",
       "          0.99999756, -0.99984455, -0.99737358,  0.99916536, -0.99965447],\n",
       "        [-0.92480552,  0.97226959, -0.99489677,  0.82147443, -0.82379836,\n",
       "          0.99698579, -0.99439597, -0.98839647,  0.96611738, -0.9184432 ]], dtype=float32),\n",
       " array([[-0.92593873,  0.97278136, -0.99503779,  0.82649082, -0.82573199,\n",
       "          0.99685109, -0.99428439, -0.98826349,  0.96605045, -0.91765118],\n",
       "        [-0.65205872,  0.96930861, -0.9849726 ,  0.64782393, -0.49595067,\n",
       "          0.98682994, -0.98800844, -0.98427325,  0.92155111, -0.71592987]], dtype=float32),\n",
       " array([[-0.65718031,  0.96987957, -0.98539174,  0.65870565, -0.50181562,\n",
       "          0.9862408 , -0.98776907, -0.98408771,  0.92139035, -0.71307933],\n",
       "        [-0.87511694,  0.97048116, -0.99505228,  0.69061029, -0.6191237 ,\n",
       "          0.99768478, -0.99494869, -0.9892996 ,  0.96429515, -0.88137782]], dtype=float32),\n",
       " array([[-0.87809438,  0.97103101, -0.99519485,  0.70335609, -0.62632412,\n",
       "          0.99757838, -0.99484724, -0.98916894,  0.96421528, -0.87960714],\n",
       "        [-0.51506621,  0.96755803, -0.98058593,  0.51605833, -0.23927535,\n",
       "          0.98395753, -0.98659605, -0.9839561 ,  0.90904522, -0.63928652]], dtype=float32),\n",
       " array([[-0.52287006,  0.96815956, -0.98113054,  0.53530681, -0.25154069,\n",
       "          0.98324186, -0.98633254, -0.9837594 ,  0.90885991, -0.635252  ],\n",
       "        [-0.80043221,  0.96880788, -0.99389321,  0.57887554, -0.37797934,\n",
       "          0.99739325, -0.99457091, -0.98928756,  0.95937151, -0.84372729]], dtype=float32),\n",
       " array([[-0.80589962,  0.96938699, -0.99407208,  0.60042179, -0.39341357,\n",
       "          0.99727273, -0.99446321, -0.98915082,  0.95928043, -0.84109724],\n",
       "        [-0.87498522,  0.9685576 , -0.99372101,  0.60481179, -0.47168469,\n",
       "          0.99742824, -0.99461347, -0.98924375,  0.96228319, -0.89024961]], dtype=float32),\n",
       " array([[-0.87800366,  0.96914101, -0.99390018,  0.62669742, -0.4880203 ,\n",
       "          0.99731249, -0.99450886, -0.98910427,  0.96220559, -0.88865119],\n",
       "        [-0.62152278,  0.97894841, -0.98987854,  0.66063809, -0.21953969,\n",
       "          0.94948149, -0.97628802, -0.97807837,  0.89888233, -0.55088586]], dtype=float32),\n",
       " array([[-0.98267096,  0.97115612, -0.99826485,  0.77556849, -0.82655102,\n",
       "          0.99960452, -0.99791288, -0.99263948,  0.98584199, -0.9763521 ],\n",
       "        [-0.97954881,  0.98185235, -0.9991203 ,  0.89086699, -0.78258646,\n",
       "          0.99857789, -0.99629068, -0.99004388,  0.98257077, -0.93810666]], dtype=float32),\n",
       " array([[-0.56172061,  0.96600413, -0.97859126,  0.54138499, -0.39666605,\n",
       "          0.98539621, -0.98725271, -0.98422027,  0.91180146, -0.69236064],\n",
       "        [-0.68366897,  0.97897673, -0.98967779,  0.79515553, -0.48531795,\n",
       "          0.95511627, -0.97874147, -0.9787631 ,  0.90662497, -0.59400201]], dtype=float32),\n",
       " array([[-0.39461342,  0.96511811, -0.98257166,  0.40296096, -0.11595744,\n",
       "          0.99065799, -0.98962915, -0.9860009 ,  0.91776502, -0.63021564],\n",
       "        [-0.62956011,  0.97849888, -0.99182993,  0.77928042, -0.34481791,\n",
       "          0.96937877, -0.98254961, -0.9809038 ,  0.9127757 , -0.47201422]], dtype=float32),\n",
       " array([[-0.6574738 ,  0.96580875, -0.99148202,  0.41675958, -0.15504903,\n",
       "          0.99703032, -0.99411482, -0.98920202,  0.95318317, -0.80669439],\n",
       "        [-0.84049624,  0.97893262, -0.99602407,  0.82774055, -0.49286348,\n",
       "          0.99036098, -0.99015647, -0.98515278,  0.95040411, -0.67982066]], dtype=float32),\n",
       " array([[-0.55271542,  0.96420372, -0.98478848,  0.3045654 ,  0.0631572 ,\n",
       "          0.99343628, -0.99120456, -0.98726571,  0.93277526, -0.74550903],\n",
       "        [-0.7632978 ,  0.97798467, -0.9928056 ,  0.79487026, -0.40272433,\n",
       "          0.97934902, -0.98542881, -0.98238271,  0.9291833 , -0.60766387]], dtype=float32),\n",
       " array([[-0.38176569,  0.9628967 , -0.98156106,  0.15657502,  0.33503893,\n",
       "          0.99217886, -0.99028546, -0.9869985 ,  0.92198092, -0.67556226],\n",
       "        [-0.66959453,  0.9772355 , -0.99134731,  0.7639246 , -0.26213285,\n",
       "          0.97501963, -0.98391652, -0.98183262,  0.91782731, -0.50204629]], dtype=float32),\n",
       " array([[-0.38219699,  0.97858423, -0.99155784,  0.38419816,  0.44278052,\n",
       "          0.96358579, -0.97937346, -0.98063111,  0.90661561, -0.49042708],\n",
       "        [-0.57784808,  0.97652066, -0.99044681,  0.73842442, -0.09585823,\n",
       "          0.97356153, -0.98337996, -0.98186707,  0.91187859, -0.39123115]], dtype=float32),\n",
       " array([[-0.22832453,  0.97835428, -0.98937666,  0.53773117,  0.59181517,\n",
       "          0.94950825, -0.97673178, -0.97991925,  0.88879544, -0.21610987],\n",
       "        [-0.97616452,  0.97909933, -0.99896765,  0.8880645 , -0.71910262,\n",
       "          0.99905515, -0.99689478, -0.99104321,  0.98361826, -0.92427808]], dtype=float32),\n",
       " array([[-0.95695913,  0.98086435, -0.99911904,  0.862427  , -0.25738505,\n",
       "          0.99873203, -0.99642289, -0.99081999,  0.98250628, -0.88834351],\n",
       "        [-0.85614669,  0.97699738, -0.99366915,  0.81374156, -0.61926174,\n",
       "          0.98770684, -0.98879546, -0.98412287,  0.94457066, -0.8017686 ]], dtype=float32),\n",
       " array([[-0.86380857,  0.97909158, -0.99467003,  0.83382285, -0.29546157,\n",
       "          0.98418796, -0.98728454, -0.98344475,  0.94342405, -0.77755958],\n",
       "        [-0.95300972,  0.9778074 , -0.99750793,  0.85354906, -0.77925491,\n",
       "          0.99710357, -0.99455178, -0.98827928,  0.97132874, -0.91416168]], dtype=float32),\n",
       " array([[-0.95783842,  0.97991347, -0.99790728,  0.88003159, -0.64118707,\n",
       "          0.99623519, -0.99382025, -0.98765802,  0.9707768 , -0.90500033],\n",
       "        [-0.6193738 ,  0.97506982, -0.98640138,  0.72484106, -0.43446666,\n",
       "          0.96855128, -0.98185515, -0.98066306,  0.90491432, -0.60033143]], dtype=float32),\n",
       " array([[-0.65049595,  0.9775787 , -0.98853344,  0.77363276, -0.3494699 ,\n",
       "          0.95935017, -0.97952795, -0.97942996,  0.90350819, -0.57496607],\n",
       "        [-0.34606251,  0.97398931, -0.98518479,  0.64852369, -0.1101209 ,\n",
       "          0.96725136, -0.98138088, -0.98105317,  0.89006823, -0.353845  ]], dtype=float32),\n",
       " array([[-0.41278499,  0.97664344, -0.98756129,  0.71931684, -0.06271175,\n",
       "          0.95694655, -0.97895908, -0.97976989,  0.88837928, -0.30466804],\n",
       "        [-0.92810929,  0.97645009, -0.99819082,  0.82205087, -0.61419761,\n",
       "          0.99862099, -0.99621058, -0.99044931,  0.97706473, -0.87926269]], dtype=float32),\n",
       " array([[-0.94225621,  0.97886449, -0.99848551,  0.86636835, -0.60793048,\n",
       "          0.99817336, -0.99571753, -0.98978353,  0.97670108, -0.86004502],\n",
       "        [-0.99999267,  0.98372179, -0.99999291,  0.98790026, -0.99849516,\n",
       "          0.99999958, -0.99993873, -0.99817312,  0.99971908, -0.99992657]], dtype=float32),\n",
       " array([[-0.9999935 ,  0.98542839, -0.99999404,  0.99062359, -0.99858159,\n",
       "          0.99999946, -0.99993098, -0.99804163,  0.99971545, -0.99991894],\n",
       "        [-0.98283178,  0.97715801, -0.99838722,  0.90382433, -0.92572612,\n",
       "          0.99898481, -0.99681878, -0.99059618,  0.98335689, -0.97034991]], dtype=float32),\n",
       " array([[-0.98437309,  0.97956204, -0.99863702,  0.91853249, -0.93061346,\n",
       "          0.99867988, -0.99641818, -0.98993421,  0.98315805, -0.96853143],\n",
       "        [-0.69269776,  0.97315097, -0.9870984 ,  0.73462743, -0.57994092,\n",
       "          0.98076797, -0.98579627, -0.98262298,  0.92006266, -0.70901805]], dtype=float32),\n",
       " array([[-0.71721256,  0.97599679, -0.98909646,  0.77685201, -0.60593748,\n",
       "          0.97504491, -0.98401213, -0.98137516,  0.91910738, -0.69272804],\n",
       "        [-0.96302396,  0.97533846, -0.99806249,  0.83267695, -0.82309949,\n",
       "          0.99890947, -0.99661958, -0.99063396,  0.97918504, -0.94314158]], dtype=float32),\n",
       " array([[-0.967857  ,  0.97796375, -0.9983719 ,  0.86747193, -0.84191722,\n",
       "          0.9985655 , -0.99618596, -0.98993528,  0.97890431, -0.9377684 ],\n",
       "        [-0.9202565 ,  0.9738462 , -0.99523336,  0.79204762, -0.764723  ,\n",
       "          0.99621361, -0.99369711, -0.98774844,  0.96345836, -0.90169436]], dtype=float32),\n",
       " array([[-0.92780817,  0.97662115, -0.99597681,  0.83223665, -0.78622472,\n",
       "          0.99507505, -0.99290651, -0.98684961,  0.96300828, -0.89482927],\n",
       "        [-0.74950898,  0.97188914, -0.98927331,  0.69084716, -0.54232728,\n",
       "          0.988711  , -0.98898125, -0.984685  ,  0.93274963, -0.75897849]], dtype=float32),\n",
       " array([[-0.77236754,  0.9748733 , -0.99095184,  0.75018901, -0.58109969,\n",
       "          0.98530996, -0.98759609, -0.98355311,  0.93191344, -0.74282146],\n",
       "        [-0.94084936,  0.97332847, -0.99694431,  0.77298397, -0.73886883,\n",
       "          0.99836791, -0.99580914, -0.98991275,  0.97313786, -0.9235273 ]], dtype=float32),\n",
       " array([[-0.94830942,  0.97616583, -0.9974311 ,  0.82442081, -0.77067691,\n",
       "          0.99786329, -0.99527824, -0.98914939,  0.97278297, -0.91640806],\n",
       "        [-0.77804911,  0.97100663, -0.98963088,  0.67622244, -0.54227078,\n",
       "          0.99091244, -0.99008518, -0.98548973,  0.93829882, -0.79165483]], dtype=float32),\n",
       " array([[-0.7985003 ,  0.9740842 , -0.99125099,  0.74292284, -0.58776069,\n",
       "          0.98818493, -0.98884863, -0.98440725,  0.93754387, -0.77731389],\n",
       "        [-0.89077592,  0.9715361 , -0.99490923,  0.70815891, -0.62812519,\n",
       "          0.99710244, -0.99437094, -0.98869336,  0.9626646 , -0.88335222]], dtype=float32),\n",
       " array([[-0.90377676,  0.97456568, -0.99571925,  0.77528673, -0.67448008,\n",
       "          0.99621218, -0.993662  , -0.98783118,  0.96217984, -0.87317276],\n",
       "        [-0.85787934,  0.97056705, -0.99277353,  0.67801476, -0.58533263,\n",
       "          0.9955101 , -0.99298722, -0.98759943,  0.95426548, -0.85968482]], dtype=float32),\n",
       " array([[-0.8727693 ,  0.97369719, -0.99391091,  0.75121337, -0.63626814,\n",
       "          0.99415344, -0.99211305, -0.98665619,  0.9536953 , -0.84877914],\n",
       "        [-0.90725982,  0.97063577, -0.99481213,  0.69804728, -0.65329504,\n",
       "          0.997473  , -0.99472845, -0.98903865,  0.96473992, -0.90252477]], dtype=float32),\n",
       " array([[-0.91749024,  0.97376198, -0.99563301,  0.76977491, -0.69980687,\n",
       "          0.99670535, -0.99407005, -0.9881978 ,  0.96429288, -0.8946144 ],\n",
       "        [-0.98240161,  0.97222692, -0.99824435,  0.80610198, -0.86710221,\n",
       "          0.99952012, -0.99772239, -0.99222094,  0.98510355, -0.97452807]], dtype=float32),\n",
       " array([[-0.98426682,  0.9751842 , -0.99852139,  0.85396826, -0.88594067,\n",
       "          0.99937493, -0.99743825, -0.99162591,  0.98491472, -0.97253954],\n",
       "        [-0.99567986,  0.97348875, -0.99925506,  0.88586074, -0.9566493 ,\n",
       "          0.99987203, -0.99884093, -0.99403429,  0.99268711, -0.9920103 ]], dtype=float32),\n",
       " array([[-0.99607885,  0.9763065 , -0.99937159,  0.91106236, -0.9609971 ,\n",
       "          0.99983352, -0.99869591, -0.99359274,  0.99259567, -0.99148208],\n",
       "        [-0.99945414,  0.97540563, -0.99981409,  0.94484782, -0.98899579,\n",
       "          0.99998438, -0.99960095, -0.99613607,  0.9975583 , -0.99850851]], dtype=float32),\n",
       " array([[-0.99950355,  0.97802442, -0.99984306,  0.95541507, -0.98982894,\n",
       "          0.99997973, -0.99955076, -0.99585682,  0.99752808, -0.99841416],\n",
       "        [-0.99921125,  0.97463548, -0.99975628,  0.94369954, -0.98709631,\n",
       "          0.99997866, -0.99953276, -0.99588645,  0.99708796, -0.99806386]], dtype=float32),\n",
       " array([[-0.99928248,  0.97733653, -0.99979413,  0.95317769, -0.98798871,\n",
       "          0.99997222, -0.99947387, -0.99559343,  0.99705255, -0.99794304],\n",
       "        [-0.96284306,  0.96940386, -0.99649066,  0.82332814, -0.87823707,\n",
       "          0.99903709, -0.99679393, -0.99096268,  0.9782306 , -0.95988393]], dtype=float32),\n",
       " array([[-0.96614599,  0.97265989, -0.99703461,  0.85122657, -0.88623911,\n",
       "          0.99874789, -0.9963904 , -0.99032062,  0.97796869, -0.95742863],\n",
       "        [-0.90757072,  0.96733135, -0.99346572,  0.71839184, -0.76230466,\n",
       "          0.99783581, -0.99512029, -0.9893502 ,  0.9649213 , -0.91739959]], dtype=float32),\n",
       " array([[-0.91604841,  0.9708221 , -0.99448586,  0.76824981, -0.77982688,\n",
       "          0.99718493, -0.994506  , -0.98857671,  0.96448517, -0.91207296],\n",
       "        [-0.9968015 ,  0.97132629, -0.99939543,  0.86848116, -0.95866656,\n",
       "          0.99993932, -0.99919015, -0.99496889,  0.99428165, -0.99439716]], dtype=float32),\n",
       " array([[-0.99713504,  0.97439384, -0.99949086,  0.89770877, -0.96272916,\n",
       "          0.99992102, -0.99908823, -0.99459535,  0.99420732, -0.99398643],\n",
       "        [-0.65759367,  0.96409202, -0.98113137,  0.60019606, -0.55704033,\n",
       "          0.99127656, -0.99015397, -0.98586649,  0.92765617, -0.77274609]], dtype=float32),\n",
       " array([[-0.68363249,  0.96790653, -0.98404723,  0.6676569 , -0.58355367,\n",
       "          0.98867124, -0.98892438, -0.98485094,  0.92679262, -0.7601366 ],\n",
       "        [-0.28057504,  0.9619891 , -0.97488731,  0.35325983, -0.13521485,\n",
       "          0.98856467, -0.98845136, -0.98537022,  0.90403366, -0.59713632]], dtype=float32),\n",
       " array([[-0.34588781,  0.96604663, -0.97891134,  0.4777635 , -0.19542159,\n",
       "          0.98507953, -0.98699683, -0.98427308,  0.90277368, -0.56892824],\n",
       "        [ 0.09984718,  0.96062547, -0.97334135,  0.11059851,  0.28112423,\n",
       "          0.9890002 , -0.98850346, -0.98597294,  0.89893615, -0.47369286]], dtype=float32),\n",
       " array([[-0.0107137 ,  0.96480507, -0.9777146 ,  0.30807799,  0.19069386,\n",
       "          0.98562235, -0.98707199, -0.98487866,  0.89756227, -0.42729273],\n",
       "        [-0.92505056,  0.96613801, -0.99843222,  0.46415782, -0.49632058,\n",
       "          0.99984568, -0.99864531, -0.99438822,  0.98828107, -0.96874928]], dtype=float32),\n",
       " array([[-0.94448358,  0.96969366, -0.99869722,  0.65398568, -0.58557773,\n",
       "          0.99979806, -0.99847883, -0.99393141,  0.98811275, -0.963696  ],\n",
       "        [-0.67435253,  0.96140152, -0.98206264,  0.27240732, -0.21982758,\n",
       "          0.99433982, -0.99185193, -0.98763263,  0.93593222, -0.80854034]], dtype=float32),\n",
       " array([[-0.70769286,  0.96542251, -0.98490441,  0.50115412, -0.33408344,\n",
       "          0.99264687, -0.99087864, -0.98661947,  0.9351427 , -0.79607427],\n",
       "        [-0.99445564,  0.96749568, -0.99925733,  0.66668457, -0.87589926,\n",
       "          0.99995333, -0.99926424, -0.99548924,  0.99398696, -0.99344575]], dtype=float32),\n",
       " array([[-0.99524647,  0.97089767, -0.99937981,  0.80566943, -0.90636629,\n",
       "          0.99993914, -0.99917573, -0.99510241,  0.9939037 , -0.99286777],\n",
       "        [-0.72619575,  0.96054018, -0.98241675,  0.43402648, -0.54910183,\n",
       "          0.99529439, -0.99264789, -0.98787129,  0.94035131, -0.83300012]], dtype=float32),\n",
       " array([[-0.74724913,  0.96463424, -0.98517835,  0.59559023, -0.59330261,\n",
       "          0.99389023, -0.99175376, -0.98693609,  0.93959218, -0.82342863],\n",
       "        [-0.99195737,  0.96581525, -0.99894184,  0.69982398, -0.9122259 ,\n",
       "          0.99993342, -0.99912578, -0.99506015,  0.9925552 , -0.99132472]], dtype=float32),\n",
       " array([[-0.99294835,  0.96939838, -0.99911487,  0.80434161, -0.92464948,\n",
       "          0.99991328, -0.99901813, -0.99466705,  0.99244875, -0.99061555],\n",
       "        [-0.58727497,  0.95815241, -0.97467083,  0.37958831, -0.46680206,\n",
       "          0.99320233, -0.99111861, -0.98692238,  0.92492276, -0.77176034]], dtype=float32),\n",
       " array([[-0.61711371,  0.96252829, -0.9786216 ,  0.52778322, -0.5033251 ,\n",
       "          0.99117619, -0.99002796, -0.98594266,  0.9239766 , -0.75906587],\n",
       "        [-0.99081933,  0.96455777, -0.99898839,  0.67080235, -0.90518236,\n",
       "          0.9999488 , -0.99922901, -0.99537069,  0.99302638, -0.99165064]], dtype=float32),\n",
       " array([[-0.99209362,  0.96829557, -0.99915582,  0.77904844, -0.91738212,\n",
       "          0.99993324, -0.99913329, -0.9950068 ,  0.99292445, -0.99091136],\n",
       "        [-0.99571496,  0.96477044, -0.99900758,  0.79333639, -0.95783496,\n",
       "          0.99994993, -0.99925208, -0.99530047,  0.99385977, -0.99455577]], dtype=float32),\n",
       " array([[-0.99609917,  0.96847034, -0.99916404,  0.8542186 , -0.96158808,\n",
       "          0.99993497, -0.99915993, -0.99494654,  0.99377936, -0.99421227],\n",
       "        [-0.96861202,  0.96080303, -0.99601471,  0.70767665, -0.87957782,\n",
       "          0.99964833, -0.99800014, -0.99292809,  0.98266608, -0.97416753]], dtype=float32),\n",
       " array([[-0.9713828 ,  0.96496207, -0.996638  ,  0.77266151, -0.88812762,\n",
       "          0.99954289, -0.99775106, -0.99241078,  0.98244721, -0.97257018],\n",
       "        [-0.98701042,  0.96142429, -0.99785584,  0.73096514, -0.91786015,\n",
       "          0.99987102, -0.99878556, -0.99428314,  0.98926884, -0.98747945]], dtype=float32),\n",
       " array([[-0.98822123,  0.96554935, -0.99819332,  0.79291213, -0.92449909,\n",
       "          0.99983233, -0.99863404, -0.99386066,  0.9891305 , -0.98666626],\n",
       "        [-0.99967188,  0.96657443, -0.99982148,  0.90498739, -0.99088895,\n",
       "          0.99999684, -0.99981332, -0.99735403,  0.99844736, -0.99933755]], dtype=float32),\n",
       " array([[-0.99970174,  0.97015685, -0.9998495 ,  0.92810434, -0.99161911,\n",
       "          0.99999589, -0.99979001, -0.99715912,  0.99842751, -0.99929535],\n",
       "        [-0.81689787,  0.95532334, -0.9852609 ,  0.58869815, -0.69379628,\n",
       "          0.99813712, -0.99534601, -0.99006456,  0.95662713, -0.90023965]], dtype=float32),\n",
       " array([[-0.83198833,  0.96009547, -0.98753917,  0.65426064, -0.71200168,\n",
       "          0.99757832, -0.9947629 , -0.98935634,  0.95610648, -0.89435387],\n",
       "        [-0.75814873,  0.95355904, -0.98488873,  0.34529948, -0.51894164,\n",
       "          0.99832743, -0.99550033, -0.99043709,  0.95449907, -0.88637292]], dtype=float32),\n",
       " array([[-0.78312629,  0.95856911, -0.98730022,  0.46925879, -0.55697197,\n",
       "          0.9978236 , -0.99493688, -0.98972511,  0.95390546, -0.87840658],\n",
       "        [-0.77703238,  0.95311767, -0.98650199,  0.13872822, -0.43042648,\n",
       "          0.99871421, -0.99601704, -0.99111855,  0.95920599, -0.90188837]], dtype=float32),\n",
       " array([[-0.80349046,  0.95813155, -0.98868018,  0.3331216 , -0.48826495,\n",
       "          0.99832743, -0.99552572, -0.99043113,  0.95865762, -0.89455944],\n",
       "        [-0.68055105,  0.9515664 , -0.98120451, -0.14487869, -0.23058133,\n",
       "          0.99808097, -0.99508613, -0.99048698,  0.9493587 , -0.86827809]], dtype=float32),\n",
       " array([[-0.71681356,  0.95665902, -0.98425204,  0.12960066, -0.31662446,\n",
       "          0.99750566, -0.99449199, -0.98971814,  0.94866562, -0.85883355],\n",
       "        [-0.68477482,  0.95112067, -0.98299569, -0.3852694 , -0.09502023,\n",
       "          0.99852115, -0.99563557, -0.99117225,  0.95387906, -0.88168621]], dtype=float32),\n",
       " array([[-0.72472608,  0.95617753, -0.98581159, -0.05087545, -0.21320973,\n",
       "          0.99807769, -0.99511784, -0.99042058,  0.95321816, -0.87267137],\n",
       "        [-0.72560263,  0.95078236, -0.98430955, -0.55966163, -0.0029084 ,\n",
       "          0.99879634, -0.99602789, -0.99168766,  0.95801091, -0.89874691]], dtype=float32),\n",
       " array([[-0.76225579,  0.95582128, -0.98692232, -0.21460314, -0.15475094,\n",
       "          0.9984358 , -0.99556577, -0.99094802,  0.95740706, -0.89106119],\n",
       "        [-0.99949765,  0.96211255, -0.99979407,  0.15472582, -0.94645339,\n",
       "          0.99999803, -0.99984348, -0.99783182,  0.99850625, -0.99935418]], dtype=float32),\n",
       " array([[-0.99957073,  0.96603584, -0.99982852,  0.52308512, -0.96279508,\n",
       "          0.99999744, -0.99982542, -0.99763316,  0.99848509, -0.99930406],\n",
       "        [-0.6494925 ,  0.94887549, -0.97145069, -0.25893739, -0.51761079,\n",
       "          0.99733305, -0.99424851, -0.98975867,  0.94051874, -0.84697956]], dtype=float32),\n",
       " array([[-0.67305696,  0.95378178, -0.97606766,  0.18150669, -0.55493474,\n",
       "          0.99654692, -0.99358302, -0.98890102,  0.9396162 , -0.83853364],\n",
       "        [-0.89574718,  0.95088637, -0.99220651, -0.35545611, -0.6376729 ,\n",
       "          0.99967468, -0.99795961, -0.99353832,  0.97692066, -0.9575811 ]], dtype=float32),\n",
       " array([[-0.90775025,  0.95559961, -0.99355382,  0.14709547, -0.67932123,\n",
       "          0.99957818, -0.99772435, -0.99296683,  0.97651571, -0.95436072],\n",
       "        [-0.51967525,  0.94584084, -0.965101  , -0.67626745, -0.20154446,\n",
       "          0.99709821, -0.99385124, -0.98987633,  0.93259084, -0.81599075]], dtype=float32),\n",
       " array([[-0.55643564,  0.95090348, -0.97091776, -0.23647499, -0.2749683 ,\n",
       "          0.99624646, -0.99316108, -0.98896194,  0.93146074, -0.80502009],\n",
       "        [-0.81781757,  0.94825876, -0.98948282, -0.69613171, -0.32232279,\n",
       "          0.99959004, -0.99766099, -0.99344879,  0.97239918, -0.94332319]], dtype=float32),\n",
       " array([[-0.84190696,  0.95329261, -0.99131966, -0.32815704, -0.4165841 ,\n",
       "          0.99946797, -0.99739236, -0.99285662,  0.97192121, -0.93873882],\n",
       "        [-0.52153504,  0.94410467, -0.96691918, -0.82018775,  0.06542711,\n",
       "          0.99778891, -0.99453688, -0.99072063,  0.93813306, -0.83751011]], dtype=float32),\n",
       " array([[-0.56780291,  0.9497031 , -0.9723537 , -0.6105063 , -0.06382316,\n",
       "          0.99713153, -0.99390805, -0.98989767,  0.93722409, -0.82706881],\n",
       "        [ 0.06889626,  0.94014388, -0.94325173, -0.88473076,  0.57684445,\n",
       "          0.99582404, -0.99234909, -0.98964357,  0.90634298, -0.68605947]], dtype=float32),\n",
       " array([[-0.02141881,  0.94656754, -0.95261937, -0.80272019,  0.45741397,\n",
       "          0.99456376, -0.99143428, -0.98875964,  0.90511811, -0.66401815],\n",
       "        [ 0.50698709,  0.93774462, -0.94662821, -0.89368296,  0.80179489,\n",
       "          0.99683261, -0.99324983, -0.99049217,  0.91044247, -0.65476811]], dtype=float32),\n",
       " array([[ 0.39865535,  0.94475555, -0.95569915, -0.85512859,  0.73954362,\n",
       "          0.99586546, -0.99241114, -0.98973304,  0.90933353, -0.62376136],\n",
       "        [ 0.33324948,  0.93911308, -0.97733885, -0.85164428,  0.73641771,\n",
       "          0.99919659, -0.99660438, -0.99292862,  0.95437479, -0.85691005]], dtype=float32),\n",
       " array([[ 0.18871735,  0.94601464, -0.98122889, -0.81424749,  0.68825454,\n",
       "          0.99895221, -0.99617457, -0.99240178,  0.95379382, -0.83974046],\n",
       "        [-0.97883117,  0.95026523, -0.99922931, -0.45211485, -0.51169014,\n",
       "          0.99999422, -0.99971974, -0.99744761,  0.99672681, -0.99790943]], dtype=float32),\n",
       " array([[-0.98553121,  0.95593494, -0.99935693, -0.35014236, -0.57109219,\n",
       "          0.99999249, -0.99968427, -0.99725956,  0.99668747, -0.99770194],\n",
       "        [-0.99921459,  0.95390946, -0.99954641, -0.00232587, -0.96431983,\n",
       "          0.9999972 , -0.99981093, -0.99766928,  0.99795794, -0.99909765]], dtype=float32),\n",
       " array([[-0.99929285,  0.95895898, -0.99961776,  0.18033919, -0.97034907,\n",
       "          0.9999963 , -0.99978781, -0.99748862,  0.99793315, -0.9990412 ],\n",
       "        [-0.99999893,  0.9649694 , -0.99999499,  0.89265937, -0.99970216,\n",
       "          1.        , -0.99999356, -0.99939358,  0.99993676, -0.99999529]], dtype=float32),\n",
       " array([[-0.99999905,  0.96863508, -0.99999583,  0.93537796, -0.999726  ,\n",
       "          1.        , -0.99999279, -0.99934673,  0.99993593, -0.99999505],\n",
       "        [-0.94925183,  0.94258308, -0.99201643,  0.57907575, -0.84648716,\n",
       "          0.99983501, -0.99857301, -0.99424374,  0.98210037, -0.97642785]], dtype=float32),\n",
       " array([[-0.95368278,  0.94864994, -0.99325746,  0.65699929, -0.85621417,\n",
       "          0.99978548, -0.99839473, -0.99383074,  0.98187947, -0.97498327],\n",
       "        [-0.98871607,  0.94343269, -0.99724042,  0.52751732, -0.91698331,\n",
       "          0.99996907, -0.99937886, -0.99597692,  0.99210453, -0.99324238]], dtype=float32),\n",
       " array([[-0.98979878,  0.94959736, -0.99767852,  0.63393462, -0.92386705,\n",
       "          0.99995983, -0.99930161, -0.99567801,  0.99200159, -0.99280459],\n",
       "        [-0.54863346,  0.93209702, -0.95719779, -0.09000997, -0.41864946,\n",
       "          0.99837786, -0.99541038, -0.99089462,  0.93866289, -0.85531068]], dtype=float32),\n",
       " array([[-0.58058333,  0.9394002 , -0.96384734,  0.09888518, -0.45292115,\n",
       "          0.99789304, -0.99484545, -0.99021423,  0.93787855, -0.84693855],\n",
       "        [-0.99945402,  0.94955289, -0.99977005,  0.45132816, -0.97910368,\n",
       "          0.9999994 , -0.99991262, -0.99829811,  0.99885958, -0.99960148]], dtype=float32),\n",
       " array([[-0.99953151,  0.95502669, -0.99980938,  0.63956797, -0.98180532,\n",
       "          0.99999923, -0.99990195, -0.99816257,  0.9988426 , -0.99956989],\n",
       "        [-0.99879736,  0.94696176, -0.99933612,  0.63592172, -0.98126507,\n",
       "          0.99999696, -0.99980617, -0.9975394 ,  0.9975906 , -0.99889106]], dtype=float32),\n",
       " array([[-0.99890006,  0.95249021, -0.99944198,  0.77057171, -0.98263907,\n",
       "          0.99999601, -0.99978268, -0.99734956,  0.99755698, -0.99882323],\n",
       "        [-0.95309663,  0.9360733 , -0.99166691,  0.34552833, -0.84579206,\n",
       "          0.9998861 , -0.99879622, -0.994762  ,  0.98360604, -0.98006809]], dtype=float32),\n",
       " array([[-0.95709032,  0.94282079, -0.99298185,  0.52105182, -0.8559891 ,\n",
       "          0.99985212, -0.99864876, -0.99436766,  0.98338735, -0.97885299],\n",
       "        [-0.97281027,  0.93575239, -0.99438637,  0.15835558, -0.8604064 ,\n",
       "          0.99994326, -0.99914294, -0.99552852,  0.98804843, -0.98775434]], dtype=float32),\n",
       " array([[-0.97530657,  0.94259793, -0.99529022,  0.39485693, -0.87184703,\n",
       "          0.99992633, -0.9990387 , -0.99518156,  0.98788095, -0.98697728],\n",
       "        [-0.65193325,  0.9269653 , -0.96247184, -0.43052691, -0.45073399,\n",
       "          0.9991442 , -0.99660933, -0.99222565,  0.95083076, -0.89818573]], dtype=float32)]"
      ]
     },
     "execution_count": 243,
     "metadata": {},
     "output_type": "execute_result"
    }
   ],
   "source": [
    "h_states"
   ]
  },
  {
   "cell_type": "code",
   "execution_count": 244,
   "metadata": {
    "collapsed": true
   },
   "outputs": [
    {
     "data": {
      "text/plain": [
       "array([[ 0.        , -4.01316738,  0.        , -3.94328713, -4.02441645,\n",
       "         0.31243208, -4.27579641, -4.37533092, -3.68224812, -4.33269072,\n",
       "        -4.36058664, -4.18507242, -3.48860955, -4.25126839, -3.774122  ,\n",
       "        -3.85163903, -2.66653538, -4.43087196, -4.30483532, -4.35969925,\n",
       "        -4.26708698, -4.20578384, -2.84365845, -4.36191797, -4.38638163,\n",
       "        -4.25179863, -4.30749798, -4.2060256 , -4.29222775, -4.0436902 ,\n",
       "        -4.41335726, -4.19760704, -4.18787527, -4.24986839, -4.15276003,\n",
       "         0.        , -3.65046859, -3.78290892, -4.23813868, -4.1613369 ,\n",
       "        -4.24144459, -3.92261839, -3.98891902, -2.36379218, -4.12030745,\n",
       "        -4.38511419, -4.10747719, -4.33680344, -4.36656094, -4.19544125,\n",
       "        -4.38197613, -4.27634382, -4.34637403, -4.29690695, -4.06028986,\n",
       "        -3.80248237, -3.34022593, -3.42152333, -4.23725605, -4.36004114,\n",
       "        -3.69040132, -4.45399857, -4.21430254, -3.96188283, -3.85395503,\n",
       "        -4.4084816 , -3.69584203, -4.47465229, -3.79886651, -4.47493076,\n",
       "        -3.76328063, -3.76836467, -4.18883801, -3.99720621, -3.16735792,\n",
       "        -4.46007252, -4.41918087, -4.403018  , -4.44565248, -4.42503691,\n",
       "        -4.43595266, -3.21616387, -4.58566189, -4.33530378, -4.58299971,\n",
       "        -4.4118042 , -4.59234524, -4.36739683, -4.12119675, -4.06374931,\n",
       "        -3.64357686, -3.48185754, -1.79754519, -4.25041246, -3.93303704,\n",
       "        -4.59019327, -3.07846618, -3.4287765 , -4.25461626, -4.15330744],\n",
       "       [ 0.        , -3.7528131 , -4.12440491, -4.16511965,  0.31240591,\n",
       "        -4.27696371, -4.37799215, -3.68285799, -4.33419228, -4.36350918,\n",
       "        -4.18645573, -3.48913121, -4.25247097, -3.77481389, -3.85234571,\n",
       "        -2.66677094, -4.43292093, -4.30660868, -4.36240196, -4.26945257,\n",
       "        -4.20681429, -2.84414053, -4.36347294, -4.38940811, -4.25377512,\n",
       "        -4.31096315, -4.20764637, -4.29357672,  0.        , -3.97828627,\n",
       "        -4.28807259, -4.08456278, -4.12895918, -4.19711828, -4.10173273,\n",
       "        -3.97735953, -3.9439311 , -4.36010122, -4.21669483, -4.30203819,\n",
       "        -3.98556399, -4.01314735, -2.36507773, -4.12561798, -4.40334845,\n",
       "        -4.11520052, -4.34716892, -4.38258362, -4.20432043, -4.39626455,\n",
       "        -4.28632069, -4.35746145, -4.30691433, -4.06907797, -3.80897975,\n",
       "        -3.34367776, -3.42478204, -4.24524879, -4.37225914, -3.69778132,\n",
       "        -4.47262239, -4.23909998, -3.9956758 , -3.87250829, -4.43572807,\n",
       "        -3.72109389, -4.50754786, -3.82160497, -4.50878191, -3.78690457,\n",
       "        -3.78336835, -4.20469093, -4.0122118 , -3.17395353, -4.47569466,\n",
       "        -4.44162989, -4.43479061, -4.48784781, -4.47006702, -4.47316933,\n",
       "        -3.29847789, -4.68478489, -4.4427352 , -4.67100477, -4.47104931,\n",
       "        -4.6071806 , -4.3563714 , -4.11766195, -4.04034281, -3.65056348,\n",
       "        -3.52448916, -1.80875516, -4.2692709 , -3.95860076, -4.6312232 ,\n",
       "        -3.12342238, -3.46182704, -4.29616976, -4.20832443, -4.6924305 ]], dtype=float32)"
      ]
     },
     "execution_count": 244,
     "metadata": {},
     "output_type": "execute_result"
    }
   ],
   "source": [
    "np.hstack([x[:, np.newaxis] for x in LL_log_terms])"
   ]
  },
  {
   "cell_type": "code",
   "execution_count": 131,
   "metadata": {
    "collapsed": true
   },
   "outputs": [
    {
     "data": {
      "text/plain": [
       "array([[  3.53749394e-02,   3.01899132e-03,   1.82716035e+04,\n",
       "         -0.00000000e+00,   3.34786558e+00],\n",
       "       [  2.80396901e-02,   9.70880967e-04,   9.05402973e-02,\n",
       "         -0.00000000e+00,   1.63995840e+07]], dtype=float32)"
      ]
     },
     "execution_count": 131,
     "metadata": {},
     "output_type": "execute_result"
    }
   ],
   "source": [
    "np.hstack([x[:, np.newaxis] for x in LL_int_terms])"
   ]
  },
  {
   "cell_type": "code",
   "execution_count": 134,
   "metadata": {},
   "outputs": [
    {
     "data": {
      "text/plain": [
       "array([[  2.28893524e-03,   2.42241385e-05,   4.38065101e+09,\n",
       "         -0.00000000e+00,   3.86745529e+01],\n",
       "       [  8.06720462e-03,   1.16220224e-06,   2.24592313e-02,\n",
       "         -0.00000000e+00,   3.67718490e+14]], dtype=float32)"
      ]
     },
     "execution_count": 134,
     "metadata": {},
     "output_type": "execute_result"
    }
   ],
   "source": [
    "np.hstack([x[:, np.newaxis] for x in loss_terms])"
   ]
  },
  {
   "cell_type": "code",
   "execution_count": 268,
   "metadata": {
    "collapsed": true
   },
   "outputs": [
    {
     "data": {
      "text/plain": [
       "[array([ 0.07122578,  0.0374492 ], dtype=float32),\n",
       " array([ 0.00578567,  0.0143473 ], dtype=float32),\n",
       " array([ 0.01224425,  0.00254374], dtype=float32),\n",
       " array([ 0.0001477 ,  0.00131983], dtype=float32),\n",
       " array([ 0.00682765,  0.7514624 ], dtype=float32),\n",
       " array([ 1.02680361,  0.00122536], dtype=float32),\n",
       " array([ 0.00107339,  0.000503  ], dtype=float32),\n",
       " array([ 0.00045441,  0.0058391 ], dtype=float32),\n",
       " array([ 0.00513659,  0.00140193], dtype=float32),\n",
       " array([ 0.0014001 ,  0.00037832], dtype=float32),\n",
       " array([ 0.00037852,  0.00204236], dtype=float32),\n",
       " array([ 0.00204256,  0.00785597], dtype=float32),\n",
       " array([ 0.00785388,  0.00197879], dtype=float32),\n",
       " array([ 0.00197896,  0.00523644], dtype=float32),\n",
       " array([ 0.00523653,  0.0046431 ], dtype=float32),\n",
       " array([ 0.00464319,  0.02109089], dtype=float32),\n",
       " array([ 0.02109053,  0.00061031], dtype=float32),\n",
       " array([ 0.00061037,  0.00134548], dtype=float32),\n",
       " array([ 0.00134555,  0.00041672], dtype=float32),\n",
       " array([ 0.00041675,  0.00056344], dtype=float32),\n",
       " array([ 0.00056347,  0.00177131], dtype=float32),\n",
       " array([ 0.00177135,  0.01733627], dtype=float32),\n",
       " array([ 0.01733629,  0.00135537], dtype=float32),\n",
       " array([ 0.0013554 ,  0.00024536], dtype=float32),\n",
       " array([ 0.00024537,  0.00152317], dtype=float32),\n",
       " array([  1.52319146e-03,   7.34487403e-05], dtype=float32),\n",
       " array([  7.34505375e-05,   1.34099706e-03], dtype=float32),\n",
       " array([ 0.00134101,  0.00129805], dtype=float32),\n",
       " array([ 0.00129806,  0.00052228], dtype=float32),\n",
       " array([ 0.00329587,  0.01533756], dtype=float32),\n",
       " array([  5.35184481e-05,   1.35887225e-04], dtype=float32),\n",
       " array([ 0.00030353,  0.00022781], dtype=float32),\n",
       " array([ 0.00107394,  0.00075711], dtype=float32),\n",
       " array([ 0.00045863,  0.00043416], dtype=float32),\n",
       " array([ 0.00031907,  0.00032039], dtype=float32),\n",
       " array([ 0.00301615,  0.00025957], dtype=float32),\n",
       " array([ 0.0002139 ,  0.00328056], dtype=float32),\n",
       " array([ 0.01138046,  0.00069224], dtype=float32),\n",
       " array([ 0.00053521,  0.00189344], dtype=float32),\n",
       " array([  1.21017045e-03,   3.73004150e-05], dtype=float32),\n",
       " array([  3.52031784e-05,   1.46966786e-05], dtype=float32),\n",
       " array([  1.47666406e-05,   2.56588426e-03], dtype=float32),\n",
       " array([ 0.00256303,  0.02935607], dtype=float32),\n",
       " array([ 0.02071826,  0.00277865], dtype=float32),\n",
       " array([ 0.0027754 ,  0.00019906], dtype=float32),\n",
       " array([ 0.00019935,  0.00262276], dtype=float32),\n",
       " array([ 0.00262343,  0.00130906], dtype=float32),\n",
       " array([ 0.00130961,  0.00045493], dtype=float32),\n",
       " array([ 0.00045522,  0.00202543], dtype=float32),\n",
       " array([ 0.00202582,  0.00053912], dtype=float32),\n",
       " array([ 0.00053933,  0.00139651], dtype=float32),\n",
       " array([ 0.00139676,  0.00099021], dtype=float32),\n",
       " array([ 0.0009904 ,  0.00143392], dtype=float32),\n",
       " array([ 0.00143409,  0.00316223], dtype=float32),\n",
       " array([ 0.00316236,  0.00506417], dtype=float32),\n",
       " array([ 0.00506426,  0.0095902 ], dtype=float32),\n",
       " array([ 0.00959024,  0.00864279], dtype=float32),\n",
       " array([ 0.00864283,  0.00215189], dtype=float32),\n",
       " array([ 0.00215195,  0.00133951], dtype=float32),\n",
       " array([ 0.00133956,  0.00602844], dtype=float32),\n",
       " array([ 0.00602847,  0.00025614], dtype=float32),\n",
       " array([  2.56158935e-04,   7.34953210e-05], dtype=float32),\n",
       " array([  7.34994101e-05,   6.74723487e-05], dtype=float32),\n",
       " array([  6.74751282e-05,   4.11511445e-03], dtype=float32),\n",
       " array([ 0.00411513,  0.00041596], dtype=float32),\n",
       " array([ 0.00041597,  0.00602464], dtype=float32),\n",
       " array([ 0.00602465,  0.00048397], dtype=float32),\n",
       " array([ 0.00048397,  0.00521476], dtype=float32),\n",
       " array([ 0.00521477,  0.00019618], dtype=float32),\n",
       " array([ 0.00019618,  0.00553081], dtype=float32),\n",
       " array([ 0.00553081,  0.00548772], dtype=float32),\n",
       " array([ 0.00548773,  0.00258553], dtype=float32),\n",
       " array([ 0.00258553,  0.00381634], dtype=float32),\n",
       " array([ 0.00381634,  0.01203188], dtype=float32),\n",
       " array([ 0.01203188,  0.00089401], dtype=float32),\n",
       " array([ 0.00089401,  0.0009421 ], dtype=float32),\n",
       " array([ 0.0009421 ,  0.00111396], dtype=float32),\n",
       " array([ 0.00111396,  0.00077215], dtype=float32),\n",
       " array([ 0.00077215,  0.00093432], dtype=float32),\n",
       " array([ 0.00093432,  0.00106086], dtype=float32),\n",
       " array([ 0.00106086,  0.01260002], dtype=float32),\n",
       " array([ 0.01260002,  0.00043088], dtype=float32),\n",
       " array([ 0.00043088,  0.0021477 ], dtype=float32),\n",
       " array([ 0.0021477 ,  0.00032032], dtype=float32),\n",
       " array([ 0.00032032,  0.00182365], dtype=float32),\n",
       " array([ 0.00182365,  0.00043664], dtype=float32),\n",
       " array([  4.36639006e-04,   2.12585946e-05], dtype=float32),\n",
       " array([  2.12587584e-05,   1.47882674e-04], dtype=float32),\n",
       " array([ 0.00014788,  0.00105276], dtype=float32),\n",
       " array([ 0.00105276,  0.00824494], dtype=float32),\n",
       " array([ 0.00824494,  0.01009862], dtype=float32),\n",
       " array([ 0.01009862,  0.05468597], dtype=float32),\n",
       " array([ 0.05468597,  0.00240127], dtype=float32),\n",
       " array([ 0.00240127,  0.00458775], dtype=float32),\n",
       " array([ 0.00458775,  0.000381  ], dtype=float32),\n",
       " array([ 0.000381  ,  0.01453098], dtype=float32),\n",
       " array([ 0.01453098,  0.00915082], dtype=float32),\n",
       " array([ 0.00915082,  0.00257497], dtype=float32),\n",
       " array([ 0.00257497,  0.00338258], dtype=float32),\n",
       " array([ 0.00338258,  0.0006664 ], dtype=float32)]"
      ]
     },
     "execution_count": 268,
     "metadata": {},
     "output_type": "execute_result"
    }
   ],
   "source": [
    "LL_int_terms"
   ]
  },
  {
   "cell_type": "code",
   "execution_count": 100,
   "metadata": {},
   "outputs": [
    {
     "data": {
      "text/plain": [
       "99.486486816163847"
      ]
     },
     "execution_count": 100,
     "metadata": {},
     "output_type": "execute_result"
    }
   ],
   "source": [
    "df.t.iloc[-1]"
   ]
  },
  {
   "cell_type": "code",
   "execution_count": 272,
   "metadata": {},
   "outputs": [],
   "source": [
    "%%time\n",
    "LL_grads = iterSession.run(trainer.LL_grads, feed_dict=f_d)\n",
    "loss_grads = iterSession.run(trainer.loss_grads, feed_dict=f_d)"
   ]
  },
  {
   "cell_type": "code",
   "execution_count": 275,
   "metadata": {
    "collapsed": true
   },
   "outputs": [
    {
     "data": {
      "text/plain": [
       "{<tf.Variable 'ExpRecurrentTrainer/hidden_state/Wh:0' shape=(10, 10) dtype=float32_ref>: [array([[ -2.99606800e+00,  -3.71909976e+00,   1.33702028e+00,\n",
       "           -1.39037979e+00,   2.38318825e+00,   5.02713108e+00,\n",
       "           -4.98379850e+00,  -5.02480364e+00,   5.00027657e+00,\n",
       "           -4.75504494e+00],\n",
       "         [ -4.26948833e+00,   6.26499414e-01,  -3.67279363e+00,\n",
       "           -2.40540743e+00,   5.53412390e+00,   1.09491434e+01,\n",
       "           -7.16436386e+00,  -1.08532867e+01,   1.05527220e+01,\n",
       "           -7.23006105e+00],\n",
       "         [  6.11900234e+00,  -2.49526954e+00,   5.35612297e+00,\n",
       "           -2.09307718e+00,  -2.65487337e+00,  -8.32765388e+00,\n",
       "            6.56142616e+00,   8.27307034e+00,  -8.13354778e+00,\n",
       "            5.22924948e+00],\n",
       "         [ -4.23263025e+00,   5.24473786e-01,  -2.38811493e+00,\n",
       "            5.79427004e-01,   2.33740950e+00,   4.85080910e+00,\n",
       "           -3.52857614e+00,  -4.82357693e+00,   4.70750713e+00,\n",
       "           -3.39204454e+00],\n",
       "         [ -5.24386501e+00,   2.75152969e+00,  -5.01500750e+00,\n",
       "            4.39886510e-01,   9.60898399e-02,   5.98953724e+00,\n",
       "           -2.51752853e+00,  -5.82190514e+00,   5.59879494e+00,\n",
       "           -2.83618069e+00],\n",
       "         [ -7.78012211e-03,   9.17432085e-03,  -7.95097742e-03,\n",
       "            1.09920967e-02,  -1.27925081e-02,  -1.86972469e-02,\n",
       "            1.67621896e-02,   1.86026692e-02,  -1.84916127e-02,\n",
       "            1.56339835e-02],\n",
       "         [ -5.98415971e-01,   3.22685003e-01,  -6.13908052e-01,\n",
       "           -4.44131255e-01,   2.02944428e-01,   9.74103391e-01,\n",
       "           -1.84238926e-01,  -9.37719464e-01,   8.89725447e-01,\n",
       "           -5.19677341e-01],\n",
       "         [ -2.28709113e-02,   1.73591319e-02,  -2.19340734e-02,\n",
       "            1.14847515e-02,  -3.32354964e-03,   2.18805186e-02,\n",
       "           -1.40963821e-02,  -2.14070193e-02,   2.09793076e-02,\n",
       "           -8.70618410e-03],\n",
       "         [  2.99361497e-01,   1.51817113e-01,   7.10226148e-02,\n",
       "            1.97488591e-01,  -3.90721887e-01,  -7.99967408e-01,\n",
       "            6.10552311e-01,   7.91182578e-01,  -7.78985262e-01,\n",
       "            6.36479855e-01],\n",
       "         [ -8.64119053e+00,   5.75426865e+00,  -8.34201336e+00,\n",
       "            3.67990971e-01,  -5.60631752e-02,   9.50978947e+00,\n",
       "           -3.14500904e+00,  -9.16685581e+00,   8.79675007e+00,\n",
       "           -4.28893375e+00]], dtype=float32)],\n",
       " <tf.Variable 'ExpRecurrentTrainer/hidden_state/Wm:0' shape=(2, 10) dtype=float32_ref>: [IndexedSlicesValue(values=array([[  0.00000000e+00,   0.00000000e+00,  -0.00000000e+00, ...,\n",
       "          0.00000000e+00,  -0.00000000e+00,   0.00000000e+00],\n",
       "       [  0.00000000e+00,   0.00000000e+00,  -0.00000000e+00, ...,\n",
       "          0.00000000e+00,  -0.00000000e+00,   0.00000000e+00],\n",
       "       [  0.00000000e+00,   0.00000000e+00,  -0.00000000e+00, ...,\n",
       "          0.00000000e+00,  -0.00000000e+00,   0.00000000e+00],\n",
       "       ..., \n",
       "       [  1.56972744e-03,   7.51397967e-01,  -1.39841303e-01, ...,\n",
       "          1.04910217e-03,  -2.38111950e-02,   1.60100532e+00],\n",
       "       [  2.47233408e-03,   2.41322309e-01,  -8.50178674e-03, ...,\n",
       "          3.76018099e-02,  -8.34240485e-03,   1.35665393e+00],\n",
       "       [  1.43668219e-03,   4.56360728e-01,  -1.72904059e-02, ...,\n",
       "          4.17300947e-02,  -3.79777737e-02,   1.27815723e+00]], dtype=float32), indices=array([1, 1, 1, 1, 1, 1, 1, 1, 1, 1, 1, 1, 1, 1, 1, 1, 1, 1, 1, 1, 1, 1, 1,\n",
       "       1, 1, 1, 1, 1, 1, 1, 1, 1, 1, 1, 1, 1, 1, 1, 1, 1, 1, 1, 1, 1, 1, 1,\n",
       "       1, 1, 1, 1, 1, 1, 1, 1, 1, 1, 1, 1, 1, 1, 1, 1, 1, 1, 1, 1, 1, 1, 1,\n",
       "       1, 1, 1, 1, 1, 1, 1, 1, 1, 1, 1, 1, 1, 1, 1, 1, 1, 1, 1, 1, 1, 1, 1,\n",
       "       1, 1, 1, 1, 1, 1, 1, 1, 1, 1, 1, 1, 1, 1, 1, 1, 1, 1, 1, 1, 1, 1, 1,\n",
       "       1, 1, 1, 1, 1, 1, 1, 1, 1, 1, 1, 1, 1, 0, 1, 1, 1, 1, 1, 1, 1, 1, 1,\n",
       "       1, 1, 1, 1, 1, 0, 1, 1, 1, 1, 1, 1, 1, 1, 1, 1, 1, 1, 1, 1, 1, 1, 1,\n",
       "       1, 1, 1, 1, 1, 1, 1, 1, 1, 1, 1, 1, 1, 1, 1, 1, 1, 1, 1, 1, 1, 1, 1,\n",
       "       1, 1, 1, 1, 1, 1, 1, 1, 1, 1, 0, 1, 1, 1, 0, 0], dtype=int32), dense_shape=array([ 2, 10], dtype=int32))],\n",
       " <tf.Variable 'ExpRecurrentTrainer/hidden_state/Wt:0' shape=(10, 1) dtype=float32_ref>: [array([[ 4.25242615],\n",
       "         [ 6.95624256],\n",
       "         [-3.2879734 ],\n",
       "         [ 6.22856712],\n",
       "         [ 3.91035533],\n",
       "         [-0.02293397],\n",
       "         [ 0.49859279],\n",
       "         [ 0.03239532],\n",
       "         [-0.24908522],\n",
       "         [ 4.45688248]], dtype=float32)],\n",
       " <tf.Variable 'ExpRecurrentTrainer/hidden_state/Bh:0' shape=(10, 1) dtype=float32_ref>: [array([[  5.03192472],\n",
       "         [ 11.7932272 ],\n",
       "         [ -8.3967495 ],\n",
       "         [  4.83488894],\n",
       "         [  7.35241699],\n",
       "         [ -0.12396005],\n",
       "         [  1.33698344],\n",
       "         [  0.10146739],\n",
       "         [ -0.85212827],\n",
       "         [ 12.43805885]], dtype=float32)],\n",
       " <tf.Variable 'ExpRecurrentTrainer/hidden_state/Wr:0' shape=(10, 1) dtype=float32_ref>: [array([[  2.38667641e+01],\n",
       "         [  1.28153582e+01],\n",
       "         [ -1.38487921e+01],\n",
       "         [  1.07183018e+01],\n",
       "         [  9.03369617e+00],\n",
       "         [ -2.41741887e-03],\n",
       "         [  7.91502714e-01],\n",
       "         [  1.43228322e-02],\n",
       "         [ -3.15096378e+00],\n",
       "         [  1.15220709e+01]], dtype=float32)],\n",
       " <tf.Variable 'ExpRecurrentTrainer/output/bt:0' shape=(1,) dtype=float32_ref>: [array([ 389.99560547], dtype=float32)],\n",
       " <tf.Variable 'ExpRecurrentTrainer/output/vt:0' shape=(10, 1) dtype=float32_ref>: [array([[ 316.67657471],\n",
       "         [-365.39379883],\n",
       "         [ 351.19436646],\n",
       "         [-350.58276367],\n",
       "         [ 369.57354736],\n",
       "         [ 389.99407959],\n",
       "         [-389.78704834],\n",
       "         [-389.98406982],\n",
       "         [ 389.68566895],\n",
       "         [-382.30545044]], dtype=float32)],\n",
       " <tf.Variable 'ExpRecurrentTrainer/output/wt:0' shape=(1,) dtype=float32_ref>: [array([ 389.68865967], dtype=float32)]}"
      ]
     },
     "execution_count": 275,
     "metadata": {},
     "output_type": "execute_result"
    }
   ],
   "source": [
    "LL_grads"
   ]
  },
  {
   "cell_type": "code",
   "execution_count": 274,
   "metadata": {},
   "outputs": [
    {
     "name": "stdout",
     "output_type": "stream",
     "text": [
      "False\n"
     ]
    },
    {
     "ename": "TypeError",
     "evalue": "ufunc 'isnan' not supported for the input types, and the inputs could not be safely coerced to any supported types according to the casting rule ''safe''",
     "output_type": "error",
     "traceback": [
      "\u001b[0;31m---------------------------------------------------------------------------\u001b[0m",
      "\u001b[0;31mTypeError\u001b[0m                                 Traceback (most recent call last)",
      "\u001b[0;32m/home/utkarshu/prog/work/broadcast-rl/tpprl/exp_broadcaster.py\u001b[0m in \u001b[0;36m<module>\u001b[0;34m()\u001b[0m\n\u001b[1;32m      1\u001b[0m \u001b[0;32mfor\u001b[0m \u001b[0mx\u001b[0m \u001b[0;32min\u001b[0m \u001b[0mLL_grads\u001b[0m\u001b[0;34m.\u001b[0m\u001b[0mvalues\u001b[0m\u001b[0;34m(\u001b[0m\u001b[0;34m)\u001b[0m\u001b[0;34m:\u001b[0m\u001b[0;34m\u001b[0m\u001b[0m\n\u001b[0;32m----> 2\u001b[0;31m     \u001b[0mprint\u001b[0m\u001b[0;34m(\u001b[0m\u001b[0mnp\u001b[0m\u001b[0;34m.\u001b[0m\u001b[0many\u001b[0m\u001b[0;34m(\u001b[0m\u001b[0mnp\u001b[0m\u001b[0;34m.\u001b[0m\u001b[0misnan\u001b[0m\u001b[0;34m(\u001b[0m\u001b[0mx\u001b[0m\u001b[0;34m)\u001b[0m\u001b[0;34m)\u001b[0m\u001b[0;34m)\u001b[0m\u001b[0;34m\u001b[0m\u001b[0m\n\u001b[0m",
      "\u001b[0;31mTypeError\u001b[0m: ufunc 'isnan' not supported for the input types, and the inputs could not be safely coerced to any supported types according to the casting rule ''safe''"
     ]
    }
   ],
   "source": [
    "for x in LL_grads.values():\n",
    "    print(np.any(np.isnan(x)))"
   ]
  },
  {
   "cell_type": "code",
   "execution_count": 273,
   "metadata": {
    "collapsed": true
   },
   "outputs": [
    {
     "data": {
      "text/plain": [
       "{<tf.Variable 'ExpRecurrentTrainer/hidden_state/Wh:0' shape=(10, 10) dtype=float32_ref>: [array([[  1.52078399e-03,  -8.11053440e-04,   1.08194584e-03,\n",
       "           -1.11959630e-03,  -4.97454967e-05,  -1.34236796e-03,\n",
       "            1.15430343e-03,   1.32803514e-03,  -1.31437834e-03,\n",
       "            6.38694619e-04],\n",
       "         [ -2.47407869e-01,   1.26101434e-01,  -1.93560109e-01,\n",
       "            1.92888841e-01,   5.71228266e-02,   2.51808852e-01,\n",
       "           -2.23592535e-01,  -2.50025660e-01,   2.46770248e-01,\n",
       "           -1.05699554e-01],\n",
       "         [  2.01973459e-03,   4.28064680e-03,  -3.90762137e-03,\n",
       "            2.08477536e-03,  -3.32420762e-03,  -2.43721879e-03,\n",
       "            2.99048843e-03,   2.49160547e-03,  -2.49824836e-03,\n",
       "            3.38118197e-03],\n",
       "         [ -1.71623722e-01,  -6.50273412e-02,   3.88583541e-02,\n",
       "            1.32735679e-02,   1.11823775e-01,   1.79444462e-01,\n",
       "           -1.74518257e-01,  -1.79421782e-01,   1.78024441e-01,\n",
       "           -1.43800288e-01],\n",
       "         [  6.73932657e-02,  -5.88388667e-02,   6.68338165e-02,\n",
       "           -3.03648952e-02,   1.83792450e-02,  -6.75947294e-02,\n",
       "            3.57101224e-02,   6.47062436e-02,  -6.40330687e-02,\n",
       "            2.68828776e-02],\n",
       "         [ -2.82029905e-05,   2.35367006e-05,  -2.67780269e-05,\n",
       "            2.47940789e-05,  -6.83863436e-06,   2.04389271e-05,\n",
       "           -2.01909515e-05,  -2.04295102e-05,   2.02946394e-05,\n",
       "           -3.81512837e-06],\n",
       "         [  1.22170243e-03,  -1.07928319e-03,   1.18645257e-03,\n",
       "           -9.62053426e-04,   4.99536167e-04,  -6.16030418e-04,\n",
       "            4.46108810e-04,   6.03073218e-04,  -5.93889388e-04,\n",
       "            4.27988998e-05],\n",
       "         [  1.51293687e-04,  -1.21546829e-04,   1.43023703e-04,\n",
       "           -1.22164507e-04,   2.08585225e-05,  -1.46703474e-04,\n",
       "            1.36087852e-04,   1.46381019e-04,  -1.44723352e-04,\n",
       "            4.34975955e-05],\n",
       "         [  1.10256206e-03,  -8.56456812e-04,   1.01697713e-03,\n",
       "           -7.22466793e-04,   1.29936147e-04,  -1.17731618e-03,\n",
       "            9.15272976e-04,   1.16046832e-03,  -1.14322198e-03,\n",
       "            4.60587908e-04],\n",
       "         [  3.90902571e-02,  -3.34793739e-02,   3.83584052e-02,\n",
       "           -1.72958989e-02,   9.63723101e-03,  -3.92299928e-02,\n",
       "            2.03775540e-02,   3.77815738e-02,  -3.70462388e-02,\n",
       "            1.50942346e-02]], dtype=float32)],\n",
       " <tf.Variable 'ExpRecurrentTrainer/hidden_state/Wm:0' shape=(2, 10) dtype=float32_ref>: [IndexedSlicesValue(values=array([[  0.00000000e+00,   0.00000000e+00,  -0.00000000e+00, ...,\n",
       "          0.00000000e+00,  -0.00000000e+00,   0.00000000e+00],\n",
       "       [  0.00000000e+00,   0.00000000e+00,  -0.00000000e+00, ...,\n",
       "          0.00000000e+00,  -0.00000000e+00,   0.00000000e+00],\n",
       "       [  0.00000000e+00,   0.00000000e+00,  -0.00000000e+00, ...,\n",
       "          0.00000000e+00,  -0.00000000e+00,   0.00000000e+00],\n",
       "       ..., \n",
       "       [ -1.32931191e-05,   8.20888579e-03,  -4.43677636e-05, ...,\n",
       "         -5.04583932e-06,  -5.37653359e-05,  -1.57250674e-03],\n",
       "       [  2.11696490e-04,   2.70606251e-03,  -2.92183162e-04, ...,\n",
       "          1.71552121e-03,  -6.56904979e-03,   7.65881781e-03],\n",
       "       [  1.61703490e-03,   9.17788874e-03,  -1.23280461e-03, ...,\n",
       "          4.17034654e-03,  -1.84038412e-02,   1.55627988e-02]], dtype=float32), indices=array([1, 1, 1, 1, 1, 1, 1, 1, 1, 1, 1, 1, 1, 1, 1, 1, 1, 1, 1, 1, 1, 1, 1,\n",
       "       1, 1, 1, 1, 1, 1, 1, 1, 1, 1, 1, 1, 1, 1, 1, 1, 1, 1, 1, 1, 1, 1, 1,\n",
       "       1, 1, 1, 1, 1, 1, 1, 1, 1, 1, 1, 1, 1, 1, 1, 1, 1, 1, 1, 1, 1, 1, 1,\n",
       "       1, 1, 1, 1, 1, 1, 1, 1, 1, 1, 1, 1, 1, 1, 1, 1, 1, 1, 1, 1, 1, 1, 1,\n",
       "       1, 1, 1, 1, 1, 1, 1, 1, 1, 1, 1, 1, 1, 1, 1, 1, 1, 1, 1, 1, 1, 1, 1,\n",
       "       1, 1, 1, 1, 1, 1, 1, 1, 1, 1, 1, 1, 1, 0, 1, 1, 1, 1, 1, 1, 1, 1, 1,\n",
       "       1, 1, 1, 1, 1, 0, 1, 1, 1, 1, 1, 1, 1, 1, 1, 1, 1, 1, 1, 1, 1, 1, 1,\n",
       "       1, 1, 1, 1, 1, 1, 1, 1, 1, 1, 1, 1, 1, 1, 1, 1, 1, 1, 1, 1, 1, 1, 1,\n",
       "       1, 1, 1, 1, 1, 1, 1, 1, 1, 1, 0, 1, 1, 1, 0, 0], dtype=int32), dense_shape=array([ 2, 10], dtype=int32))],\n",
       " <tf.Variable 'ExpRecurrentTrainer/hidden_state/Wt:0' shape=(10, 1) dtype=float32_ref>: [array([[ -1.93711458e-04],\n",
       "         [  8.33364964e-01],\n",
       "         [ -2.28532683e-02],\n",
       "         [  7.77172863e-01],\n",
       "         [ -1.88210644e-02],\n",
       "         [ -8.93473567e-04],\n",
       "         [  2.21568421e-02],\n",
       "         [  1.30176870e-03],\n",
       "         [ -5.85307926e-03],\n",
       "         [ -5.65019948e-03]], dtype=float32)],\n",
       " <tf.Variable 'ExpRecurrentTrainer/hidden_state/Bh:0' shape=(10, 1) dtype=float32_ref>: [array([[ 0.0004826 ],\n",
       "         [ 0.26493335],\n",
       "         [-0.00395961],\n",
       "         [ 0.19060844],\n",
       "         [-0.0662237 ],\n",
       "         [-0.00591856],\n",
       "         [ 0.0716176 ],\n",
       "         [ 0.00573842],\n",
       "         [-0.02615922],\n",
       "         [-0.0164987 ]], dtype=float32)],\n",
       " <tf.Variable 'ExpRecurrentTrainer/hidden_state/Wr:0' shape=(10, 1) dtype=float32_ref>: [array([[ -2.56908801e-03],\n",
       "         [  5.70285797e-01],\n",
       "         [ -1.25767114e-02],\n",
       "         [  6.24044359e-01],\n",
       "         [ -5.05563207e-02],\n",
       "         [ -1.37636232e-06],\n",
       "         [ -2.49762699e-04],\n",
       "         [ -2.11821534e-05],\n",
       "         [ -1.00829778e-03],\n",
       "         [ -3.45810652e-02]], dtype=float32)],\n",
       " <tf.Variable 'ExpRecurrentTrainer/output/bt:0' shape=(1,) dtype=float32_ref>: [array([ 1.22570324], dtype=float32)],\n",
       " <tf.Variable 'ExpRecurrentTrainer/output/vt:0' shape=(10, 1) dtype=float32_ref>: [array([[-1.20050561],\n",
       "         [-0.97851086],\n",
       "         [-1.20067394],\n",
       "         [ 0.70373839],\n",
       "         [-1.1607424 ],\n",
       "         [ 1.22137046],\n",
       "         [-1.15890861],\n",
       "         [-1.21821284],\n",
       "         [ 1.21394897],\n",
       "         [-1.18246877]], dtype=float32)],\n",
       " <tf.Variable 'ExpRecurrentTrainer/output/wt:0' shape=(1,) dtype=float32_ref>: [array([ 7.8134017], dtype=float32)]}"
      ]
     },
     "execution_count": 273,
     "metadata": {},
     "output_type": "execute_result"
    }
   ],
   "source": [
    "loss_grads"
   ]
  },
  {
   "cell_type": "code",
   "execution_count": 381,
   "metadata": {},
   "outputs": [],
   "source": [
    "true_grads = trainer.get_batch_grad([df, df2])"
   ]
  },
  {
   "cell_type": "code",
   "execution_count": 382,
   "metadata": {},
   "outputs": [
    {
     "data": {
      "text/plain": [
       "[{<tf.Variable 'ExpRecurrentTrainer/hidden_state/Wh:0' shape=(10, 10) dtype=float32_ref>: array([[ -2.02311797e+04,   1.03143096e+04,  -1.26128457e+04,\n",
       "            1.18811045e+04,   5.04598096e+03,   2.07568926e+04,\n",
       "           -1.64309668e+04,  -2.06734043e+04,   2.05089863e+04,\n",
       "           -6.16192725e+03],\n",
       "         [ -3.28419750e+05,   2.73562781e+05,  -2.99969156e+05,\n",
       "            8.39488594e+04,  -4.97276016e+04,   3.31712656e+05,\n",
       "           -1.13095141e+05,  -3.24829094e+05,   3.20951594e+05,\n",
       "           -6.93336875e+04],\n",
       "         [  4.95181969e+05,  -3.97066562e+05,   4.31909500e+05,\n",
       "           -2.13073797e+05,   3.12167012e+04,  -5.02031531e+05,\n",
       "            2.72991594e+05,   4.96667844e+05,  -4.91844844e+05,\n",
       "            8.74924219e+04],\n",
       "         [ -2.59434719e+05,   1.84411469e+05,  -2.11444953e+05,\n",
       "            4.55773789e+04,  -1.66397090e+04,   2.62809531e+05,\n",
       "           -7.30018359e+04,  -2.56627938e+05,   2.53408016e+05,\n",
       "           -8.01454375e+04],\n",
       "         [ -4.24339094e+05,   3.55517844e+05,  -4.09371156e+05,\n",
       "           -8.38311406e+04,  -1.35319531e+05,   4.25404875e+05,\n",
       "            7.04860234e+04,  -4.04178625e+05,   3.96725594e+05,\n",
       "           -1.46829234e+05],\n",
       "         [  2.20322656e+03,  -1.69272034e+03,   2.24676001e+03,\n",
       "            8.28634644e+02,   9.00918091e+02,  -2.20187988e+03,\n",
       "           -5.83137756e+02,   1.98678052e+03,  -1.93078455e+03,\n",
       "            9.73217407e+02],\n",
       "         [ -2.74342469e+05,   2.40546688e+05,  -2.77147781e+05,\n",
       "           -1.47824812e+05,  -1.25062312e+05,   2.73320156e+05,\n",
       "            1.59061703e+05,  -2.55957469e+05,   2.50312234e+05,\n",
       "           -1.16993906e+05],\n",
       "         [ -4.40318701e+03,   3.40629443e+03,  -4.46499219e+03,\n",
       "           -1.53698596e+03,  -1.74849402e+03,   4.40251758e+03,\n",
       "            1.06640747e+03,  -3.99262939e+03,   3.88414038e+03,\n",
       "           -1.89487268e+03],\n",
       "         [  2.07546016e+04,  -1.65021465e+04,   1.83839004e+04,\n",
       "           -1.21049512e+03,   3.57264478e+03,  -2.09324102e+04,\n",
       "            2.43810352e+03,   2.03704883e+04,  -2.00949141e+04,\n",
       "            6.10107715e+03],\n",
       "         [ -1.06540188e+06,   9.09199688e+05,  -1.04871700e+06,\n",
       "           -2.44715500e+05,  -3.70505625e+05,   1.06686375e+06,\n",
       "            2.16562828e+05,  -1.00997831e+06,   9.90605875e+05,\n",
       "           -3.69066625e+05]], dtype=float32),\n",
       "  <tf.Variable 'ExpRecurrentTrainer/hidden_state/Wm:0' shape=(2, 10) dtype=float32_ref>: array([[ 0.,  0.,  0.,  0.,  0.,  0.,  0.,  0.,  0.,  0.],\n",
       "         [ 0.,  0.,  0.,  0.,  0.,  0.,  0.,  0.,  0.,  0.]]),\n",
       "  <tf.Variable 'ExpRecurrentTrainer/hidden_state/Wt:0' shape=(10, 1) dtype=float32_ref>: array([[  11466.62695312],\n",
       "         [ 124992.4140625 ],\n",
       "         [-187330.90625   ],\n",
       "         [  95432.6015625 ],\n",
       "         [ 152642.859375  ],\n",
       "         [  -2372.49926758],\n",
       "         [  99862.7421875 ],\n",
       "         [   5238.42675781],\n",
       "         [  -6601.69433594],\n",
       "         [ 392964.59375   ]], dtype=float32),\n",
       "  <tf.Variable 'ExpRecurrentTrainer/hidden_state/Bh:0' shape=(10, 1) dtype=float32_ref>: array([[   21150.24609375],\n",
       "         [  362202.96875   ],\n",
       "         [ -504511.96875   ],\n",
       "         [  254781.53125   ],\n",
       "         [  513267.78125   ],\n",
       "         [   -5744.30126953],\n",
       "         [  365540.65625   ],\n",
       "         [   12324.07714844],\n",
       "         [  -20642.85351562],\n",
       "         [ 1336837.875     ]], dtype=float32),\n",
       "  <tf.Variable 'ExpRecurrentTrainer/hidden_state/Wr:0' shape=(10, 1) dtype=float32_ref>: array([[  5.03731172e+04],\n",
       "         [  5.47693625e+05],\n",
       "         [ -9.55745562e+05],\n",
       "         [  4.62110812e+05],\n",
       "         [  4.38573625e+05],\n",
       "         [ -1.92275345e+02],\n",
       "         [  1.90914578e+05],\n",
       "         [  7.88530579e+02],\n",
       "         [ -3.30619375e+04],\n",
       "         [  9.99245625e+05]], dtype=float32),\n",
       "  <tf.Variable 'ExpRecurrentTrainer/output/bt:0' shape=(1,) dtype=float32_ref>: array([ 1262695.25], dtype=float32),\n",
       "  <tf.Variable 'ExpRecurrentTrainer/output/vt:0' shape=(10, 1) dtype=float32_ref>: array([[-1216814.      ],\n",
       "         [  107210.140625],\n",
       "         [ -216701.0625  ],\n",
       "         [  433744.3125  ],\n",
       "         [  587743.875   ],\n",
       "         [ 1262584.      ],\n",
       "         [-1210124.125   ],\n",
       "         [-1262003.25    ],\n",
       "         [ 1254534.625   ],\n",
       "         [ -590649.5625  ]], dtype=float32),\n",
       "  <tf.Variable 'ExpRecurrentTrainer/output/wt:0' shape=(1,) dtype=float32_ref>: array([ 101364.890625], dtype=float32)},\n",
       " {<tf.Variable 'ExpRecurrentTrainer/hidden_state/Wh:0' shape=(10, 10) dtype=float32_ref>: array([[ -4.76369434e+03,   2.35550317e+03,  -3.00711963e+03,\n",
       "            3.18335229e+03,   5.68518433e+02,   4.87853271e+03,\n",
       "           -4.22667480e+03,  -4.86935938e+03,   4.83618018e+03,\n",
       "           -1.61009705e+03],\n",
       "         [ -8.44498438e+04,   6.92299844e+04,  -7.90193516e+04,\n",
       "            2.08919238e+04,  -2.09307324e+04,   8.50118984e+04,\n",
       "           -2.44273047e+04,  -8.39582422e+04,   8.19682500e+04,\n",
       "           -1.24364014e+04],\n",
       "         [  1.11415930e+05,  -8.61383203e+04,   9.80544375e+04,\n",
       "           -6.30148516e+04,   2.15940605e+04,  -1.12610492e+05,\n",
       "            7.56360469e+04,   1.12093516e+05,  -1.11091289e+05,\n",
       "            1.93504902e+04],\n",
       "         [ -5.65553008e+04,   3.87818359e+04,  -4.57968086e+04,\n",
       "            1.51857939e+04,  -6.31740137e+03,   5.72930664e+04,\n",
       "           -1.98138301e+04,  -5.66775273e+04,   5.55951445e+04,\n",
       "           -1.36401650e+04],\n",
       "         [ -1.08880867e+05,   9.14228125e+04,  -1.07367656e+05,\n",
       "           -1.99674102e+04,  -2.69714980e+04,   1.09199031e+05,\n",
       "            2.33599668e+04,  -1.06504641e+05,   1.00845422e+05,\n",
       "           -1.21519590e+04],\n",
       "         [  2.65946167e+02,  -2.19625900e+02,   2.92933014e+02,\n",
       "            1.57883453e+02,   7.49764252e+00,  -2.65763123e+02,\n",
       "           -1.62123505e+02,   2.52760696e+02,  -2.15451584e+02,\n",
       "           -2.42219391e+01],\n",
       "         [ -4.78874883e+04,   4.25099883e+04,  -4.93259805e+04,\n",
       "           -2.89827148e+04,  -1.61639502e+04,   4.78132773e+04,\n",
       "            3.54590547e+04,  -4.62414102e+04,   4.33586836e+04,\n",
       "           -5.71908740e+03],\n",
       "         [ -6.29037537e+02,   5.21295471e+02,  -6.79818848e+02,\n",
       "           -3.20871399e+02,  -4.26968231e+01,   6.29037659e+02,\n",
       "            3.31552856e+02,  -6.01156982e+02,   5.23153320e+02,\n",
       "            3.46617317e+01],\n",
       "         [  4.23482129e+03,  -3.23423096e+03,   3.73677856e+03,\n",
       "           -8.46323608e+02,   8.36007080e+02,  -4.27309766e+03,\n",
       "            1.04108557e+03,   4.21901953e+03,  -4.12453467e+03,\n",
       "            8.17847839e+02],\n",
       "         [ -2.52642375e+05,   2.17183328e+05,  -2.57513781e+05,\n",
       "           -7.45729297e+04,  -6.33616445e+04,   2.52935156e+05,\n",
       "            8.70142422e+04,  -2.45642766e+05,   2.29547156e+05,\n",
       "           -2.01269980e+04]], dtype=float32),\n",
       "  <tf.Variable 'ExpRecurrentTrainer/hidden_state/Wm:0' shape=(2, 10) dtype=float32_ref>: array([[  4.86078694e+02,   8.22948475e+03,  -5.35942116e+02,\n",
       "           -3.41081717e+03,   2.22259021e+04,  -3.64131980e+03,\n",
       "            1.04393202e+04,   2.32237207e+03,   1.83712473e+02,\n",
       "            8.37057604e+04],\n",
       "         [  2.73178970e+02,   2.60717319e+04,  -1.65788133e+04,\n",
       "            1.79554298e+04,   4.91213186e+04,  -2.21022181e+01,\n",
       "            3.60608057e+04,   9.06586448e+01,  -1.50925266e+03,\n",
       "            1.14554133e+05]]),\n",
       "  <tf.Variable 'ExpRecurrentTrainer/hidden_state/Wt:0' shape=(10, 1) dtype=float32_ref>: array([[   2825.32958984],\n",
       "         [  36199.8828125 ],\n",
       "         [ -47759.515625  ],\n",
       "         [  27585.08203125],\n",
       "         [  49500.        ],\n",
       "         [   -485.18505859],\n",
       "         [  21457.90625   ],\n",
       "         [    527.63049316],\n",
       "         [  -1899.42260742],\n",
       "         [ 117242.796875  ]], dtype=float32),\n",
       "  <tf.Variable 'ExpRecurrentTrainer/hidden_state/Bh:0' shape=(10, 1) dtype=float32_ref>: array([[   5364.92529297],\n",
       "         [  94356.5       ],\n",
       "         [-113288.71875   ],\n",
       "         [  54340.50390625],\n",
       "         [ 135722.9375    ],\n",
       "         [  -3943.34960938],\n",
       "         [  60275.03515625],\n",
       "         [   3026.03564453],\n",
       "         [  -4135.28857422],\n",
       "         [ 349636.84375   ]], dtype=float32),\n",
       "  <tf.Variable 'ExpRecurrentTrainer/hidden_state/Wr:0' shape=(10, 1) dtype=float32_ref>: array([[  1.20791670e+04],\n",
       "         [  1.38265719e+05],\n",
       "         [ -2.23797219e+05],\n",
       "         [  1.08072125e+05],\n",
       "         [  1.22021625e+05],\n",
       "         [ -2.24137306e+01],\n",
       "         [  3.63624336e+04],\n",
       "         [  1.75256516e+02],\n",
       "         [ -7.27898486e+03],\n",
       "         [  2.32351547e+05]], dtype=float32),\n",
       "  <tf.Variable 'ExpRecurrentTrainer/output/bt:0' shape=(1,) dtype=float32_ref>: array([ 309546.53125], dtype=float32),\n",
       "  <tf.Variable 'ExpRecurrentTrainer/output/vt:0' shape=(10, 1) dtype=float32_ref>: array([[-299153.53125   ],\n",
       "         [  28571.28125   ],\n",
       "         [ -59822.53515625],\n",
       "         [ 114109.984375  ],\n",
       "         [ 104783.671875  ],\n",
       "         [ 309533.5625    ],\n",
       "         [-299658.96875   ],\n",
       "         [-309404.34375   ],\n",
       "         [ 307869.75      ],\n",
       "         [-156269.3125    ]], dtype=float32),\n",
       "  <tf.Variable 'ExpRecurrentTrainer/output/wt:0' shape=(1,) dtype=float32_ref>: array([ 49170.3828125], dtype=float32)}]"
      ]
     },
     "execution_count": 382,
     "metadata": {},
     "output_type": "execute_result"
    }
   ],
   "source": [
    "true_grads"
   ]
  },
  {
   "cell_type": "code",
   "execution_count": 374,
   "metadata": {},
   "outputs": [
    {
     "name": "stdout",
     "output_type": "stream",
     "text": [
      "> \u001b[0;32m/home/utkarshu/prog/work/broadcast-rl/tpprl/exp_broadcaster.py\u001b[0m(321)\u001b[0;36mget_batch_grad\u001b[0;34m()\u001b[0m\n",
      "\u001b[0;32m    319 \u001b[0;31m                    \u001b[0mnp_loss_grad\u001b[0m \u001b[0;34m=\u001b[0m \u001b[0mloss_grad\u001b[0m\u001b[0;34m\u001b[0m\u001b[0m\n",
      "\u001b[0m\u001b[0;32m    320 \u001b[0;31m\u001b[0;34m\u001b[0m\u001b[0m\n",
      "\u001b[0m\u001b[0;32m--> 321 \u001b[0;31m                \u001b[0mbatch_grad\u001b[0m\u001b[0;34m[\u001b[0m\u001b[0mx\u001b[0m\u001b[0;34m]\u001b[0m \u001b[0;34m=\u001b[0m \u001b[0;34m(\u001b[0m\u001b[0mreward\u001b[0m \u001b[0;34m+\u001b[0m \u001b[0mloss\u001b[0m\u001b[0;34m)\u001b[0m \u001b[0;34m*\u001b[0m \u001b[0mnp_LL_grad\u001b[0m \u001b[0;34m+\u001b[0m \u001b[0mnp_loss_grad\u001b[0m\u001b[0;34m\u001b[0m\u001b[0m\n",
      "\u001b[0m\u001b[0;32m    322 \u001b[0;31m\u001b[0;34m\u001b[0m\u001b[0m\n",
      "\u001b[0m\u001b[0;32m    323 \u001b[0;31m            \u001b[0mtrue_grads\u001b[0m\u001b[0;34m.\u001b[0m\u001b[0mappend\u001b[0m\u001b[0;34m(\u001b[0m\u001b[0mbatch_grad\u001b[0m\u001b[0;34m)\u001b[0m\u001b[0;34m\u001b[0m\u001b[0m\n",
      "\u001b[0m\n",
      "ipdb> x\n",
      "<tf.Variable 'ExpRecurrentTrainer/hidden_state/Wh:0' shape=(10, 10) dtype=float32_ref>\n",
      "ipdb> reward\n",
      "223696.51133606216\n",
      "ipdb> loss\n",
      "0.34115934\n",
      "ipdb> np_LL_grad\n",
      "[array([[ -9.04401094e-02,   4.61084209e-02,  -5.63836321e-02,\n",
      "          5.31124845e-02,   2.25571916e-02,   9.27902088e-02,\n",
      "         -7.34518692e-02,  -9.24169943e-02,   9.16819870e-02,\n",
      "         -2.75458544e-02],\n",
      "       [ -1.46814597e+00,   1.22291708e+00,  -1.34096241e+00,\n",
      "          3.75279397e-01,  -2.22299084e-01,   1.48286641e+00,\n",
      "         -5.05572975e-01,  -1.45209455e+00,   1.43476093e+00,\n",
      "         -3.09944719e-01],\n",
      "       [  2.21362877e+00,  -1.77502024e+00,   1.93077993e+00,\n",
      "         -9.52510893e-01,   1.39549285e-01,  -2.24424863e+00,\n",
      "          1.22036350e+00,   2.22027111e+00,  -2.19871068e+00,\n",
      "          3.91120255e-01],\n",
      "       [ -1.15975952e+00,   8.24380755e-01,  -9.45229411e-01,\n",
      "          2.03745902e-01,  -7.43851960e-02,   1.17484605e+00,\n",
      "         -3.26342285e-01,  -1.14721227e+00,   1.13281810e+00,\n",
      "         -3.58276695e-01],\n",
      "       [ -1.89693761e+00,   1.58928370e+00,  -1.83002615e+00,\n",
      "         -3.74753356e-01,  -6.04923606e-01,   1.90170205e+00,\n",
      "          3.15096229e-01,  -1.80681360e+00,   1.77349603e+00,\n",
      "         -6.56375766e-01],\n",
      "       [  9.84914973e-03,  -7.56701874e-03,   1.00437589e-02,\n",
      "          3.70427081e-03,   4.02740156e-03,  -9.84312966e-03,\n",
      "         -2.60681892e-03,   8.88156518e-03,  -8.63124430e-03,\n",
      "          4.35060309e-03],\n",
      "       [ -1.22640228e+00,   1.07532406e+00,  -1.23894298e+00,\n",
      "         -6.60826266e-01,  -5.59070289e-01,   1.22183228e+00,\n",
      "          7.11059034e-01,  -1.14421535e+00,   1.11897922e+00,\n",
      "         -5.23001790e-01],\n",
      "       [ -1.96836926e-02,   1.52272563e-02,  -1.99599825e-02,\n",
      "         -6.87083229e-03,  -7.81634264e-03,   1.96806993e-02,\n",
      "          4.76719253e-03,  -1.78483650e-02,   1.73633844e-02,\n",
      "         -8.47070292e-03],\n",
      "       [  9.27799046e-02,  -7.37700537e-02,   8.21820870e-02,\n",
      "         -5.41134505e-03,   1.59708876e-02,  -9.35747698e-02,\n",
      "          1.08991470e-02,   9.10627991e-02,  -8.98308977e-02,\n",
      "          2.72738058e-02],\n",
      "       [ -4.76270294e+00,   4.06442738e+00,  -4.68811607e+00,\n",
      "         -1.09396029e+00,  -1.65628433e+00,   4.76923847e+00,\n",
      "          9.68108535e-01,  -4.51494122e+00,   4.42833996e+00,\n",
      "         -1.64985144e+00]], dtype=float32)]\n",
      "ipdb> LL_grads[x]\n",
      "[[array([[ -9.04401094e-02,   4.61084209e-02,  -5.63836321e-02,\n",
      "          5.31124845e-02,   2.25571916e-02,   9.27902088e-02,\n",
      "         -7.34518692e-02,  -9.24169943e-02,   9.16819870e-02,\n",
      "         -2.75458544e-02],\n",
      "       [ -1.46814597e+00,   1.22291708e+00,  -1.34096241e+00,\n",
      "          3.75279397e-01,  -2.22299084e-01,   1.48286641e+00,\n",
      "         -5.05572975e-01,  -1.45209455e+00,   1.43476093e+00,\n",
      "         -3.09944719e-01],\n",
      "       [  2.21362877e+00,  -1.77502024e+00,   1.93077993e+00,\n",
      "         -9.52510893e-01,   1.39549285e-01,  -2.24424863e+00,\n",
      "          1.22036350e+00,   2.22027111e+00,  -2.19871068e+00,\n",
      "          3.91120255e-01],\n",
      "       [ -1.15975952e+00,   8.24380755e-01,  -9.45229411e-01,\n",
      "          2.03745902e-01,  -7.43851960e-02,   1.17484605e+00,\n",
      "         -3.26342285e-01,  -1.14721227e+00,   1.13281810e+00,\n",
      "         -3.58276695e-01],\n",
      "       [ -1.89693761e+00,   1.58928370e+00,  -1.83002615e+00,\n",
      "         -3.74753356e-01,  -6.04923606e-01,   1.90170205e+00,\n",
      "          3.15096229e-01,  -1.80681360e+00,   1.77349603e+00,\n",
      "         -6.56375766e-01],\n",
      "       [  9.84914973e-03,  -7.56701874e-03,   1.00437589e-02,\n",
      "          3.70427081e-03,   4.02740156e-03,  -9.84312966e-03,\n",
      "         -2.60681892e-03,   8.88156518e-03,  -8.63124430e-03,\n",
      "          4.35060309e-03],\n",
      "       [ -1.22640228e+00,   1.07532406e+00,  -1.23894298e+00,\n",
      "         -6.60826266e-01,  -5.59070289e-01,   1.22183228e+00,\n",
      "          7.11059034e-01,  -1.14421535e+00,   1.11897922e+00,\n",
      "         -5.23001790e-01],\n",
      "       [ -1.96836926e-02,   1.52272563e-02,  -1.99599825e-02,\n",
      "         -6.87083229e-03,  -7.81634264e-03,   1.96806993e-02,\n",
      "          4.76719253e-03,  -1.78483650e-02,   1.73633844e-02,\n",
      "         -8.47070292e-03],\n",
      "       [  9.27799046e-02,  -7.37700537e-02,   8.21820870e-02,\n",
      "         -5.41134505e-03,   1.59708876e-02,  -9.35747698e-02,\n",
      "          1.08991470e-02,   9.10627991e-02,  -8.98308977e-02,\n",
      "          2.72738058e-02],\n",
      "       [ -4.76270294e+00,   4.06442738e+00,  -4.68811607e+00,\n",
      "         -1.09396029e+00,  -1.65628433e+00,   4.76923847e+00,\n",
      "          9.68108535e-01,  -4.51494122e+00,   4.42833996e+00,\n",
      "         -1.64985144e+00]], dtype=float32)], [array([[ -8.68620053e-02,   4.29507121e-02,  -5.48323840e-02,\n",
      "          5.80457933e-02,   1.03663737e-02,   8.89559835e-02,\n",
      "         -7.70698860e-02,  -8.87887105e-02,   8.81837159e-02,\n",
      "         -2.93587409e-02],\n",
      "       [ -1.53987467e+00,   1.26235306e+00,  -1.44085431e+00,\n",
      "          3.80947322e-01,  -3.81655455e-01,   1.55012321e+00,\n",
      "         -4.45411980e-01,  -1.53091061e+00,   1.49462485e+00,\n",
      "         -2.26767689e-01],\n",
      "       [  2.03157973e+00,  -1.57066357e+00,   1.78794420e+00,\n",
      "         -1.14902472e+00,   3.93751025e-01,  -2.05336142e+00,\n",
      "          1.37916183e+00,   2.04393506e+00,  -2.02566004e+00,\n",
      "          3.52840155e-01],\n",
      "       [ -1.03123796e+00,   7.07154334e-01,  -8.35066140e-01,\n",
      "          2.76900470e-01,  -1.15193263e-01,   1.04469049e+00,\n",
      "         -3.61288607e-01,  -1.03346670e+00,   1.01373053e+00,\n",
      "         -2.48717010e-01],\n",
      "       [ -1.98535419e+00,   1.66702104e+00,  -1.95776212e+00,\n",
      "         -3.64089310e-01,  -4.91804212e-01,   1.99115562e+00,\n",
      "          4.25950050e-01,  -1.94202578e+00,   1.83883464e+00,\n",
      "         -2.21581385e-01],\n",
      "       [  4.84923180e-03,  -4.00463445e-03,   5.34130633e-03,\n",
      "          2.87882914e-03,   1.36714531e-04,  -4.84589487e-03,\n",
      "         -2.95614311e-03,   4.60880995e-03,  -3.92852072e-03,\n",
      "         -4.41657787e-04],\n",
      "       [ -8.73185039e-01,   7.75131643e-01,  -8.99414182e-01,\n",
      "         -5.28473675e-01,  -2.94737041e-01,   8.71831894e-01,\n",
      "          6.46564662e-01,  -8.43170404e-01,   7.90606976e-01,\n",
      "         -1.04283765e-01],\n",
      "       [ -1.14697414e-02,   9.50519834e-03,  -1.23956706e-02,\n",
      "         -5.85068204e-03,  -7.78546266e-04,   1.14697441e-02,\n",
      "          6.04544953e-03,  -1.09613761e-02,   9.53907892e-03,\n",
      "          6.31998642e-04],\n",
      "       [  7.72173405e-02,  -5.89726381e-02,   6.81358203e-02,\n",
      "         -1.54327471e-02,   1.52439773e-02,  -7.79152736e-02,\n",
      "          1.89840607e-02,   7.69292712e-02,  -7.52065927e-02,\n",
      "          1.49129294e-02],\n",
      "       [ -4.60673046e+00,   3.96016359e+00,  -4.69555664e+00,\n",
      "         -1.35977626e+00,  -1.15535021e+00,   4.61206913e+00,\n",
      "          1.58663392e+00,  -4.47909832e+00,   4.18560839e+00,\n",
      "         -3.67000490e-01]], dtype=float32)]]\n",
      "ipdb> len(LL_grads[x])\n",
      "2\n",
      "ipdb> len(LL_grads[x][0])\n",
      "1\n",
      "ipdb> type(LL_grads[x][0])\n",
      "<class 'list'>\n",
      "ipdb> \n",
      "<class 'list'>\n",
      "ipdb> q\n"
     ]
    }
   ],
   "source": [
    "%debug"
   ]
  },
  {
   "cell_type": "code",
   "execution_count": 351,
   "metadata": {},
   "outputs": [],
   "source": [
    "tf.reset_default_graph()\n",
    "x = tf.get_variable('x', shape=[], dtype=tf.float32)\n",
    "y = tf.constant(np.asarray([[0, 1]]), dtype=tf.float32) + x"
   ]
  },
  {
   "cell_type": "code",
   "execution_count": 355,
   "metadata": {
    "collapsed": true
   },
   "outputs": [],
   "source": [
    "iterSession = tf.InteractiveSession()"
   ]
  },
  {
   "cell_type": "code",
   "execution_count": 357,
   "metadata": {
    "collapsed": true
   },
   "outputs": [],
   "source": [
    "tf.gradients?"
   ]
  },
  {
   "cell_type": "code",
   "execution_count": 356,
   "metadata": {},
   "outputs": [
    {
     "data": {
      "text/plain": [
       "[2.0]"
      ]
     },
     "execution_count": 356,
     "metadata": {},
     "output_type": "execute_result"
    }
   ],
   "source": [
    "iterSession.run(tf.gradients(y, x), feed_dict={x: 4})"
   ]
  },
  {
   "cell_type": "code",
   "execution_count": 365,
   "metadata": {
    "collapsed": true
   },
   "outputs": [],
   "source": [
    "tf.split?"
   ]
  },
  {
   "cell_type": "code",
   "execution_count": 364,
   "metadata": {},
   "outputs": [
    {
     "data": {
      "text/plain": [
       "[[1.0], [1.0]]"
      ]
     },
     "execution_count": 364,
     "metadata": {},
     "output_type": "execute_result"
    }
   ],
   "source": [
    "iterSession.run([tf.gradients(y_, x) for y_ in tf.split(y, 2, axis=1)])"
   ]
  },
  {
   "cell_type": "code",
   "execution_count": 358,
   "metadata": {},
   "outputs": [
    {
     "data": {
      "text/plain": [
       "tensorflow.python.ops.gradients_impl.AggregationMethod"
      ]
     },
     "execution_count": 358,
     "metadata": {},
     "output_type": "execute_result"
    }
   ],
   "source": [
    "tf.AggregationMethod."
   ]
  },
  {
   "cell_type": "code",
   "execution_count": 366,
   "metadata": {},
   "outputs": [
    {
     "data": {
      "text/plain": [
       "<tf.Tensor 'add_5:0' shape=(2,) dtype=float32>"
      ]
     },
     "execution_count": 366,
     "metadata": {},
     "output_type": "execute_result"
    }
   ],
   "source": [
    "trainer.LL"
   ]
  },
  {
   "cell_type": "code",
   "execution_count": null,
   "metadata": {
    "collapsed": true
   },
   "outputs": [],
   "source": []
  },
  {
   "cell_type": "code",
   "execution_count": null,
   "metadata": {
    "collapsed": true
   },
   "outputs": [],
   "source": []
  },
  {
   "cell_type": "code",
   "execution_count": null,
   "metadata": {
    "collapsed": true
   },
   "outputs": [],
   "source": []
  },
  {
   "cell_type": "code",
   "execution_count": null,
   "metadata": {
    "collapsed": true
   },
   "outputs": [],
   "source": []
  },
  {
   "cell_type": "code",
   "execution_count": null,
   "metadata": {
    "collapsed": true
   },
   "outputs": [],
   "source": []
  },
  {
   "cell_type": "code",
   "execution_count": null,
   "metadata": {
    "collapsed": true
   },
   "outputs": [],
   "source": []
  }
 ],
 "metadata": {
  "kernelspec": {
   "display_name": "Python 3",
   "language": "python",
   "name": "python3"
  },
  "language_info": {
   "codemirror_mode": {
    "name": "ipython",
    "version": 3
   },
   "file_extension": ".py",
   "mimetype": "text/x-python",
   "name": "python",
   "nbconvert_exporter": "python",
   "pygments_lexer": "ipython3",
   "version": "3.6.1"
  },
  "nav_menu": {},
  "toc": {
   "navigate_menu": true,
   "number_sections": true,
   "sideBar": true,
   "threshold": 6,
   "toc_cell": false,
   "toc_section_display": "block",
   "toc_window_display": false
  }
 },
 "nbformat": 4,
 "nbformat_minor": 1
}
