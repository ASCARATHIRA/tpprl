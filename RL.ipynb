{
 "cells": [
  {
   "cell_type": "code",
   "execution_count": 5,
   "metadata": {
    "collapsed": true
   },
   "outputs": [],
   "source": [
    "%matplotlib inline"
   ]
  },
  {
   "cell_type": "code",
   "execution_count": 6,
   "metadata": {
    "collapsed": true
   },
   "outputs": [],
   "source": [
    "import redqueen.opt_model as OM\n",
    "import redqueen.opt_runs as OR\n",
    "import redqueen.utils as RU\n",
    "import tensorflow as tf\n",
    "import matplotlib.pyplot as plt\n",
    "import seaborn as sns\n",
    "import numpy as np\n",
    "import decorated_options as Deco\n",
    "import multiprocessing as MP"
   ]
  },
  {
   "cell_type": "code",
   "execution_count": 7,
   "metadata": {
    "collapsed": true
   },
   "outputs": [],
   "source": [
    "sns.set_style(style='dark')\n",
    "sns.set_palette('Set2')"
   ]
  },
  {
   "cell_type": "code",
   "execution_count": 8,
   "metadata": {},
   "outputs": [
    {
     "data": {
      "text/plain": [
       "<module 'redqueen.utils' from '/Users/musically_ut/prog/work/RedQueen/redqueen/utils.py'>"
      ]
     },
     "execution_count": 8,
     "metadata": {},
     "output_type": "execute_result"
    }
   ],
   "source": [
    "from importlib import reload\n",
    "reload(OM)\n",
    "reload(OR)\n",
    "reload(RU)"
   ]
  },
  {
   "cell_type": "code",
   "execution_count": 9,
   "metadata": {},
   "outputs": [
    {
     "data": {
      "text/plain": [
       "<redqueen.opt_model.SimOpts at 0x1213879e8>"
      ]
     },
     "execution_count": 9,
     "metadata": {},
     "output_type": "execute_result"
    }
   ],
   "source": [
    "OR.SimOpts(**{\n",
    "        'src_id': 1,\n",
    "        'q_vec': [],\n",
    "        's': 1.0,\n",
    "        'other_sources': [\n",
    "            (\n",
    "                'Poisson', \n",
    "                {\n",
    "                    'src_id': 2,\n",
    "                    'seed': 42,\n",
    "                    'rates': 100\n",
    "                }\n",
    "            )\n",
    "        ],\n",
    "        'sink_ids': [1001],\n",
    "        'end_time': 100.0,\n",
    "        'edge_list': [(1, 1001), (2, 1001)]\n",
    "    })"
   ]
  },
  {
   "cell_type": "code",
   "execution_count": 225,
   "metadata": {
    "collapsed": true
   },
   "outputs": [],
   "source": [
    "simOpts = OR.SimOpts.std_poisson(42, 1000)"
   ]
  },
  {
   "cell_type": "markdown",
   "metadata": {},
   "source": [
    "# Exponential sampler"
   ]
  },
  {
   "cell_type": "markdown",
   "metadata": {},
   "source": [
    "The output intensity is given by:\n",
    "\n",
    "$$\n",
    "u(t) = \\exp( \\underbrace{W_h \\cdot h_j}_{\\text{past}} - \\overbrace{W_t (t - t_j)}^{\\text{decay}} + \\underbrace{b_t}_{\\text{base}} )\n",
    "$$\n",
    "\n",
    "where $t_j$ is the last event before $t$.\n",
    "\n",
    "It is simplified to the following in the code:\n",
    "\n",
    "$$\n",
    "u(t) = c \\cdot e^{- W_t \\cdot (t - t_j)}\n",
    "$$"
   ]
  },
  {
   "cell_type": "code",
   "execution_count": 14,
   "metadata": {
    "collapsed": true
   },
   "outputs": [],
   "source": [
    "%run -i tpprl/exp_sampler.py"
   ]
  },
  {
   "cell_type": "markdown",
   "metadata": {},
   "source": [
    "Testing the sampler."
   ]
  },
  {
   "cell_type": "code",
   "execution_count": 8,
   "metadata": {
    "collapsed": true
   },
   "outputs": [],
   "source": [
    "def_plot_opts = Deco.Options(vt=0.5, \n",
    "                             wt=1.0,\n",
    "                             bt=1.0,\n",
    "                             init_h=0,\n",
    "                             t_min=0,\n",
    "                             t_max=10,\n",
    "                             resolution=200)\n",
    "\n",
    "@Deco.optioned()\n",
    "def plot_lambda(vt, wt, bt, init_h, t_min, t_max, events, resolution):\n",
    "    X = np.linspace(t_min, t_max, num=resolution)\n",
    "    \n",
    "    \n",
    "    event_idx = 0\n",
    "    c = np.exp(vt * init_h + bt)\n",
    "    t0 = t_min\n",
    "    \n",
    "    # TODO: In the baseilne, shouldn't the t_0 still be updated to the latest event?\n",
    "    Y1 = [c * np.exp(-wt * (x - t0)) for x in X]\n",
    "    \n",
    "    Y2 = [None] * len(X)\n",
    "    for idx, x in enumerate(X):\n",
    "        while event_idx < len(events) and events[event_idx][0] < x:\n",
    "            c = np.exp(vt * events[event_idx][1] + bt)\n",
    "            t0 = events[event_idx][0]\n",
    "            event_idx += 1\n",
    "            \n",
    "        Y2[idx] = c * np.exp(-wt * (x - t0))\n",
    "    \n",
    "    plt.step(X, Y1, '--', label='Baseline')\n",
    "    plt.step(X, Y2, '-', label='Correct')\n",
    "    plt.vlines([x[0] for x in events], ymin=0, ymax=max(Y2), label='Events')\n",
    "    plt.legend()\n",
    "    return (X, Y1, Y2)"
   ]
  },
  {
   "cell_type": "code",
   "execution_count": 9,
   "metadata": {
    "collapsed": true
   },
   "outputs": [],
   "source": [
    "events = [(1, -8), (5, 5), (9, 0)]"
   ]
  },
  {
   "cell_type": "code",
   "execution_count": 10,
   "metadata": {},
   "outputs": [
    {
     "data": {
      "image/png": "[encoded data removed]",
      "text/plain": [
       "<matplotlib.figure.Figure at 0x7f70ae71da90>"
      ]
     },
     "metadata": {},
     "output_type": "display_data"
    }
   ],
   "source": [
    "X, Y1, Y2 = plot_lambda(events=events, _opts=def_plot_opts)"
   ]
  },
  {
   "cell_type": "code",
   "execution_count": 11,
   "metadata": {
    "collapsed": true
   },
   "outputs": [],
   "source": [
    "sampler = ExpCDFSampler(_opts=def_plot_opts, seed=101 + 1279)"
   ]
  },
  {
   "cell_type": "code",
   "execution_count": 12,
   "metadata": {},
   "outputs": [
    {
     "data": {
      "text/plain": [
       "0.6092880541958573"
      ]
     },
     "execution_count": 12,
     "metadata": {},
     "output_type": "execute_result"
    }
   ],
   "source": [
    "sampler.generate_sample()"
   ]
  },
  {
   "cell_type": "code",
   "execution_count": 13,
   "metadata": {},
   "outputs": [
    {
     "data": {
      "text/plain": [
       "0.98369540000156641"
      ]
     },
     "execution_count": 13,
     "metadata": {},
     "output_type": "execute_result"
    }
   ],
   "source": [
    "sampler.reset_only_sample(sampler.generate_sample())"
   ]
  },
  {
   "cell_type": "code",
   "execution_count": 14,
   "metadata": {},
   "outputs": [
    {
     "data": {
      "text/plain": [
       "0.9725887021550208"
      ]
     },
     "execution_count": 14,
     "metadata": {},
     "output_type": "execute_result"
    }
   ],
   "source": [
    "sampler.reset(1, -4, False)"
   ]
  },
  {
   "cell_type": "code",
   "execution_count": 15,
   "metadata": {},
   "outputs": [
    {
     "data": {
      "text/plain": [
       "4.924794439657469"
      ]
     },
     "execution_count": 15,
     "metadata": {},
     "output_type": "execute_result"
    }
   ],
   "source": [
    "sampler.register_event(5, 0.5, False)"
   ]
  },
  {
   "cell_type": "code",
   "execution_count": 16,
   "metadata": {},
   "outputs": [
    {
     "data": {
      "text/plain": [
       "4.9482122321618336"
      ]
     },
     "execution_count": 16,
     "metadata": {},
     "output_type": "execute_result"
    }
   ],
   "source": [
    "sampler.reset_only_sample(sampler.generate_sample())"
   ]
  },
  {
   "cell_type": "code",
   "execution_count": 17,
   "metadata": {},
   "outputs": [
    {
     "data": {
      "text/plain": [
       "8.7893001591946209"
      ]
     },
     "execution_count": 17,
     "metadata": {},
     "output_type": "execute_result"
    }
   ],
   "source": [
    "sampler.register_event(9, 0, False)"
   ]
  },
  {
   "cell_type": "code",
   "execution_count": 18,
   "metadata": {},
   "outputs": [
    {
     "data": {
      "text/plain": [
       "9.0386156318159898"
      ]
     },
     "execution_count": 18,
     "metadata": {},
     "output_type": "execute_result"
    }
   ],
   "source": [
    "sampler.reset_only_sample(sampler.generate_sample())"
   ]
  },
  {
   "cell_type": "code",
   "execution_count": 19,
   "metadata": {},
   "outputs": [
    {
     "data": {
      "text/plain": [
       "9.0386156318159898"
      ]
     },
     "execution_count": 19,
     "metadata": {},
     "output_type": "execute_result"
    }
   ],
   "source": [
    "sampler.generate_sample()"
   ]
  },
  {
   "cell_type": "markdown",
   "metadata": {
    "collapsed": true
   },
   "source": [
    "## Tests"
   ]
  },
  {
   "cell_type": "code",
   "execution_count": 20,
   "metadata": {},
   "outputs": [
    {
     "name": "stdout",
     "output_type": "stream",
     "text": [
      "CPU times: user 1.23 s, sys: 467 ms, total: 1.7 s\n",
      "Wall time: 1.85 s\n"
     ]
    }
   ],
   "source": [
    "%%time\n",
    "all_sim_events = []\n",
    "processes = None\n",
    "N = 10000\n",
    "verbose = False\n",
    "\n",
    "assert not verbose or (N < 10 and processes is not None), \"Cannot have verbose output with these settings.\"\n",
    "\n",
    "def worker_sampler(params):\n",
    "    ii, sampler = params\n",
    "    event_idx = 0\n",
    "    next_sample = sampler.generate_sample()\n",
    "    sim_events = []\n",
    "        \n",
    "    while next_sample < def_plot_opts.t_max or event_idx < len(events):\n",
    "        while event_idx < len(events) and \\\n",
    "              events[event_idx][0] < next_sample:\n",
    "            # print(\"Old = \", next_sample)\n",
    "            old_sample = next_sample\n",
    "            next_sample = sampler.register_event(events[event_idx][0], \n",
    "                                                 events[event_idx][1], \n",
    "                                                 False)\n",
    "            if verbose:\n",
    "                print(\"Eps = {}, Old = {}, Event = {}, Next = {}\"\n",
    "                      .format(ii, old_sample, events[event_idx], next_sample))\n",
    "                \n",
    "            event_idx += 1\n",
    "            \n",
    "        if next_sample > def_plot_opts.t_max:\n",
    "            break\n",
    "            \n",
    "        if verbose:\n",
    "            print(\"Final sample = {}\".format(next_sample))                \n",
    "        \n",
    "        sim_events.append(next_sample)\n",
    "        next_sample = sampler.reset_only_sample(next_sample)\n",
    "    \n",
    "    return sim_events\n",
    "    \n",
    "\n",
    "with MP.Pool(processes=processes) as pool:\n",
    "    for sim_events in pool.map(worker_sampler,\n",
    "                               [(ii, ExpCDFSampler(_opts=def_plot_opts, seed=101 + ii))\n",
    "                                for ii in range(N)]):\n",
    "        all_sim_events.append(sim_events)\n"
   ]
  },
  {
   "cell_type": "code",
   "execution_count": 21,
   "metadata": {
    "collapsed": true
   },
   "outputs": [],
   "source": [
    "flat_events = [x for y in all_sim_events for x in y]"
   ]
  },
  {
   "cell_type": "code",
   "execution_count": 22,
   "metadata": {},
   "outputs": [
    {
     "data": {
      "text/plain": [
       "[]"
      ]
     },
     "execution_count": 22,
     "metadata": {},
     "output_type": "execute_result"
    }
   ],
   "source": [
    "[x for x in flat_events if x < 0]"
   ]
  },
  {
   "cell_type": "code",
   "execution_count": 23,
   "metadata": {
    "scrolled": true
   },
   "outputs": [
    {
     "data": {
      "image/png": "[encoded data removed]",
      "text/plain": [
       "<matplotlib.figure.Figure at 0x7f70ac326668>"
      ]
     },
     "metadata": {},
     "output_type": "display_data"
    }
   ],
   "source": [
    "plt.hist(flat_events, bins=200);"
   ]
  },
  {
   "cell_type": "code",
   "execution_count": 24,
   "metadata": {},
   "outputs": [
    {
     "data": {
      "image/png": "[encoded data removed]",
      "text/plain": [
       "<matplotlib.figure.Figure at 0x7f719c8809b0>"
      ]
     },
     "metadata": {},
     "output_type": "display_data"
    }
   ],
   "source": [
    "X, Y1, Y2 = plot_lambda(events=events, _opts=def_plot_opts)"
   ]
  },
  {
   "cell_type": "code",
   "execution_count": 26,
   "metadata": {},
   "outputs": [
    {
     "data": {
      "text/plain": [
       "10000"
      ]
     },
     "execution_count": 26,
     "metadata": {},
     "output_type": "execute_result"
    }
   ],
   "source": [
    "len(all_sim_events)"
   ]
  },
  {
   "cell_type": "markdown",
   "metadata": {},
   "source": [
    "## ExpCDFBroadcaster"
   ]
  },
  {
   "cell_type": "code",
   "execution_count": 226,
   "metadata": {
    "collapsed": true
   },
   "outputs": [],
   "source": [
    "class ExpBroadcasterOld(OM.Broadcaster):\n",
    "    \n",
    "    @Deco.optioned()\n",
    "    def __init__(self, src_id, seed, vt, wt, bt, init_h, t_min=0):\n",
    "        super(ExpBroadcasterOld, self).__init__(src_id, seed)\n",
    "        self.init = False\n",
    "        self.vt = vt\n",
    "        self.wt = wt\n",
    "        self.bt = bt\n",
    "        self.init_h = init_h\n",
    "        self.exp_sampler = ExpCDFSampler(vt=vt, wt=wt, bt=bt,\n",
    "                                         init_h=init_h, t_min=t_min, seed=seed)\n",
    "        \n",
    "    def get_next_interval(self, event):\n",
    "        if not self.init:\n",
    "            self.init = True\n",
    "            # Nothing special to do for the first event.\n",
    "            \n",
    "        self.state.apply_event(event)\n",
    "        \n",
    "        if event is None:\n",
    "            # This is the first event. Post immediately to join the party?\n",
    "            # Or hold off?\n",
    "            return self.exp_sampler.generate_sample()\n",
    "        elif event.src_id == self.src_id:\n",
    "            # We posted.\n",
    "            hidden_state = self.exp_sampler.get_last_hidden_state()\n",
    "            new_hidden_state = self.random_state.randn(*hidden_state.shape)\n",
    "            self.exp_sampler.register_event(time=self.get_current_time(event), \n",
    "                                            new_h=hidden_state,\n",
    "                                            own_event=True)\n",
    "        else:\n",
    "            # Have to update the hidden state and the t0 of our ExpSampler\n",
    "            return None # Preserve the old time"
   ]
  },
  {
   "cell_type": "code",
   "execution_count": 227,
   "metadata": {
    "collapsed": true
   },
   "outputs": [],
   "source": [
    "OM.SimOpts.registerSource('ExpBroadcasterOld', ExpBroadcasterOld)"
   ]
  },
  {
   "cell_type": "code",
   "execution_count": 228,
   "metadata": {
    "collapsed": true
   },
   "outputs": [],
   "source": [
    "RS = np.random.RandomState(420)\n",
    "\n",
    "simOpts = OM.SimOpts(\n",
    "   src_id = 1,\n",
    "   end_time = 100, # When the simulations stop\n",
    "   q_vec = np.asarray([1.0, 1.0]), # Weights of followers\n",
    "   s = 1.0, # Control parameter for RedQueen\n",
    "   sink_ids = [1, 2],\n",
    "   other_sources = [\n",
    "      ('ExpBroadcasterOld', \n",
    "       {'src_id': 2,\n",
    "        'seed': 42,\n",
    "        'wt': 0.5,\n",
    "        'init_h': 0.1 * RS.randn(10),\n",
    "        'vt': 0.1 * RS.randn(10),\n",
    "        'bt': 1.0,\n",
    "       }\n",
    "      ),\n",
    "      ('Hawkes',\n",
    "       {'src_id': 3,\n",
    "        'seed': 43,\n",
    "        'alpha': 0.01 * np.exp(RS.randn(10).dot(RS.randn(10))),\n",
    "        'beta': 0.5,\n",
    "        'l_0': np.exp(1.0)\n",
    "       }\n",
    "      )\n",
    "   ],\n",
    "   edge_list=[(1, 1), (1, 2), \n",
    "              (2, 1), (2, 2),\n",
    "              (3, 1), (3, 2)]\n",
    ")"
   ]
  },
  {
   "cell_type": "code",
   "execution_count": 30,
   "metadata": {
    "collapsed": true
   },
   "outputs": [],
   "source": [
    "mgr = simOpts.create_manager_with_opt(seed=6)"
   ]
  },
  {
   "cell_type": "code",
   "execution_count": 31,
   "metadata": {},
   "outputs": [
    {
     "name": "stdout",
     "output_type": "stream",
     "text": [
      "CPU times: user 153 ms, sys: 3.33 ms, total: 157 ms\n",
      "Wall time: 150 ms\n"
     ]
    },
    {
     "data": {
      "text/plain": [
       "<redqueen.opt_model.Manager at 0x7f03d53f7048>"
      ]
     },
     "execution_count": 31,
     "metadata": {},
     "output_type": "execute_result"
    }
   ],
   "source": [
    "%%time\n",
    "mgr.run_dynamic()"
   ]
  },
  {
   "cell_type": "code",
   "execution_count": 32,
   "metadata": {
    "collapsed": true
   },
   "outputs": [],
   "source": [
    "df = mgr.get_state().get_dataframe()"
   ]
  },
  {
   "cell_type": "code",
   "execution_count": 33,
   "metadata": {},
   "outputs": [
    {
     "data": {
      "text/html": [
       "<div>\n",
       "<style>\n",
       "    .dataframe thead tr:only-child th {\n",
       "        text-align: right;\n",
       "    }\n",
       "\n",
       "    .dataframe thead th {\n",
       "        text-align: left;\n",
       "    }\n",
       "\n",
       "    .dataframe tbody tr th {\n",
       "        vertical-align: top;\n",
       "    }\n",
       "</style>\n",
       "<table border=\"1\" class=\"dataframe\">\n",
       "  <thead>\n",
       "    <tr style=\"text-align: right;\">\n",
       "      <th></th>\n",
       "      <th>event_id</th>\n",
       "      <th>sink_id</th>\n",
       "      <th>src_id</th>\n",
       "      <th>t</th>\n",
       "      <th>time_delta</th>\n",
       "    </tr>\n",
       "  </thead>\n",
       "  <tbody>\n",
       "    <tr>\n",
       "      <th>0</th>\n",
       "      <td>100</td>\n",
       "      <td>1</td>\n",
       "      <td>1</td>\n",
       "      <td>0.000000</td>\n",
       "      <td>0.000000</td>\n",
       "    </tr>\n",
       "    <tr>\n",
       "      <th>1</th>\n",
       "      <td>100</td>\n",
       "      <td>2</td>\n",
       "      <td>1</td>\n",
       "      <td>0.000000</td>\n",
       "      <td>0.000000</td>\n",
       "    </tr>\n",
       "    <tr>\n",
       "      <th>2</th>\n",
       "      <td>101</td>\n",
       "      <td>1</td>\n",
       "      <td>3</td>\n",
       "      <td>0.044966</td>\n",
       "      <td>0.044966</td>\n",
       "    </tr>\n",
       "    <tr>\n",
       "      <th>3</th>\n",
       "      <td>101</td>\n",
       "      <td>2</td>\n",
       "      <td>3</td>\n",
       "      <td>0.044966</td>\n",
       "      <td>0.044966</td>\n",
       "    </tr>\n",
       "    <tr>\n",
       "      <th>4</th>\n",
       "      <td>102</td>\n",
       "      <td>1</td>\n",
       "      <td>3</td>\n",
       "      <td>0.097634</td>\n",
       "      <td>0.052668</td>\n",
       "    </tr>\n",
       "  </tbody>\n",
       "</table>\n",
       "</div>"
      ],
      "text/plain": [
       "   event_id  sink_id  src_id         t  time_delta\n",
       "0       100        1       1  0.000000    0.000000\n",
       "1       100        2       1  0.000000    0.000000\n",
       "2       101        1       3  0.044966    0.044966\n",
       "3       101        2       3  0.044966    0.044966\n",
       "4       102        1       3  0.097634    0.052668"
      ]
     },
     "execution_count": 33,
     "metadata": {},
     "output_type": "execute_result"
    }
   ],
   "source": [
    "df.head()"
   ]
  },
  {
   "cell_type": "code",
   "execution_count": 34,
   "metadata": {},
   "outputs": [
    {
     "data": {
      "text/plain": [
       "src_id\n",
       "1     614\n",
       "2    1174\n",
       "3     520\n",
       "dtype: int64"
      ]
     },
     "execution_count": 34,
     "metadata": {},
     "output_type": "execute_result"
    }
   ],
   "source": [
    "df.groupby('src_id').size()"
   ]
  },
  {
   "cell_type": "markdown",
   "metadata": {},
   "source": [
    "# Reinf broadcaster"
   ]
  },
  {
   "cell_type": "code",
   "execution_count": 23,
   "metadata": {
    "collapsed": true
   },
   "outputs": [],
   "source": [
    "iterSession = tf.InteractiveSession()"
   ]
  },
  {
   "cell_type": "code",
   "execution_count": 96,
   "metadata": {
    "collapsed": true
   },
   "outputs": [
    {
     "ename": "RuntimeError",
     "evalue": "Graph is finalized and cannot be modified.",
     "output_type": "error",
     "traceback": [
      "\u001b[0;31m---------------------------------------------------------------------------\u001b[0m",
      "\u001b[0;31mRuntimeError\u001b[0m                              Traceback (most recent call last)",
      "\u001b[0;32m~/prog/work/tpprl/tpprl/exp_broadcaster.py\u001b[0m in \u001b[0;36m<module>\u001b[0;34m()\u001b[0m\n\u001b[0;32m----> 1\u001b[0;31m \u001b[0miterSession\u001b[0m\u001b[0;34m.\u001b[0m\u001b[0mrun\u001b[0m\u001b[0;34m(\u001b[0m\u001b[0mtf\u001b[0m\u001b[0;34m.\u001b[0m\u001b[0mone_hot\u001b[0m\u001b[0;34m(\u001b[0m\u001b[0;34m[\u001b[0m\u001b[0;36m0\u001b[0m\u001b[0;34m,\u001b[0m\u001b[0;36m1\u001b[0m\u001b[0;34m]\u001b[0m\u001b[0;34m,\u001b[0m \u001b[0mdepth\u001b[0m\u001b[0;34m=\u001b[0m\u001b[0;36m1\u001b[0m\u001b[0;34m,\u001b[0m \u001b[0mdtype\u001b[0m\u001b[0;34m=\u001b[0m\u001b[0mtf\u001b[0m\u001b[0;34m.\u001b[0m\u001b[0mfloat32\u001b[0m\u001b[0;34m)\u001b[0m\u001b[0;34m)\u001b[0m\u001b[0;34m\u001b[0m\u001b[0m\n\u001b[0m",
      "\u001b[0;32m~/miniconda3/lib/python3.6/site-packages/tensorflow/python/ops/array_ops.py\u001b[0m in \u001b[0;36mone_hot\u001b[0;34m(indices, depth, on_value, off_value, axis, dtype, name)\u001b[0m\n\u001b[1;32m   2203\u001b[0m     \u001b[0;32mif\u001b[0m \u001b[0;32mnot\u001b[0m \u001b[0mon_exists\u001b[0m\u001b[0;34m:\u001b[0m\u001b[0;34m\u001b[0m\u001b[0m\n\u001b[1;32m   2204\u001b[0m       \u001b[0;31m# on_value not provided: assign to value 1 of type dtype\u001b[0m\u001b[0;34m\u001b[0m\u001b[0;34m\u001b[0m\u001b[0m\n\u001b[0;32m-> 2205\u001b[0;31m       \u001b[0mon_value\u001b[0m \u001b[0;34m=\u001b[0m \u001b[0mops\u001b[0m\u001b[0;34m.\u001b[0m\u001b[0mconvert_to_tensor\u001b[0m\u001b[0;34m(\u001b[0m\u001b[0;36m1\u001b[0m\u001b[0;34m,\u001b[0m \u001b[0mdtype\u001b[0m\u001b[0;34m,\u001b[0m \u001b[0mname\u001b[0m\u001b[0;34m=\u001b[0m\u001b[0;34m\"on_value\"\u001b[0m\u001b[0;34m)\u001b[0m\u001b[0;34m\u001b[0m\u001b[0m\n\u001b[0m\u001b[1;32m   2206\u001b[0m       \u001b[0mon_dtype\u001b[0m \u001b[0;34m=\u001b[0m \u001b[0mdtype\u001b[0m\u001b[0;34m\u001b[0m\u001b[0m\n\u001b[1;32m   2207\u001b[0m     \u001b[0;32mif\u001b[0m \u001b[0;32mnot\u001b[0m \u001b[0moff_exists\u001b[0m\u001b[0;34m:\u001b[0m\u001b[0;34m\u001b[0m\u001b[0m\n",
      "\u001b[0;32m~/miniconda3/lib/python3.6/site-packages/tensorflow/python/framework/ops.py\u001b[0m in \u001b[0;36mconvert_to_tensor\u001b[0;34m(value, dtype, name, preferred_dtype)\u001b[0m\n\u001b[1;32m    609\u001b[0m       \u001b[0mname\u001b[0m\u001b[0;34m=\u001b[0m\u001b[0mname\u001b[0m\u001b[0;34m,\u001b[0m\u001b[0;34m\u001b[0m\u001b[0m\n\u001b[1;32m    610\u001b[0m       \u001b[0mpreferred_dtype\u001b[0m\u001b[0;34m=\u001b[0m\u001b[0mpreferred_dtype\u001b[0m\u001b[0;34m,\u001b[0m\u001b[0;34m\u001b[0m\u001b[0m\n\u001b[0;32m--> 611\u001b[0;31m       as_ref=False)\n\u001b[0m\u001b[1;32m    612\u001b[0m \u001b[0;34m\u001b[0m\u001b[0m\n\u001b[1;32m    613\u001b[0m \u001b[0;34m\u001b[0m\u001b[0m\n",
      "\u001b[0;32m~/miniconda3/lib/python3.6/site-packages/tensorflow/python/framework/ops.py\u001b[0m in \u001b[0;36minternal_convert_to_tensor\u001b[0;34m(value, dtype, name, as_ref, preferred_dtype)\u001b[0m\n\u001b[1;32m    674\u001b[0m \u001b[0;34m\u001b[0m\u001b[0m\n\u001b[1;32m    675\u001b[0m         \u001b[0;32mif\u001b[0m \u001b[0mret\u001b[0m \u001b[0;32mis\u001b[0m \u001b[0;32mNone\u001b[0m\u001b[0;34m:\u001b[0m\u001b[0;34m\u001b[0m\u001b[0m\n\u001b[0;32m--> 676\u001b[0;31m           \u001b[0mret\u001b[0m \u001b[0;34m=\u001b[0m \u001b[0mconversion_func\u001b[0m\u001b[0;34m(\u001b[0m\u001b[0mvalue\u001b[0m\u001b[0;34m,\u001b[0m \u001b[0mdtype\u001b[0m\u001b[0;34m=\u001b[0m\u001b[0mdtype\u001b[0m\u001b[0;34m,\u001b[0m \u001b[0mname\u001b[0m\u001b[0;34m=\u001b[0m\u001b[0mname\u001b[0m\u001b[0;34m,\u001b[0m \u001b[0mas_ref\u001b[0m\u001b[0;34m=\u001b[0m\u001b[0mas_ref\u001b[0m\u001b[0;34m)\u001b[0m\u001b[0;34m\u001b[0m\u001b[0m\n\u001b[0m\u001b[1;32m    677\u001b[0m \u001b[0;34m\u001b[0m\u001b[0m\n\u001b[1;32m    678\u001b[0m         \u001b[0;32mif\u001b[0m \u001b[0mret\u001b[0m \u001b[0;32mis\u001b[0m \u001b[0mNotImplemented\u001b[0m\u001b[0;34m:\u001b[0m\u001b[0;34m\u001b[0m\u001b[0m\n",
      "\u001b[0;32m~/miniconda3/lib/python3.6/site-packages/tensorflow/python/framework/constant_op.py\u001b[0m in \u001b[0;36m_constant_tensor_conversion_function\u001b[0;34m(v, dtype, name, as_ref)\u001b[0m\n\u001b[1;32m    119\u001b[0m                                          as_ref=False):\n\u001b[1;32m    120\u001b[0m   \u001b[0m_\u001b[0m \u001b[0;34m=\u001b[0m \u001b[0mas_ref\u001b[0m\u001b[0;34m\u001b[0m\u001b[0m\n\u001b[0;32m--> 121\u001b[0;31m   \u001b[0;32mreturn\u001b[0m \u001b[0mconstant\u001b[0m\u001b[0;34m(\u001b[0m\u001b[0mv\u001b[0m\u001b[0;34m,\u001b[0m \u001b[0mdtype\u001b[0m\u001b[0;34m=\u001b[0m\u001b[0mdtype\u001b[0m\u001b[0;34m,\u001b[0m \u001b[0mname\u001b[0m\u001b[0;34m=\u001b[0m\u001b[0mname\u001b[0m\u001b[0;34m)\u001b[0m\u001b[0;34m\u001b[0m\u001b[0m\n\u001b[0m\u001b[1;32m    122\u001b[0m \u001b[0;34m\u001b[0m\u001b[0m\n\u001b[1;32m    123\u001b[0m \u001b[0;34m\u001b[0m\u001b[0m\n",
      "\u001b[0;32m~/miniconda3/lib/python3.6/site-packages/tensorflow/python/framework/constant_op.py\u001b[0m in \u001b[0;36mconstant\u001b[0;34m(value, dtype, shape, name, verify_shape)\u001b[0m\n\u001b[1;32m    104\u001b[0m   const_tensor = g.create_op(\n\u001b[1;32m    105\u001b[0m       \u001b[0;34m\"Const\"\u001b[0m\u001b[0;34m,\u001b[0m \u001b[0;34m[\u001b[0m\u001b[0;34m]\u001b[0m\u001b[0;34m,\u001b[0m \u001b[0;34m[\u001b[0m\u001b[0mdtype_value\u001b[0m\u001b[0;34m.\u001b[0m\u001b[0mtype\u001b[0m\u001b[0;34m]\u001b[0m\u001b[0;34m,\u001b[0m\u001b[0;34m\u001b[0m\u001b[0m\n\u001b[0;32m--> 106\u001b[0;31m       attrs={\"value\": tensor_value, \"dtype\": dtype_value}, name=name).outputs[0]\n\u001b[0m\u001b[1;32m    107\u001b[0m   \u001b[0;32mreturn\u001b[0m \u001b[0mconst_tensor\u001b[0m\u001b[0;34m\u001b[0m\u001b[0m\n\u001b[1;32m    108\u001b[0m \u001b[0;34m\u001b[0m\u001b[0m\n",
      "\u001b[0;32m~/miniconda3/lib/python3.6/site-packages/tensorflow/python/framework/ops.py\u001b[0m in \u001b[0;36mcreate_op\u001b[0;34m(self, op_type, inputs, dtypes, input_types, name, attrs, op_def, compute_shapes, compute_device)\u001b[0m\n\u001b[1;32m   2580\u001b[0m \u001b[0;34m\u001b[0m\u001b[0m\n\u001b[1;32m   2581\u001b[0m     \"\"\"\n\u001b[0;32m-> 2582\u001b[0;31m     \u001b[0mself\u001b[0m\u001b[0;34m.\u001b[0m\u001b[0m_check_not_finalized\u001b[0m\u001b[0;34m(\u001b[0m\u001b[0;34m)\u001b[0m\u001b[0;34m\u001b[0m\u001b[0m\n\u001b[0m\u001b[1;32m   2583\u001b[0m     \u001b[0;32mfor\u001b[0m \u001b[0midx\u001b[0m\u001b[0;34m,\u001b[0m \u001b[0ma\u001b[0m \u001b[0;32min\u001b[0m \u001b[0menumerate\u001b[0m\u001b[0;34m(\u001b[0m\u001b[0minputs\u001b[0m\u001b[0;34m)\u001b[0m\u001b[0;34m:\u001b[0m\u001b[0;34m\u001b[0m\u001b[0m\n\u001b[1;32m   2584\u001b[0m       \u001b[0;32mif\u001b[0m \u001b[0;32mnot\u001b[0m \u001b[0misinstance\u001b[0m\u001b[0;34m(\u001b[0m\u001b[0ma\u001b[0m\u001b[0;34m,\u001b[0m \u001b[0mTensor\u001b[0m\u001b[0;34m)\u001b[0m\u001b[0;34m:\u001b[0m\u001b[0;34m\u001b[0m\u001b[0m\n",
      "\u001b[0;32m~/miniconda3/lib/python3.6/site-packages/tensorflow/python/framework/ops.py\u001b[0m in \u001b[0;36m_check_not_finalized\u001b[0;34m(self)\u001b[0m\n\u001b[1;32m   2288\u001b[0m     \"\"\"\n\u001b[1;32m   2289\u001b[0m     \u001b[0;32mif\u001b[0m \u001b[0mself\u001b[0m\u001b[0;34m.\u001b[0m\u001b[0m_finalized\u001b[0m\u001b[0;34m:\u001b[0m\u001b[0;34m\u001b[0m\u001b[0m\n\u001b[0;32m-> 2290\u001b[0;31m       \u001b[0;32mraise\u001b[0m \u001b[0mRuntimeError\u001b[0m\u001b[0;34m(\u001b[0m\u001b[0;34m\"Graph is finalized and cannot be modified.\"\u001b[0m\u001b[0;34m)\u001b[0m\u001b[0;34m\u001b[0m\u001b[0m\n\u001b[0m\u001b[1;32m   2291\u001b[0m \u001b[0;34m\u001b[0m\u001b[0m\n\u001b[1;32m   2292\u001b[0m   \u001b[0;32mdef\u001b[0m \u001b[0m_add_op\u001b[0m\u001b[0;34m(\u001b[0m\u001b[0mself\u001b[0m\u001b[0;34m,\u001b[0m \u001b[0mop\u001b[0m\u001b[0;34m)\u001b[0m\u001b[0;34m:\u001b[0m\u001b[0;34m\u001b[0m\u001b[0m\n",
      "\u001b[0;31mRuntimeError\u001b[0m: Graph is finalized and cannot be modified."
     ]
    }
   ],
   "source": [
    "iterSession.run(tf.one_hot([0,1], depth=1, dtype=tf.float32))"
   ]
  },
  {
   "cell_type": "code",
   "execution_count": 97,
   "metadata": {},
   "outputs": [
    {
     "ename": "SyntaxError",
     "evalue": "invalid syntax (<ipython-input-97-5ada64ef1d8c>, line 10)",
     "output_type": "error",
     "traceback": [
      "\u001b[0;36m  File \u001b[0;32m\"<ipython-input-97-5ada64ef1d8c>\"\u001b[0;36m, line \u001b[0;32m10\u001b[0m\n\u001b[0;31m    self.Wh = tf.get_variable('Wh', shape=)\u001b[0m\n\u001b[0m                                          ^\u001b[0m\n\u001b[0;31mSyntaxError\u001b[0m\u001b[0;31m:\u001b[0m invalid syntax\n"
     ]
    }
   ],
   "source": [
    "input_dim = 1\n",
    "hidden_dim = 16\n",
    "\n",
    "class ReinfNetwork():\n",
    "    def __init__(self, s_size, scope, trainer):\n",
    "        with tf.variable_scope(scope):\n",
    "            self.event_source = tf.placeholder(dtype=tf.int64, name='Event source', shape=[1])\n",
    "            self.inp = tf.one_hot(indices=[self.event_source], depth=1, dtype=tf.float32)\n",
    "            self.cell = tf.contrib.rnn.BasicRNNCell(hidden_dim)\n",
    "            self.Wh = tf.get_variable('Wh', shape=)            "
   ]
  },
  {
   "cell_type": "code",
   "execution_count": 25,
   "metadata": {
    "collapsed": true
   },
   "outputs": [],
   "source": [
    "class Reinf(OM.Broadcaster):\n",
    "    \n",
    "    @Deco.optioned()\n",
    "    def __init__(self, src_id, seed, hidden_dim):\n",
    "        super(Reinf, self).__init__(src_id, seed)\n",
    "        self.init = False\n",
    "        \n",
    "        self.Wh = tf.get_variable()\n",
    "        \n",
    "    def get_next_interval(self, event):\n",
    "        if not self.init:\n",
    "            # Create variables here?\n",
    "            self.init = True\n",
    "        \n",
    "        self.state.apply_event(event)\n",
    "        \n",
    "        if event is None:\n",
    "            # This is the first event. Post immediately to join the party?\n",
    "            # Or hold off?\n",
    "            return np.inf\n",
    "        \n",
    "        elif event.src_id == self.src_id:\n",
    "            # We posted. Calculate reward.\n",
    "            # We would never like to post now.\n",
    "            return np.inf\n",
    "        \n",
    "        else:\n",
    "            # Update our rate of posting.\n",
    "            r_t = self.state.get_wall_rank(self.src_id, self.sink_ids,\n",
    "                                           dict_form=False)\n",
    "            # TODO: Magic.\n",
    "            #  1 - Reward for this interval?\n",
    "            #  2 - Sample the posting time again using inverse CDF\n",
    "            #  3 - New sample is guaranteed to be closer to now than\n",
    "            #      the original posting time.\n",
    "            cur_time = event.cur_time\n",
    "            t_delta_new = 10 # TODO: Take a new sample here.\n",
    "            return cur_time + t_delta_new - self.last_self_event_time\n",
    "        \n",
    "    def train(self):\n",
    "        \"\"\"Will do RL here.\"\"\"\n",
    "        pass\n",
    "            \n"
   ]
  },
  {
   "cell_type": "code",
   "execution_count": 26,
   "metadata": {
    "collapsed": true
   },
   "outputs": [],
   "source": [
    "mgr = simOpts.create_manager_with_broadcaster(Reinf(1, 100))"
   ]
  },
  {
   "cell_type": "code",
   "execution_count": 27,
   "metadata": {},
   "outputs": [
    {
     "data": {
      "text/plain": [
       "<redqueen.opt_model.Manager at 0x7fb1e9e686a0>"
      ]
     },
     "execution_count": 27,
     "metadata": {},
     "output_type": "execute_result"
    }
   ],
   "source": [
    "mgr.run_dynamic()"
   ]
  },
  {
   "cell_type": "code",
   "execution_count": 28,
   "metadata": {
    "collapsed": true
   },
   "outputs": [],
   "source": [
    "df = mgr.state.get_dataframe()"
   ]
  },
  {
   "cell_type": "code",
   "execution_count": 29,
   "metadata": {},
   "outputs": [
    {
     "data": {
      "text/html": [
       "<div>\n",
       "<table border=\"1\" class=\"dataframe\">\n",
       "  <thead>\n",
       "    <tr style=\"text-align: right;\">\n",
       "      <th></th>\n",
       "      <th>event_id</th>\n",
       "      <th>sink_id</th>\n",
       "      <th>src_id</th>\n",
       "      <th>t</th>\n",
       "      <th>time_delta</th>\n",
       "    </tr>\n",
       "  </thead>\n",
       "  <tbody>\n",
       "    <tr>\n",
       "      <th>0</th>\n",
       "      <td>100</td>\n",
       "      <td>1001</td>\n",
       "      <td>2</td>\n",
       "      <td>0.004632</td>\n",
       "      <td>0.004632</td>\n",
       "    </tr>\n",
       "    <tr>\n",
       "      <th>1</th>\n",
       "      <td>101</td>\n",
       "      <td>1001</td>\n",
       "      <td>2</td>\n",
       "      <td>0.005062</td>\n",
       "      <td>0.000430</td>\n",
       "    </tr>\n",
       "    <tr>\n",
       "      <th>2</th>\n",
       "      <td>102</td>\n",
       "      <td>1001</td>\n",
       "      <td>2</td>\n",
       "      <td>0.005522</td>\n",
       "      <td>0.000461</td>\n",
       "    </tr>\n",
       "    <tr>\n",
       "      <th>3</th>\n",
       "      <td>103</td>\n",
       "      <td>1001</td>\n",
       "      <td>2</td>\n",
       "      <td>0.006952</td>\n",
       "      <td>0.001430</td>\n",
       "    </tr>\n",
       "    <tr>\n",
       "      <th>4</th>\n",
       "      <td>104</td>\n",
       "      <td>1001</td>\n",
       "      <td>2</td>\n",
       "      <td>0.009197</td>\n",
       "      <td>0.002245</td>\n",
       "    </tr>\n",
       "  </tbody>\n",
       "</table>\n",
       "</div>"
      ],
      "text/plain": [
       "   event_id  sink_id  src_id         t  time_delta\n",
       "0       100     1001       2  0.004632    0.004632\n",
       "1       101     1001       2  0.005062    0.000430\n",
       "2       102     1001       2  0.005522    0.000461\n",
       "3       103     1001       2  0.006952    0.001430\n",
       "4       104     1001       2  0.009197    0.002245"
      ]
     },
     "execution_count": 29,
     "metadata": {},
     "output_type": "execute_result"
    }
   ],
   "source": [
    "df.head()"
   ]
  },
  {
   "cell_type": "markdown",
   "metadata": {
    "collapsed": true
   },
   "source": [
    "# ExpTrainer"
   ]
  },
  {
   "cell_type": "code",
   "execution_count": 217,
   "metadata": {
    "collapsed": true
   },
   "outputs": [],
   "source": [
    "%run -i tpprl/exp_broadcaster.py\n",
    "%run -i tpprl/exp_sampler.py"
   ]
  },
  {
   "cell_type": "code",
   "execution_count": 218,
   "metadata": {
    "collapsed": true
   },
   "outputs": [],
   "source": [
    "tf.reset_default_graph()"
   ]
  },
  {
   "cell_type": "code",
   "execution_count": 219,
   "metadata": {
    "collapsed": true
   },
   "outputs": [],
   "source": [
    "iterSession.close()"
   ]
  },
  {
   "cell_type": "code",
   "execution_count": 220,
   "metadata": {
    "collapsed": true
   },
   "outputs": [],
   "source": [
    "iterSession = tf.Session()"
   ]
  },
  {
   "cell_type": "code",
   "execution_count": null,
   "metadata": {
    "collapsed": true,
    "scrolled": false
   },
   "outputs": [],
   "source": [
    "%%time\n",
    "hidden_dims = 10\n",
    "num_other_broadcasters = 1\n",
    "RS = np.random.RandomState(seed=42)\n",
    "\n",
    "trainer_opts = Deco.Options(\n",
    "    Wh=RS.randn(hidden_dims, hidden_dims) * 0.1 + np.diag(np.ones(hidden_dims)), # Careful initialization\n",
    "    Wm=RS.randn(num_other_broadcasters + 1, hidden_dims),\n",
    "    Wr=RS.randn(hidden_dims, 1),\n",
    "    Wt=RS.randn(hidden_dims, 1),\n",
    "    Bh=RS.randn(hidden_dims, 1),\n",
    "    \n",
    "    vt=RS.randn(hidden_dims, 1),\n",
    "    wt=np.abs(RS.rand(1)),\n",
    "    bt=RS.randn(1),\n",
    "    \n",
    "    init_h=RS.randn(hidden_dims),\n",
    "    \n",
    "    max_events=100,\n",
    "    batch_size=10,\n",
    "    \n",
    "    learning_rate=0.1,\n",
    "    clip_norm=1.0\n",
    ")\n",
    "sim_opts = OM.SimOpts(\n",
    "    sink_ids=[1000],\n",
    "    src_id=1,\n",
    "    other_sources=[('Hawkes', {'src_id': 100, 'seed': 93})],\n",
    "    end_time=100.0,\n",
    "    q_vec=None,\n",
    "    s=1.0,\n",
    "    edge_list=None\n",
    ")\n",
    "\n",
    "trainer = ExpRecurrentTrainer(sim_opts=sim_opts, _opts=trainer_opts, sess=iterSession)"
   ]
  },
  {
   "cell_type": "code",
   "execution_count": null,
   "metadata": {
    "collapsed": true
   },
   "outputs": [],
   "source": [
    "%%time\n",
    "trainer.initialize(finalize=False)"
   ]
  },
  {
   "cell_type": "code",
   "execution_count": 162,
   "metadata": {
    "collapsed": true
   },
   "outputs": [
    {
     "name": "stdout",
     "output_type": "stream",
     "text": [
      "INFO:tensorflow:Restoring parameters from tpprl-log/tpprl.ckpt-1\n"
     ]
    }
   ],
   "source": [
    "# trainer.restore(epoch_to_recover=1)"
   ]
  },
  {
   "cell_type": "code",
   "execution_count": null,
   "metadata": {
    "collapsed": true
   },
   "outputs": [],
   "source": [
    "iterSession.run([trainer.tf_wt, trainer.tf_bt])"
   ]
  },
  {
   "cell_type": "code",
   "execution_count": 216,
   "metadata": {},
   "outputs": [
    {
     "name": "stdout",
     "output_type": "stream",
     "text": [
      "Epoch 0, LL = -29.642, loss = 0.453, reward = -29.189, seeds = (42 -- 44)\n",
      "Epoch 1, LL = -22.968, loss = 0.539, reward = -22.429, seeds = (44 -- 46)\n",
      "Epoch 2, LL = -37.221, loss = 1.114, reward = -36.107, seeds = (46 -- 48)\n",
      "Epoch 3, LL = -29.595, loss = 0.840, reward = -28.755, seeds = (48 -- 50)\n",
      "Epoch 4, LL = -36.576, loss = 1.400, reward = -35.176, seeds = (50 -- 52)\n",
      "Epoch 5, LL = -42.759, loss = 1.538, reward = -41.221, seeds = (52 -- 54)\n",
      "Epoch 6, LL = -35.747, loss = 1.823, reward = -33.924, seeds = (54 -- 56)\n",
      "Epoch 7, LL = -22.501, loss = 1.441, reward = -21.061, seeds = (56 -- 58)\n",
      "Epoch 8, LL = -34.908, loss = 1.451, reward = -33.457, seeds = (58 -- 60)\n",
      "Epoch 9, LL = -28.319, loss = 1.830, reward = -26.489, seeds = (60 -- 62)\n"
     ]
    }
   ],
   "source": [
    "%%time\n",
    "trainer.train_many(10)"
   ]
  },
  {
   "cell_type": "code",
   "execution_count": 20,
   "metadata": {},
   "outputs": [
    {
     "data": {
      "text/plain": [
       "[<tf.Variable 'ExpRecurrentTrainer/hidden_state/Wm:0' shape=(2, 10) dtype=float32_ref>,\n",
       " <tf.Variable 'ExpRecurrentTrainer/hidden_state/Wh:0' shape=(10, 10) dtype=float32_ref>,\n",
       " <tf.Variable 'ExpRecurrentTrainer/hidden_state/Wt:0' shape=(10, 1) dtype=float32_ref>,\n",
       " <tf.Variable 'ExpRecurrentTrainer/hidden_state/Wr:0' shape=(10, 1) dtype=float32_ref>,\n",
       " <tf.Variable 'ExpRecurrentTrainer/hidden_state/Bh:0' shape=(10, 1) dtype=float32_ref>,\n",
       " <tf.Variable 'ExpRecurrentTrainer/hidden_state/h:0' shape=(10, 1) dtype=float32_ref>,\n",
       " <tf.Variable 'ExpRecurrentTrainer/output/bt:0' shape=(1,) dtype=float32_ref>,\n",
       " <tf.Variable 'ExpRecurrentTrainer/output/vt:0' shape=(10, 1) dtype=float32_ref>,\n",
       " <tf.Variable 'ExpRecurrentTrainer/output/wt:0' shape=(1,) dtype=float32_ref>]"
      ]
     },
     "execution_count": 20,
     "metadata": {},
     "output_type": "execute_result"
    }
   ],
   "source": [
    "tf.get_collection(tf.GraphKeys.TRAINABLE_VARIABLES)"
   ]
  },
  {
   "cell_type": "code",
   "execution_count": 166,
   "metadata": {},
   "outputs": [
    {
     "name": "stderr",
     "output_type": "stream",
     "text": [
      "tpprl/exp_sampler.py:57: RuntimeWarning: divide by zero encountered in true_divide\n",
      "  D = 1 + (self.w / self.c) * np.log(1 - self.u_unif)\n"
     ]
    }
   ],
   "source": [
    "df = trainer.run_sim(10)\n",
    "df2 = trainer.run_sim(11)\n",
    "f_d = trainer.get_feed_dict([df, df2])"
   ]
  },
  {
   "cell_type": "code",
   "execution_count": 107,
   "metadata": {},
   "outputs": [
    {
     "data": {
      "text/plain": [
       "(1518.9616195114122, 1560.8206297444681)"
      ]
     },
     "execution_count": 107,
     "metadata": {},
     "output_type": "execute_result"
    }
   ],
   "source": [
    "trainer.reward_fn(df), trainer.reward_fn(df2)"
   ]
  },
  {
   "cell_type": "code",
   "execution_count": 74,
   "metadata": {},
   "outputs": [
    {
     "data": {
      "text/plain": [
       "array([ 0.71217924], dtype=float32)"
      ]
     },
     "execution_count": 74,
     "metadata": {},
     "output_type": "execute_result"
    }
   ],
   "source": [
    "trainer.sess.run(trainer.tf_wt)"
   ]
  },
  {
   "cell_type": "code",
   "execution_count": 75,
   "metadata": {},
   "outputs": [
    {
     "data": {
      "text/plain": [
       "array([ inf,  inf], dtype=float32)"
      ]
     },
     "execution_count": 75,
     "metadata": {},
     "output_type": "execute_result"
    }
   ],
   "source": [
    "trainer.sess.run(trainer.loss, feed_dict=f_d)"
   ]
  },
  {
   "cell_type": "code",
   "execution_count": 76,
   "metadata": {},
   "outputs": [
    {
     "data": {
      "text/plain": [
       "array([ -4.09034506e+25,  -1.37661263e+27], dtype=float32)"
      ]
     },
     "execution_count": 76,
     "metadata": {},
     "output_type": "execute_result"
    }
   ],
   "source": [
    "trainer.sess.run(trainer.LL, feed_dict=f_d)"
   ]
  },
  {
   "cell_type": "code",
   "execution_count": 77,
   "metadata": {
    "collapsed": true
   },
   "outputs": [],
   "source": [
    "h_states, LL_log_terms, LL_int_terms, loss_terms = \\\n",
    "    trainer.sess.run([trainer.h_states, trainer.LL_log_terms, trainer.LL_int_terms, trainer.loss_terms],\n",
    "                     feed_dict=f_d)"
   ]
  },
  {
   "cell_type": "code",
   "execution_count": 85,
   "metadata": {},
   "outputs": [
    {
     "data": {
      "text/plain": [
       "array([ 90.57601826,  96.81127148])"
      ]
     },
     "execution_count": 85,
     "metadata": {},
     "output_type": "execute_result"
    }
   ],
   "source": [
    "f_d[trainer.tf_batch_last_interval]"
   ]
  },
  {
   "cell_type": "code",
   "execution_count": 78,
   "metadata": {},
   "outputs": [
    {
     "data": {
      "text/plain": [
       "[array([[-0.9115566 ,  0.71723014, -0.97521561, -0.47082722, -0.10776117,\n",
       "          0.91118366,  0.44068578, -0.83915508,  0.74536854, -0.05422911],\n",
       "        [-0.84137094,  0.71049112, -0.96230608, -0.54134536,  0.07595625,\n",
       "          0.84076971,  0.55810207, -0.81899536,  0.66369843,  0.19008458]], dtype=float32),\n",
       " array([[-0.99633706,  0.78127134, -0.96864825,  0.86236912, -0.25134704,\n",
       "          0.99995434, -0.97176838, -0.99928141,  0.99447763, -0.35514545],\n",
       "        [-0.99760336,  0.76176906, -0.97909141,  0.87795103, -0.31097731,\n",
       "          0.99997282, -0.97431773, -0.99947488,  0.99549544, -0.35482129]], dtype=float32),\n",
       " array([[-0.96259546,  0.10328309, -0.33070633,  0.71082175,  0.52160001,\n",
       "          0.99999905, -0.999695  , -0.99960703,  0.99258041, -0.68673784],\n",
       "        [-0.92427891,  0.07617671, -0.10500666,  0.65498424,  0.62975359,\n",
       "          0.99999803, -0.99956745, -0.99952984,  0.98923784, -0.50380194]], dtype=float32),\n",
       " array([[-0.942298  , -0.89893192,  0.86398196, -0.49262178,  0.90886152,\n",
       "          1.        , -0.99997616, -0.99994189,  0.99668181, -0.97908735],\n",
       "        [-0.99313867, -0.90000641,  0.64330745, -0.23403645,  0.7216363 ,\n",
       "          1.        , -0.99999273, -0.99996877,  0.9990496 , -0.99520373]], dtype=float32),\n",
       " array([[-1.        , -0.98996329, -0.9944433 , -0.04170226, -0.99849927,\n",
       "          1.        , -1.        , -0.99999988,  0.99999982, -1.        ],\n",
       "        [-0.72822362, -0.99615055,  0.99926525, -0.99516976,  0.98453337,\n",
       "          1.        , -0.99999577, -0.99998891,  0.99752074, -0.99589312]], dtype=float32)]"
      ]
     },
     "execution_count": 78,
     "metadata": {},
     "output_type": "execute_result"
    }
   ],
   "source": [
    "h_states"
   ]
  },
  {
   "cell_type": "code",
   "execution_count": 79,
   "metadata": {},
   "outputs": [
    {
     "data": {
      "text/plain": [
       "array([[ 0.        , -3.85976458, -4.83879995, -6.08512831, -0.61952037],\n",
       "       [ 0.        , -3.73670936, -5.01473522, -5.43658209, -6.33867979]], dtype=float32)"
      ]
     },
     "execution_count": 79,
     "metadata": {},
     "output_type": "execute_result"
    }
   ],
   "source": [
    "np.hstack([x[:, np.newaxis] for x in LL_log_terms])"
   ]
  },
  {
   "cell_type": "code",
   "execution_count": 80,
   "metadata": {},
   "outputs": [
    {
     "data": {
      "text/plain": [
       "array([[ 0.0626863 ,  0.01171056,  0.00255716,  0.00132096,  0.75175852],\n",
       "       [ 0.01133484,  0.0159338 ,  0.00085054,  0.00398099,  0.00091197]], dtype=float32)"
      ]
     },
     "execution_count": 80,
     "metadata": {},
     "output_type": "execute_result"
    }
   ],
   "source": [
    "np.hstack([x[:, np.newaxis] for x in LL_int_terms])"
   ]
  },
  {
   "cell_type": "code",
   "execution_count": 81,
   "metadata": {},
   "outputs": [
    {
     "data": {
      "text/plain": [
       "array([[  1.75098721e-02,   1.97943082e-04,   1.79153594e-05,\n",
       "          2.38577945e-06,   2.03357533e-01],\n",
       "       [  5.25153615e-03,   2.89334479e-04,   5.38948416e-06,\n",
       "          1.16911715e-05,   1.31496267e-06]], dtype=float32)"
      ]
     },
     "execution_count": 81,
     "metadata": {},
     "output_type": "execute_result"
    }
   ],
   "source": [
    "np.hstack([x[:, np.newaxis] for x in loss_terms])"
   ]
  },
  {
   "cell_type": "code",
   "execution_count": 82,
   "metadata": {},
   "outputs": [
    {
     "data": {
      "text/plain": [
       "[array([ 0.0626863 ,  0.01133484], dtype=float32),\n",
       " array([ 0.01171056,  0.0159338 ], dtype=float32),\n",
       " array([ 0.00255716,  0.00085054], dtype=float32),\n",
       " array([ 0.00132096,  0.00398099], dtype=float32),\n",
       " array([ 0.75175852,  0.00091197], dtype=float32)]"
      ]
     },
     "execution_count": 82,
     "metadata": {},
     "output_type": "execute_result"
    }
   ],
   "source": [
    "LL_int_terms"
   ]
  },
  {
   "cell_type": "code",
   "execution_count": 26,
   "metadata": {},
   "outputs": [
    {
     "name": "stdout",
     "output_type": "stream",
     "text": [
      "CPU times: user 671 ms, sys: 41 ms, total: 712 ms\n",
      "Wall time: 717 ms\n"
     ]
    }
   ],
   "source": [
    "%%time\n",
    "LL_grads = iterSession.run(trainer.LL_grads, feed_dict=f_d)\n",
    "loss_grads = iterSession.run(trainer.loss_grads, feed_dict=f_d)"
   ]
  },
  {
   "cell_type": "code",
   "execution_count": 275,
   "metadata": {
    "collapsed": true
   },
   "outputs": [
    {
     "data": {
      "text/plain": [
       "{<tf.Variable 'ExpRecurrentTrainer/hidden_state/Wh:0' shape=(10, 10) dtype=float32_ref>: [array([[ -2.99606800e+00,  -3.71909976e+00,   1.33702028e+00,\n",
       "           -1.39037979e+00,   2.38318825e+00,   5.02713108e+00,\n",
       "           -4.98379850e+00,  -5.02480364e+00,   5.00027657e+00,\n",
       "           -4.75504494e+00],\n",
       "         [ -4.26948833e+00,   6.26499414e-01,  -3.67279363e+00,\n",
       "           -2.40540743e+00,   5.53412390e+00,   1.09491434e+01,\n",
       "           -7.16436386e+00,  -1.08532867e+01,   1.05527220e+01,\n",
       "           -7.23006105e+00],\n",
       "         [  6.11900234e+00,  -2.49526954e+00,   5.35612297e+00,\n",
       "           -2.09307718e+00,  -2.65487337e+00,  -8.32765388e+00,\n",
       "            6.56142616e+00,   8.27307034e+00,  -8.13354778e+00,\n",
       "            5.22924948e+00],\n",
       "         [ -4.23263025e+00,   5.24473786e-01,  -2.38811493e+00,\n",
       "            5.79427004e-01,   2.33740950e+00,   4.85080910e+00,\n",
       "           -3.52857614e+00,  -4.82357693e+00,   4.70750713e+00,\n",
       "           -3.39204454e+00],\n",
       "         [ -5.24386501e+00,   2.75152969e+00,  -5.01500750e+00,\n",
       "            4.39886510e-01,   9.60898399e-02,   5.98953724e+00,\n",
       "           -2.51752853e+00,  -5.82190514e+00,   5.59879494e+00,\n",
       "           -2.83618069e+00],\n",
       "         [ -7.78012211e-03,   9.17432085e-03,  -7.95097742e-03,\n",
       "            1.09920967e-02,  -1.27925081e-02,  -1.86972469e-02,\n",
       "            1.67621896e-02,   1.86026692e-02,  -1.84916127e-02,\n",
       "            1.56339835e-02],\n",
       "         [ -5.98415971e-01,   3.22685003e-01,  -6.13908052e-01,\n",
       "           -4.44131255e-01,   2.02944428e-01,   9.74103391e-01,\n",
       "           -1.84238926e-01,  -9.37719464e-01,   8.89725447e-01,\n",
       "           -5.19677341e-01],\n",
       "         [ -2.28709113e-02,   1.73591319e-02,  -2.19340734e-02,\n",
       "            1.14847515e-02,  -3.32354964e-03,   2.18805186e-02,\n",
       "           -1.40963821e-02,  -2.14070193e-02,   2.09793076e-02,\n",
       "           -8.70618410e-03],\n",
       "         [  2.99361497e-01,   1.51817113e-01,   7.10226148e-02,\n",
       "            1.97488591e-01,  -3.90721887e-01,  -7.99967408e-01,\n",
       "            6.10552311e-01,   7.91182578e-01,  -7.78985262e-01,\n",
       "            6.36479855e-01],\n",
       "         [ -8.64119053e+00,   5.75426865e+00,  -8.34201336e+00,\n",
       "            3.67990971e-01,  -5.60631752e-02,   9.50978947e+00,\n",
       "           -3.14500904e+00,  -9.16685581e+00,   8.79675007e+00,\n",
       "           -4.28893375e+00]], dtype=float32)],\n",
       " <tf.Variable 'ExpRecurrentTrainer/hidden_state/Wm:0' shape=(2, 10) dtype=float32_ref>: [IndexedSlicesValue(values=array([[  0.00000000e+00,   0.00000000e+00,  -0.00000000e+00, ...,\n",
       "          0.00000000e+00,  -0.00000000e+00,   0.00000000e+00],\n",
       "       [  0.00000000e+00,   0.00000000e+00,  -0.00000000e+00, ...,\n",
       "          0.00000000e+00,  -0.00000000e+00,   0.00000000e+00],\n",
       "       [  0.00000000e+00,   0.00000000e+00,  -0.00000000e+00, ...,\n",
       "          0.00000000e+00,  -0.00000000e+00,   0.00000000e+00],\n",
       "       ..., \n",
       "       [  1.56972744e-03,   7.51397967e-01,  -1.39841303e-01, ...,\n",
       "          1.04910217e-03,  -2.38111950e-02,   1.60100532e+00],\n",
       "       [  2.47233408e-03,   2.41322309e-01,  -8.50178674e-03, ...,\n",
       "          3.76018099e-02,  -8.34240485e-03,   1.35665393e+00],\n",
       "       [  1.43668219e-03,   4.56360728e-01,  -1.72904059e-02, ...,\n",
       "          4.17300947e-02,  -3.79777737e-02,   1.27815723e+00]], dtype=float32), indices=array([1, 1, 1, 1, 1, 1, 1, 1, 1, 1, 1, 1, 1, 1, 1, 1, 1, 1, 1, 1, 1, 1, 1,\n",
       "       1, 1, 1, 1, 1, 1, 1, 1, 1, 1, 1, 1, 1, 1, 1, 1, 1, 1, 1, 1, 1, 1, 1,\n",
       "       1, 1, 1, 1, 1, 1, 1, 1, 1, 1, 1, 1, 1, 1, 1, 1, 1, 1, 1, 1, 1, 1, 1,\n",
       "       1, 1, 1, 1, 1, 1, 1, 1, 1, 1, 1, 1, 1, 1, 1, 1, 1, 1, 1, 1, 1, 1, 1,\n",
       "       1, 1, 1, 1, 1, 1, 1, 1, 1, 1, 1, 1, 1, 1, 1, 1, 1, 1, 1, 1, 1, 1, 1,\n",
       "       1, 1, 1, 1, 1, 1, 1, 1, 1, 1, 1, 1, 1, 0, 1, 1, 1, 1, 1, 1, 1, 1, 1,\n",
       "       1, 1, 1, 1, 1, 0, 1, 1, 1, 1, 1, 1, 1, 1, 1, 1, 1, 1, 1, 1, 1, 1, 1,\n",
       "       1, 1, 1, 1, 1, 1, 1, 1, 1, 1, 1, 1, 1, 1, 1, 1, 1, 1, 1, 1, 1, 1, 1,\n",
       "       1, 1, 1, 1, 1, 1, 1, 1, 1, 1, 0, 1, 1, 1, 0, 0], dtype=int32), dense_shape=array([ 2, 10], dtype=int32))],\n",
       " <tf.Variable 'ExpRecurrentTrainer/hidden_state/Wt:0' shape=(10, 1) dtype=float32_ref>: [array([[ 4.25242615],\n",
       "         [ 6.95624256],\n",
       "         [-3.2879734 ],\n",
       "         [ 6.22856712],\n",
       "         [ 3.91035533],\n",
       "         [-0.02293397],\n",
       "         [ 0.49859279],\n",
       "         [ 0.03239532],\n",
       "         [-0.24908522],\n",
       "         [ 4.45688248]], dtype=float32)],\n",
       " <tf.Variable 'ExpRecurrentTrainer/hidden_state/Bh:0' shape=(10, 1) dtype=float32_ref>: [array([[  5.03192472],\n",
       "         [ 11.7932272 ],\n",
       "         [ -8.3967495 ],\n",
       "         [  4.83488894],\n",
       "         [  7.35241699],\n",
       "         [ -0.12396005],\n",
       "         [  1.33698344],\n",
       "         [  0.10146739],\n",
       "         [ -0.85212827],\n",
       "         [ 12.43805885]], dtype=float32)],\n",
       " <tf.Variable 'ExpRecurrentTrainer/hidden_state/Wr:0' shape=(10, 1) dtype=float32_ref>: [array([[  2.38667641e+01],\n",
       "         [  1.28153582e+01],\n",
       "         [ -1.38487921e+01],\n",
       "         [  1.07183018e+01],\n",
       "         [  9.03369617e+00],\n",
       "         [ -2.41741887e-03],\n",
       "         [  7.91502714e-01],\n",
       "         [  1.43228322e-02],\n",
       "         [ -3.15096378e+00],\n",
       "         [  1.15220709e+01]], dtype=float32)],\n",
       " <tf.Variable 'ExpRecurrentTrainer/output/bt:0' shape=(1,) dtype=float32_ref>: [array([ 389.99560547], dtype=float32)],\n",
       " <tf.Variable 'ExpRecurrentTrainer/output/vt:0' shape=(10, 1) dtype=float32_ref>: [array([[ 316.67657471],\n",
       "         [-365.39379883],\n",
       "         [ 351.19436646],\n",
       "         [-350.58276367],\n",
       "         [ 369.57354736],\n",
       "         [ 389.99407959],\n",
       "         [-389.78704834],\n",
       "         [-389.98406982],\n",
       "         [ 389.68566895],\n",
       "         [-382.30545044]], dtype=float32)],\n",
       " <tf.Variable 'ExpRecurrentTrainer/output/wt:0' shape=(1,) dtype=float32_ref>: [array([ 389.68865967], dtype=float32)]}"
      ]
     },
     "execution_count": 275,
     "metadata": {},
     "output_type": "execute_result"
    }
   ],
   "source": [
    "LL_grads"
   ]
  },
  {
   "cell_type": "code",
   "execution_count": null,
   "metadata": {
    "collapsed": true
   },
   "outputs": [],
   "source": []
  },
  {
   "cell_type": "code",
   "execution_count": 42,
   "metadata": {
    "collapsed": true
   },
   "outputs": [],
   "source": [
    "def check_good_grad(grad_dict):\n",
    "    \"\"\"Check whether the gradient has only finite values.\"\"\"\n",
    "    all_good = True\n",
    "    for batch_grad in grad_dict.values():\n",
    "        for x in batch_grad:\n",
    "            # Unwrap gradient\n",
    "            grad = x[0]\n",
    "            \n",
    "            # Handle IndexedSlicesValue named tuple\n",
    "            if hasattr(grad, 'dense_shape'):\n",
    "                y = np.zeros(grad.dense_shape)\n",
    "                y[grad.indices] = grad.values\n",
    "                grad = y\n",
    "            all_good = all_good and np.all(np.isfinite(grad))\n",
    "    return all_good\n"
   ]
  },
  {
   "cell_type": "code",
   "execution_count": 44,
   "metadata": {},
   "outputs": [
    {
     "data": {
      "text/plain": [
       "(True, True)"
      ]
     },
     "execution_count": 44,
     "metadata": {},
     "output_type": "execute_result"
    }
   ],
   "source": [
    "check_good_grad(LL_grads), check_good_grad(loss_grads)"
   ]
  },
  {
   "cell_type": "code",
   "execution_count": 214,
   "metadata": {
    "collapsed": true
   },
   "outputs": [],
   "source": [
    "true_grads = trainer.get_batch_grad([df, df2])"
   ]
  },
  {
   "cell_type": "code",
   "execution_count": 216,
   "metadata": {
    "collapsed": true
   },
   "outputs": [],
   "source": [
    "avg_grad_np = average_gradients([[(grad.astype(np.float32), var) for var, grad in x.items()] for x in true_grads])"
   ]
  },
  {
   "cell_type": "code",
   "execution_count": 217,
   "metadata": {
    "collapsed": true
   },
   "outputs": [],
   "source": [
    "avg_grad_tf = [(iterSession.run(grad, feed_dict=f_d), var) \n",
    "               for grad, var in trainer.avg_gradient]"
   ]
  },
  {
   "cell_type": "code",
   "execution_count": 218,
   "metadata": {
    "collapsed": true
   },
   "outputs": [],
   "source": [
    "tower_grad_tf = [{var: iterSession.run(grad, feed_dict=f_d)\n",
    "                  for grad, var in trainer.tower_gradients[batch_idx]}\n",
    "                 for batch_idx in range(trainer.batch_size)]"
   ]
  },
  {
   "cell_type": "code",
   "execution_count": 198,
   "metadata": {},
   "outputs": [
    {
     "data": {
      "text/plain": [
       "array([ 174637.484375], dtype=float32)"
      ]
     },
     "execution_count": 198,
     "metadata": {},
     "output_type": "execute_result"
    }
   ],
   "source": [
    "tower_grad_tf[1][trainer.tf_bt]"
   ]
  },
  {
   "cell_type": "code",
   "execution_count": null,
   "metadata": {
    "collapsed": true
   },
   "outputs": [],
   "source": []
  }
 ],
 "metadata": {
  "kernelspec": {
   "display_name": "Python 3",
   "language": "python",
   "name": "python3"
  },
  "language_info": {
   "codemirror_mode": {
    "name": "ipython",
    "version": 3
   },
   "file_extension": ".py",
   "mimetype": "text/x-python",
   "name": "python",
   "nbconvert_exporter": "python",
   "pygments_lexer": "ipython3",
   "version": "3.6.1"
  },
  "nav_menu": {},
  "toc": {
   "navigate_menu": true,
   "number_sections": true,
   "sideBar": true,
   "threshold": 6,
   "toc_cell": false,
   "toc_section_display": "block",
   "toc_window_display": false
  }
 },
 "nbformat": 4,
 "nbformat_minor": 1
}
