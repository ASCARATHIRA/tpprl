{
 "cells": [
  {
   "cell_type": "code",
   "execution_count": 1,
   "metadata": {
    "collapsed": true
   },
   "outputs": [],
   "source": [
    "%matplotlib inline"
   ]
  },
  {
   "cell_type": "code",
   "execution_count": 101,
   "metadata": {
    "collapsed": false
   },
   "outputs": [],
   "source": [
    "import redqueen.opt_model as OM\n",
    "import redqueen.opt_runs as OR\n",
    "import redqueen.utils as RU\n",
    "import tensorflow as tf\n",
    "import matplotlib.pyplot as plt\n",
    "import seaborn as sns\n",
    "import numpy as np\n",
    "import decorated_options as Deco\n",
    "import multiprocessing as MP"
   ]
  },
  {
   "cell_type": "code",
   "execution_count": 3,
   "metadata": {
    "collapsed": true
   },
   "outputs": [],
   "source": [
    "sns.set_style(style='dark')\n",
    "sns.set_palette('Set2')"
   ]
  },
  {
   "cell_type": "code",
   "execution_count": 4,
   "metadata": {
    "collapsed": false
   },
   "outputs": [
    {
     "data": {
      "text/plain": [
       "<module 'redqueen.utils' from '/NL/stackexchange/work/prog/broadcast-online/redqueen/utils.py'>"
      ]
     },
     "execution_count": 4,
     "metadata": {},
     "output_type": "execute_result"
    }
   ],
   "source": [
    "from importlib import reload\n",
    "reload(OM)\n",
    "reload(OR)\n",
    "reload(RU)"
   ]
  },
  {
   "cell_type": "code",
   "execution_count": 5,
   "metadata": {
    "collapsed": false
   },
   "outputs": [
    {
     "data": {
      "text/plain": [
       "<redqueen.opt_model.SimOpts at 0x7fa6bfd03b00>"
      ]
     },
     "execution_count": 5,
     "metadata": {},
     "output_type": "execute_result"
    }
   ],
   "source": [
    "OR.SimOpts(**{\n",
    "        'src_id': 1,\n",
    "        'q_vec': [],\n",
    "        's': 1.0,\n",
    "        'other_sources': [\n",
    "            (\n",
    "                'Poisson', \n",
    "                {\n",
    "                    'src_id': 2,\n",
    "                    'seed': 42,\n",
    "                    'rates': 100\n",
    "                }\n",
    "            )\n",
    "        ],\n",
    "        'sink_ids': [1001],\n",
    "        'end_time': 100.0,\n",
    "        'edge_list': [(1, 1001), (2, 1001)]\n",
    "    })"
   ]
  },
  {
   "cell_type": "code",
   "execution_count": 6,
   "metadata": {
    "collapsed": false
   },
   "outputs": [],
   "source": [
    "simOpts = OR.SimOpts.std_poisson(42, 1000)"
   ]
  },
  {
   "cell_type": "markdown",
   "metadata": {},
   "source": [
    "# Exponential sampler"
   ]
  },
  {
   "cell_type": "markdown",
   "metadata": {},
   "source": [
    "The output intensity is given by:\n",
    "\n",
    "$$\n",
    "u(t) = \\exp( \\underbrace{W_h \\cdot h_j}_{\\text{past}} - \\overbrace{W_t (t - t_j)}^{\\text{decay}} + \\underbrace{b_t}_{\\text{base}} )\n",
    "$$\n",
    "\n",
    "where $t_j$ is the last event before $t$.\n",
    "\n",
    "It is simplified to the following in the code:\n",
    "\n",
    "$$\n",
    "u(t) = c \\cdot e^{- W_t \\cdot (t - t_j)}\n",
    "$$"
   ]
  },
  {
   "cell_type": "code",
   "execution_count": 7,
   "metadata": {
    "collapsed": false
   },
   "outputs": [
    {
     "data": {
      "text/plain": [
       "0.03096734347001351"
      ]
     },
     "execution_count": 7,
     "metadata": {},
     "output_type": "execute_result"
    }
   ],
   "source": [
    "np.random.RandomState(234).rand()"
   ]
  },
  {
   "cell_type": "code",
   "execution_count": 116,
   "metadata": {
    "collapsed": false
   },
   "outputs": [],
   "source": [
    "class ExpCDFSampler:\n",
    "    \"\"\"This is an exponential sampler.\"\"\"\n",
    "    \n",
    "    @Deco.optioned()\n",
    "    def __init__(self, Wh, Wt, bt, init_h, t_min, seed=42):\n",
    "        self.seed = seed\n",
    "        self.Wh = np.asarray(Wh)\n",
    "        self.Wt = np.asarray(Wt)\n",
    "        self.bt = np.asarray(bt)\n",
    "        \n",
    "        self.w = np.asarray(Wt)\n",
    "        self.random_state = np.random.RandomState(seed)        \n",
    "        self.reset(t_min, init_h, reset_sample=True)\n",
    "        \n",
    "    \n",
    "    def reset_only_sample(self, cur_time):\n",
    "        \"\"\"Resets only the present sample. \n",
    "        This does not change the c, but only the t0 and generates another sample.\"\"\"\n",
    "        \n",
    "        self.c = self.c * np.exp(-self.w * (cur_time - self.t0))\n",
    "        self.t0 = cur_time\n",
    "        self.u_unif = self.random_state.rand()\n",
    "        \n",
    "        return self.generate_sample()\n",
    "    \n",
    "    def cdf(self, t):\n",
    "        \"\"\"Calculates the CDF assuming that the last event was at self.t0\"\"\"\n",
    "        return 1 - np.exp(- (self.c / self.w) * (1 - np.exp(- self.w * (t - self.t0))))\n",
    "        \n",
    "        \n",
    "    def reset(self, cur_time, init_h, reset_sample):\n",
    "        \"\"\"Reset the sampler for generating another event.\"\"\"\n",
    "\n",
    "        if reset_sample:\n",
    "            self.u_unif = self.random_state.rand()\n",
    "        else:\n",
    "            self.u_unif -= (1 - self.cdf(cur_time))\n",
    "            \n",
    "        self.h = init_h\n",
    "        self.c = np.exp(self.Wh.dot(self.h) + self.bt)        \n",
    "        self.t0 = cur_time\n",
    "        \n",
    "        return self.generate_sample()\n",
    "            \n",
    "        \n",
    "    def register_event(self, time, new_h, own_event):\n",
    "        \"\"\"Saves the event and generated a new time for the next event.\"\"\"\n",
    "        self.reset(time, new_h, reset_sample=own_event)            \n",
    "        return self.generate_sample()\n",
    "    \n",
    "    \n",
    "    def get_last_hidden_state(self):\n",
    "        return self.h\n",
    "    \n",
    "        \n",
    "    def generate_sample(self):\n",
    "        \"\"\"Find a sample from the Exp process.\"\"\"\n",
    "        # Have the uniform sample already drawn\n",
    "        D = 1 + (self.w / self.c) * np.log(1 - self.u_unif)\n",
    "        if D <= 0.0:\n",
    "            # This is the probability that no event ever happens\n",
    "            return np.inf\n",
    "        else:\n",
    "            return self.t0 - (1 / self.w) * np.log(D)\n",
    "    "
   ]
  },
  {
   "cell_type": "markdown",
   "metadata": {},
   "source": [
    "Testing the sampler."
   ]
  },
  {
   "cell_type": "code",
   "execution_count": 110,
   "metadata": {
    "collapsed": true
   },
   "outputs": [],
   "source": [
    "def_plot_opts = Deco.Options(Wh=0.5, \n",
    "                             Wt=1.0,\n",
    "                             bt=1.0,\n",
    "                             init_h=0,\n",
    "                             t_min=0,\n",
    "                             t_max=10,\n",
    "                             resolution=200)\n",
    "\n",
    "@Deco.optioned()\n",
    "def plot_lambda(Wh, Wt, bt, init_h, t_min, t_max, events, resolution):\n",
    "    X = np.linspace(t_min, t_max, num=resolution)\n",
    "    \n",
    "    \n",
    "    event_idx = 0\n",
    "    c = np.exp(Wh * init_h + bt)\n",
    "    t0 = t_min\n",
    "    \n",
    "    Y1 = [c * np.exp(-Wt * (x - t0)) for x in X]\n",
    "    \n",
    "    Y2 = [None] * len(X)\n",
    "    for idx, x in enumerate(X):\n",
    "        while event_idx < len(events) and events[event_idx][0] < x:\n",
    "            c = np.exp(Wh * events[event_idx][1] + bt)\n",
    "            t0 = events[event_idx][0]\n",
    "            event_idx += 1\n",
    "            \n",
    "        Y2[idx] = c * np.exp(-Wt * (x - t0))\n",
    "    \n",
    "    plt.step(X, Y1, '--', label='Baseline')\n",
    "    plt.step(X, Y2, '-', label='Correct')\n",
    "    plt.vlines([x[0] for x in events], ymin=0, ymax=max(Y2), label='Events')\n",
    "    plt.legend()\n",
    "    return (X, Y1, Y2)"
   ]
  },
  {
   "cell_type": "code",
   "execution_count": 211,
   "metadata": {
    "collapsed": true
   },
   "outputs": [],
   "source": [
    "events = [(1, -8), (5, 5), (9, 0)]"
   ]
  },
  {
   "cell_type": "code",
   "execution_count": 212,
   "metadata": {
    "collapsed": false
   },
   "outputs": [
    {
     "data": {
      "image/png": "[encoded data removed]",
      "text/plain": [
       "<matplotlib.figure.Figure at 0x7fa68f58af60>"
      ]
     },
     "metadata": {},
     "output_type": "display_data"
    }
   ],
   "source": [
    "X, Y1, Y2 = plot_lambda(events=events, _opts=def_plot_opts)"
   ]
  },
  {
   "cell_type": "code",
   "execution_count": 213,
   "metadata": {
    "collapsed": false
   },
   "outputs": [],
   "source": [
    "sampler = ExpCDFSampler(_opts=def_plot_opts, seed=101 + 1279)"
   ]
  },
  {
   "cell_type": "code",
   "execution_count": 214,
   "metadata": {
    "collapsed": false
   },
   "outputs": [
    {
     "data": {
      "text/plain": [
       "0.6092880541958573"
      ]
     },
     "execution_count": 214,
     "metadata": {},
     "output_type": "execute_result"
    }
   ],
   "source": [
    "sampler.generate_sample()"
   ]
  },
  {
   "cell_type": "code",
   "execution_count": 174,
   "metadata": {
    "collapsed": false
   },
   "outputs": [
    {
     "data": {
      "text/plain": [
       "0.98369540000156641"
      ]
     },
     "execution_count": 174,
     "metadata": {},
     "output_type": "execute_result"
    }
   ],
   "source": [
    "sampler.reset_only_sample(sampler.generate_sample())"
   ]
  },
  {
   "cell_type": "code",
   "execution_count": 169,
   "metadata": {
    "collapsed": false
   },
   "outputs": [
    {
     "data": {
      "text/plain": [
       "-0.0098347188619227754"
      ]
     },
     "execution_count": 169,
     "metadata": {},
     "output_type": "execute_result"
    }
   ],
   "source": [
    "sampler.reset(1, -4, False)"
   ]
  },
  {
   "cell_type": "code",
   "execution_count": 88,
   "metadata": {
    "collapsed": false
   },
   "outputs": [
    {
     "data": {
      "text/plain": [
       "5.4541979938607348"
      ]
     },
     "execution_count": 88,
     "metadata": {},
     "output_type": "execute_result"
    }
   ],
   "source": [
    "sampler.register_event(5, 0.5, False)"
   ]
  },
  {
   "cell_type": "code",
   "execution_count": 89,
   "metadata": {
    "collapsed": false
   },
   "outputs": [
    {
     "data": {
      "text/plain": [
       "5.4542496062588253"
      ]
     },
     "execution_count": 89,
     "metadata": {},
     "output_type": "execute_result"
    }
   ],
   "source": [
    "sampler.reset_only_sample(sampler.generate_sample())"
   ]
  },
  {
   "cell_type": "code",
   "execution_count": 54,
   "metadata": {
    "collapsed": false
   },
   "outputs": [
    {
     "data": {
      "text/plain": [
       "9.6624311256817741"
      ]
     },
     "execution_count": 54,
     "metadata": {},
     "output_type": "execute_result"
    }
   ],
   "source": [
    "sampler.register_event(9, 0, False)"
   ]
  },
  {
   "cell_type": "code",
   "execution_count": 55,
   "metadata": {
    "collapsed": false
   },
   "outputs": [
    {
     "data": {
      "text/plain": [
       "10.716224257498897"
      ]
     },
     "execution_count": 55,
     "metadata": {},
     "output_type": "execute_result"
    }
   ],
   "source": [
    "sampler.reset_only_sample(sampler.generate_sample())"
   ]
  },
  {
   "cell_type": "code",
   "execution_count": 13,
   "metadata": {
    "collapsed": false
   },
   "outputs": [
    {
     "data": {
      "text/plain": [
       "0.18950821833441578"
      ]
     },
     "execution_count": 13,
     "metadata": {},
     "output_type": "execute_result"
    }
   ],
   "source": [
    "sampler.generate_sample()"
   ]
  },
  {
   "cell_type": "markdown",
   "metadata": {
    "collapsed": true
   },
   "source": [
    "## Tests"
   ]
  },
  {
   "cell_type": "code",
   "execution_count": 215,
   "metadata": {
    "collapsed": false
   },
   "outputs": [
    {
     "name": "stdout",
     "output_type": "stream",
     "text": [
      "CPU times: user 1.24 s, sys: 1.8 s, total: 3.05 s\n",
      "Wall time: 3.33 s\n"
     ]
    }
   ],
   "source": [
    "%%time\n",
    "all_sim_events = []\n",
    "processes = None\n",
    "N = 10000\n",
    "verbose = False\n",
    "\n",
    "assert not verbose or (N < 10 and processes is not None), \"Cannot have verbose output with these settings.\"\n",
    "\n",
    "def worker_sampler(params):\n",
    "    ii, sampler = params\n",
    "    event_idx = 0\n",
    "    next_sample = sampler.generate_sample()\n",
    "    sim_events = []\n",
    "        \n",
    "    while next_sample < def_plot_opts.t_max or event_idx < len(events):\n",
    "        while event_idx < len(events) and \\\n",
    "              events[event_idx][0] < next_sample:\n",
    "            # print(\"Old = \", next_sample)\n",
    "            old_sample = next_sample\n",
    "            next_sample = sampler.register_event(events[event_idx][0], \n",
    "                                                 events[event_idx][1], \n",
    "                                                 False)\n",
    "            if verbose:\n",
    "                print(\"Eps = {}, Old = {}, Event = {}, Next = {}\"\n",
    "                      .format(ii, old_sample, events[event_idx], next_sample))\n",
    "                \n",
    "            event_idx += 1\n",
    "            \n",
    "        if next_sample > def_plot_opts.t_max:\n",
    "            break\n",
    "            \n",
    "        if verbose:\n",
    "            print(\"Final sample = {}\".format(next_sample))                \n",
    "        \n",
    "        sim_events.append(next_sample)\n",
    "        next_sample = sampler.reset_only_sample(next_sample)\n",
    "    \n",
    "    return sim_events\n",
    "    \n",
    "\n",
    "with MP.Pool(processes=processes) as pool:\n",
    "    for sim_events in pool.map(worker_sampler,\n",
    "                               [(ii, ExpCDFSampler(_opts=def_plot_opts, seed=101 + ii))\n",
    "                                for ii in range(N)]):\n",
    "        all_sim_events.append(sim_events)\n"
   ]
  },
  {
   "cell_type": "code",
   "execution_count": 216,
   "metadata": {
    "collapsed": false
   },
   "outputs": [],
   "source": [
    "flat_events = [x for y in all_sim_events for x in y]"
   ]
  },
  {
   "cell_type": "code",
   "execution_count": 217,
   "metadata": {
    "collapsed": false
   },
   "outputs": [
    {
     "data": {
      "image/png": "[encoded data removed]",
      "text/plain": [
       "<matplotlib.figure.Figure at 0x7fa690fcca58>"
      ]
     },
     "metadata": {},
     "output_type": "display_data"
    }
   ],
   "source": [
    "plt.hist(flat_events, bins=200);"
   ]
  },
  {
   "cell_type": "code",
   "execution_count": 132,
   "metadata": {
    "collapsed": false
   },
   "outputs": [
    {
     "data": {
      "image/png": "[encoded data removed]",
      "text/plain": [
       "<matplotlib.figure.Figure at 0x7fa68bfdbb00>"
      ]
     },
     "metadata": {},
     "output_type": "display_data"
    }
   ],
   "source": [
    "X, Y1, Y2 = plot_lambda(events=events, _opts=def_plot_opts)"
   ]
  },
  {
   "cell_type": "code",
   "execution_count": 43,
   "metadata": {
    "collapsed": false
   },
   "outputs": [
    {
     "data": {
      "text/plain": [
       "10"
      ]
     },
     "execution_count": 43,
     "metadata": {},
     "output_type": "execute_result"
    }
   ],
   "source": [
    "len(all_sim_events)"
   ]
  },
  {
   "cell_type": "markdown",
   "metadata": {},
   "source": [
    "# Reinf broadcaster"
   ]
  },
  {
   "cell_type": "code",
   "execution_count": 25,
   "metadata": {
    "collapsed": false
   },
   "outputs": [],
   "source": [
    "class Reinf(OM.Broadcaster):\n",
    "    def __init__(self, src_id, seed):\n",
    "        super(Reinf, self).__init__(src_id, seed)\n",
    "        self.init = False\n",
    "        \n",
    "    def get_next_interval(self, event):\n",
    "        if not self.init:\n",
    "            # Create variables here?\n",
    "            pass\n",
    "        \n",
    "        self.state.apply_event(event)\n",
    "        \n",
    "        if event is None:\n",
    "            # This is the first event. Post immediately to join the party?\n",
    "            # Or hold off?\n",
    "            return np.inf\n",
    "        \n",
    "        elif event.src_id == self.src_id:\n",
    "            # We posted. Calculate reward.\n",
    "            # We would never like to post now.\n",
    "            return np.inf\n",
    "        \n",
    "        else:\n",
    "            # Update our rate of posting.\n",
    "            r_t = self.state.get_wall_rank(self.src_id, self.sink_ids,\n",
    "                                           dict_form=False)\n",
    "            # TODO: Magic.\n",
    "            #  1 - Reward for this interval?\n",
    "            #  2 - Sample the posting time again using inverse CDF\n",
    "            #  3 - New sample is guaranteed to be closer to now than\n",
    "            #      the original posting time.\n",
    "            cur_time = event.cur_time\n",
    "            t_delta_new = 10 # TODO: Take a new sample here.\n",
    "            return cur_time + t_delta_new - self.last_self_event_time\n",
    "        \n",
    "    def train(self):\n",
    "        \"\"\"Will do RL here.\"\"\"\n",
    "        pass\n",
    "            \n"
   ]
  },
  {
   "cell_type": "code",
   "execution_count": 26,
   "metadata": {
    "collapsed": false
   },
   "outputs": [],
   "source": [
    "mgr = simOpts.create_manager_with_broadcaster(Reinf(1, 100))"
   ]
  },
  {
   "cell_type": "code",
   "execution_count": 27,
   "metadata": {
    "collapsed": false
   },
   "outputs": [
    {
     "data": {
      "text/plain": [
       "<redqueen.opt_model.Manager at 0x7fb1e9e686a0>"
      ]
     },
     "execution_count": 27,
     "metadata": {},
     "output_type": "execute_result"
    }
   ],
   "source": [
    "mgr.run_dynamic()"
   ]
  },
  {
   "cell_type": "code",
   "execution_count": 28,
   "metadata": {
    "collapsed": true
   },
   "outputs": [],
   "source": [
    "df = mgr.state.get_dataframe()"
   ]
  },
  {
   "cell_type": "code",
   "execution_count": 29,
   "metadata": {
    "collapsed": false
   },
   "outputs": [
    {
     "data": {
      "text/html": [
       "<div>\n",
       "<table border=\"1\" class=\"dataframe\">\n",
       "  <thead>\n",
       "    <tr style=\"text-align: right;\">\n",
       "      <th></th>\n",
       "      <th>event_id</th>\n",
       "      <th>sink_id</th>\n",
       "      <th>src_id</th>\n",
       "      <th>t</th>\n",
       "      <th>time_delta</th>\n",
       "    </tr>\n",
       "  </thead>\n",
       "  <tbody>\n",
       "    <tr>\n",
       "      <th>0</th>\n",
       "      <td>100</td>\n",
       "      <td>1001</td>\n",
       "      <td>2</td>\n",
       "      <td>0.004632</td>\n",
       "      <td>0.004632</td>\n",
       "    </tr>\n",
       "    <tr>\n",
       "      <th>1</th>\n",
       "      <td>101</td>\n",
       "      <td>1001</td>\n",
       "      <td>2</td>\n",
       "      <td>0.005062</td>\n",
       "      <td>0.000430</td>\n",
       "    </tr>\n",
       "    <tr>\n",
       "      <th>2</th>\n",
       "      <td>102</td>\n",
       "      <td>1001</td>\n",
       "      <td>2</td>\n",
       "      <td>0.005522</td>\n",
       "      <td>0.000461</td>\n",
       "    </tr>\n",
       "    <tr>\n",
       "      <th>3</th>\n",
       "      <td>103</td>\n",
       "      <td>1001</td>\n",
       "      <td>2</td>\n",
       "      <td>0.006952</td>\n",
       "      <td>0.001430</td>\n",
       "    </tr>\n",
       "    <tr>\n",
       "      <th>4</th>\n",
       "      <td>104</td>\n",
       "      <td>1001</td>\n",
       "      <td>2</td>\n",
       "      <td>0.009197</td>\n",
       "      <td>0.002245</td>\n",
       "    </tr>\n",
       "  </tbody>\n",
       "</table>\n",
       "</div>"
      ],
      "text/plain": [
       "   event_id  sink_id  src_id         t  time_delta\n",
       "0       100     1001       2  0.004632    0.004632\n",
       "1       101     1001       2  0.005062    0.000430\n",
       "2       102     1001       2  0.005522    0.000461\n",
       "3       103     1001       2  0.006952    0.001430\n",
       "4       104     1001       2  0.009197    0.002245"
      ]
     },
     "execution_count": 29,
     "metadata": {},
     "output_type": "execute_result"
    }
   ],
   "source": [
    "df.head()"
   ]
  },
  {
   "cell_type": "code",
   "execution_count": null,
   "metadata": {
    "collapsed": true
   },
   "outputs": [],
   "source": []
  },
  {
   "cell_type": "code",
   "execution_count": null,
   "metadata": {
    "collapsed": true
   },
   "outputs": [],
   "source": []
  },
  {
   "cell_type": "code",
   "execution_count": null,
   "metadata": {
    "collapsed": true
   },
   "outputs": [],
   "source": []
  },
  {
   "cell_type": "code",
   "execution_count": null,
   "metadata": {
    "collapsed": true
   },
   "outputs": [],
   "source": []
  },
  {
   "cell_type": "code",
   "execution_count": null,
   "metadata": {
    "collapsed": true
   },
   "outputs": [],
   "source": []
  },
  {
   "cell_type": "code",
   "execution_count": null,
   "metadata": {
    "collapsed": true
   },
   "outputs": [],
   "source": []
  },
  {
   "cell_type": "code",
   "execution_count": null,
   "metadata": {
    "collapsed": true
   },
   "outputs": [],
   "source": []
  },
  {
   "cell_type": "code",
   "execution_count": null,
   "metadata": {
    "collapsed": true
   },
   "outputs": [],
   "source": []
  },
  {
   "cell_type": "code",
   "execution_count": null,
   "metadata": {
    "collapsed": true
   },
   "outputs": [],
   "source": []
  }
 ],
 "metadata": {
  "kernelspec": {
   "display_name": "Python 3",
   "language": "python",
   "name": "python3"
  },
  "language_info": {
   "codemirror_mode": {
    "name": "ipython",
    "version": 3
   },
   "file_extension": ".py",
   "mimetype": "text/x-python",
   "name": "python",
   "nbconvert_exporter": "python",
   "pygments_lexer": "ipython3",
   "version": "3.5.2"
  }
 },
 "nbformat": 4,
 "nbformat_minor": 1
}
