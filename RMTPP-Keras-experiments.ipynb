{
 "cells": [
  {
   "cell_type": "markdown",
   "metadata": {},
   "source": [
    "# Keras RTPP"
   ]
  },
  {
   "cell_type": "code",
   "execution_count": 1,
   "metadata": {
    "collapsed": true
   },
   "outputs": [],
   "source": [
    "%matplotlib inline"
   ]
  },
  {
   "cell_type": "code",
   "execution_count": 59,
   "metadata": {
    "collapsed": true
   },
   "outputs": [],
   "source": [
    "import theano\n",
    "theano.config.openmp = True\n",
    "theano.config.exception_verbosity = 'low'\n",
    "# theano.config.optimizer = 'fast_compile'"
   ]
  },
  {
   "cell_type": "code",
   "execution_count": 3,
   "metadata": {
    "collapsed": true
   },
   "outputs": [],
   "source": [
    "import keras"
   ]
  },
  {
   "cell_type": "code",
   "execution_count": 4,
   "metadata": {
    "collapsed": true
   },
   "outputs": [],
   "source": [
    "import numpy as np\n",
    "import scipy as sp\n",
    "import matplotlib.pyplot as plt\n",
    "import seaborn as sns"
   ]
  },
  {
   "cell_type": "code",
   "execution_count": 463,
   "metadata": {
    "collapsed": true
   },
   "outputs": [],
   "source": [
    "import multiprocessing as MP"
   ]
  },
  {
   "cell_type": "code",
   "execution_count": 5,
   "metadata": {},
   "outputs": [
    {
     "data": {
      "text/plain": [
       "<matplotlib.figure.Figure at 0x7fe2dd084898>"
      ]
     },
     "metadata": {},
     "output_type": "display_data"
    }
   ],
   "source": [
    "sns.set(style='ticks', palette='Set2')\n",
    "sns.despine()"
   ]
  },
  {
   "cell_type": "code",
   "execution_count": 6,
   "metadata": {},
   "outputs": [
    {
     "name": "stderr",
     "output_type": "stream",
     "text": [
      "Using Theano backend.\n",
      "/home/utkarshu/miniconda3/envs/py35/lib/python3.5/site-packages/theano/tensor/signal/downsample.py:6: UserWarning: downsample module has been moved to the theano.tensor.signal.pool module.\n",
      "  \"downsample module has been moved to the theano.tensor.signal.pool module.\")\n"
     ]
    }
   ],
   "source": [
    "from keras.models import Sequential\n",
    "from keras.layers import Embedding, SimpleRNN\n",
    "from keras.layers.core import Activation, Dense"
   ]
  },
  {
   "cell_type": "markdown",
   "metadata": {},
   "source": [
    "# SO"
   ]
  },
  {
   "cell_type": "code",
   "execution_count": 158,
   "metadata": {
    "collapsed": true
   },
   "outputs": [],
   "source": [
    "with open('event-train.txt', 'r') as in_file:\n",
    "    eventTrain = [[int(y) for y in x.strip().split()] for x in in_file]\n",
    "\n",
    "with open('event-test.txt', 'r') as in_file:\n",
    "    eventTest = [[int(y) for y in x.strip().split()] for x in in_file]\n",
    "\n",
    "with open('time-train.txt', 'r') as in_file:\n",
    "    timeTrain = [[float(y) for y in x.strip().split()] for x in in_file]\n",
    "\n",
    "with open('time-test.txt', 'r') as in_file:\n",
    "    timeTest = [[float(y) for y in x.strip().split()] for x in in_file]\n",
    "\n",
    "assert len(timeTrain) == len(eventTrain)\n",
    "assert len(eventTest) == len(timeTest)"
   ]
  },
  {
   "cell_type": "code",
   "execution_count": 9,
   "metadata": {},
   "outputs": [
    {
     "data": {
      "text/plain": [
       "383181"
      ]
     },
     "execution_count": 9,
     "metadata": {},
     "output_type": "execute_result"
    }
   ],
   "source": [
    "sum([len(x) for x in eventTrain])"
   ]
  },
  {
   "cell_type": "code",
   "execution_count": 10,
   "metadata": {
    "collapsed": true
   },
   "outputs": [],
   "source": [
    "# Have to convert event-train data to (nb_samples, timesteps, output_dim) size"
   ]
  },
  {
   "cell_type": "code",
   "execution_count": 278,
   "metadata": {},
   "outputs": [],
   "source": [
    "from keras.layers.embeddings import Embedding\n",
    "from keras.preprocessing.sequence import pad_sequences\n",
    "from keras.models import Graph\n",
    "from keras.layers.core import Reshape, Flatten\n",
    "from keras.regularizers import l2"
   ]
  },
  {
   "cell_type": "markdown",
   "metadata": {},
   "source": [
    "## Settings"
   ]
  },
  {
   "cell_type": "code",
   "execution_count": 474,
   "metadata": {
    "collapsed": true
   },
   "outputs": [],
   "source": [
    "HIDDEN_LAYER_SIZE = 128 # 64, 128, 256, 512, 1024\n",
    "BATCH_SIZE = 16 # 16, 32, 64\n",
    "LEARNING_RATE = 0.1 # 0.1, 0.01, 0.001\n",
    "MOMENTUM = 0.9\n",
    "L2_PENALTY = 0.001\n",
    "EMBED_SIZE = 100 # ??"
   ]
  },
  {
   "cell_type": "markdown",
   "metadata": {},
   "source": [
    "## Data transformation"
   ]
  },
  {
   "cell_type": "code",
   "execution_count": 216,
   "metadata": {
    "collapsed": true
   },
   "outputs": [],
   "source": [
    "import itertools"
   ]
  },
  {
   "cell_type": "code",
   "execution_count": 491,
   "metadata": {},
   "outputs": [],
   "source": [
    "nb_samples = len(eventTrain)\n",
    "max_seqlen = max(len(x) for x in eventTrain)\n",
    "unique_samples = set()\n",
    "for x in eventTrain + eventTest:\n",
    "    unique_samples = unique_samples.union(x)\n",
    "    \n",
    "maxTime = max(itertools.chain((max(x) for x in timeTrain), (max(x) for x in timeTest)))\n",
    "minTime = min(itertools.chain((min(x) for x in timeTrain), (min(x) for x in timeTest)))\n",
    "# minTime, maxTime = 0, 1\n",
    "\n",
    "eventTrainIn = [x[:-1] for x in eventTrain]\n",
    "eventTrainOut = [x[1:] for x in eventTrain]\n",
    "timeTrainIn = [[(y - minTime) / (maxTime - minTime) for y in x[:-1]] for x in timeTrain]\n",
    "timeTrainOut = [[(y - minTime) / (maxTime - minTime) for y in x[1:]] for x in timeTrain]\n",
    "\n",
    "train_event_in_seq = pad_sequences(eventTrainIn)\n",
    "train_event_out_seq = pad_sequences(eventTrainOut)\n",
    "train_time_in_seq = pad_sequences(timeTrainIn, dtype=float)\n",
    "train_time_out_seq = pad_sequences(timeTrainOut, dtype=float)\n",
    "\n",
    "eventTestIn = [x[:-1] for x in eventTest]\n",
    "eventTestOut = [x[1:] for x in eventTest]\n",
    "timeTestIn = [[(y - minTime) / (maxTime - minTime) for y in x[:-1]] for x in timeTest]\n",
    "timeTestOut = [[(y - minTime) / (maxTime - minTime) for y in x[1:]] for x in timeTest]\n",
    "\n",
    "test_event_in_seq = pad_sequences(eventTestIn)\n",
    "test_event_out_seq = pad_sequences(eventTestOut)\n",
    "test_time_in_seq = pad_sequences(timeTestIn, dtype=float)\n",
    "test_time_out_seq = pad_sequences(timeTestOut, dtype=float)\n"
   ]
  },
  {
   "cell_type": "code",
   "execution_count": 492,
   "metadata": {
    "collapsed": true
   },
   "outputs": [],
   "source": [
    "nb_events = len(unique_samples)\n",
    "\n",
    "train_event_out_hot_seq = np.zeros((nb_samples, max_seqlen - 1, nb_events), dtype=int)\n",
    "\n",
    "for ii, evs in enumerate(eventTrainOut):\n",
    "    for jj, x in enumerate(evs):\n",
    "        train_event_out_hot_seq[ii, jj, x - 1] = 1\n",
    "        \n",
    "nb_tests = len(eventTest)\n",
    "\n",
    "max_test_seqlen = max(len(x) for x in eventTest)\n",
    "test_event_out_hot_seq = np.zeros((nb_tests, max_test_seqlen - 1, nb_events), dtype=int)\n",
    "\n",
    "for ii, evs in enumerate(eventTestOut):\n",
    "    for jj, x in enumerate(evs):\n",
    "        test_event_out_hot_seq[ii, jj, x - 1] = 1"
   ]
  },
  {
   "cell_type": "code",
   "execution_count": 493,
   "metadata": {},
   "outputs": [],
   "source": [
    "assert np.sum(test_event_out_hot_seq) == sum(len(x) for x in eventTestOut)\n",
    "assert np.sum(train_event_out_hot_seq) == sum(len(x) for x in eventTrainOut)"
   ]
  },
  {
   "cell_type": "code",
   "execution_count": 483,
   "metadata": {},
   "outputs": [
    {
     "data": {
      "text/plain": [
       "(5307, 719, 22)"
      ]
     },
     "execution_count": 483,
     "metadata": {},
     "output_type": "execute_result"
    }
   ],
   "source": [
    "train_event_out_hot_seq.shape"
   ]
  },
  {
   "cell_type": "code",
   "execution_count": 484,
   "metadata": {},
   "outputs": [
    {
     "data": {
      "text/plain": [
       "(5307, 23)"
      ]
     },
     "execution_count": 484,
     "metadata": {},
     "output_type": "execute_result"
    }
   ],
   "source": [
    "np_utils.to_categorical(train_event_out_seq).shape"
   ]
  },
  {
   "cell_type": "markdown",
   "metadata": {},
   "source": [
    "## Testing for RNN regression"
   ]
  },
  {
   "cell_type": "code",
   "execution_count": 265,
   "metadata": {},
   "outputs": [],
   "source": [
    "times_in_raw = [[1,2,0], [3,1,0.1,6]]\n",
    "times_in = pad_sequences(times_in_raw, dtype=float)\n",
    "times_out = times_in\n",
    "test_mdl = Graph()\n",
    "test_mdl.add_input(name='time_input', input_shape=(None, 1))\n",
    "test_mdl.add_node(SimpleRNN(HIDDEN_LAYER_SIZE, return_sequences=True), name='hidden', input='time_input')\n",
    "test_mdl.add_node(Activation('relu'), input='hidden', name='rectified_hidden')\n",
    "test_mdl.add_node(TimeDistributedDense(1), name='time_dense', input='rectified_hidden')\n",
    "test_mdl.add_output(name='time_output', input='time_dense')"
   ]
  },
  {
   "cell_type": "code",
   "execution_count": 266,
   "metadata": {},
   "outputs": [
    {
     "name": "stdout",
     "output_type": "stream",
     "text": [
      "--------------------------------------------------------------------------------\n",
      "Layer (name)                  Output Shape                  Param #             \n",
      "--------------------------------------------------------------------------------\n",
      "Layer (time_input)            (None, None, 1)               0                   \n",
      "SimpleRNN (hidden)            (None, None, 64)              4224                \n",
      "Activation (rectified_hidden) (None, None, 64)              0                   \n",
      "TimeDistributedDense (time_den(None, None, 1)               65                  \n",
      "TimeDistributedDense (time_out(None, None, 1)               65                  \n",
      "--------------------------------------------------------------------------------\n",
      "Total params: 4289\n",
      "--------------------------------------------------------------------------------\n"
     ]
    }
   ],
   "source": [
    "test_mdl.summary()"
   ]
  },
  {
   "cell_type": "code",
   "execution_count": 267,
   "metadata": {},
   "outputs": [
    {
     "name": "stdout",
     "output_type": "stream",
     "text": [
      "CPU times: user 7.08 s, sys: 43.3 ms, total: 7.12 s\n",
      "Wall time: 7.13 s\n"
     ]
    }
   ],
   "source": [
    "%%time\n",
    "test_mdl.compile('SGD', {'time_output': 'mse'})"
   ]
  },
  {
   "cell_type": "code",
   "execution_count": 268,
   "metadata": {
    "collapsed": true
   },
   "outputs": [
    {
     "name": "stdout",
     "output_type": "stream",
     "text": [
      "Epoch 1/10\n",
      "2/2 [==============================] - 0s - loss: 5.5416\n",
      "Epoch 2/10\n",
      "2/2 [==============================] - 0s - loss: 4.3134\n",
      "Epoch 3/10\n",
      "2/2 [==============================] - 0s - loss: 3.8231\n",
      "Epoch 4/10\n",
      "2/2 [==============================] - 0s - loss: 3.5964\n",
      "Epoch 5/10\n",
      "2/2 [==============================] - 0s - loss: 3.4647\n",
      "Epoch 6/10\n",
      "2/2 [==============================] - 0s - loss: 3.3681\n",
      "Epoch 7/10\n",
      "2/2 [==============================] - 0s - loss: 3.2851\n",
      "Epoch 8/10\n",
      "2/2 [==============================] - 0s - loss: 3.2081\n",
      "Epoch 9/10\n",
      "2/2 [==============================] - 0s - loss: 3.1344\n",
      "Epoch 10/10\n",
      "2/2 [==============================] - 0s - loss: 3.0629\n"
     ]
    },
    {
     "data": {
      "text/plain": [
       "<keras.callbacks.History at 0x7fe1b1616668>"
      ]
     },
     "execution_count": 268,
     "metadata": {},
     "output_type": "execute_result"
    }
   ],
   "source": [
    "test_mdl.fit({'time_input': times_in[:,:,None], 'time_output': times_out[:,:,None]}, nb_epoch=10)"
   ]
  },
  {
   "cell_type": "code",
   "execution_count": 262,
   "metadata": {
    "scrolled": true
   },
   "outputs": [
    {
     "data": {
      "text/plain": [
       "{'time_output': array([[[ 1.60988939],\n",
       "         [ 2.02104974],\n",
       "         [ 1.56695032],\n",
       "         [ 2.39780569]],\n",
       " \n",
       "        [[ 2.25615525],\n",
       "         [ 1.83155012],\n",
       "         [ 1.56925201],\n",
       "         [ 2.70618749]]])}"
      ]
     },
     "execution_count": 262,
     "metadata": {},
     "output_type": "execute_result"
    }
   ],
   "source": [
    "test_mdl.predict({ 'time_input': times_in[:,:,None] })"
   ]
  },
  {
   "cell_type": "markdown",
   "metadata": {},
   "source": [
    "## Model creation"
   ]
  },
  {
   "cell_type": "markdown",
   "metadata": {},
   "source": [
    "Need to use an Embedding layer to represent input with variable timesteps"
   ]
  },
  {
   "cell_type": "code",
   "execution_count": 494,
   "metadata": {},
   "outputs": [],
   "source": [
    "so_model = Graph()\n",
    "so_model.add_input(name='event_input', input_shape=(None,), dtype=int)\n",
    "so_model.add_input(name='time_input', input_shape=(None, 1))\n",
    "\n",
    "so_model.add_node(Embedding(nb_events + 1, EMBED_SIZE, mask_zero=True),\n",
    "               name='event_embedding', input='event_input')\n",
    "so_model.add_node(TimeDistributedDense(1), input='time_input', name='time_scaled')\n",
    "so_model.add_node(SimpleRNN(HIDDEN_LAYER_SIZE, return_sequences=True, input_shape=(None, HIDDEN_LAYER_SIZE)), \n",
    "                  name='hidden',\n",
    "                  inputs=['event_embedding', 'time_scaled'])\n",
    "so_model.add_node(Activation('relu'), input='hidden', name='rectified_hidden')\n",
    "so_model.add_node(TimeDistributedDense(nb_events, W_regularizer=l2(L2_PENALTY)), \n",
    "                  input='rectified_hidden', \n",
    "                  name='event_output_dense')\n",
    "so_model.add_node(Activation('softmax'), input='event_output_dense', name='event_softmax')\n",
    "so_model.add_node(TimeDistributedDense(1, W_regularizer=l2(L2_PENALTY)),\n",
    "                  input='rectified_hidden', \n",
    "                  name='time_output_dense')\n",
    "\n",
    "so_model.add_output(name='time_output', input='time_output_dense')\n",
    "so_model.add_output(name='event_output', input='event_softmax')"
   ]
  },
  {
   "cell_type": "code",
   "execution_count": 495,
   "metadata": {},
   "outputs": [],
   "source": [
    "# so_model.get_config()"
   ]
  },
  {
   "cell_type": "code",
   "execution_count": 496,
   "metadata": {
    "scrolled": true
   },
   "outputs": [
    {
     "name": "stdout",
     "output_type": "stream",
     "text": [
      "--------------------------------------------------------------------------------\n",
      "Layer (name)                  Output Shape                  Param #             \n",
      "--------------------------------------------------------------------------------\n",
      "Layer (event_input)           (None, None)                  0                   \n",
      "Layer (time_input)            (None, None, 1)               0                   \n",
      "Embedding (event_embedding)   (None, None, 100)             2300                \n",
      "TimeDistributedDense (time_sca(None, None, 1)               2                   \n",
      "SimpleRNN (hidden)            (None, None, 128)             29440               \n",
      "Activation (rectified_hidden) (None, None, 128)             0                   \n",
      "TimeDistributedDense (event_ou(None, None, 22)              2838                \n",
      "Activation (event_softmax)    (None, None, 22)              0                   \n",
      "TimeDistributedDense (time_out(None, None, 1)               129                 \n",
      "TimeDistributedDense (time_out(None, None, 1)               129                 \n",
      "Activation (event_output)     (None, None, 22)              0                   \n",
      "--------------------------------------------------------------------------------\n",
      "Total params: 34709\n",
      "--------------------------------------------------------------------------------\n"
     ]
    }
   ],
   "source": [
    "so_model.summary()"
   ]
  },
  {
   "cell_type": "markdown",
   "metadata": {},
   "source": [
    "### Model compilation"
   ]
  },
  {
   "cell_type": "code",
   "execution_count": 497,
   "metadata": {
    "scrolled": false
   },
   "outputs": [
    {
     "name": "stdout",
     "output_type": "stream",
     "text": [
      "CPU times: user 20.2 s, sys: 357 ms, total: 20.5 s\n",
      "Wall time: 20.6 s\n"
     ]
    }
   ],
   "source": [
    "%%time\n",
    "so_model.compile(keras.optimizers.SGD(lr=LEARNING_RATE, momentum=MOMENTUM), # 'SGD'\n",
    "                 {'event_output': 'categorical_crossentropy', \n",
    "                  'time_output': 'hinge'})"
   ]
  },
  {
   "cell_type": "markdown",
   "metadata": {},
   "source": [
    "## Model fitting"
   ]
  },
  {
   "cell_type": "markdown",
   "metadata": {},
   "source": [
    "### Custom loss function"
   ]
  },
  {
   "cell_type": "code",
   "execution_count": 498,
   "metadata": {},
   "outputs": [
    {
     "name": "stdout",
     "output_type": "stream",
     "text": [
      "CPU times: user 0 ns, sys: 0 ns, total: 0 ns\n",
      "Wall time: 5.72 µs\n"
     ]
    }
   ],
   "source": [
    "%%time\n",
    "# so_model.compile('SGD', \n",
    "#                 {'event_output': 'categorical_crossentropy', \n",
    "#                  'time_output': lambda x,y: K.mean(keras.objectives.MSE(x, y))})"
   ]
  },
  {
   "cell_type": "code",
   "execution_count": 499,
   "metadata": {},
   "outputs": [
    {
     "name": "stdout",
     "output_type": "stream",
     "text": [
      "Epoch 1/50\n",
      "5307/5307 [==============================] - 137s - loss: 1.1170   \n",
      "Epoch 2/50\n",
      "5307/5307 [==============================] - 135s - loss: 1.0966   \n",
      "Epoch 3/50\n",
      "5307/5307 [==============================] - 136s - loss: 1.0921   \n",
      "Epoch 4/50\n",
      "5307/5307 [==============================] - 135s - loss: 1.0907   \n",
      "Epoch 5/50\n",
      "5307/5307 [==============================] - 135s - loss: 1.0902   \n",
      "Epoch 6/50\n",
      "5307/5307 [==============================] - 135s - loss: 1.0901   \n",
      "Epoch 7/50\n",
      "5307/5307 [==============================] - 135s - loss: 1.0898   \n",
      "Epoch 8/50\n",
      "5307/5307 [==============================] - 133s - loss: 1.0898   \n",
      "Epoch 9/50\n",
      "5307/5307 [==============================] - 132s - loss: 1.0898   \n",
      "Epoch 10/50\n",
      "5307/5307 [==============================] - 132s - loss: 1.0899   \n",
      "Epoch 11/50\n",
      "5307/5307 [==============================] - 131s - loss: 1.0894   \n",
      "Epoch 12/50\n",
      "5307/5307 [==============================] - 130s - loss: 1.0895   \n",
      "Epoch 13/50\n",
      "5307/5307 [==============================] - 130s - loss: 1.0893   \n",
      "Epoch 14/50\n",
      "5307/5307 [==============================] - 130s - loss: 1.0894   \n",
      "Epoch 15/50\n",
      "5307/5307 [==============================] - 130s - loss: 1.0898   \n",
      "Epoch 16/50\n",
      "5307/5307 [==============================] - 130s - loss: 1.0894   \n",
      "Epoch 17/50\n",
      "5307/5307 [==============================] - 131s - loss: 1.0893   \n",
      "Epoch 18/50\n",
      "5307/5307 [==============================] - 130s - loss: 1.0894   \n",
      "Epoch 19/50\n",
      "5307/5307 [==============================] - 129s - loss: 1.0892   \n",
      "Epoch 20/50\n",
      "5307/5307 [==============================] - 129s - loss: 1.0895   \n",
      "Epoch 21/50\n",
      "5307/5307 [==============================] - 129s - loss: 1.0892   \n",
      "Epoch 22/50\n",
      "5307/5307 [==============================] - 129s - loss: 1.0891   \n",
      "Epoch 23/50\n",
      "5307/5307 [==============================] - 128s - loss: 1.0894   \n",
      "Epoch 24/50\n",
      "5307/5307 [==============================] - 129s - loss: 1.0891   \n",
      "Epoch 25/50\n",
      "5307/5307 [==============================] - 128s - loss: 1.0888   \n",
      "Epoch 26/50\n",
      "5307/5307 [==============================] - 129s - loss: 1.0892   \n",
      "Epoch 27/50\n",
      "5307/5307 [==============================] - 129s - loss: 1.0888   \n",
      "Epoch 28/50\n",
      "5307/5307 [==============================] - 129s - loss: 1.0892   \n",
      "Epoch 29/50\n",
      "5307/5307 [==============================] - 128s - loss: 1.0893   \n",
      "Epoch 30/50\n",
      "5307/5307 [==============================] - 128s - loss: 1.0889   \n",
      "Epoch 31/50\n",
      "5307/5307 [==============================] - 129s - loss: 1.0890   \n",
      "Epoch 32/50\n",
      "5307/5307 [==============================] - 129s - loss: 1.0892   \n",
      "Epoch 33/50\n",
      "5307/5307 [==============================] - 128s - loss: 1.0890   \n",
      "Epoch 34/50\n",
      "5307/5307 [==============================] - 128s - loss: 1.0890   \n",
      "Epoch 35/50\n",
      "5307/5307 [==============================] - 129s - loss: 1.0888   \n",
      "Epoch 36/50\n",
      "5307/5307 [==============================] - 129s - loss: 1.0888   \n",
      "Epoch 37/50\n",
      "5307/5307 [==============================] - 127s - loss: 1.0888   \n",
      "Epoch 38/50\n",
      "5307/5307 [==============================] - 128s - loss: 1.0888   \n",
      "Epoch 39/50\n",
      "5307/5307 [==============================] - 129s - loss: 1.0889   \n",
      "Epoch 40/50\n",
      "5307/5307 [==============================] - 127s - loss: 1.0887   \n",
      "Epoch 41/50\n",
      "5307/5307 [==============================] - 127s - loss: 1.0885   \n",
      "Epoch 42/50\n",
      "5307/5307 [==============================] - 128s - loss: 1.0886   \n",
      "Epoch 43/50\n",
      "5307/5307 [==============================] - 129s - loss: 1.0888   \n",
      "Epoch 44/50\n",
      "5307/5307 [==============================] - 127s - loss: 1.0888   \n",
      "Epoch 45/50\n",
      "5307/5307 [==============================] - 128s - loss: 1.0885   \n",
      "Epoch 46/50\n",
      "5307/5307 [==============================] - 127s - loss: 1.0885   \n",
      "Epoch 47/50\n",
      "5307/5307 [==============================] - 127s - loss: 1.0888   \n",
      "Epoch 48/50\n",
      "5307/5307 [==============================] - 127s - loss: 1.0886   \n",
      "Epoch 49/50\n",
      "5307/5307 [==============================] - 127s - loss: 1.0887   \n",
      "Epoch 50/50\n",
      "5307/5307 [==============================] - 127s - loss: 1.0884   \n",
      "CPU times: user 3d 12h 21min 5s, sys: 1h 45min 56s, total: 3d 14h 7min 2s\n",
      "Wall time: 1h 48min 31s\n"
     ]
    },
    {
     "data": {
      "text/plain": [
       "<keras.callbacks.History at 0x7fe1a10f3ef0>"
      ]
     },
     "execution_count": 499,
     "metadata": {},
     "output_type": "execute_result"
    }
   ],
   "source": [
    "%%time\n",
    "so_model.fit({\n",
    "        'event_input': train_event_in_seq, \n",
    "        'event_output': train_event_out_hot_seq,\n",
    "        'time_input': train_time_in_seq[:,:,None],\n",
    "        'time_output': train_time_out_seq[:,:,None]\n",
    "        },\n",
    "        verbose=1, \n",
    "        nb_epoch=50, \n",
    "        batch_size=BATCH_SIZE)"
   ]
  },
  {
   "cell_type": "markdown",
   "metadata": {},
   "source": [
    "### Saving model results to disk"
   ]
  },
  {
   "cell_type": "code",
   "execution_count": 500,
   "metadata": {},
   "outputs": [],
   "source": [
    "import seqfile\n",
    "so_model.save_weights(seqfile.findNextFile(prefix='so-model-', suffix='.hdf5'), overwrite=True)"
   ]
  },
  {
   "cell_type": "markdown",
   "metadata": {},
   "source": [
    "## Predictions"
   ]
  },
  {
   "cell_type": "code",
   "execution_count": 531,
   "metadata": {
    "collapsed": true
   },
   "outputs": [],
   "source": [
    "def classCount(one_hot, ground_truth=None):\n",
    "    if ground_truth is None:\n",
    "        ground_truth = one_hot\n",
    "        \n",
    "    classes = np.zeros(one_hot.shape[2], dtype=int)\n",
    "    for ii in range(one_hot.shape[0]):\n",
    "        for jj in range(one_hot.shape[1]):\n",
    "            # If the 'ground_truth' has an element, count it in one_hot\n",
    "            if np.sum(ground_truth[ii, jj, :]) > 0:\n",
    "                classes[np.argmax(one_hot[ii, jj, :])] += 1\n",
    "    \n",
    "    return classes\n",
    "    "
   ]
  },
  {
   "cell_type": "markdown",
   "metadata": {},
   "source": [
    "## On test data"
   ]
  },
  {
   "cell_type": "code",
   "execution_count": 502,
   "metadata": {},
   "outputs": [
    {
     "name": "stdout",
     "output_type": "stream",
     "text": [
      "CPU times: user 5min 48s, sys: 7.39 s, total: 5min 55s\n",
      "Wall time: 7.92 s\n"
     ]
    }
   ],
   "source": [
    "%%time\n",
    "pred_test = so_model.predict({ 'event_input': test_event_in_seq, 'time_input': test_time_in_seq[:, :, None] })"
   ]
  },
  {
   "cell_type": "code",
   "execution_count": 503,
   "metadata": {},
   "outputs": [],
   "source": [
    "test_marker_accuracy = np.zeros(pred_test['event_output'].shape[:2], dtype=int)"
   ]
  },
  {
   "cell_type": "code",
   "execution_count": 504,
   "metadata": {},
   "outputs": [],
   "source": [
    "op = pred_test['event_output']\n",
    "for ii in range(op.shape[0]):\n",
    "    for jj in range(op.shape[1]):\n",
    "        test_marker_accuracy[ii, jj] = 1 if np.argmax(test_event_out_hot_seq[ii, jj, :]) == np.argmax(op[ii, jj, :]) else 0"
   ]
  },
  {
   "cell_type": "markdown",
   "metadata": {},
   "source": [
    "Total number of test events"
   ]
  },
  {
   "cell_type": "code",
   "execution_count": 548,
   "metadata": {},
   "outputs": [
    {
     "data": {
      "text/plain": [
       "(95907, 95907)"
      ]
     },
     "execution_count": 548,
     "metadata": {},
     "output_type": "execute_result"
    }
   ],
   "source": [
    "sum(len(x) - 1 for x in eventTest), np.sum(test_event_out_hot_seq)"
   ]
  },
  {
   "cell_type": "code",
   "execution_count": 549,
   "metadata": {},
   "outputs": [],
   "source": [
    "assert np.sum(test_event_out_hot_seq) == sum(len(x) - 1 for x in eventTest)"
   ]
  },
  {
   "cell_type": "code",
   "execution_count": 508,
   "metadata": {},
   "outputs": [
    {
     "data": {
      "text/plain": [
       "0.42893636543735075"
      ]
     },
     "execution_count": 508,
     "metadata": {},
     "output_type": "execute_result"
    }
   ],
   "source": [
    "np.sum(test_marker_accuracy) / np.sum(test_event_out_hot_seq)"
   ]
  },
  {
   "cell_type": "markdown",
   "metadata": {},
   "source": [
    "## On training data"
   ]
  },
  {
   "cell_type": "code",
   "execution_count": 509,
   "metadata": {},
   "outputs": [
    {
     "name": "stdout",
     "output_type": "stream",
     "text": [
      "CPU times: user 22min 41s, sys: 28.9 s, total: 23min 10s\n",
      "Wall time: 29.9 s\n"
     ]
    }
   ],
   "source": [
    "%%time\n",
    "pred_train = so_model.predict({ 'event_input': train_event_in_seq, 'time_input': train_time_in_seq[:,:,None] })"
   ]
  },
  {
   "cell_type": "code",
   "execution_count": 510,
   "metadata": {
    "collapsed": true
   },
   "outputs": [],
   "source": [
    "train_marker_accuracy = np.zeros(pred_train['event_output'].shape[:2], dtype=int)"
   ]
  },
  {
   "cell_type": "code",
   "execution_count": 511,
   "metadata": {},
   "outputs": [],
   "source": [
    "op = pred_train['event_output']\n",
    "for ii in range(op.shape[0]):\n",
    "    for jj in range(op.shape[1]):\n",
    "        train_marker_accuracy[ii, jj] = 1 if np.argmax(train_event_out_hot_seq[ii, jj, :]) == np.argmax(op[ii, jj, :]) else 0"
   ]
  },
  {
   "cell_type": "code",
   "execution_count": 512,
   "metadata": {},
   "outputs": [
    {
     "data": {
      "text/plain": [
       "0.43463694247288781"
      ]
     },
     "execution_count": 512,
     "metadata": {},
     "output_type": "execute_result"
    }
   ],
   "source": [
    "np.sum(train_marker_accuracy) / np.sum(train_event_out_hot_seq)"
   ]
  },
  {
   "cell_type": "code",
   "execution_count": 535,
   "metadata": {},
   "outputs": [
    {
     "name": "stdout",
     "output_type": "stream",
     "text": [
      "CPU times: user 55.3 s, sys: 533 ms, total: 55.8 s\n",
      "Wall time: 55.1 s\n"
     ]
    }
   ],
   "source": [
    "%%time\n",
    "# No one uses single core anymore.\n",
    "# true_train_classes_old = classCount(train_event_out_hot_seq)\n",
    "# true_test_classes_old = classCount(test_event_out_hot_seq)\n",
    "# pred_train_classes_old = classCount(pred_train['event_output'], train_event_out_hot_seq)\n",
    "# pred_test_classes_old = classCount(pred_test['event_output'], test_event_out_hot_seq)"
   ]
  },
  {
   "cell_type": "code",
   "execution_count": 534,
   "metadata": {},
   "outputs": [
    {
     "name": "stdout",
     "output_type": "stream",
     "text": [
      "CPU times: user 2.44 s, sys: 5.64 s, total: 8.08 s\n",
      "Wall time: 31 s\n"
     ]
    }
   ],
   "source": [
    "%%time\n",
    "def worker(params):\n",
    "    x, y = params\n",
    "    return classCount(x, y)\n",
    "\n",
    "with MP.Pool() as pool:\n",
    "    [true_train_classes, true_test_classes, pred_train_classes, pred_test_classes] = \\\n",
    "        pool.map(worker,     [(train_event_out_hot_seq, train_event_out_hot_seq),\n",
    "                              (test_event_out_hot_seq, test_event_out_hot_seq),\n",
    "                              (pred_train['event_output'], train_event_out_hot_seq),\n",
    "                              (pred_test['event_output'], test_event_out_hot_seq)])\n"
   ]
  },
  {
   "cell_type": "code",
   "execution_count": 538,
   "metadata": {},
   "outputs": [
    {
     "data": {
      "text/plain": [
       "array([ 23612,   7544,   2478, 164238,  22021,  23258,   7409,   7216,\n",
       "        87108,   5248,    703,  10165,   3245,   7268,   1180,    376,\n",
       "         1066,   2032,   1355,    276,     56,     20])"
      ]
     },
     "execution_count": 538,
     "metadata": {},
     "output_type": "execute_result"
    }
   ],
   "source": [
    "true_train_classes"
   ]
  },
  {
   "cell_type": "code",
   "execution_count": 539,
   "metadata": {},
   "outputs": [
    {
     "data": {
      "text/plain": [
       "377874"
      ]
     },
     "execution_count": 539,
     "metadata": {},
     "output_type": "execute_result"
    }
   ],
   "source": [
    "np.sum(true_train_classes)"
   ]
  },
  {
   "cell_type": "code",
   "execution_count": 540,
   "metadata": {},
   "outputs": [
    {
     "data": {
      "text/plain": [
       "377874"
      ]
     },
     "execution_count": 540,
     "metadata": {},
     "output_type": "execute_result"
    }
   ],
   "source": [
    "np.sum(pred_train_classes)"
   ]
  },
  {
   "cell_type": "code",
   "execution_count": 541,
   "metadata": {},
   "outputs": [
    {
     "data": {
      "text/plain": [
       "array([ 6014,  2057,   689, 41138,  5627,  6208,  1949,  1785, 22046,\n",
       "        1218,   164,  2557,   801,  1967,   312,   102,   272,   565,\n",
       "         353,    58,    21,     4])"
      ]
     },
     "execution_count": 541,
     "metadata": {},
     "output_type": "execute_result"
    }
   ],
   "source": [
    "true_test_classes"
   ]
  },
  {
   "cell_type": "code",
   "execution_count": 542,
   "metadata": {},
   "outputs": [
    {
     "data": {
      "text/plain": [
       "array([    0,     0,     0, 95907,     0,     0,     0,     0,     0,\n",
       "           0,     0,     0,     0,     0,     0,     0,     0,     0,\n",
       "           0,     0,     0,     0])"
      ]
     },
     "execution_count": 542,
     "metadata": {},
     "output_type": "execute_result"
    }
   ],
   "source": [
    "pred_test_classes"
   ]
  },
  {
   "cell_type": "code",
   "execution_count": 546,
   "metadata": {},
   "outputs": [],
   "source": [
    "# sns.barplot([true_train_classes, pred_train_classes]);"
   ]
  },
  {
   "cell_type": "code",
   "execution_count": 543,
   "metadata": {},
   "outputs": [],
   "source": [
    "pred_train_time = pred_train['time_output'].squeeze()\n",
    "pred_test_time = pred_test['time_output'].squeeze()"
   ]
  },
  {
   "cell_type": "code",
   "execution_count": 544,
   "metadata": {},
   "outputs": [
    {
     "data": {
      "text/plain": [
       "8.8049802780151367"
      ]
     },
     "execution_count": 544,
     "metadata": {},
     "output_type": "execute_result"
    }
   ],
   "source": [
    "np.min(pred_train_time[0])"
   ]
  },
  {
   "cell_type": "code",
   "execution_count": 545,
   "metadata": {},
   "outputs": [
    {
     "data": {
      "text/plain": [
       "0.9759224533138966"
      ]
     },
     "execution_count": 545,
     "metadata": {},
     "output_type": "execute_result"
    }
   ],
   "source": [
    "np.max(train_time_out_seq[0])"
   ]
  },
  {
   "cell_type": "code",
   "execution_count": null,
   "metadata": {
    "collapsed": true
   },
   "outputs": [],
   "source": []
  },
  {
   "cell_type": "code",
   "execution_count": null,
   "metadata": {
    "collapsed": true
   },
   "outputs": [],
   "source": []
  },
  {
   "cell_type": "code",
   "execution_count": null,
   "metadata": {
    "collapsed": true
   },
   "outputs": [],
   "source": []
  },
  {
   "cell_type": "code",
   "execution_count": null,
   "metadata": {
    "collapsed": true
   },
   "outputs": [],
   "source": []
  },
  {
   "cell_type": "code",
   "execution_count": null,
   "metadata": {
    "collapsed": true
   },
   "outputs": [],
   "source": []
  },
  {
   "cell_type": "code",
   "execution_count": null,
   "metadata": {
    "collapsed": true
   },
   "outputs": [],
   "source": []
  },
  {
   "cell_type": "code",
   "execution_count": null,
   "metadata": {
    "collapsed": true
   },
   "outputs": [],
   "source": []
  },
  {
   "cell_type": "code",
   "execution_count": null,
   "metadata": {
    "collapsed": true
   },
   "outputs": [],
   "source": []
  },
  {
   "cell_type": "code",
   "execution_count": null,
   "metadata": {
    "collapsed": true
   },
   "outputs": [],
   "source": []
  },
  {
   "cell_type": "code",
   "execution_count": null,
   "metadata": {
    "collapsed": true
   },
   "outputs": [],
   "source": []
  },
  {
   "cell_type": "code",
   "execution_count": null,
   "metadata": {
    "collapsed": true
   },
   "outputs": [],
   "source": []
  },
  {
   "cell_type": "code",
   "execution_count": null,
   "metadata": {
    "collapsed": true
   },
   "outputs": [],
   "source": []
  },
  {
   "cell_type": "code",
   "execution_count": null,
   "metadata": {
    "collapsed": true
   },
   "outputs": [],
   "source": []
  },
  {
   "cell_type": "code",
   "execution_count": null,
   "metadata": {
    "collapsed": true
   },
   "outputs": [],
   "source": []
  },
  {
   "cell_type": "code",
   "execution_count": null,
   "metadata": {
    "collapsed": true
   },
   "outputs": [],
   "source": []
  },
  {
   "cell_type": "code",
   "execution_count": null,
   "metadata": {
    "collapsed": true
   },
   "outputs": [],
   "source": []
  },
  {
   "cell_type": "code",
   "execution_count": null,
   "metadata": {
    "collapsed": true
   },
   "outputs": [],
   "source": []
  },
  {
   "cell_type": "code",
   "execution_count": null,
   "metadata": {
    "collapsed": true
   },
   "outputs": [],
   "source": []
  },
  {
   "cell_type": "code",
   "execution_count": null,
   "metadata": {
    "collapsed": true
   },
   "outputs": [],
   "source": []
  }
 ],
 "metadata": {
  "kernelspec": {
   "display_name": "Python 3",
   "language": "python",
   "name": "python3"
  },
  "language_info": {
   "codemirror_mode": {
    "name": "ipython",
    "version": 3
   },
   "file_extension": ".py",
   "mimetype": "text/x-python",
   "name": "python",
   "nbconvert_exporter": "python",
   "pygments_lexer": "ipython3",
   "version": "3.6.1"
  }
 },
 "nbformat": 4,
 "nbformat_minor": 1
}
