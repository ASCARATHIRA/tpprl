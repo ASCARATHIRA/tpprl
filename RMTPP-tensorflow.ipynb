{
 "cells": [
  {
   "cell_type": "code",
   "execution_count": 1,
   "metadata": {
    "collapsed": true
   },
   "outputs": [],
   "source": [
    "%matplotlib inline"
   ]
  },
  {
   "cell_type": "code",
   "execution_count": 2,
   "metadata": {
    "collapsed": true
   },
   "outputs": [],
   "source": [
    "from tensorflow.contrib.keras import preprocessing"
   ]
  },
  {
   "cell_type": "code",
   "execution_count": 3,
   "metadata": {
    "collapsed": true
   },
   "outputs": [],
   "source": [
    "pad_sequences = preprocessing.sequence.pad_sequences"
   ]
  },
  {
   "cell_type": "code",
   "execution_count": 4,
   "metadata": {
    "collapsed": true
   },
   "outputs": [],
   "source": [
    "import tensorflow as tf\n",
    "import numpy as np\n",
    "import os\n",
    "import itertools\n",
    "import matplotlib.pyplot as plt\n",
    "import seaborn as sns\n",
    "import scipy as sp\n",
    "from scipy.integrate import quad, quad_explain\n",
    "import pandas as pd"
   ]
  },
  {
   "cell_type": "markdown",
   "metadata": {},
   "source": [
    "# Loading Data"
   ]
  },
  {
   "cell_type": "code",
   "execution_count": 9,
   "metadata": {
    "collapsed": true
   },
   "outputs": [],
   "source": [
    "path = 'rmtpp-data/real/so/'\n",
    "idx = 1\n",
    "event_train_file = os.path.join(path, f'event-{idx}-train.txt')\n",
    "event_test_file = os.path.join(path, f'event-{idx}-test.txt')\n",
    "time_train_file = os.path.join(path, f'time-{idx}-train.txt')\n",
    "time_test_file = os.path.join(path, f'time-{idx}-test.txt')"
   ]
  },
  {
   "cell_type": "code",
   "execution_count": 41,
   "metadata": {
    "collapsed": true
   },
   "outputs": [],
   "source": [
    "with open(event_train_file, 'r') as in_file:\n",
    "    eventTrain = [[int(y) for y in x.strip().split()] for x in in_file]\n",
    "\n",
    "with open(event_test_file, 'r') as in_file:\n",
    "    eventTest = [[int(y) for y in x.strip().split()] for x in in_file]\n",
    "\n",
    "with open(time_train_file, 'r') as in_file:\n",
    "    timeTrain = [[float(y) for y in x.strip().split()] for x in in_file]\n",
    "\n",
    "with open(time_test_file, 'r') as in_file:\n",
    "    timeTest = [[float(y) for y in x.strip().split()] for x in in_file]\n",
    "\n",
    "assert len(timeTrain) == len(eventTrain)\n",
    "assert len(eventTest) == len(timeTest)"
   ]
  },
  {
   "cell_type": "code",
   "execution_count": 42,
   "metadata": {
    "collapsed": true
   },
   "outputs": [],
   "source": [
    "nb_samples = len(eventTrain)\n",
    "max_seqlen = max(len(x) for x in eventTrain)\n",
    "unique_samples = set()\n",
    "for x in eventTrain + eventTest:\n",
    "    unique_samples = unique_samples.union(x)\n",
    "    \n",
    "maxTime = max(itertools.chain((max(x) for x in timeTrain), (max(x) for x in timeTest)))\n",
    "minTime = min(itertools.chain((min(x) for x in timeTrain), (min(x) for x in timeTest)))\n",
    "# minTime, maxTime = 0, 1\n",
    "\n",
    "eventTrainIn = [x[:-1] for x in eventTrain]\n",
    "eventTrainOut = [x[1:] for x in eventTrain]\n",
    "timeTrainIn = [[(y - minTime) / (maxTime - minTime) for y in x[:-1]] for x in timeTrain]\n",
    "timeTrainOut = [[(y - minTime) / (maxTime - minTime) for y in x[1:]] for x in timeTrain]\n",
    "\n",
    "train_event_in_seq = pad_sequences(eventTrainIn, padding='post')\n",
    "train_event_out_seq = pad_sequences(eventTrainOut, padding='post')\n",
    "train_time_in_seq = pad_sequences(timeTrainIn, dtype=float, padding='post')\n",
    "train_time_out_seq = pad_sequences(timeTrainOut, dtype=float, padding='post')\n",
    "\n",
    "eventTestIn = [x[:-1] for x in eventTest]\n",
    "eventTestOut = [x[1:] for x in eventTest]\n",
    "timeTestIn = [[(y - minTime) / (maxTime - minTime) for y in x[:-1]] for x in timeTest]\n",
    "timeTestOut = [[(y - minTime) / (maxTime - minTime) for y in x[1:]] for x in timeTest]\n",
    "\n",
    "test_event_in_seq = pad_sequences(eventTestIn, padding='post')\n",
    "test_event_out_seq = pad_sequences(eventTestOut, padding='post')\n",
    "test_time_in_seq = pad_sequences(timeTestIn, dtype=float, padding='post')\n",
    "test_time_out_seq = pad_sequences(timeTestOut, dtype=float, padding='post')"
   ]
  },
  {
   "cell_type": "code",
   "execution_count": 3,
   "metadata": {
    "collapsed": true
   },
   "outputs": [],
   "source": [
    "# Not doing one-hot encoding because TF provides tf.nn.embedding_lookup\n",
    "\n",
    "# nb_events = len(unique_samples)\n",
    "\n",
    "# train_event_out_hot_seq = np.zeros((nb_samples, max_seqlen - 1, nb_events), dtype=int)\n",
    "\n",
    "# for ii, evs in enumerate(eventTrainOut):\n",
    "#     for jj, x in enumerate(evs):\n",
    "#         train_event_out_hot_seq[ii, jj, x - 1] = 1a\n",
    "        \n",
    "# nb_tests = len(eventTest)\n",
    "\n",
    "# max_test_seqlen = max(len(x) for x in eventTest)\n",
    "# test_event_out_hot_seq = np.zeros((nb_tests, max_test_seqlen - 1, nb_events), dtype=int)\n",
    "\n",
    "# for ii, evs in enumerate(eventTestOut):\n",
    "#     for jj, x in enumerate(evs):\n",
    "#         test_event_out_hot_seq[ii, jj, x - 1] = 1"
   ]
  },
  {
   "cell_type": "code",
   "execution_count": 4,
   "metadata": {
    "collapsed": true
   },
   "outputs": [],
   "source": [
    "# assert np.sum(test_event_out_hot_seq) == sum(len(x) for x in eventTestOut)\n",
    "# assert np.sum(train_event_out_hot_seq) == sum(len(x) for x in eventTrainOut)"
   ]
  },
  {
   "cell_type": "markdown",
   "metadata": {},
   "source": [
    "# Params"
   ]
  },
  {
   "cell_type": "code",
   "execution_count": 43,
   "metadata": {
    "collapsed": true
   },
   "outputs": [],
   "source": [
    "HIDDEN_LAYER_SIZE = 128 # 64, 128, 256, 512, 1024\n",
    "BATCH_SIZE = 28 # 16, 32, 64\n",
    "LEARNING_RATE = 0.1 # 0.1, 0.01, 0.001\n",
    "MOMENTUM = 0.9\n",
    "L2_PENALTY = 0.001\n",
    "EMBED_SIZE = 100 # ??"
   ]
  },
  {
   "cell_type": "code",
   "execution_count": 44,
   "metadata": {
    "collapsed": true
   },
   "outputs": [],
   "source": [
    "NUM_CATEGORIES = len(unique_samples)\n",
    "FLOAT_TYPE = tf.float32\n",
    "RNN_CELL_TYPE = tf.contrib.rnn.GRUCell\n",
    "BPTT = 10"
   ]
  },
  {
   "cell_type": "markdown",
   "metadata": {},
   "source": [
    "# Model construction"
   ]
  },
  {
   "cell_type": "code",
   "execution_count": 48,
   "metadata": {
    "collapsed": true
   },
   "outputs": [],
   "source": [
    "tf.reset_default_graph()\n",
    "seed = 42\n",
    "RS = np.random.RandomState(seed)\n",
    "scope = \"RMTPP\"\n",
    "\n",
    "with tf.variable_scope(scope):\n",
    "\n",
    "    with tf.device('/gpu:0'):\n",
    "        # Make input variables\n",
    "        events_in = tf.placeholder(tf.int32, [BATCH_SIZE, BPTT])\n",
    "        times_in = tf.placeholder(FLOAT_TYPE, [BATCH_SIZE, BPTT])\n",
    "\n",
    "        events_out = tf.placeholder(tf.int32, [BATCH_SIZE, BPTT])\n",
    "        times_out = tf.placeholder(FLOAT_TYPE, [BATCH_SIZE, BPTT])\n",
    "\n",
    "        # Make variables\n",
    "        with tf.variable_scope('hidden_state'):\n",
    "            Wt = tf.get_variable(name='Wt', shape=(1, HIDDEN_LAYER_SIZE), \n",
    "                                 dtype=FLOAT_TYPE)            \n",
    "            # The first row of Wem is merely a placeholder (will not be trained).\n",
    "            Wem = tf.get_variable(name='Wem', shape=(NUM_CATEGORIES + 1, EMBED_SIZE), \n",
    "                                  dtype=FLOAT_TYPE)\n",
    "            Wh = tf.get_variable(name='Wh', shape=(HIDDEN_LAYER_SIZE, HIDDEN_LAYER_SIZE), \n",
    "                                 dtype=FLOAT_TYPE)\n",
    "            bh = tf.get_variable(name='bh', shape=(1, HIDDEN_LAYER_SIZE),\n",
    "                                 dtype=FLOAT_TYPE)\n",
    "            \n",
    "        with tf.variable_scope('output'):\n",
    "            wt = tf.get_variable(name='wt', shape=(1, 1), \n",
    "                                 dtype=FLOAT_TYPE)\n",
    "\n",
    "            Wy = tf.get_variable(name='Wy', shape=(EMBED_SIZE, HIDDEN_LAYER_SIZE), \n",
    "                             dtype=FLOAT_TYPE)\n",
    "\n",
    "            # The first column of Vy is merely a placeholder (will not be trained).\n",
    "            Vy = tf.get_variable(name='Vy', shape=(HIDDEN_LAYER_SIZE, NUM_CATEGORIES + 1),\n",
    "                                 dtype=FLOAT_TYPE)\n",
    "            Vt = tf.get_variable(name='Vt', shape=(HIDDEN_LAYER_SIZE, 1),\n",
    "                                 dtype=FLOAT_TYPE,\n",
    "                                 initializer=tf.uniform_unit_scaling_initializer())\n",
    "            bt = tf.get_variable(name='bt', shape=(1, 1),\n",
    "                                 dtype=FLOAT_TYPE)\n",
    "            bk = tf.get_variable(name='bk', shape=(1, NUM_CATEGORIES + 1),\n",
    "                                 dtype=FLOAT_TYPE)\n",
    "\n",
    "        # Make graph    \n",
    "        # RNNcell = RNN_CELL_TYPE(HIDDEN_LAYER_SIZE)\n",
    "\n",
    "        # Initial state for GRU cells\n",
    "        initial_state = state = tf.zeros([BATCH_SIZE, HIDDEN_LAYER_SIZE], dtype=FLOAT_TYPE, name='hidden_state')\n",
    "\n",
    "        loss = 0.0\n",
    "        batch_ones = tf.ones((BATCH_SIZE, 1), dtype=FLOAT_TYPE)\n",
    "        for i in range(BPTT):\n",
    "            events_embedded = tf.nn.embedding_lookup(Wem, events_in[:, i])\n",
    "            time = tf.expand_dims(times_in[:, i], axis=-1)\n",
    "\n",
    "            # output, state = RNNcell(events_embedded, state)\n",
    "            # TODO Does TF automatically broadcast? Then we'll not need multiplication\n",
    "            # with tf.ones\n",
    "\n",
    "            state = tf.clip_by_value(\n",
    "                tf.matmul(state, Wh) + \n",
    "                tf.matmul(events_embedded, Wy) + \n",
    "                tf.matmul(time, Wt) + \n",
    "                tf.matmul(batch_ones, bh), \n",
    "                0.0, 1e6, \n",
    "                name='h_t')\n",
    "\n",
    "            base_intensity = tf.matmul(batch_ones, bt)\n",
    "            delta_t = tf.expand_dims(times_out[:, i] - times_in[:, i], axis=-1)\n",
    "            log_lambda_ = (tf.matmul(state, Vt) + \n",
    "                           delta_t * wt + \n",
    "                           base_intensity)\n",
    "\n",
    "            lambda_ = tf.exp(tf.minimum(50.0, log_lambda_), name='lambda_')\n",
    "            wt_non_zero = tf.sign(wt) * tf.maximum(1e-6, tf.abs(wt))\n",
    "            log_f_star = (log_lambda_ + \n",
    "                          (1/wt_non_zero) * tf.exp(tf.minimum(50.0, tf.matmul(state, Vt) + base_intensity)) -\n",
    "                          (1/wt_non_zero) * lambda_)\n",
    "\n",
    "            events_pred = tf.nn.softmax(tf.minimum(50.0, \n",
    "                                                   tf.matmul(state, Vy) + batch_ones * bk),\n",
    "                                        name='Pr_events'\n",
    "                                       )\n",
    "\n",
    "            time_loss = log_f_star\n",
    "            mark_loss = tf.expand_dims(\n",
    "                tf.log(\n",
    "                    tf.maximum(1e-6, \n",
    "                        tf.gather_nd(\n",
    "                            events_pred, \n",
    "                            tf.concat([\n",
    "                                tf.expand_dims(tf.range(BATCH_SIZE), -1),\n",
    "                                tf.expand_dims(events_out[:, i], -1)                             \n",
    "                            ], axis=1, name='Pr_next_event'\n",
    "                            )\n",
    "                        )\n",
    "                    )\n",
    "                ), axis=-1, name='log_Pr_next_event'\n",
    "            )\n",
    "            step_loss = time_loss + mark_loss\n",
    "\n",
    "            # In the batch some of the sequences may have ended before we get to the\n",
    "            # end of the seq. In such cases, the events will be zero.\n",
    "            # TODO Figure out how to do this with RNNCell, LSTM, etc.\n",
    "            num_events = tf.reduce_sum(tf.where(events_in[:, i] > 0, \n",
    "                                       tf.ones(BATCH_SIZE, dtype=FLOAT_TYPE), \n",
    "                                       tf.zeros(BATCH_SIZE, dtype=FLOAT_TYPE)),\n",
    "                                       name='num_events')\n",
    "            loss -= tf.cond(num_events > 0, \n",
    "                            lambda: tf.reduce_sum(tf.where(events_in[:, i] > 0, \n",
    "                                               tf.squeeze(step_loss) / num_events,\n",
    "                                               tf.zeros(BATCH_SIZE)), name='batch_bptt_loss'),\n",
    "                            lambda: 0.0)\n",
    "\n",
    "        final_state = state\n",
    "        # optimizer = tf.train.GradientDescentOptimizer(learning_rate=0.001)\n",
    "        optimizer = tf.train.AdamOptimizer(learning_rate=0.001)\n",
    "        # update = optimizer.minimize(loss)\n",
    "\n",
    "        # Performing manual gradient clipping.\n",
    "        gvs = optimizer.compute_gradients(loss)\n",
    "        # update = optimizer.apply_gradients(gvs)\n",
    "\n",
    "        # capped_gvs = [(tf.clip_by_norm(grad, 100.0), var) for grad, var in gvs]\n",
    "        grads, vars_ = list(zip(*gvs))\n",
    "        norm_grads, global_norm = tf.clip_by_global_norm(grads, 100.0)\n",
    "        capped_gvs = list(zip(norm_grads, vars_))\n",
    "        \n",
    "        update = optimizer.apply_gradients(capped_gvs)\n",
    "\n",
    "        init = tf.global_variables_initializer()\n",
    "        check_nan = tf.add_check_numerics_ops()"
   ]
  },
  {
   "cell_type": "markdown",
   "metadata": {
    "collapsed": true
   },
   "source": [
    "## Creation of batches and execution"
   ]
  },
  {
   "cell_type": "code",
   "execution_count": 49,
   "metadata": {
    "collapsed": true
   },
   "outputs": [],
   "source": [
    "iterSession.close()"
   ]
  },
  {
   "cell_type": "code",
   "execution_count": 50,
   "metadata": {
    "collapsed": true
   },
   "outputs": [],
   "source": [
    "iterSession = tf.InteractiveSession()"
   ]
  },
  {
   "cell_type": "code",
   "execution_count": 96,
   "metadata": {
    "collapsed": true
   },
   "outputs": [],
   "source": [
    "tf.get_variable?"
   ]
  },
  {
   "cell_type": "code",
   "execution_count": 98,
   "metadata": {
    "collapsed": true
   },
   "outputs": [],
   "source": [
    "tf.assign?"
   ]
  },
  {
   "cell_type": "code",
   "execution_count": 51,
   "metadata": {
    "scrolled": false
   },
   "outputs": [
    {
     "name": "stdout",
     "output_type": "stream",
     "text": [
      "Starting epoch... 0\n",
      "Loss on last batch = 2.000617855501481e+18\n",
      "Loss on last batch = 2.0327304970371536e+16\n",
      "Loss on last batch = -477.50348234176636\n",
      "Loss on last batch = -524.0962543487549\n",
      "Loss on last batch = -281.86440992355347\n",
      "Loss on last batch = -747.6655303239822\n",
      "Loss on last batch = -446.08779191970825\n",
      "Loss on last batch = -1390.4635381698608\n",
      "Loss on last batch = -618.6797442436218\n",
      "Loss on last batch = -435.52120941877365\n",
      "Loss on last batch = -294.66334676742554\n",
      "Loss on last batch = -160.44714260101318\n",
      "Loss on last batch = -469.56241607666016\n",
      "Loss on last batch = -249.19526720046997\n",
      "Loss on last batch = -456.31859052181244\n",
      "Loss on last batch = -240.49977684020996\n",
      "Loss on last batch = -282.42193365097046\n",
      "Loss on last batch = -712.6429274082184\n",
      "Loss on last batch = -336.95236110687256\n",
      "Starting epoch... 1\n",
      "Loss on last batch = -331.9180746078491\n",
      "Loss on last batch = -816.9900501966476\n",
      "Loss on last batch = -245.63119220733643\n",
      "Loss on last batch = -190.26225662231445\n",
      "Loss on last batch = -435.84371757507324\n",
      "Loss on last batch = -290.6644639968872\n",
      "Loss on last batch = -314.3267254829407\n",
      "Loss on last batch = -714.1663513183594\n",
      "Loss on last batch = -1029.5534942150116\n",
      "Loss on last batch = -342.81489849090576\n",
      "Loss on last batch = -373.69641494750977\n",
      "Loss on last batch = -105.37614345550537\n",
      "Loss on last batch = -125.90613460540771\n",
      "Loss on last batch = -615.7373371124268\n",
      "Loss on last batch = -684.2173771858215\n",
      "Loss on last batch = -314.2054295539856\n",
      "Loss on last batch = -314.7913236618042\n",
      "Loss on last batch = -336.2216782569885\n",
      "Loss on last batch = -245.9078831076622\n",
      "Starting epoch... 2\n",
      "Loss on last batch = -371.2157940864563\n",
      "Loss on last batch = -242.29105758666992\n",
      "Loss on last batch = -971.9762935638428\n",
      "Loss on last batch = -824.216588973999\n",
      "Loss on last batch = -423.4293031692505\n",
      "Loss on last batch = -246.88073921203613\n",
      "Loss on last batch = -431.2421090602875\n",
      "Loss on last batch = -289.9283962249756\n",
      "Loss on last batch = -912.7662038803101\n",
      "Loss on last batch = -290.59797191619873\n",
      "Loss on last batch = -223.99974536895752\n",
      "Loss on last batch = -222.03324699401855\n",
      "Loss on last batch = -771.8805847167969\n",
      "Loss on last batch = -339.6303987503052\n",
      "Loss on last batch = -128.04945516586304\n",
      "Loss on last batch = -576.5900735855103\n",
      "Loss on last batch = -182.56664657592773\n",
      "Loss on last batch = -749.0766878128052\n",
      "Loss on last batch = -608.8850440979004\n",
      "Starting epoch... 3\n",
      "Loss on last batch = -222.18988037109375\n",
      "Loss on last batch = -333.6301574707031\n",
      "Loss on last batch = -625.5960960388184\n",
      "Loss on last batch = -615.564866065979\n",
      "Loss on last batch = -808.0977973937988\n",
      "Loss on last batch = -416.5205900669098\n",
      "Loss on last batch = -386.7157039642334\n",
      "Loss on last batch = -293.112690448761\n",
      "Loss on last batch = -444.33342576026917\n",
      "Loss on last batch = -178.169997215271\n",
      "Loss on last batch = -720.5853729248047\n",
      "Loss on last batch = -1044.986397743225\n",
      "Loss on last batch = -167.0842571258545\n",
      "Loss on last batch = -589.9902811050415\n",
      "Loss on last batch = -752.1510019302368\n",
      "Loss on last batch = -394.9931640625\n",
      "Loss on last batch = -195.27815914154053\n",
      "Loss on last batch = -198.33759367465973\n",
      "Loss on last batch = -252.95679378509521\n",
      "Starting epoch... 4\n",
      "Loss on last batch = -311.51451683044434\n",
      "Loss on last batch = -203.9840955734253\n",
      "Loss on last batch = -255.45581150054932\n",
      "Loss on last batch = -398.1334329843521\n",
      "Loss on last batch = -910.2371158599854\n",
      "Loss on last batch = -530.5586733818054\n",
      "Loss on last batch = -406.5355587005615\n",
      "Loss on last batch = -658.692156791687\n",
      "Loss on last batch = -643.4619283676147\n",
      "Loss on last batch = -493.3762774467468\n",
      "Loss on last batch = -527.5189990997314\n",
      "Loss on last batch = -151.75952291488647\n",
      "Loss on last batch = -390.7952480316162\n",
      "Loss on last batch = -285.38793087005615\n",
      "Loss on last batch = -306.08296859264374\n",
      "Loss on last batch = -181.39328575134277\n",
      "Loss on last batch = -474.08727645874023\n",
      "Loss on last batch = -714.8626463413239\n",
      "Loss on last batch = -461.1678657531738\n",
      "CPU times: user 40min 17s, sys: 15min 24s, total: 55min 42s\n",
      "Wall time: 28min 51s\n"
     ]
    }
   ],
   "source": [
    "%%time\n",
    "idxes = list(range(len(eventTrainIn)))\n",
    "\n",
    "rs = np.random.RandomState(seed=42)\n",
    "\n",
    "iterSession.run(init)\n",
    "\n",
    "num_epochs = 5\n",
    "for epoch in range(num_epochs):\n",
    "    rs.shuffle(idxes)\n",
    "    \n",
    "    print(\"Starting epoch...\", epoch)\n",
    "    \n",
    "    for batch_idx in range(len(idxes) // BATCH_SIZE):\n",
    "        batch_idxes = idxes[batch_idx * BATCH_SIZE:(batch_idx + 1) * BATCH_SIZE]\n",
    "        batch_event_train_in = train_event_in_seq[batch_idxes, :]\n",
    "        batch_event_train_out = train_event_out_seq[batch_idxes, :]\n",
    "        batch_time_train_in = train_time_in_seq[batch_idxes, :]\n",
    "        batch_time_train_out = train_time_out_seq[batch_idxes, :]\n",
    "        \n",
    "        cur_state = np.zeros((BATCH_SIZE, HIDDEN_LAYER_SIZE))\n",
    "        total_loss = 0.0\n",
    "        \n",
    "        for bptt_idx in range(0, len(batch_event_train_in[0]) - BPTT, BPTT):\n",
    "            bptt_range = range(bptt_idx, (bptt_idx + BPTT))\n",
    "            bptt_event_in = batch_event_train_in[:, bptt_range]\n",
    "            bptt_event_out = batch_event_train_out[:, bptt_range]\n",
    "            bptt_time_in = batch_time_train_in[:, bptt_range]\n",
    "            bptt_time_out = batch_time_train_out[:, bptt_range]\n",
    "            \n",
    "            feed_dict = {\n",
    "                  initial_state: cur_state,\n",
    "                  events_in: bptt_event_in,\n",
    "                  events_out: bptt_event_out,\n",
    "                  times_in: bptt_time_in,\n",
    "                  times_out: bptt_time_out\n",
    "            }\n",
    "            \n",
    "#             _, _, cur_state, loss_ = \\\n",
    "#                 iterSession.run([check_nan, update, final_state, loss],\n",
    "#                                feed_dict=feed_dict)\n",
    "            _, cur_state, loss_ = \\\n",
    "                iterSession.run([update, final_state, loss],\n",
    "                                feed_dict=feed_dict)\n",
    "            total_loss += loss_\n",
    "        \n",
    "        if batch_idx % 10 == 0:\n",
    "            print('Loss on last batch = {}'.format(total_loss))"
   ]
  },
  {
   "cell_type": "code",
   "execution_count": 351,
   "metadata": {
    "collapsed": true
   },
   "outputs": [],
   "source": [
    "v = tf.get_default_graph().get_tensor_by_name('truediv_11:0')"
   ]
  },
  {
   "cell_type": "code",
   "execution_count": 352,
   "metadata": {},
   "outputs": [
    {
     "data": {
      "text/plain": [
       "0.0"
      ]
     },
     "execution_count": 352,
     "metadata": {},
     "output_type": "execute_result"
    }
   ],
   "source": [
    "iterSession.run(num_events, feed_dict=feed_dict)"
   ]
  },
  {
   "cell_type": "code",
   "execution_count": null,
   "metadata": {
    "collapsed": true
   },
   "outputs": [],
   "source": [
    "writer = tf.summary.FileWriter('logs', iterSession.graph)"
   ]
  },
  {
   "cell_type": "code",
   "execution_count": null,
   "metadata": {
    "collapsed": true
   },
   "outputs": [],
   "source": [
    "writer.close()"
   ]
  },
  {
   "cell_type": "code",
   "execution_count": 52,
   "metadata": {},
   "outputs": [
    {
     "data": {
      "text/plain": [
       "array([[ 0.48264164],\n",
       "       [ 0.51298624],\n",
       "       [-0.48903847],\n",
       "       [ 0.06690322],\n",
       "       [ 0.43058664],\n",
       "       [ 0.42051542],\n",
       "       [ 0.14833394],\n",
       "       [-0.40770617],\n",
       "       [ 0.54140252],\n",
       "       [ 0.50183517],\n",
       "       [-0.21103132],\n",
       "       [ 0.61192852],\n",
       "       [ 0.56355983],\n",
       "       [ 0.64011478],\n",
       "       [ 0.23290093],\n",
       "       [ 0.10714544],\n",
       "       [-0.12148382],\n",
       "       [ 0.32047951],\n",
       "       [-0.10559842],\n",
       "       [-0.20540164],\n",
       "       [ 0.55692488],\n",
       "       [-0.08733884],\n",
       "       [ 0.11255063],\n",
       "       [ 0.49642518],\n",
       "       [ 0.03260658],\n",
       "       [ 0.1046463 ],\n",
       "       [ 0.53848338],\n",
       "       [ 0.04741428],\n",
       "       [-0.03976917],\n",
       "       [ 0.38728651],\n",
       "       [ 0.03960391],\n",
       "       [ 0.03584621],\n",
       "       [ 0.55425429],\n",
       "       [ 0.45849377],\n",
       "       [ 0.43218639],\n",
       "       [ 0.08550103],\n",
       "       [ 0.22151947],\n",
       "       [ 0.11608371],\n",
       "       [ 0.07047138],\n",
       "       [ 0.40548283],\n",
       "       [-0.05357005],\n",
       "       [ 0.04481015],\n",
       "       [-0.09771542],\n",
       "       [ 0.16430897],\n",
       "       [-0.01030764],\n",
       "       [-0.0459405 ],\n",
       "       [ 0.22375916],\n",
       "       [-0.28097811],\n",
       "       [ 0.50770235],\n",
       "       [ 0.49260226],\n",
       "       [ 0.51858354],\n",
       "       [ 0.04118187],\n",
       "       [-0.08957747],\n",
       "       [ 0.03196302],\n",
       "       [ 0.59487724],\n",
       "       [ 0.20243265],\n",
       "       [ 0.07255176],\n",
       "       [ 0.44257143],\n",
       "       [ 0.24585484],\n",
       "       [ 0.55692142],\n",
       "       [ 0.00428808],\n",
       "       [ 0.52216297],\n",
       "       [-0.1132708 ],\n",
       "       [ 0.42256376],\n",
       "       [-0.04508691],\n",
       "       [ 0.531407  ],\n",
       "       [ 0.41995418],\n",
       "       [ 0.4058142 ],\n",
       "       [ 0.5083276 ],\n",
       "       [ 0.42588857],\n",
       "       [-0.01728831],\n",
       "       [ 0.58894563],\n",
       "       [-0.05670552],\n",
       "       [ 0.65347308],\n",
       "       [ 0.5991928 ],\n",
       "       [ 0.0071101 ],\n",
       "       [ 0.29051599],\n",
       "       [ 0.29590437],\n",
       "       [ 0.29211706],\n",
       "       [ 0.45687681],\n",
       "       [ 0.5818615 ],\n",
       "       [ 0.62102622],\n",
       "       [ 0.37551591],\n",
       "       [-0.07528957],\n",
       "       [ 0.48462409],\n",
       "       [ 0.51276243],\n",
       "       [ 0.56302834],\n",
       "       [ 0.0506549 ],\n",
       "       [ 0.05587143],\n",
       "       [ 0.47659522],\n",
       "       [-0.12069833],\n",
       "       [ 0.54263771],\n",
       "       [ 0.56426042],\n",
       "       [ 0.44548264],\n",
       "       [ 0.08146219],\n",
       "       [ 0.02684553],\n",
       "       [ 0.44540998],\n",
       "       [ 0.24162696],\n",
       "       [ 0.55796009],\n",
       "       [ 0.27353019],\n",
       "       [ 0.20673726],\n",
       "       [ 0.60970837],\n",
       "       [ 0.61890203],\n",
       "       [ 0.62993073],\n",
       "       [-0.08751854],\n",
       "       [-0.0243611 ],\n",
       "       [ 0.55680251],\n",
       "       [ 0.3060309 ],\n",
       "       [ 0.39186752],\n",
       "       [ 0.16037822],\n",
       "       [ 0.48193952],\n",
       "       [ 0.4686079 ],\n",
       "       [-0.10136667],\n",
       "       [ 0.04793224],\n",
       "       [-0.03116905],\n",
       "       [ 0.57269883],\n",
       "       [ 0.57370698],\n",
       "       [ 0.63608402],\n",
       "       [ 0.27106109],\n",
       "       [ 0.26397935],\n",
       "       [ 0.38308415],\n",
       "       [ 0.09690355],\n",
       "       [ 0.0590197 ],\n",
       "       [ 0.13266249],\n",
       "       [ 0.14287016],\n",
       "       [ 0.45064709],\n",
       "       [ 0.02174828],\n",
       "       [ 0.60951024]], dtype=float32)"
      ]
     },
     "execution_count": 52,
     "metadata": {},
     "output_type": "execute_result"
    }
   ],
   "source": [
    "Vt.eval()"
   ]
  },
  {
   "cell_type": "code",
   "execution_count": 53,
   "metadata": {},
   "outputs": [
    {
     "data": {
      "text/plain": [
       "array([[ 1000000.,  1000000.,        0., ...,  1000000.,        0.,\n",
       "         1000000.],\n",
       "       [ 1000000.,  1000000.,        0., ...,  1000000.,        0.,\n",
       "         1000000.],\n",
       "       [ 1000000.,  1000000.,        0., ...,  1000000.,        0.,\n",
       "         1000000.],\n",
       "       ..., \n",
       "       [ 1000000.,  1000000.,        0., ...,  1000000.,        0.,\n",
       "         1000000.],\n",
       "       [ 1000000.,  1000000.,        0., ...,  1000000.,        0.,\n",
       "         1000000.],\n",
       "       [ 1000000.,  1000000.,        0., ...,  1000000.,        0.,\n",
       "         1000000.]], dtype=float32)"
      ]
     },
     "execution_count": 53,
     "metadata": {},
     "output_type": "execute_result"
    }
   ],
   "source": [
    "final_state.eval(feed_dict=feed_dict)"
   ]
  },
  {
   "cell_type": "markdown",
   "metadata": {},
   "source": [
    "## Predicting next-event-time"
   ]
  },
  {
   "cell_type": "code",
   "execution_count": 63,
   "metadata": {
    "collapsed": true
   },
   "outputs": [],
   "source": [
    "def fp(w, delta):\n",
    "    \"\"\"Solve the equation x * exp(-w * x) = delta uding Fixed point iteration, finding the \n",
    "    solution beyond the maximum.\"\"\"\n",
    "    # t = - 10 * np.log(w) * (1 / w)\n",
    "    t = 2 * (1 / w)\n",
    "    i = 0\n",
    "    while True:\n",
    "        # This iteration finds the wrong solution (the one close to origin)\n",
    "        # t_next = np.exp(w * t) * delta \n",
    "        \n",
    "        # This seems to find the correct solution, but is very slow?\n",
    "        t_next = t * np.exp(-w * t) - delta + t\n",
    "        \n",
    "        if np.abs(t_next - t) < 1e-6:\n",
    "            return t_next, i\n",
    "        i += 1\n",
    "        t = t_next"
   ]
  },
  {
   "cell_type": "code",
   "execution_count": 489,
   "metadata": {
    "collapsed": true
   },
   "outputs": [],
   "source": [
    "def bin_search(w, delta, eps=1e-10):\n",
    "    \"\"\"Solve the equation x * exp(-w * x) = delta using binary search by exploiting the \n",
    "    monotonic decrease of the function after the maxima.\"\"\"\n",
    "    \n",
    "    # Hack to access this variable in the f(x)\n",
    "    evals = [0]\n",
    "    \n",
    "    def f(x):\n",
    "        evals[0] += 1\n",
    "        return x * np.exp(-w * x) - delta\n",
    "    \n",
    "    t = 1 / w # Start searching from the maxima.\n",
    "    while f(t) > 0:\n",
    "        t *= 2 # Exponential search for the upper bound\n",
    "    \n",
    "    t_low, t_hi = t / 2, t\n",
    "    t_mid = (t_hi + t_low) / 2\n",
    "    val = f(t_mid)\n",
    "    \n",
    "    while np.abs(val) > eps:\n",
    "        if f(t_mid) > 0:\n",
    "            t_low = t_mid\n",
    "        else:\n",
    "            t_hi = t_mid\n",
    "        t_mid = (t_low + t_hi) / 2\n",
    "        val = f(t_mid)\n",
    "    \n",
    "    return t_mid, evals[0]"
   ]
  },
  {
   "cell_type": "code",
   "execution_count": 65,
   "metadata": {
    "collapsed": true
   },
   "outputs": [],
   "source": [
    "w, delta = .0007, 1e-5\n",
    "# tmp = fp(w, delta)\n",
    "tmp2 = bin_search(w, delta)"
   ]
  },
  {
   "cell_type": "code",
   "execution_count": 487,
   "metadata": {
    "collapsed": true
   },
   "outputs": [],
   "source": [
    "def get_mean_next_time(c, w, divs=100, delta=1e-6):\n",
    "    \"\"\"Numerically integrate t * f(t) using trapezoidal rule.\"\"\"\n",
    "    t_maxima = 1 / w\n",
    "    t_hi, _ = bin_search(w, delta, eps=1e-10)\n",
    "    \n",
    "    dx = t_hi / divs\n",
    "    x = np.arange(0, t_hi, dx)\n",
    "    \n",
    "    def f(t):\n",
    "        return c * t * np.exp(-w * t - (c / w) * (np.exp(-w * t) - 1))\n",
    "    \n",
    "    y = f(x)\n",
    "    y_min = np.asarray([min(y1, y2) for y1, y2 in zip(y[:-1], y[1:])])\n",
    "    dy_abs = np.abs(np.diff(y))\n",
    "    area = np.sum(0.5 * dx * dy_abs + y_min * dx)\n",
    "    return area\n",
    "    "
   ]
  },
  {
   "cell_type": "code",
   "execution_count": 490,
   "metadata": {},
   "outputs": [
    {
     "data": {
      "text/plain": [
       "0.022691176265778722"
      ]
     },
     "execution_count": 490,
     "metadata": {},
     "output_type": "execute_result"
    }
   ],
   "source": [
    "c, w, divs = 1, 7, 100\n",
    "get_mean_next_time(c, w, divs=divs)"
   ]
  },
  {
   "cell_type": "code",
   "execution_count": 452,
   "metadata": {
    "collapsed": true
   },
   "outputs": [],
   "source": [
    "from scipy.integrate import quad, quad_explain"
   ]
  },
  {
   "cell_type": "code",
   "execution_count": 486,
   "metadata": {},
   "outputs": [
    {
     "data": {
      "text/plain": [
       "[(1, 'a'), (3, 'b')]"
      ]
     },
     "execution_count": 486,
     "metadata": {},
     "output_type": "execute_result"
    }
   ],
   "source": [
    "list(zip([1, 3, 4], 'ab'))"
   ]
  },
  {
   "cell_type": "code",
   "execution_count": 453,
   "metadata": {
    "collapsed": true
   },
   "outputs": [],
   "source": [
    "def quad_func(t, c, w):\n",
    "    return c * t * np.exp(-w * t - (c / w) * (np.exp(-w * t) - 1))"
   ]
  },
  {
   "cell_type": "code",
   "execution_count": 456,
   "metadata": {
    "collapsed": true
   },
   "outputs": [],
   "source": [
    "val, err = quad(quad_func, 0, np.inf, args=(c, w))"
   ]
  },
  {
   "cell_type": "code",
   "execution_count": 457,
   "metadata": {},
   "outputs": [
    {
     "data": {
      "text/plain": [
       "(0.02272734477725196, 2.1300029236454235e-11)"
      ]
     },
     "execution_count": 457,
     "metadata": {},
     "output_type": "execute_result"
    }
   ],
   "source": [
    "(val, err)"
   ]
  },
  {
   "cell_type": "code",
   "execution_count": 458,
   "metadata": {},
   "outputs": [
    {
     "data": {
      "text/plain": [
       "array([  1.91844462e-06,   5.77992082e-07])"
      ]
     },
     "execution_count": 458,
     "metadata": {},
     "output_type": "execute_result"
    }
   ],
   "source": [
    "quad_func(2, np.asarray([1, 2]), np.asarray([7, 8]))"
   ]
  },
  {
   "cell_type": "markdown",
   "metadata": {},
   "source": [
    "`quad` cannot integrate multivariate functions."
   ]
  },
  {
   "cell_type": "code",
   "execution_count": 459,
   "metadata": {
    "collapsed": true
   },
   "outputs": [
    {
     "ename": "TypeError",
     "evalue": "only length-1 arrays can be converted to Python scalars",
     "output_type": "error",
     "traceback": [
      "\u001b[0;31m---------------------------------------------------------------------------\u001b[0m",
      "\u001b[0;31mTypeError\u001b[0m                                 Traceback (most recent call last)",
      "\u001b[0;32m<ipython-input-459-b943bf373931>\u001b[0m in \u001b[0;36m<module>\u001b[0;34m()\u001b[0m\n\u001b[0;32m----> 1\u001b[0;31m \u001b[0mquad\u001b[0m\u001b[0;34m(\u001b[0m\u001b[0mquad_func\u001b[0m\u001b[0;34m,\u001b[0m \u001b[0;36m0\u001b[0m\u001b[0;34m,\u001b[0m \u001b[0mnp\u001b[0m\u001b[0;34m.\u001b[0m\u001b[0minf\u001b[0m\u001b[0;34m,\u001b[0m \u001b[0margs\u001b[0m\u001b[0;34m=\u001b[0m\u001b[0;34m(\u001b[0m\u001b[0mnp\u001b[0m\u001b[0;34m.\u001b[0m\u001b[0masarray\u001b[0m\u001b[0;34m(\u001b[0m\u001b[0;34m[\u001b[0m\u001b[0;36m1\u001b[0m\u001b[0;34m,\u001b[0m \u001b[0;36m2\u001b[0m\u001b[0;34m]\u001b[0m\u001b[0;34m)\u001b[0m\u001b[0;34m,\u001b[0m \u001b[0mnp\u001b[0m\u001b[0;34m.\u001b[0m\u001b[0masarray\u001b[0m\u001b[0;34m(\u001b[0m\u001b[0;34m[\u001b[0m\u001b[0;36m7\u001b[0m\u001b[0;34m,\u001b[0m \u001b[0;36m8\u001b[0m\u001b[0;34m]\u001b[0m\u001b[0;34m)\u001b[0m\u001b[0;34m)\u001b[0m\u001b[0;34m)\u001b[0m\u001b[0;34m\u001b[0m\u001b[0m\n\u001b[0m",
      "\u001b[0;32m/home/utkarshu/miniconda3/lib/python3.6/site-packages/scipy/integrate/quadpack.py\u001b[0m in \u001b[0;36mquad\u001b[0;34m(func, a, b, args, full_output, epsabs, epsrel, limit, points, weight, wvar, wopts, maxp1, limlst)\u001b[0m\n\u001b[1;32m    321\u001b[0m     \u001b[0;32mif\u001b[0m \u001b[0;34m(\u001b[0m\u001b[0mweight\u001b[0m \u001b[0;32mis\u001b[0m \u001b[0;32mNone\u001b[0m\u001b[0;34m)\u001b[0m\u001b[0;34m:\u001b[0m\u001b[0;34m\u001b[0m\u001b[0m\n\u001b[1;32m    322\u001b[0m         retval = _quad(func, a, b, args, full_output, epsabs, epsrel, limit,\n\u001b[0;32m--> 323\u001b[0;31m                        points)\n\u001b[0m\u001b[1;32m    324\u001b[0m     \u001b[0;32melse\u001b[0m\u001b[0;34m:\u001b[0m\u001b[0;34m\u001b[0m\u001b[0m\n\u001b[1;32m    325\u001b[0m         retval = _quad_weight(func, a, b, args, full_output, epsabs, epsrel,\n",
      "\u001b[0;32m/home/utkarshu/miniconda3/lib/python3.6/site-packages/scipy/integrate/quadpack.py\u001b[0m in \u001b[0;36m_quad\u001b[0;34m(func, a, b, args, full_output, epsabs, epsrel, limit, points)\u001b[0m\n\u001b[1;32m    388\u001b[0m             \u001b[0;32mreturn\u001b[0m \u001b[0m_quadpack\u001b[0m\u001b[0;34m.\u001b[0m\u001b[0m_qagse\u001b[0m\u001b[0;34m(\u001b[0m\u001b[0mfunc\u001b[0m\u001b[0;34m,\u001b[0m\u001b[0ma\u001b[0m\u001b[0;34m,\u001b[0m\u001b[0mb\u001b[0m\u001b[0;34m,\u001b[0m\u001b[0margs\u001b[0m\u001b[0;34m,\u001b[0m\u001b[0mfull_output\u001b[0m\u001b[0;34m,\u001b[0m\u001b[0mepsabs\u001b[0m\u001b[0;34m,\u001b[0m\u001b[0mepsrel\u001b[0m\u001b[0;34m,\u001b[0m\u001b[0mlimit\u001b[0m\u001b[0;34m)\u001b[0m\u001b[0;34m\u001b[0m\u001b[0m\n\u001b[1;32m    389\u001b[0m         \u001b[0;32melse\u001b[0m\u001b[0;34m:\u001b[0m\u001b[0;34m\u001b[0m\u001b[0m\n\u001b[0;32m--> 390\u001b[0;31m             \u001b[0;32mreturn\u001b[0m \u001b[0m_quadpack\u001b[0m\u001b[0;34m.\u001b[0m\u001b[0m_qagie\u001b[0m\u001b[0;34m(\u001b[0m\u001b[0mfunc\u001b[0m\u001b[0;34m,\u001b[0m\u001b[0mbound\u001b[0m\u001b[0;34m,\u001b[0m\u001b[0minfbounds\u001b[0m\u001b[0;34m,\u001b[0m\u001b[0margs\u001b[0m\u001b[0;34m,\u001b[0m\u001b[0mfull_output\u001b[0m\u001b[0;34m,\u001b[0m\u001b[0mepsabs\u001b[0m\u001b[0;34m,\u001b[0m\u001b[0mepsrel\u001b[0m\u001b[0;34m,\u001b[0m\u001b[0mlimit\u001b[0m\u001b[0;34m)\u001b[0m\u001b[0;34m\u001b[0m\u001b[0m\n\u001b[0m\u001b[1;32m    391\u001b[0m     \u001b[0;32melse\u001b[0m\u001b[0;34m:\u001b[0m\u001b[0;34m\u001b[0m\u001b[0m\n\u001b[1;32m    392\u001b[0m         \u001b[0;32mif\u001b[0m \u001b[0minfbounds\u001b[0m \u001b[0;34m!=\u001b[0m \u001b[0;36m0\u001b[0m\u001b[0;34m:\u001b[0m\u001b[0;34m\u001b[0m\u001b[0m\n",
      "\u001b[0;31mTypeError\u001b[0m: only length-1 arrays can be converted to Python scalars"
     ]
    }
   ],
   "source": [
    "quad(quad_func, 0, np.inf, args=(np.asarray([1, 2]), np.asarray([7, 8])))"
   ]
  },
  {
   "cell_type": "code",
   "execution_count": null,
   "metadata": {
    "collapsed": true
   },
   "outputs": [],
   "source": []
  },
  {
   "cell_type": "markdown",
   "metadata": {
    "collapsed": true
   },
   "source": [
    "# Testing package"
   ]
  },
  {
   "cell_type": "code",
   "execution_count": 5,
   "metadata": {
    "collapsed": true
   },
   "outputs": [],
   "source": [
    "import tf_rmtpp"
   ]
  },
  {
   "cell_type": "code",
   "execution_count": 6,
   "metadata": {},
   "outputs": [
    {
     "data": {
      "text/plain": [
       "'/home/utkarshu/prog/work/tf_rmtpp/src/tf_rmtpp/__init__.py'"
      ]
     },
     "execution_count": 6,
     "metadata": {},
     "output_type": "execute_result"
    }
   ],
   "source": [
    "tf_rmtpp.__file__"
   ]
  },
  {
   "cell_type": "code",
   "execution_count": 7,
   "metadata": {
    "collapsed": true
   },
   "outputs": [],
   "source": [
    "from importlib import reload"
   ]
  },
  {
   "cell_type": "code",
   "execution_count": 587,
   "metadata": {},
   "outputs": [
    {
     "name": "stdout",
     "output_type": "stream",
     "text": [
      "CPU times: user 890 ms, sys: 60 ms, total: 950 ms\n",
      "Wall time: 955 ms\n"
     ]
    }
   ],
   "source": [
    "%%time\n",
    "import os\n",
    "import tensorflow as tf\n",
    "path = 'rmtpp-data/real/so/'\n",
    "# # Run: 309\n",
    "idx = 1\n",
    "event_train_file = os.path.join(path, f'event-{idx}-train.txt')\n",
    "event_test_file = os.path.join(path, f'event-{idx}-test.txt')\n",
    "time_train_file = os.path.join(path, f'time-{idx}-train.txt')\n",
    "time_test_file = os.path.join(path, f'time-{idx}-test.txt')\n",
    "batch_size=512\n",
    "bptt=10\n",
    "\n",
    "# path = 'rmtpp-data/synthetic/exp/'\n",
    "# event_train_file = os.path.join(path, f'event-train.txt')\n",
    "# event_test_file = os.path.join(path, f'event-test.txt')\n",
    "# time_train_file = os.path.join(path, f'time-train.txt')\n",
    "# time_test_file = os.path.join(path, f'time-test.txt')\n",
    "# batch_size=16\n",
    "# bptt=5\n",
    "\n",
    "# path = 'rmtpp-data/synthetic/mixture-HMM/'\n",
    "# event_train_file = os.path.join(path, f'event-temporal-3-train.txt')\n",
    "# event_test_file = os.path.join(path, f'event-temporal-3-test.txt')\n",
    "# time_train_file = os.path.join(path, f'time-temporal-3-train.txt')\n",
    "# time_test_file = os.path.join(path, f'time-temporal-3-test.txt')\n",
    "# batch_size=16\n",
    "# bptt=5\n",
    "\n",
    "data = tf_rmtpp.utils.read_data(\n",
    "    event_train_file=event_train_file,\n",
    "    event_test_file=event_test_file,\n",
    "    time_train_file=time_train_file,\n",
    "    time_test_file=time_test_file\n",
    ")"
   ]
  },
  {
   "cell_type": "code",
   "execution_count": 732,
   "metadata": {
    "collapsed": true
   },
   "outputs": [],
   "source": [
    "# data['train_time_in_seq'] *= 1000\n",
    "# data['train_time_out_seq'] *= 1000\n",
    "# data['test_time_in_seq'] *= 1000\n",
    "# data['test_time_out_seq'] *= 1000"
   ]
  },
  {
   "cell_type": "code",
   "execution_count": 11,
   "metadata": {},
   "outputs": [
    {
     "data": {
      "text/plain": [
       "500"
      ]
     },
     "execution_count": 11,
     "metadata": {},
     "output_type": "execute_result"
    }
   ],
   "source": [
    "run"
   ]
  },
  {
   "cell_type": "code",
   "execution_count": 477,
   "metadata": {
    "collapsed": true
   },
   "outputs": [],
   "source": [
    "run = 700"
   ]
  },
  {
   "cell_type": "code",
   "execution_count": 588,
   "metadata": {},
   "outputs": [
    {
     "data": {
      "text/plain": [
       "<module 'tf_rmtpp' from '/home/utkarshu/prog/work/tf_rmtpp/src/tf_rmtpp/__init__.py'>"
      ]
     },
     "execution_count": 588,
     "metadata": {},
     "output_type": "execute_result"
    }
   ],
   "source": [
    "run += 1\n",
    "reload(tf_rmtpp.utils)\n",
    "reload(tf_rmtpp.rmtpp_core)\n",
    "reload(tf_rmtpp)"
   ]
  },
  {
   "cell_type": "code",
   "execution_count": 589,
   "metadata": {},
   "outputs": [
    {
     "data": {
      "text/plain": [
       "710"
      ]
     },
     "execution_count": 589,
     "metadata": {},
     "output_type": "execute_result"
    }
   ],
   "source": [
    "run"
   ]
  },
  {
   "cell_type": "code",
   "execution_count": 590,
   "metadata": {
    "collapsed": true
   },
   "outputs": [],
   "source": [
    "iterSession.close()"
   ]
  },
  {
   "cell_type": "code",
   "execution_count": 591,
   "metadata": {
    "collapsed": true
   },
   "outputs": [],
   "source": [
    "tf.reset_default_graph()\n",
    "iterSession = tf.InteractiveSession()"
   ]
  },
  {
   "cell_type": "code",
   "execution_count": 592,
   "metadata": {
    "collapsed": true
   },
   "outputs": [],
   "source": [
    "base_rate = tf_rmtpp.utils.calc_base_rate(data)"
   ]
  },
  {
   "cell_type": "code",
   "execution_count": 593,
   "metadata": {},
   "outputs": [
    {
     "data": {
      "text/plain": [
       "4.3332661209504799"
      ]
     },
     "execution_count": 593,
     "metadata": {},
     "output_type": "execute_result"
    }
   ],
   "source": [
    "np.log(base_rate)"
   ]
  },
  {
   "cell_type": "code",
   "execution_count": 594,
   "metadata": {
    "collapsed": true
   },
   "outputs": [],
   "source": [
    "base_class_prob = tf_rmtpp.utils.calc_base_event_prob(data)"
   ]
  },
  {
   "cell_type": "code",
   "execution_count": 595,
   "metadata": {},
   "outputs": [
    {
     "data": {
      "text/plain": [
       "22"
      ]
     },
     "execution_count": 595,
     "metadata": {},
     "output_type": "execute_result"
    }
   ],
   "source": [
    "data['num_categories']"
   ]
  },
  {
   "cell_type": "code",
   "execution_count": 596,
   "metadata": {},
   "outputs": [
    {
     "data": {
      "text/plain": [
       "array([  6.24255704e-02,   1.97711406e-02,   6.48364270e-03,\n",
       "         4.36052758e-01,   5.75456369e-02,   6.17480959e-02,\n",
       "         1.94244642e-02,   1.92365709e-02,   2.29195446e-01,\n",
       "         1.39199839e-02,   2.19914575e-03,   2.74800595e-02,\n",
       "         8.77805829e-03,   1.88898945e-02,   3.03011057e-03,\n",
       "         9.92394290e-04,   2.77341124e-03,   5.37745386e-03,\n",
       "         3.75257361e-03,   7.14523889e-04,   1.50843932e-04,\n",
       "         5.82204650e-05])"
      ]
     },
     "execution_count": 596,
     "metadata": {},
     "output_type": "execute_result"
    }
   ],
   "source": [
    "base_class_prob"
   ]
  },
  {
   "cell_type": "code",
   "execution_count": 564,
   "metadata": {},
   "outputs": [
    {
     "name": "stdout",
     "output_type": "stream",
     "text": [
      "Num categories =  22\n",
      "delta-t (training) = \n",
      "count    3.778740e+05\n",
      "mean     1.312461e-02\n",
      "std      1.652969e-02\n",
      "min      2.058333e-10\n",
      "25%      2.613212e-03\n",
      "50%      7.631856e-03\n",
      "75%      1.736150e-02\n",
      "max      3.220176e-01\n",
      "dtype: float64\n",
      "base-rate = 76.19273530557021, log(base_rate) = 4.33326612095048\n",
      "Class probs =  [  6.24255704e-02   1.97711406e-02   6.48364270e-03   4.36052758e-01\n",
      "   5.75456369e-02   6.17480959e-02   1.94244642e-02   1.92365709e-02\n",
      "   2.29195446e-01   1.39199839e-02   2.19914575e-03   2.74800595e-02\n",
      "   8.77805829e-03   1.88898945e-02   3.03011057e-03   9.92394290e-04\n",
      "   2.77341124e-03   5.37745386e-03   3.75257361e-03   7.14523889e-04\n",
      "   1.50843932e-04   5.82204650e-05]\n",
      "delta-t (testing) = \n",
      "count    9.590700e+04\n",
      "mean     1.291405e-02\n",
      "std      1.646905e-02\n",
      "min      2.058333e-10\n",
      "25%      2.424433e-03\n",
      "50%      7.344151e-03\n",
      "75%      1.706356e-02\n",
      "max      2.712632e-01\n",
      "dtype: float64\n",
      "base-rate = 77.43506973871634, log(base_rate) = 4.349439775377487\n",
      "Class probs =  [  6.24667647e-02   2.13435933e-02   7.06934843e-03   4.30688062e-01\n",
      "   5.79936814e-02   6.49587621e-02   2.00298206e-02   1.87264746e-02\n",
      "   2.28523465e-01   1.27832171e-02   2.03321968e-03   2.71617296e-02\n",
      "   8.39354792e-03   2.01862221e-02   3.13845705e-03   1.04267676e-03\n",
      "   2.79437372e-03   5.89112369e-03   3.86833078e-03   6.04752521e-04\n",
      "   2.29388887e-04   7.29873732e-05]\n",
      "Training sequence lenghts = \n",
      "count    5307.000000\n",
      "mean       71.202940\n",
      "std        42.446415\n",
      "min        40.000000\n",
      "25%        46.000000\n",
      "50%        57.000000\n",
      "75%        79.000000\n",
      "max       719.000000\n",
      "dtype: float64\n",
      "Testing sequence lenghts = \n",
      "count    1326.000000\n",
      "mean       72.328054\n",
      "std        48.312648\n",
      "min        40.000000\n",
      "25%        46.000000\n",
      "50%        57.000000\n",
      "75%        79.000000\n",
      "max       735.000000\n",
      "dtype: float64\n"
     ]
    }
   ],
   "source": [
    "tf_rmtpp.utils.data_stats(data)"
   ]
  },
  {
   "cell_type": "code",
   "execution_count": 597,
   "metadata": {
    "collapsed": true
   },
   "outputs": [],
   "source": [
    "# %%time\n",
    "rmtpp_mdl = tf_rmtpp.rmtpp_core.RMTPP(\n",
    "    sess=iterSession, \n",
    "    num_categories=data['num_categories'],\n",
    "    summary_dir='./summary.rmtpp.2/train-{}/'.format(run),\n",
    "#     summary_dir='./summary.rmtpp/train-306/',\n",
    "    bt=np.log(base_rate),\n",
    "    decay_rates=0.001,\n",
    "    decay_steps=10,\n",
    "    bptt=bptt,\n",
    "    batch_size=batch_size,\n",
    "    _opts=tf_rmtpp.def_opts,\n",
    ")"
   ]
  },
  {
   "cell_type": "code",
   "execution_count": 598,
   "metadata": {},
   "outputs": [
    {
     "name": "stdout",
     "output_type": "stream",
     "text": [
      "CPU times: user 187 ms, sys: 13.3 ms, total: 200 ms\n",
      "Wall time: 182 ms\n"
     ]
    }
   ],
   "source": [
    "%%time\n",
    "rmtpp_mdl.initialize(finalize=False)"
   ]
  },
  {
   "cell_type": "code",
   "execution_count": 772,
   "metadata": {
    "collapsed": true
   },
   "outputs": [],
   "source": [
    "# rmtpp_mdl.restore()"
   ]
  },
  {
   "cell_type": "code",
   "execution_count": 599,
   "metadata": {},
   "outputs": [
    {
     "name": "stdout",
     "output_type": "stream",
     "text": [
      "Starting epoch... 0\n",
      "Loss during batch 0 last BPTT = -0.612, lr = 0.09961\n",
      "Loss on last epoch = 3.8985, new lr = 0.09575, global_step = 444\n",
      "Model saved at ./save.rmtpp/model.ckpt\n",
      "Running evaluation on training data: ...\n",
      "** MAE = 0.017; valid = 6536, ACC = 0.438\n",
      "CPU times: user 25.8 s, sys: 5.67 s, total: 31.4 s\n",
      "Wall time: 26.6 s\n"
     ]
    }
   ],
   "source": [
    "%%time\n",
    "rmtpp_mdl.train(training_data=data, restart=False, \n",
    "                with_summaries=True, num_epochs=1, with_evals=100)"
   ]
  },
  {
   "cell_type": "code",
   "execution_count": 600,
   "metadata": {},
   "outputs": [
    {
     "name": "stdout",
     "output_type": "stream",
     "text": [
      "Restoring from ./save.rmtpp/model.ckpt-444\n",
      "INFO:tensorflow:Restoring parameters from ./save.rmtpp/model.ckpt-444\n",
      "Starting epoch... 1\n",
      "Loss during batch 0 last BPTT = 5.095, lr = 0.09538\n",
      "Loss on last epoch = 7.6198, new lr = 0.09197, global_step = 873\n",
      "Starting epoch... 2\n",
      "Loss during batch 0 last BPTT = 0.234, lr = 0.09158\n",
      "Loss on last epoch = 4.5893, new lr = 0.08857, global_step = 1291\n",
      "Starting epoch... 3\n",
      "Loss during batch 0 last BPTT = 9.034, lr = 0.08818\n",
      "Loss on last epoch = 5.1656, new lr = 0.08532, global_step = 1720\n",
      "Starting epoch... 4\n",
      "Loss during batch 0 last BPTT = 1.038, lr = 0.08494\n",
      "Loss on last epoch = 4.2819, new lr = 0.08239, global_step = 2137\n",
      "Starting epoch... 5\n",
      "Loss during batch 0 last BPTT = 3.531, lr = 0.08191\n",
      "Loss on last epoch = 3.2640, new lr = 0.07960, global_step = 2563\n",
      "Starting epoch... 6\n",
      "Loss during batch 0 last BPTT = 0.800, lr = 0.07941\n",
      "Loss on last epoch = 2.5552, new lr = 0.07695, global_step = 2995\n",
      "Starting epoch... 7\n",
      "Loss during batch 0 last BPTT = 1.327, lr = 0.07672\n",
      "Loss on last epoch = 3.4987, new lr = 0.07438, global_step = 3444\n",
      "Starting epoch... 8\n",
      "Loss during batch 0 last BPTT = 0.685, lr = 0.07419\n",
      "Loss on last epoch = 2.2886, new lr = 0.07207, global_step = 3876\n",
      "Starting epoch... 9\n",
      "Loss during batch 0 last BPTT = 1.072, lr = 0.07189\n",
      "Loss on last epoch = 1.6257, new lr = 0.06981, global_step = 4325\n",
      "Starting epoch... 10\n",
      "Loss during batch 0 last BPTT = 5.988, lr = 0.06961\n",
      "Loss on last epoch = 4.0390, new lr = 0.06769, global_step = 4773\n",
      "Starting epoch... 11\n",
      "Loss during batch 0 last BPTT = 1.632, lr = 0.06756\n",
      "Loss on last epoch = 0.3587, new lr = 0.06577, global_step = 5204\n",
      "Starting epoch... 12\n",
      "Loss during batch 0 last BPTT = 1.732, lr = 0.06564\n",
      "Loss on last epoch = 1.5196, new lr = 0.06411, global_step = 5598\n",
      "Starting epoch... 13\n",
      "Loss during batch 0 last BPTT = 0.409, lr = 0.06397\n",
      "Loss on last epoch = 0.8994, new lr = 0.06243, global_step = 6019\n",
      "Starting epoch... 14\n",
      "Loss during batch 0 last BPTT = 0.617, lr = 0.06222\n",
      "Loss on last epoch = 1.0927, new lr = 0.06083, global_step = 6440\n",
      "Starting epoch... 15\n",
      "Loss during batch 0 last BPTT = 1.344, lr = 0.06057\n",
      "Loss on last epoch = 1.3976, new lr = 0.05923, global_step = 6882\n",
      "Starting epoch... 16\n",
      "Loss during batch 0 last BPTT = 2.614, lr = 0.05907\n",
      "Loss on last epoch = 0.3238, new lr = 0.05784, global_step = 7288\n",
      "Starting epoch... 17\n",
      "Loss during batch 0 last BPTT = -0.439, lr = 0.05771\n",
      "Loss on last epoch = -0.1034, new lr = 0.05640, global_step = 7731\n",
      "Starting epoch... 18\n",
      "Loss during batch 0 last BPTT = -0.869, lr = 0.05629\n",
      "Loss on last epoch = 1.1130, new lr = 0.05512, global_step = 8143\n",
      "Starting epoch... 19\n",
      "Loss during batch 0 last BPTT = -0.397, lr = 0.05500\n",
      "Loss on last epoch = 0.4796, new lr = 0.05382, global_step = 8582\n",
      "Starting epoch... 20\n",
      "Loss during batch 0 last BPTT = -0.942, lr = 0.05368\n",
      "Loss on last epoch = 0.0229, new lr = 0.05261, global_step = 9009\n",
      "Starting epoch... 21\n",
      "Loss during batch 0 last BPTT = 1.242, lr = 0.05250\n",
      "Loss on last epoch = 0.7144, new lr = 0.05143, global_step = 9443\n",
      "Starting epoch... 22\n",
      "Loss during batch 0 last BPTT = 0.555, lr = 0.05135\n",
      "Loss on last epoch = 0.2271, new lr = 0.05036, global_step = 9858\n",
      "Starting epoch... 23\n",
      "Loss during batch 0 last BPTT = 0.475, lr = 0.05018\n",
      "Loss on last epoch = 0.5273, new lr = 0.04928, global_step = 10293\n",
      "Starting epoch... 24\n",
      "Loss during batch 0 last BPTT = -0.612, lr = 0.04919\n",
      "Loss on last epoch = 0.4214, new lr = 0.04825, global_step = 10725\n",
      "Starting epoch... 25\n",
      "Loss during batch 0 last BPTT = -0.920, lr = 0.04809\n",
      "Loss on last epoch = 0.2124, new lr = 0.04730, global_step = 11142\n",
      "Starting epoch... 26\n",
      "Loss during batch 0 last BPTT = -0.169, lr = 0.04722\n",
      "Loss on last epoch = 0.4520, new lr = 0.04630, global_step = 11596\n",
      "Starting epoch... 27\n",
      "Loss during batch 0 last BPTT = 1.231, lr = 0.04622\n",
      "Loss on last epoch = 0.2204, new lr = 0.04544, global_step = 12006\n",
      "Starting epoch... 28\n",
      "Loss during batch 0 last BPTT = -0.953, lr = 0.04534\n",
      "Loss on last epoch = 0.1678, new lr = 0.04456, global_step = 12441\n",
      "Starting epoch... 29\n",
      "Loss during batch 0 last BPTT = -1.214, lr = 0.04450\n",
      "Loss on last epoch = -0.3644, new lr = 0.04370, global_step = 12882\n",
      "Starting epoch... 30\n",
      "Loss during batch 0 last BPTT = 0.196, lr = 0.04363\n",
      "Loss on last epoch = 0.2757, new lr = 0.04288, global_step = 13319\n",
      "Starting epoch... 31\n",
      "Loss during batch 0 last BPTT = -0.626, lr = 0.04281\n",
      "Loss on last epoch = 0.0182, new lr = 0.04209, global_step = 13761\n",
      "Starting epoch... 32\n",
      "Loss during batch 0 last BPTT = 0.639, lr = 0.04199\n",
      "Loss on last epoch = 0.1618, new lr = 0.04132, global_step = 14201\n",
      "Starting epoch... 33\n",
      "Loss during batch 0 last BPTT = -1.307, lr = 0.04123\n",
      "Loss on last epoch = 0.0150, new lr = 0.04062, global_step = 14616\n",
      "Starting epoch... 34\n",
      "Loss during batch 0 last BPTT = -0.273, lr = 0.04057\n",
      "Loss on last epoch = 0.0270, new lr = 0.03992, global_step = 15047\n",
      "Starting epoch... 35\n",
      "Loss during batch 0 last BPTT = 0.067, lr = 0.03988\n",
      "Loss on last epoch = 0.3927, new lr = 0.03927, global_step = 15467\n",
      "Starting epoch... 36\n",
      "Loss during batch 0 last BPTT = 1.568, lr = 0.03922\n",
      "Loss on last epoch = -0.0586, new lr = 0.03866, global_step = 15868\n",
      "Starting epoch... 37\n",
      "Loss during batch 0 last BPTT = -1.056, lr = 0.03858\n",
      "Loss on last epoch = -0.0273, new lr = 0.03802, global_step = 16302\n",
      "Starting epoch... 38\n",
      "Loss during batch 0 last BPTT = 0.031, lr = 0.03794\n",
      "Loss on last epoch = 0.1329, new lr = 0.03741, global_step = 16728\n",
      "Starting epoch... 39\n",
      "Loss during batch 0 last BPTT = -1.153, lr = 0.03735\n",
      "Loss on last epoch = -0.4500, new lr = 0.03680, global_step = 17173\n",
      "Starting epoch... 40\n",
      "Loss during batch 0 last BPTT = 1.386, lr = 0.03675\n",
      "Loss on last epoch = 0.0231, new lr = 0.03621, global_step = 17616\n",
      "Starting epoch... 41\n",
      "Loss during batch 0 last BPTT = -0.215, lr = 0.03617\n",
      "Loss on last epoch = -0.1914, new lr = 0.03568, global_step = 18029\n",
      "Starting epoch... 42\n",
      "Loss during batch 0 last BPTT = -0.944, lr = 0.03561\n",
      "Loss on last epoch = -0.5330, new lr = 0.03515, global_step = 18451\n",
      "Starting epoch... 43\n",
      "Loss during batch 0 last BPTT = -0.776, lr = 0.03508\n",
      "Loss on last epoch = -0.6845, new lr = 0.03464, global_step = 18867\n",
      "Starting epoch... 44\n",
      "Loss during batch 0 last BPTT = -0.882, lr = 0.03459\n",
      "Loss on last epoch = 0.2043, new lr = 0.03414, global_step = 19290\n",
      "Starting epoch... 45\n",
      "Loss during batch 0 last BPTT = -0.117, lr = 0.03411\n",
      "Loss on last epoch = -0.3226, new lr = 0.03365, global_step = 19716\n",
      "Starting epoch... 46\n",
      "Loss during batch 0 last BPTT = -0.736, lr = 0.03357\n",
      "Loss on last epoch = 0.2468, new lr = 0.03316, global_step = 20161\n",
      "Starting epoch... 47\n",
      "Loss during batch 0 last BPTT = 1.267, lr = 0.03311\n",
      "Loss on last epoch = -0.3484, new lr = 0.03267, global_step = 20612\n",
      "Starting epoch... 48\n",
      "Loss during batch 0 last BPTT = -1.214, lr = 0.03263\n",
      "Loss on last epoch = -0.6000, new lr = 0.03222, global_step = 21041\n",
      "Starting epoch... 49\n",
      "Loss during batch 0 last BPTT = -0.579, lr = 0.03218\n",
      "Loss on last epoch = -0.2784, new lr = 0.03179, global_step = 21454\n",
      "Starting epoch... 50\n",
      "Loss during batch 0 last BPTT = -1.142, lr = 0.03175\n",
      "Loss on last epoch = -0.4065, new lr = 0.03139, global_step = 21859\n",
      "Starting epoch... 51\n",
      "Loss during batch 0 last BPTT = -1.370, lr = 0.03135\n",
      "Loss on last epoch = -0.7145, new lr = 0.03100, global_step = 22257\n",
      "Starting epoch... 52\n",
      "Loss during batch 0 last BPTT = -1.251, lr = 0.03097\n",
      "Loss on last epoch = -0.5121, new lr = 0.03062, global_step = 22661\n",
      "Starting epoch... 53\n",
      "Loss during batch 0 last BPTT = -0.519, lr = 0.03055\n",
      "Loss on last epoch = -0.1933, new lr = 0.03022, global_step = 23095\n",
      "Starting epoch... 54\n",
      "Loss during batch 0 last BPTT = -1.181, lr = 0.03018\n",
      "Loss on last epoch = -0.7386, new lr = 0.02984, global_step = 23512\n",
      "Starting epoch... 55\n",
      "Loss during batch 0 last BPTT = -1.024, lr = 0.02978\n",
      "Loss on last epoch = -0.4066, new lr = 0.02946, global_step = 23950\n",
      "Starting epoch... 56\n",
      "Loss during batch 0 last BPTT = -0.125, lr = 0.02942\n",
      "Loss on last epoch = -0.5578, new lr = 0.02907, global_step = 24396\n",
      "Starting epoch... 57\n",
      "Loss during batch 0 last BPTT = -1.174, lr = 0.02903\n",
      "Loss on last epoch = -0.4676, new lr = 0.02871, global_step = 24833\n",
      "Starting epoch... 58\n",
      "Loss during batch 0 last BPTT = -1.410, lr = 0.02868\n",
      "Loss on last epoch = -0.4687, new lr = 0.02834, global_step = 25282\n",
      "Starting epoch... 59\n"
     ]
    },
    {
     "name": "stdout",
     "output_type": "stream",
     "text": [
      "Loss during batch 0 last BPTT = -1.242, lr = 0.02830\n",
      "Loss on last epoch = -0.9622, new lr = 0.02800, global_step = 25718\n",
      "Starting epoch... 60\n",
      "Loss during batch 0 last BPTT = 1.278, lr = 0.02797\n",
      "Loss on last epoch = -0.4629, new lr = 0.02766, global_step = 26150\n",
      "Starting epoch... 61\n",
      "Loss during batch 0 last BPTT = -0.903, lr = 0.02763\n",
      "Loss on last epoch = -0.8746, new lr = 0.02733, global_step = 26594\n",
      "Starting epoch... 62\n",
      "Loss during batch 0 last BPTT = -0.038, lr = 0.02730\n",
      "Loss on last epoch = -0.4308, new lr = 0.02702, global_step = 27015\n",
      "Starting epoch... 63\n",
      "Loss during batch 0 last BPTT = -0.086, lr = 0.02698\n",
      "Loss on last epoch = -0.5268, new lr = 0.02670, global_step = 27453\n",
      "Starting epoch... 64\n",
      "Loss during batch 0 last BPTT = -0.382, lr = 0.02666\n",
      "Loss on last epoch = -0.3949, new lr = 0.02639, global_step = 27895\n",
      "Starting epoch... 65\n",
      "Loss during batch 0 last BPTT = -0.380, lr = 0.02635\n",
      "Loss on last epoch = -0.6027, new lr = 0.02610, global_step = 28310\n",
      "Starting epoch... 66\n",
      "Loss during batch 0 last BPTT = -0.489, lr = 0.02607\n",
      "Loss on last epoch = -0.3734, new lr = 0.02581, global_step = 28748\n",
      "Starting epoch... 67\n",
      "Loss during batch 0 last BPTT = -1.126, lr = 0.02576\n",
      "Loss on last epoch = -0.6990, new lr = 0.02552, global_step = 29186\n",
      "Starting epoch... 68\n",
      "Loss during batch 0 last BPTT = -0.714, lr = 0.02550\n",
      "Loss on last epoch = -0.5878, new lr = 0.02526, global_step = 29596\n",
      "Starting epoch... 69\n",
      "Loss during batch 0 last BPTT = -0.711, lr = 0.02522\n",
      "Loss on last epoch = -0.5855, new lr = 0.02498, global_step = 30028\n",
      "Starting epoch... 70\n",
      "Loss during batch 0 last BPTT = -0.481, lr = 0.02495\n",
      "Loss on last epoch = -0.5376, new lr = 0.02471, global_step = 30470\n",
      "Starting epoch... 71\n",
      "Loss during batch 0 last BPTT = -0.520, lr = 0.02469\n",
      "Loss on last epoch = -0.5967, new lr = 0.02445, global_step = 30903\n",
      "Starting epoch... 72\n",
      "Loss during batch 0 last BPTT = -0.634, lr = 0.02442\n",
      "Loss on last epoch = -0.5257, new lr = 0.02419, global_step = 31334\n",
      "Starting epoch... 73\n",
      "Loss during batch 0 last BPTT = -0.768, lr = 0.02417\n",
      "Loss on last epoch = -0.6989, new lr = 0.02394, global_step = 31771\n",
      "Starting epoch... 74\n",
      "Loss during batch 0 last BPTT = -0.755, lr = 0.02392\n",
      "Loss on last epoch = -0.6145, new lr = 0.02370, global_step = 32187\n",
      "Starting epoch... 75\n",
      "Loss during batch 0 last BPTT = -0.857, lr = 0.02366\n",
      "Loss on last epoch = -0.6767, new lr = 0.02347, global_step = 32606\n",
      "Starting epoch... 76\n",
      "Loss during batch 0 last BPTT = -0.717, lr = 0.02345\n",
      "Loss on last epoch = -0.7013, new lr = 0.02324, global_step = 33036\n",
      "Starting epoch... 77\n",
      "Loss during batch 0 last BPTT = -0.509, lr = 0.02322\n",
      "Loss on last epoch = -0.5705, new lr = 0.02301, global_step = 33455\n",
      "Starting epoch... 78\n",
      "Loss during batch 0 last BPTT = -1.158, lr = 0.02300\n",
      "Loss on last epoch = -0.8472, new lr = 0.02280, global_step = 33859\n",
      "Starting epoch... 79\n",
      "Loss during batch 0 last BPTT = -0.423, lr = 0.02277\n",
      "Loss on last epoch = -0.5841, new lr = 0.02258, global_step = 34296\n",
      "Starting epoch... 80\n",
      "Loss during batch 0 last BPTT = -1.001, lr = 0.02256\n",
      "Loss on last epoch = -0.6825, new lr = 0.02236, global_step = 34721\n",
      "Starting epoch... 81\n",
      "Loss during batch 0 last BPTT = -1.321, lr = 0.02233\n",
      "Loss on last epoch = -0.9361, new lr = 0.02215, global_step = 35150\n",
      "Starting epoch... 82\n",
      "Loss during batch 0 last BPTT = -0.658, lr = 0.02213\n",
      "Loss on last epoch = -0.6319, new lr = 0.02193, global_step = 35602\n",
      "Starting epoch... 83\n",
      "Loss during batch 0 last BPTT = -0.434, lr = 0.02192\n",
      "Loss on last epoch = -0.6346, new lr = 0.02172, global_step = 36040\n",
      "Starting epoch... 84\n",
      "Loss during batch 0 last BPTT = -1.131, lr = 0.02170\n",
      "Loss on last epoch = -0.8178, new lr = 0.02152, global_step = 36470\n",
      "Starting epoch... 85\n",
      "Loss during batch 0 last BPTT = -0.840, lr = 0.02150\n",
      "Loss on last epoch = -0.7956, new lr = 0.02132, global_step = 36898\n",
      "Starting epoch... 86\n",
      "Loss during batch 0 last BPTT = -0.826, lr = 0.02130\n",
      "Loss on last epoch = -0.7241, new lr = 0.02113, global_step = 37335\n",
      "Starting epoch... 87\n",
      "Loss during batch 0 last BPTT = -0.760, lr = 0.02111\n",
      "Loss on last epoch = -0.6900, new lr = 0.02094, global_step = 37759\n",
      "Starting epoch... 88\n",
      "Loss during batch 0 last BPTT = -1.150, lr = 0.02091\n",
      "Loss on last epoch = -0.8515, new lr = 0.02075, global_step = 38202\n",
      "Starting epoch... 89\n",
      "Loss during batch 0 last BPTT = -0.695, lr = 0.02073\n",
      "Loss on last epoch = -0.7138, new lr = 0.02056, global_step = 38632\n",
      "Starting epoch... 90\n",
      "Loss during batch 0 last BPTT = -1.041, lr = 0.02055\n",
      "Loss on last epoch = -0.8511, new lr = 0.02039, global_step = 39054\n",
      "Starting epoch... 91\n",
      "Loss during batch 0 last BPTT = -0.602, lr = 0.02037\n",
      "Loss on last epoch = -0.8205, new lr = 0.02022, global_step = 39458\n",
      "Starting epoch... 92\n",
      "Loss during batch 0 last BPTT = -0.983, lr = 0.02020\n",
      "Loss on last epoch = -0.8694, new lr = 0.02004, global_step = 39896\n",
      "Starting epoch... 93\n",
      "Loss during batch 0 last BPTT = -0.820, lr = 0.02003\n",
      "Loss on last epoch = -0.8508, new lr = 0.01987, global_step = 40336\n",
      "Starting epoch... 94\n",
      "Loss during batch 0 last BPTT = -1.012, lr = 0.01985\n",
      "Loss on last epoch = -0.9374, new lr = 0.01970, global_step = 40751\n",
      "Starting epoch... 95\n",
      "Loss during batch 0 last BPTT = -0.747, lr = 0.01969\n",
      "Loss on last epoch = -0.7851, new lr = 0.01953, global_step = 41192\n",
      "Starting epoch... 96\n",
      "Loss during batch 0 last BPTT = -0.987, lr = 0.01952\n",
      "Loss on last epoch = -0.8600, new lr = 0.01937, global_step = 41627\n",
      "Starting epoch... 97\n",
      "Loss during batch 0 last BPTT = -1.048, lr = 0.01936\n",
      "Loss on last epoch = -0.8741, new lr = 0.01920, global_step = 42078\n",
      "Starting epoch... 98\n",
      "Loss during batch 0 last BPTT = -0.733, lr = 0.01919\n",
      "Loss on last epoch = -0.8294, new lr = 0.01905, global_step = 42500\n",
      "Starting epoch... 99\n",
      "Loss during batch 0 last BPTT = -0.783, lr = 0.01903\n",
      "Loss on last epoch = -0.8072, new lr = 0.01889, global_step = 42943\n",
      "Starting epoch... 100\n",
      "Loss during batch 0 last BPTT = -1.050, lr = 0.01888\n",
      "Loss on last epoch = -0.8880, new lr = 0.01874, global_step = 43364\n",
      "Model saved at ./save.rmtpp/model.ckpt\n",
      "Running evaluation on training data: ...\n",
      "** MAE = 0.019; valid = 43, ACC = 0.209\n",
      "CPU times: user 34min 35s, sys: 3min 49s, total: 38min 24s\n",
      "Wall time: 15min 16s\n"
     ]
    }
   ],
   "source": [
    "%%time\n",
    "rmtpp_mdl.train(training_data=data, restart=True, \n",
    "                with_summaries=True, num_epochs=100, with_evals=True)"
   ]
  },
  {
   "cell_type": "code",
   "execution_count": 601,
   "metadata": {},
   "outputs": [
    {
     "name": "stdout",
     "output_type": "stream",
     "text": [
      "Restoring from ./save.rmtpp/model.ckpt-43364\n",
      "INFO:tensorflow:Restoring parameters from ./save.rmtpp/model.ckpt-43364\n",
      "Starting epoch... 101\n",
      "Loss during batch 0 last BPTT = -0.842, lr = 0.01873\n",
      "Loss on last epoch = -0.8392, new lr = 0.01859, global_step = 43795\n",
      "Starting epoch... 102\n",
      "Loss during batch 0 last BPTT = -0.728, lr = 0.01856\n",
      "Loss on last epoch = -0.8609, new lr = 0.01845, global_step = 44196\n",
      "Starting epoch... 103\n",
      "Loss during batch 0 last BPTT = -1.271, lr = 0.01843\n",
      "Loss on last epoch = -0.9111, new lr = 0.01830, global_step = 44631\n",
      "Starting epoch... 104\n",
      "Loss during batch 0 last BPTT = -0.725, lr = 0.01829\n",
      "Loss on last epoch = -0.7901, new lr = 0.01816, global_step = 45055\n",
      "Starting epoch... 105\n",
      "Loss during batch 0 last BPTT = -0.865, lr = 0.01815\n",
      "Loss on last epoch = -0.8249, new lr = 0.01802, global_step = 45489\n",
      "Starting epoch... 106\n",
      "Loss during batch 0 last BPTT = -0.822, lr = 0.01801\n",
      "Loss on last epoch = -0.9185, new lr = 0.01789, global_step = 45894\n",
      "Starting epoch... 107\n",
      "Loss during batch 0 last BPTT = -0.784, lr = 0.01788\n",
      "Loss on last epoch = -0.8217, new lr = 0.01775, global_step = 46339\n",
      "Starting epoch... 108\n",
      "Loss during batch 0 last BPTT = -0.821, lr = 0.01773\n",
      "Loss on last epoch = -0.8918, new lr = 0.01761, global_step = 46782\n",
      "Starting epoch... 109\n",
      "Loss during batch 0 last BPTT = -0.850, lr = 0.01759\n",
      "Loss on last epoch = -0.8791, new lr = 0.01748, global_step = 47207\n",
      "Starting epoch... 110\n",
      "Loss during batch 0 last BPTT = -0.982, lr = 0.01747\n",
      "Loss on last epoch = -0.9741, new lr = 0.01736, global_step = 47614\n",
      "Starting epoch... 111\n",
      "Loss during batch 0 last BPTT = -0.881, lr = 0.01734\n",
      "Loss on last epoch = -0.8344, new lr = 0.01722, global_step = 48061\n",
      "Starting epoch... 112\n",
      "Loss during batch 0 last BPTT = -0.937, lr = 0.01721\n",
      "Loss on last epoch = -0.9317, new lr = 0.01710, global_step = 48480\n",
      "Starting epoch... 113\n",
      "Loss during batch 0 last BPTT = -0.830, lr = 0.01709\n",
      "Loss on last epoch = -0.9243, new lr = 0.01697, global_step = 48914\n",
      "Starting epoch... 114\n",
      "Loss during batch 0 last BPTT = -0.836, lr = 0.01696\n",
      "Loss on last epoch = -0.8672, new lr = 0.01685, global_step = 49363\n",
      "Starting epoch... 115\n",
      "Loss during batch 0 last BPTT = -0.937, lr = 0.01683\n",
      "Loss on last epoch = -0.9837, new lr = 0.01673, global_step = 49788\n",
      "Starting epoch... 116\n",
      "Loss during batch 0 last BPTT = -0.858, lr = 0.01672\n",
      "Loss on last epoch = -0.9362, new lr = 0.01661, global_step = 50216\n",
      "Starting epoch... 117\n",
      "Loss during batch 0 last BPTT = -0.787, lr = 0.01660\n",
      "Loss on last epoch = -0.9141, new lr = 0.01649, global_step = 50652\n",
      "Starting epoch... 118\n",
      "Loss during batch 0 last BPTT = -0.930, lr = 0.01648\n",
      "Loss on last epoch = -0.9149, new lr = 0.01638, global_step = 51061\n",
      "Starting epoch... 119\n",
      "Loss during batch 0 last BPTT = -1.134, lr = 0.01637\n",
      "Loss on last epoch = -0.9654, new lr = 0.01626, global_step = 51486\n",
      "Starting epoch... 120\n",
      "Loss during batch 0 last BPTT = -0.861, lr = 0.01625\n",
      "Loss on last epoch = -0.9600, new lr = 0.01615, global_step = 51911\n",
      "Starting epoch... 121\n",
      "Loss during batch 0 last BPTT = -1.059, lr = 0.01614\n",
      "Loss on last epoch = -0.9618, new lr = 0.01604, global_step = 52340\n",
      "Starting epoch... 122\n",
      "Loss during batch 0 last BPTT = -0.911, lr = 0.01603\n",
      "Loss on last epoch = -0.9658, new lr = 0.01593, global_step = 52791\n",
      "Starting epoch... 123\n",
      "Loss during batch 0 last BPTT = -0.865, lr = 0.01592\n",
      "Loss on last epoch = -0.9956, new lr = 0.01582, global_step = 53193\n",
      "Starting epoch... 124\n",
      "Loss during batch 0 last BPTT = -0.987, lr = 0.01582\n",
      "Loss on last epoch = -0.9356, new lr = 0.01571, global_step = 53640\n",
      "Starting epoch... 125\n",
      "Loss during batch 0 last BPTT = -1.022, lr = 0.01570\n",
      "Loss on last epoch = -0.9898, new lr = 0.01561, global_step = 54065\n",
      "Starting epoch... 126\n",
      "Loss during batch 0 last BPTT = -0.932, lr = 0.01560\n",
      "Loss on last epoch = -0.9913, new lr = 0.01551, global_step = 54489\n",
      "Starting epoch... 127\n",
      "Loss during batch 0 last BPTT = -0.823, lr = 0.01550\n",
      "Loss on last epoch = -0.9448, new lr = 0.01540, global_step = 54918\n",
      "Starting epoch... 128\n",
      "Loss during batch 0 last BPTT = -0.856, lr = 0.01540\n",
      "Loss on last epoch = -0.9832, new lr = 0.01530, global_step = 55351\n",
      "Starting epoch... 129\n",
      "Loss during batch 0 last BPTT = -0.945, lr = 0.01529\n",
      "Loss on last epoch = -0.9571, new lr = 0.01520, global_step = 55804\n",
      "Starting epoch... 130\n",
      "Loss during batch 0 last BPTT = -0.946, lr = 0.01519\n",
      "Loss on last epoch = -1.0437, new lr = 0.01510, global_step = 56213\n",
      "Starting epoch... 131\n",
      "Loss during batch 0 last BPTT = -0.891, lr = 0.01509\n",
      "Loss on last epoch = -0.9433, new lr = 0.01500, global_step = 56651\n",
      "Starting epoch... 132\n",
      "Loss during batch 0 last BPTT = -1.038, lr = 0.01499\n",
      "Loss on last epoch = -1.0450, new lr = 0.01491, global_step = 57076\n",
      "Starting epoch... 133\n",
      "Loss during batch 0 last BPTT = -0.985, lr = 0.01490\n",
      "Loss on last epoch = -0.9651, new lr = 0.01481, global_step = 57511\n",
      "Starting epoch... 134\n",
      "Loss during batch 0 last BPTT = -1.157, lr = 0.01480\n",
      "Loss on last epoch = -1.0987, new lr = 0.01473, global_step = 57906\n",
      "Starting epoch... 135\n",
      "Loss during batch 0 last BPTT = -1.044, lr = 0.01472\n",
      "Loss on last epoch = -1.0954, new lr = 0.01464, global_step = 58316\n",
      "Starting epoch... 136\n",
      "Loss during batch 0 last BPTT = -0.952, lr = 0.01463\n",
      "Loss on last epoch = -0.9842, new lr = 0.01455, global_step = 58739\n",
      "Starting epoch... 137\n",
      "Loss during batch 0 last BPTT = -1.033, lr = 0.01454\n",
      "Loss on last epoch = -1.0429, new lr = 0.01445, global_step = 59187\n",
      "Starting epoch... 138\n",
      "Loss during batch 0 last BPTT = -0.846, lr = 0.01444\n",
      "Loss on last epoch = -0.9939, new lr = 0.01436, global_step = 59620\n",
      "Starting epoch... 139\n",
      "Loss during batch 0 last BPTT = -0.992, lr = 0.01436\n",
      "Loss on last epoch = -1.0243, new lr = 0.01427, global_step = 60057\n",
      "Starting epoch... 140\n",
      "Loss during batch 0 last BPTT = -1.010, lr = 0.01427\n",
      "Loss on last epoch = -1.0567, new lr = 0.01419, global_step = 60477\n",
      "Starting epoch... 141\n",
      "Loss during batch 0 last BPTT = -0.966, lr = 0.01418\n",
      "Loss on last epoch = -1.0388, new lr = 0.01410, global_step = 60904\n",
      "Starting epoch... 142\n",
      "Loss during batch 0 last BPTT = -1.128, lr = 0.01409\n",
      "Loss on last epoch = -1.1179, new lr = 0.01402, global_step = 61338\n",
      "Starting epoch... 143\n",
      "Loss during batch 0 last BPTT = -1.096, lr = 0.01401\n",
      "Loss on last epoch = -1.0247, new lr = 0.01393, global_step = 61769\n",
      "Starting epoch... 144\n",
      "Loss during batch 0 last BPTT = -1.225, lr = 0.01392\n",
      "Loss on last epoch = -1.1635, new lr = 0.01386, global_step = 62168\n",
      "Starting epoch... 145\n",
      "Loss during batch 0 last BPTT = -1.220, lr = 0.01385\n",
      "Loss on last epoch = -1.0868, new lr = 0.01377, global_step = 62598\n",
      "Starting epoch... 146\n",
      "Loss during batch 0 last BPTT = -1.120, lr = 0.01377\n",
      "Loss on last epoch = -1.0955, new lr = 0.01369, global_step = 63034\n",
      "Starting epoch... 147\n",
      "Loss during batch 0 last BPTT = -0.995, lr = 0.01369\n",
      "Loss on last epoch = -1.0651, new lr = 0.01361, global_step = 63467\n",
      "Starting epoch... 148\n",
      "Loss during batch 0 last BPTT = -1.130, lr = 0.01360\n",
      "Loss on last epoch = -1.1033, new lr = 0.01353, global_step = 63912\n",
      "Starting epoch... 149\n",
      "Loss during batch 0 last BPTT = -1.057, lr = 0.01352\n",
      "Loss on last epoch = -1.0800, new lr = 0.01345, global_step = 64322\n",
      "Starting epoch... 150\n",
      "Loss during batch 0 last BPTT = -0.922, lr = 0.01345\n",
      "Loss on last epoch = -1.1066, new lr = 0.01338, global_step = 64730\n",
      "Starting epoch... 151\n",
      "Loss during batch 0 last BPTT = -1.184, lr = 0.01337\n",
      "Loss on last epoch = -1.1351, new lr = 0.01331, global_step = 65155\n",
      "Starting epoch... 152\n",
      "Loss during batch 0 last BPTT = -1.293, lr = 0.01330\n",
      "Loss on last epoch = -1.1486, new lr = 0.01323, global_step = 65566\n",
      "Starting epoch... 153\n",
      "Loss during batch 0 last BPTT = -1.076, lr = 0.01323\n",
      "Loss on last epoch = -1.1316, new lr = 0.01316, global_step = 65971\n",
      "Starting epoch... 154\n",
      "Loss during batch 0 last BPTT = -1.131, lr = 0.01316\n",
      "Loss on last epoch = -1.1352, new lr = 0.01309, global_step = 66398\n",
      "Starting epoch... 155\n",
      "Loss during batch 0 last BPTT = -1.143, lr = 0.01308\n",
      "Loss on last epoch = -1.1413, new lr = 0.01302, global_step = 66822\n",
      "Starting epoch... 156\n",
      "Loss during batch 0 last BPTT = -1.052, lr = 0.01301\n",
      "Loss on last epoch = -1.1529, new lr = 0.01295, global_step = 67239\n",
      "Starting epoch... 157\n",
      "Loss during batch 0 last BPTT = -1.043, lr = 0.01294\n"
     ]
    },
    {
     "name": "stdout",
     "output_type": "stream",
     "text": [
      "Loss on last epoch = -1.0996, new lr = 0.01287, global_step = 67687\n",
      "Starting epoch... 158\n",
      "Loss during batch 0 last BPTT = -1.005, lr = 0.01287\n",
      "Loss on last epoch = -1.1516, new lr = 0.01280, global_step = 68117\n",
      "Starting epoch... 159\n",
      "Loss during batch 0 last BPTT = -1.116, lr = 0.01279\n",
      "Loss on last epoch = -1.1429, new lr = 0.01273, global_step = 68542\n",
      "Starting epoch... 160\n",
      "Loss during batch 0 last BPTT = -1.154, lr = 0.01272\n",
      "Loss on last epoch = -1.1808, new lr = 0.01266, global_step = 68973\n",
      "Starting epoch... 161\n",
      "Loss during batch 0 last BPTT = -0.960, lr = 0.01266\n",
      "Loss on last epoch = -1.0701, new lr = 0.01259, global_step = 69408\n",
      "Starting epoch... 162\n",
      "Loss during batch 0 last BPTT = -1.074, lr = 0.01259\n",
      "Loss on last epoch = -1.1453, new lr = 0.01253, global_step = 69831\n",
      "Starting epoch... 163\n",
      "Loss during batch 0 last BPTT = -1.058, lr = 0.01252\n",
      "Loss on last epoch = -1.1216, new lr = 0.01246, global_step = 70265\n",
      "Starting epoch... 164\n",
      "Loss during batch 0 last BPTT = -1.091, lr = 0.01245\n",
      "Loss on last epoch = -1.1773, new lr = 0.01240, global_step = 70663\n",
      "Starting epoch... 165\n",
      "Loss during batch 0 last BPTT = -0.957, lr = 0.01239\n",
      "Loss on last epoch = -1.1431, new lr = 0.01233, global_step = 71076\n",
      "Starting epoch... 166\n",
      "Loss during batch 0 last BPTT = -1.170, lr = 0.01233\n",
      "Loss on last epoch = -1.1326, new lr = 0.01227, global_step = 71494\n",
      "Starting epoch... 167\n",
      "Loss during batch 0 last BPTT = -1.306, lr = 0.01226\n",
      "Loss on last epoch = -1.3047, new lr = 0.01220, global_step = 71939\n",
      "Starting epoch... 168\n",
      "Loss during batch 0 last BPTT = -1.364, lr = 0.01220\n",
      "Loss on last epoch = -1.3332, new lr = 0.01214, global_step = 72364\n",
      "Starting epoch... 169\n",
      "Loss during batch 0 last BPTT = -1.238, lr = 0.01213\n",
      "Loss on last epoch = -1.2232, new lr = 0.01208, global_step = 72786\n",
      "Starting epoch... 170\n",
      "Loss during batch 0 last BPTT = -1.098, lr = 0.01207\n",
      "Loss on last epoch = -1.1744, new lr = 0.01202, global_step = 73202\n",
      "Starting epoch... 171\n",
      "Loss during batch 0 last BPTT = -1.133, lr = 0.01201\n",
      "Loss on last epoch = -1.1803, new lr = 0.01196, global_step = 73634\n",
      "Starting epoch... 172\n",
      "Loss during batch 0 last BPTT = -1.138, lr = 0.01195\n",
      "Loss on last epoch = -1.1556, new lr = 0.01189, global_step = 74073\n",
      "Starting epoch... 173\n",
      "Loss during batch 0 last BPTT = -1.179, lr = 0.01189\n",
      "Loss on last epoch = -1.1026, new lr = 0.01183, global_step = 74517\n",
      "Starting epoch... 174\n",
      "Loss during batch 0 last BPTT = -1.180, lr = 0.01183\n",
      "Loss on last epoch = -1.1379, new lr = 0.01177, global_step = 74944\n",
      "Starting epoch... 175\n",
      "Loss during batch 0 last BPTT = -1.156, lr = 0.01177\n",
      "Loss on last epoch = -1.1473, new lr = 0.01171, global_step = 75391\n",
      "Starting epoch... 176\n",
      "Loss during batch 0 last BPTT = -1.095, lr = 0.01170\n",
      "Loss on last epoch = -1.1271, new lr = 0.01165, global_step = 75823\n",
      "Starting epoch... 177\n",
      "Loss during batch 0 last BPTT = -0.985, lr = 0.01165\n",
      "Loss on last epoch = -1.1279, new lr = 0.01159, global_step = 76267\n",
      "Starting epoch... 178\n",
      "Loss during batch 0 last BPTT = -1.160, lr = 0.01159\n",
      "Loss on last epoch = -1.1472, new lr = 0.01153, global_step = 76710\n",
      "Starting epoch... 179\n",
      "Loss during batch 0 last BPTT = -1.212, lr = 0.01153\n",
      "Loss on last epoch = -1.2062, new lr = 0.01148, global_step = 77125\n",
      "Starting epoch... 180\n",
      "Loss during batch 0 last BPTT = -1.111, lr = 0.01147\n",
      "Loss on last epoch = -1.1584, new lr = 0.01142, global_step = 77561\n",
      "Starting epoch... 181\n",
      "Loss during batch 0 last BPTT = -1.057, lr = 0.01142\n",
      "Loss on last epoch = -1.2260, new lr = 0.01137, global_step = 77968\n",
      "Starting epoch... 182\n",
      "Loss during batch 0 last BPTT = -1.036, lr = 0.01136\n",
      "Loss on last epoch = -1.1946, new lr = 0.01131, global_step = 78405\n",
      "Starting epoch... 183\n",
      "Loss during batch 0 last BPTT = -1.036, lr = 0.01131\n",
      "Loss on last epoch = -1.1319, new lr = 0.01126, global_step = 78837\n",
      "Starting epoch... 184\n",
      "Loss during batch 0 last BPTT = -1.154, lr = 0.01125\n",
      "Loss on last epoch = -1.2118, new lr = 0.01120, global_step = 79273\n",
      "Starting epoch... 185\n",
      "Loss during batch 0 last BPTT = -1.163, lr = 0.01120\n",
      "Loss on last epoch = -1.2358, new lr = 0.01116, global_step = 79639\n",
      "Starting epoch... 186\n",
      "Loss during batch 0 last BPTT = -1.280, lr = 0.01115\n",
      "Loss on last epoch = -1.2069, new lr = 0.01110, global_step = 80064\n",
      "Starting epoch... 187\n",
      "Loss during batch 0 last BPTT = -1.162, lr = 0.01110\n",
      "Loss on last epoch = -1.1809, new lr = 0.01105, global_step = 80465\n",
      "Starting epoch... 188\n",
      "Loss during batch 0 last BPTT = -1.254, lr = 0.01105\n",
      "Loss on last epoch = -1.2723, new lr = 0.01100, global_step = 80901\n",
      "Starting epoch... 189\n",
      "Loss during batch 0 last BPTT = -1.231, lr = 0.01100\n",
      "Loss on last epoch = -1.2335, new lr = 0.01095, global_step = 81318\n",
      "Starting epoch... 190\n",
      "Loss during batch 0 last BPTT = -1.145, lr = 0.01094\n",
      "Loss on last epoch = -1.1680, new lr = 0.01090, global_step = 81764\n",
      "Starting epoch... 191\n",
      "Loss during batch 0 last BPTT = -1.276, lr = 0.01089\n",
      "Loss on last epoch = -1.2215, new lr = 0.01085, global_step = 82188\n",
      "Starting epoch... 192\n",
      "Loss during batch 0 last BPTT = -1.094, lr = 0.01084\n",
      "Loss on last epoch = -1.2256, new lr = 0.01080, global_step = 82602\n",
      "Starting epoch... 193\n",
      "Loss during batch 0 last BPTT = -1.161, lr = 0.01080\n",
      "Loss on last epoch = -1.2285, new lr = 0.01075, global_step = 83042\n",
      "Starting epoch... 194\n",
      "Loss during batch 0 last BPTT = -1.179, lr = 0.01074\n",
      "Loss on last epoch = -1.2108, new lr = 0.01070, global_step = 83480\n",
      "Starting epoch... 195\n",
      "Loss during batch 0 last BPTT = -0.980, lr = 0.01069\n",
      "Loss on last epoch = -1.1938, new lr = 0.01065, global_step = 83894\n",
      "Starting epoch... 196\n",
      "Loss during batch 0 last BPTT = -1.241, lr = 0.01065\n",
      "Loss on last epoch = -1.2092, new lr = 0.01060, global_step = 84313\n",
      "Starting epoch... 197\n",
      "Loss during batch 0 last BPTT = -1.226, lr = 0.01060\n",
      "Loss on last epoch = -1.2679, new lr = 0.01056, global_step = 84734\n",
      "Starting epoch... 198\n",
      "Loss during batch 0 last BPTT = -1.076, lr = 0.01055\n",
      "Loss on last epoch = -1.2206, new lr = 0.01051, global_step = 85157\n",
      "Starting epoch... 199\n",
      "Loss during batch 0 last BPTT = -1.218, lr = 0.01050\n",
      "Loss on last epoch = -1.2571, new lr = 0.01046, global_step = 85594\n",
      "Starting epoch... 200\n",
      "Loss during batch 0 last BPTT = -1.161, lr = 0.01045\n",
      "Loss on last epoch = -1.2026, new lr = 0.01041, global_step = 86016\n",
      "Model saved at ./save.rmtpp/model.ckpt\n",
      "Running evaluation on training data: ...\n",
      "** MAE = 0.018; valid = 43, ACC = 0.209\n",
      "CPU times: user 34min 16s, sys: 3min 43s, total: 38min\n",
      "Wall time: 15min 2s\n"
     ]
    }
   ],
   "source": [
    "%%time\n",
    "rmtpp_mdl.train(training_data=data, restart=True, \n",
    "                with_summaries=True, num_epochs=100, with_evals=True)"
   ]
  },
  {
   "cell_type": "code",
   "execution_count": 602,
   "metadata": {},
   "outputs": [
    {
     "name": "stdout",
     "output_type": "stream",
     "text": [
      "Restoring from ./save.rmtpp/model.ckpt-86016\n",
      "INFO:tensorflow:Restoring parameters from ./save.rmtpp/model.ckpt-86016\n",
      "Starting epoch... 201\n",
      "Loss during batch 0 last BPTT = -1.222, lr = 0.01041\n",
      "Loss on last epoch = -1.2847, new lr = 0.01037, global_step = 86434\n",
      "Starting epoch... 202\n",
      "Loss during batch 0 last BPTT = -1.313, lr = 0.01037\n",
      "Loss on last epoch = -1.3056, new lr = 0.01032, global_step = 86858\n",
      "Starting epoch... 203\n",
      "Loss during batch 0 last BPTT = -1.187, lr = 0.01032\n",
      "Loss on last epoch = -1.1868, new lr = 0.01028, global_step = 87284\n",
      "Starting epoch... 204\n",
      "Loss during batch 0 last BPTT = -1.095, lr = 0.01028\n",
      "Loss on last epoch = -1.2225, new lr = 0.01023, global_step = 87716\n",
      "Starting epoch... 205\n",
      "Loss during batch 0 last BPTT = -1.180, lr = 0.01023\n",
      "Loss on last epoch = -1.2474, new lr = 0.01019, global_step = 88152\n",
      "Starting epoch... 206\n",
      "Loss during batch 0 last BPTT = -1.094, lr = 0.01019\n",
      "Loss on last epoch = -1.2341, new lr = 0.01015, global_step = 88570\n",
      "Starting epoch... 207\n",
      "Loss during batch 0 last BPTT = -1.216, lr = 0.01014\n",
      "Loss on last epoch = -1.2477, new lr = 0.01010, global_step = 88986\n",
      "Starting epoch... 208\n",
      "Loss during batch 0 last BPTT = -1.180, lr = 0.01010\n",
      "Loss on last epoch = -1.2524, new lr = 0.01006, global_step = 89405\n",
      "Starting epoch... 209\n",
      "Loss during batch 0 last BPTT = -1.262, lr = 0.01006\n",
      "Loss on last epoch = -1.2986, new lr = 0.01002, global_step = 89819\n",
      "Starting epoch... 210\n",
      "Loss during batch 0 last BPTT = -1.142, lr = 0.01002\n",
      "Loss on last epoch = -1.2325, new lr = 0.00997, global_step = 90266\n",
      "Starting epoch... 211\n",
      "Loss during batch 0 last BPTT = -1.293, lr = 0.00997\n",
      "Loss on last epoch = -1.2407, new lr = 0.00993, global_step = 90691\n",
      "Starting epoch... 212\n",
      "Loss during batch 0 last BPTT = -1.283, lr = 0.00993\n",
      "Loss on last epoch = -1.2850, new lr = 0.00989, global_step = 91121\n",
      "Starting epoch... 213\n",
      "Loss during batch 0 last BPTT = -1.328, lr = 0.00988\n",
      "Loss on last epoch = -1.3015, new lr = 0.00985, global_step = 91552\n",
      "Starting epoch... 214\n",
      "Loss during batch 0 last BPTT = -1.201, lr = 0.00984\n",
      "Loss on last epoch = -1.2188, new lr = 0.00981, global_step = 91986\n",
      "Starting epoch... 215\n",
      "Loss during batch 0 last BPTT = -1.250, lr = 0.00980\n",
      "Loss on last epoch = -1.2626, new lr = 0.00976, global_step = 92422\n",
      "Starting epoch... 216\n",
      "Loss during batch 0 last BPTT = -1.365, lr = 0.00976\n",
      "Loss on last epoch = -1.2880, new lr = 0.00972, global_step = 92865\n",
      "Starting epoch... 217\n",
      "Loss during batch 0 last BPTT = -1.066, lr = 0.00972\n",
      "Loss on last epoch = -1.2613, new lr = 0.00968, global_step = 93289\n",
      "Starting epoch... 218\n",
      "Loss during batch 0 last BPTT = -1.213, lr = 0.00968\n",
      "Loss on last epoch = -1.2612, new lr = 0.00964, global_step = 93697\n",
      "Starting epoch... 219\n",
      "Loss during batch 0 last BPTT = -1.103, lr = 0.00964\n",
      "Loss on last epoch = -1.3041, new lr = 0.00960, global_step = 94128\n",
      "Starting epoch... 220\n",
      "Loss during batch 0 last BPTT = -1.136, lr = 0.00960\n",
      "Loss on last epoch = -1.2494, new lr = 0.00956, global_step = 94566\n",
      "Starting epoch... 221\n",
      "Loss during batch 0 last BPTT = -1.122, lr = 0.00956\n",
      "Loss on last epoch = -1.2513, new lr = 0.00952, global_step = 94996\n",
      "Starting epoch... 222\n",
      "Loss during batch 0 last BPTT = -1.209, lr = 0.00952\n",
      "Loss on last epoch = -1.2949, new lr = 0.00948, global_step = 95430\n",
      "Starting epoch... 223\n",
      "Loss during batch 0 last BPTT = -1.204, lr = 0.00948\n",
      "Loss on last epoch = -1.2553, new lr = 0.00945, global_step = 95854\n",
      "Starting epoch... 224\n",
      "Loss during batch 0 last BPTT = -1.295, lr = 0.00944\n",
      "Loss on last epoch = -1.3334, new lr = 0.00941, global_step = 96264\n",
      "Starting epoch... 225\n",
      "Loss during batch 0 last BPTT = -1.265, lr = 0.00941\n",
      "Loss on last epoch = -1.3197, new lr = 0.00937, global_step = 96679\n",
      "Starting epoch... 226\n",
      "Loss during batch 0 last BPTT = -1.219, lr = 0.00937\n",
      "Loss on last epoch = -1.3227, new lr = 0.00934, global_step = 97100\n",
      "Starting epoch... 227\n",
      "Loss during batch 0 last BPTT = -1.333, lr = 0.00933\n",
      "Loss on last epoch = -1.2635, new lr = 0.00930, global_step = 97542\n",
      "Starting epoch... 228\n",
      "Loss during batch 0 last BPTT = -1.256, lr = 0.00929\n",
      "Loss on last epoch = -1.2647, new lr = 0.00926, global_step = 97979\n",
      "Starting epoch... 229\n",
      "Loss during batch 0 last BPTT = -1.195, lr = 0.00926\n",
      "Loss on last epoch = -1.3099, new lr = 0.00923, global_step = 98397\n",
      "Starting epoch... 230\n",
      "Loss during batch 0 last BPTT = -1.210, lr = 0.00922\n",
      "Loss on last epoch = -1.2708, new lr = 0.00919, global_step = 98830\n",
      "Starting epoch... 231\n",
      "Loss during batch 0 last BPTT = -1.247, lr = 0.00918\n",
      "Loss on last epoch = -1.3653, new lr = 0.00915, global_step = 99243\n",
      "Starting epoch... 232\n",
      "Loss during batch 0 last BPTT = -1.329, lr = 0.00915\n",
      "Loss on last epoch = -1.3684, new lr = 0.00912, global_step = 99659\n",
      "Starting epoch... 233\n",
      "Loss during batch 0 last BPTT = -1.327, lr = 0.00911\n",
      "Loss on last epoch = -1.3129, new lr = 0.00908, global_step = 100072\n",
      "Starting epoch... 234\n",
      "Loss during batch 0 last BPTT = -1.312, lr = 0.00908\n",
      "Loss on last epoch = -1.2605, new lr = 0.00905, global_step = 100499\n",
      "Starting epoch... 235\n",
      "Loss during batch 0 last BPTT = -1.185, lr = 0.00904\n",
      "Loss on last epoch = -1.1526, new lr = 0.00902, global_step = 100923\n",
      "Starting epoch... 236\n",
      "Loss during batch 0 last BPTT = -1.203, lr = 0.00901\n",
      "Loss on last epoch = -1.2134, new lr = 0.00898, global_step = 101345\n",
      "Starting epoch... 237\n",
      "Loss during batch 0 last BPTT = -1.210, lr = 0.00898\n",
      "Loss on last epoch = -1.2956, new lr = 0.00895, global_step = 101767\n",
      "Starting epoch... 238\n",
      "Loss during batch 0 last BPTT = -1.318, lr = 0.00894\n",
      "Loss on last epoch = -1.2494, new lr = 0.00891, global_step = 102198\n",
      "Starting epoch... 239\n",
      "Loss during batch 0 last BPTT = -1.251, lr = 0.00891\n",
      "Loss on last epoch = -1.2965, new lr = 0.00888, global_step = 102585\n",
      "Starting epoch... 240\n",
      "Loss during batch 0 last BPTT = -1.336, lr = 0.00888\n",
      "Loss on last epoch = -1.2937, new lr = 0.00885, global_step = 103005\n",
      "Starting epoch... 241\n",
      "Loss during batch 0 last BPTT = -1.152, lr = 0.00885\n",
      "Loss on last epoch = -1.3010, new lr = 0.00882, global_step = 103419\n",
      "Starting epoch... 242\n",
      "Loss during batch 0 last BPTT = -1.208, lr = 0.00881\n",
      "Loss on last epoch = -1.2900, new lr = 0.00878, global_step = 103851\n",
      "Starting epoch... 243\n",
      "Loss during batch 0 last BPTT = -1.169, lr = 0.00878\n",
      "Loss on last epoch = -1.2325, new lr = 0.00875, global_step = 104269\n",
      "Starting epoch... 244\n",
      "Loss during batch 0 last BPTT = -1.329, lr = 0.00875\n",
      "Loss on last epoch = -1.3739, new lr = 0.00872, global_step = 104699\n",
      "Starting epoch... 245\n",
      "Loss during batch 0 last BPTT = -1.276, lr = 0.00872\n",
      "Loss on last epoch = -1.1791, new lr = 0.00868, global_step = 105146\n",
      "Starting epoch... 246\n",
      "Loss during batch 0 last BPTT = -1.152, lr = 0.00868\n",
      "Loss on last epoch = -1.2474, new lr = 0.00865, global_step = 105588\n",
      "Starting epoch... 247\n",
      "Loss during batch 0 last BPTT = -1.247, lr = 0.00865\n",
      "Loss on last epoch = -1.3035, new lr = 0.00862, global_step = 106016\n",
      "Starting epoch... 248\n",
      "Loss during batch 0 last BPTT = -1.275, lr = 0.00862\n",
      "Loss on last epoch = -1.2710, new lr = 0.00859, global_step = 106447\n",
      "Starting epoch... 249\n",
      "Loss during batch 0 last BPTT = -1.247, lr = 0.00858\n",
      "Loss on last epoch = -1.2634, new lr = 0.00856, global_step = 106847\n",
      "Starting epoch... 250\n",
      "Loss during batch 0 last BPTT = -1.273, lr = 0.00856\n",
      "Loss on last epoch = -1.3291, new lr = 0.00853, global_step = 107264\n",
      "Starting epoch... 251\n",
      "Loss during batch 0 last BPTT = -1.301, lr = 0.00852\n",
      "Loss on last epoch = -1.3357, new lr = 0.00850, global_step = 107675\n",
      "Starting epoch... 252\n",
      "Loss during batch 0 last BPTT = -1.454, lr = 0.00849\n",
      "Loss on last epoch = -1.3081, new lr = 0.00847, global_step = 108096\n",
      "Starting epoch... 253\n",
      "Loss during batch 0 last BPTT = -1.166, lr = 0.00846\n",
      "Loss on last epoch = -1.2862, new lr = 0.00844, global_step = 108544\n",
      "Starting epoch... 254\n",
      "Loss during batch 0 last BPTT = -1.226, lr = 0.00843\n",
      "Loss on last epoch = -1.3084, new lr = 0.00841, global_step = 108947\n",
      "Starting epoch... 255\n",
      "Loss during batch 0 last BPTT = -1.294, lr = 0.00840\n",
      "Loss on last epoch = -1.3001, new lr = 0.00838, global_step = 109371\n",
      "Starting epoch... 256\n",
      "Loss during batch 0 last BPTT = -1.272, lr = 0.00838\n",
      "Loss on last epoch = -1.3158, new lr = 0.00835, global_step = 109794\n",
      "Starting epoch... 257\n",
      "Loss during batch 0 last BPTT = -1.234, lr = 0.00835\n"
     ]
    },
    {
     "name": "stdout",
     "output_type": "stream",
     "text": [
      "Loss on last epoch = -1.2903, new lr = 0.00832, global_step = 110218\n",
      "Starting epoch... 258\n",
      "Loss during batch 0 last BPTT = -1.268, lr = 0.00832\n",
      "Loss on last epoch = -1.2982, new lr = 0.00829, global_step = 110631\n",
      "Starting epoch... 259\n",
      "Loss during batch 0 last BPTT = -1.311, lr = 0.00829\n",
      "Loss on last epoch = -1.3290, new lr = 0.00826, global_step = 111055\n",
      "Starting epoch... 260\n",
      "Loss during batch 0 last BPTT = -1.186, lr = 0.00826\n",
      "Loss on last epoch = -1.3373, new lr = 0.00823, global_step = 111494\n",
      "Starting epoch... 261\n",
      "Loss during batch 0 last BPTT = -1.386, lr = 0.00823\n",
      "Loss on last epoch = -1.3333, new lr = 0.00820, global_step = 111937\n",
      "Starting epoch... 262\n",
      "Loss during batch 0 last BPTT = -1.141, lr = 0.00820\n",
      "Loss on last epoch = -1.2447, new lr = 0.00817, global_step = 112364\n",
      "Starting epoch... 263\n",
      "Loss during batch 0 last BPTT = -1.240, lr = 0.00817\n",
      "Loss on last epoch = -1.2965, new lr = 0.00814, global_step = 112819\n",
      "Starting epoch... 264\n",
      "Loss during batch 0 last BPTT = -1.283, lr = 0.00814\n",
      "Loss on last epoch = -1.2027, new lr = 0.00811, global_step = 113259\n",
      "Starting epoch... 265\n",
      "Loss during batch 0 last BPTT = -1.029, lr = 0.00811\n",
      "Loss on last epoch = -1.1593, new lr = 0.00808, global_step = 113688\n",
      "Starting epoch... 266\n",
      "Loss during batch 0 last BPTT = -1.172, lr = 0.00808\n",
      "Loss on last epoch = -1.2567, new lr = 0.00806, global_step = 114122\n",
      "Starting epoch... 267\n",
      "Loss during batch 0 last BPTT = -1.233, lr = 0.00805\n",
      "Loss on last epoch = -1.2659, new lr = 0.00803, global_step = 114530\n",
      "Starting epoch... 268\n",
      "Loss during batch 0 last BPTT = -1.361, lr = 0.00803\n",
      "Loss on last epoch = -1.3518, new lr = 0.00800, global_step = 114972\n",
      "Starting epoch... 269\n",
      "Loss during batch 0 last BPTT = -1.318, lr = 0.00800\n",
      "Loss on last epoch = -1.2806, new lr = 0.00797, global_step = 115410\n",
      "Starting epoch... 270\n",
      "Loss during batch 0 last BPTT = -1.233, lr = 0.00797\n",
      "Loss on last epoch = -1.2489, new lr = 0.00795, global_step = 115855\n",
      "Starting epoch... 271\n",
      "Loss during batch 0 last BPTT = -1.254, lr = 0.00794\n",
      "Loss on last epoch = -1.2586, new lr = 0.00792, global_step = 116279\n",
      "Starting epoch... 272\n",
      "Loss during batch 0 last BPTT = -1.360, lr = 0.00792\n",
      "Loss on last epoch = -1.3266, new lr = 0.00789, global_step = 116697\n",
      "Starting epoch... 273\n",
      "Loss during batch 0 last BPTT = -1.145, lr = 0.00789\n",
      "Loss on last epoch = -1.2690, new lr = 0.00787, global_step = 117105\n",
      "Starting epoch... 274\n",
      "Loss during batch 0 last BPTT = -1.259, lr = 0.00787\n",
      "Loss on last epoch = -1.3326, new lr = 0.00784, global_step = 117522\n",
      "Starting epoch... 275\n",
      "Loss during batch 0 last BPTT = -1.284, lr = 0.00784\n",
      "Loss on last epoch = -1.2611, new lr = 0.00782, global_step = 117927\n",
      "Starting epoch... 276\n",
      "Loss during batch 0 last BPTT = -1.256, lr = 0.00781\n",
      "Loss on last epoch = -1.3879, new lr = 0.00779, global_step = 118372\n",
      "Starting epoch... 277\n",
      "Loss during batch 0 last BPTT = -1.434, lr = 0.00779\n",
      "Loss on last epoch = -1.4023, new lr = 0.00776, global_step = 118790\n",
      "Starting epoch... 278\n",
      "Loss during batch 0 last BPTT = -1.352, lr = 0.00776\n",
      "Loss on last epoch = -1.3203, new lr = 0.00774, global_step = 119210\n",
      "Starting epoch... 279\n",
      "Loss during batch 0 last BPTT = -1.227, lr = 0.00774\n",
      "Loss on last epoch = -1.3731, new lr = 0.00771, global_step = 119630\n",
      "Starting epoch... 280\n",
      "Loss during batch 0 last BPTT = -1.364, lr = 0.00771\n",
      "Loss on last epoch = -1.3603, new lr = 0.00769, global_step = 120079\n",
      "Starting epoch... 281\n",
      "Loss during batch 0 last BPTT = -1.183, lr = 0.00769\n",
      "Loss on last epoch = -1.3035, new lr = 0.00766, global_step = 120503\n",
      "Starting epoch... 282\n",
      "Loss during batch 0 last BPTT = -1.330, lr = 0.00766\n",
      "Loss on last epoch = -1.3720, new lr = 0.00764, global_step = 120938\n",
      "Starting epoch... 283\n",
      "Loss during batch 0 last BPTT = -1.263, lr = 0.00763\n",
      "Loss on last epoch = -1.2902, new lr = 0.00761, global_step = 121360\n",
      "Starting epoch... 284\n",
      "Loss during batch 0 last BPTT = -1.419, lr = 0.00761\n",
      "Loss on last epoch = -1.4076, new lr = 0.00759, global_step = 121783\n",
      "Starting epoch... 285\n",
      "Loss during batch 0 last BPTT = -1.324, lr = 0.00759\n",
      "Loss on last epoch = -1.3226, new lr = 0.00756, global_step = 122218\n",
      "Starting epoch... 286\n",
      "Loss during batch 0 last BPTT = -1.197, lr = 0.00756\n",
      "Loss on last epoch = -1.3086, new lr = 0.00754, global_step = 122652\n",
      "Starting epoch... 287\n",
      "Loss during batch 0 last BPTT = -1.329, lr = 0.00754\n",
      "Loss on last epoch = -1.3723, new lr = 0.00751, global_step = 123101\n",
      "Starting epoch... 288\n",
      "Loss during batch 0 last BPTT = -1.377, lr = 0.00751\n",
      "Loss on last epoch = -1.3565, new lr = 0.00749, global_step = 123518\n",
      "Starting epoch... 289\n",
      "Loss during batch 0 last BPTT = -1.364, lr = 0.00749\n",
      "Loss on last epoch = -1.3293, new lr = 0.00746, global_step = 123960\n",
      "Starting epoch... 290\n",
      "Loss during batch 0 last BPTT = -1.246, lr = 0.00746\n",
      "Loss on last epoch = -1.3342, new lr = 0.00744, global_step = 124356\n",
      "Starting epoch... 291\n",
      "Loss during batch 0 last BPTT = -1.322, lr = 0.00744\n",
      "Loss on last epoch = -1.4165, new lr = 0.00742, global_step = 124772\n",
      "Starting epoch... 292\n",
      "Loss during batch 0 last BPTT = -1.388, lr = 0.00742\n",
      "Loss on last epoch = -1.3454, new lr = 0.00740, global_step = 125200\n",
      "Starting epoch... 293\n",
      "Loss during batch 0 last BPTT = -1.266, lr = 0.00739\n",
      "Loss on last epoch = -1.3205, new lr = 0.00737, global_step = 125631\n",
      "Starting epoch... 294\n",
      "Loss during batch 0 last BPTT = -1.330, lr = 0.00737\n",
      "Loss on last epoch = -1.3994, new lr = 0.00735, global_step = 126050\n",
      "Starting epoch... 295\n",
      "Loss during batch 0 last BPTT = -1.319, lr = 0.00735\n",
      "Loss on last epoch = -1.3221, new lr = 0.00733, global_step = 126499\n",
      "Starting epoch... 296\n",
      "Loss during batch 0 last BPTT = -1.286, lr = 0.00732\n",
      "Loss on last epoch = -1.3741, new lr = 0.00730, global_step = 126905\n",
      "Starting epoch... 297\n",
      "Loss during batch 0 last BPTT = -1.416, lr = 0.00730\n",
      "Loss on last epoch = -1.4220, new lr = 0.00728, global_step = 127328\n",
      "Starting epoch... 298\n",
      "Loss during batch 0 last BPTT = -1.257, lr = 0.00728\n",
      "Loss on last epoch = -1.3062, new lr = 0.00726, global_step = 127738\n",
      "Starting epoch... 299\n",
      "Loss during batch 0 last BPTT = -1.355, lr = 0.00726\n",
      "Loss on last epoch = -1.3927, new lr = 0.00724, global_step = 128180\n",
      "Starting epoch... 300\n",
      "Loss during batch 0 last BPTT = -1.277, lr = 0.00724\n",
      "Loss on last epoch = -1.3587, new lr = 0.00721, global_step = 128606\n",
      "Model saved at ./save.rmtpp/model.ckpt\n",
      "Running evaluation on training data: ...\n",
      "** MAE = 0.017; valid = 43, ACC = 0.209\n",
      "CPU times: user 34min 12s, sys: 3min 43s, total: 37min 56s\n",
      "Wall time: 15min 1s\n"
     ]
    }
   ],
   "source": [
    "%%time\n",
    "rmtpp_mdl.train(training_data=data, restart=True, \n",
    "                with_summaries=True, num_epochs=100, with_evals=True)"
   ]
  },
  {
   "cell_type": "code",
   "execution_count": 175,
   "metadata": {},
   "outputs": [
    {
     "name": "stdout",
     "output_type": "stream",
     "text": [
      "Starting epoch... 0\n",
      "Loss during batch 0 last BPTT = -0.420, lr = 0.09965\n",
      "Loss during batch 10 last BPTT = -1.412, lr = 0.09629\n",
      "Loss during batch 20 last BPTT = -1.343, lr = 0.09315\n",
      "Loss during batch 30 last BPTT = -1.428, lr = 0.09021\n",
      "Loss during batch 40 last BPTT = -1.548, lr = 0.08745\n",
      "Loss during batch 50 last BPTT = -1.583, lr = 0.08485\n",
      "Loss during batch 60 last BPTT = -1.455, lr = 0.08241\n",
      "Loss during batch 70 last BPTT = -1.252, lr = 0.08010\n",
      "Loss during batch 80 last BPTT = -1.474, lr = 0.07791\n",
      "Loss on last epoch = -1.3616, new lr = 0.07770, global_step = 2870\n",
      "Model saved at ./save.rmtpp/model.ckpt\n",
      "CPU times: user 3min 47s, sys: 30 s, total: 4min 17s\n",
      "Wall time: 2min 9s\n"
     ]
    }
   ],
   "source": [
    "%%time\n",
    "rmtpp_mdl.train(training_data=data, restart=False, \n",
    "                with_summaries=True, num_epochs=1, with_evals=False)"
   ]
  },
  {
   "cell_type": "code",
   "execution_count": 53,
   "metadata": {},
   "outputs": [
    {
     "name": "stdout",
     "output_type": "stream",
     "text": [
      "Starting epoch... 0\n",
      "Loss during batch 0 last BPTT = 1.179, lr = 0.09965\n",
      "Loss during batch 10 last BPTT = -1.354, lr = 0.09629\n",
      "Loss during batch 20 last BPTT = -1.547, lr = 0.09315\n",
      "Loss during batch 30 last BPTT = -1.476, lr = 0.09021\n",
      "Loss during batch 40 last BPTT = -1.418, lr = 0.08745\n",
      "Loss during batch 50 last BPTT = -1.591, lr = 0.08485\n",
      "Loss during batch 60 last BPTT = -1.307, lr = 0.08241\n",
      "Loss during batch 70 last BPTT = -1.508, lr = 0.08010\n",
      "Loss during batch 80 last BPTT = -1.214, lr = 0.07791\n",
      "Loss on last epoch = -1.3422, new lr = 0.07770, global_step = 2870\n",
      "Model saved at ./save.rmtpp/model.ckpt\n",
      "Running evaluation on training data: ...\n",
      "** MAE = 0.010; valid = 377855, ACC = 0.435\n",
      "CPU times: user 5min 1s, sys: 35.6 s, total: 5min 36s\n",
      "Wall time: 10min 24s\n"
     ]
    }
   ],
   "source": [
    "%%time\n",
    "rmtpp_mdl.train(training_data=data, restart=False, \n",
    "                with_summaries=True, num_epochs=1, with_evals=False)"
   ]
  },
  {
   "cell_type": "code",
   "execution_count": 131,
   "metadata": {
    "collapsed": true
   },
   "outputs": [],
   "source": [
    "Wem = tf_rmtpp.def_opts.Wem(data['num_categories'])"
   ]
  },
  {
   "cell_type": "code",
   "execution_count": 348,
   "metadata": {
    "collapsed": true
   },
   "outputs": [],
   "source": [
    "%run -i ../tf_rmtpp/tests/test_sample.py\n",
    "f_d = rmtpp_mdl.make_feed_dict(data, [1, 2], 0)\n",
    "np_batch = map_feed_dict_to_np(f_d, rmtpp_mdl=rmtpp_mdl)"
   ]
  },
  {
   "cell_type": "code",
   "execution_count": 340,
   "metadata": {
    "collapsed": true
   },
   "outputs": [],
   "source": [
    "np_vals = numpy_LL(np_batch, \n",
    "                   num_categories=data['num_categories'], \n",
    "                   bt=np.log(base_rate),\n",
    "                   _opts=tf_rmtpp.def_opts)"
   ]
  },
  {
   "cell_type": "code",
   "execution_count": 335,
   "metadata": {
    "collapsed": true
   },
   "outputs": [],
   "source": [
    "tf_vals = rmtpp_mdl.sess.run(\n",
    "    {\n",
    "        'loss': rmtpp_mdl.loss,\n",
    "        'mark_LLs': rmtpp_mdl.mark_LLs,\n",
    "        'time_LLs': rmtpp_mdl.time_LLs,\n",
    "        'hidden_states': rmtpp_mdl.hidden_states,\n",
    "        'log_lambdas': rmtpp_mdl.log_lambdas,\n",
    "        'event_preds': rmtpp_mdl.event_preds\n",
    "    }, \n",
    "    feed_dict=f_d\n",
    ")"
   ]
  },
  {
   "cell_type": "code",
   "execution_count": 341,
   "metadata": {},
   "outputs": [
    {
     "data": {
      "text/plain": [
       "(-0.090437554471984233, -0.090437494)"
      ]
     },
     "execution_count": 341,
     "metadata": {},
     "output_type": "execute_result"
    }
   ],
   "source": [
    "np_vals['loss'], tf_vals['loss']"
   ]
  },
  {
   "cell_type": "code",
   "execution_count": 332,
   "metadata": {
    "collapsed": true
   },
   "outputs": [],
   "source": [
    "# key = 'mark_LLs'\n",
    "# key = 'hidden_states'\n",
    "key = 'event_preds'"
   ]
  },
  {
   "cell_type": "code",
   "execution_count": 324,
   "metadata": {},
   "outputs": [
    {
     "data": {
      "text/plain": [
       "array([[ 0.,  0.,  0.,  0.,  0.,  0.,  0.,  0.,  0.,  0.,  0.,  0.,  0.,\n",
       "         0.,  0.,  0.,  0.,  0.,  0.,  0.,  0.,  0.]], dtype=float32)"
      ]
     },
     "execution_count": 324,
     "metadata": {},
     "output_type": "execute_result"
    }
   ],
   "source": [
    "rmtpp_mdl.sess.run(rmtpp_mdl.bk)"
   ]
  },
  {
   "cell_type": "code",
   "execution_count": 333,
   "metadata": {},
   "outputs": [
    {
     "data": {
      "text/plain": [
       "[array([[ 0.50000003,  0.50000003,  0.50000003,  0.50000003,  0.50000003,\n",
       "          0.50000003,  0.50000003,  0.50000003,  0.50000003,  0.50000003,\n",
       "          0.50000003,  0.50000003,  0.50000003,  0.50000003,  0.50000003,\n",
       "          0.50000003,  0.50000003,  0.50000003,  0.50000003,  0.50000003,\n",
       "          0.50000003,  0.50000003],\n",
       "        [ 0.49999997,  0.49999997,  0.49999997,  0.49999997,  0.49999997,\n",
       "          0.49999997,  0.49999997,  0.49999997,  0.49999997,  0.49999997,\n",
       "          0.49999997,  0.49999997,  0.49999997,  0.49999997,  0.49999997,\n",
       "          0.49999997,  0.49999997,  0.49999997,  0.49999997,  0.49999997,\n",
       "          0.49999997,  0.49999997]]),\n",
       " array([[ 0.50000007,  0.50000007,  0.50000007,  0.50000007,  0.50000007,\n",
       "          0.50000007,  0.50000007,  0.50000007,  0.50000007,  0.50000007,\n",
       "          0.50000007,  0.50000007,  0.50000007,  0.50000007,  0.50000007,\n",
       "          0.50000007,  0.50000007,  0.50000007,  0.50000007,  0.50000007,\n",
       "          0.50000007,  0.50000007],\n",
       "        [ 0.49999993,  0.49999993,  0.49999993,  0.49999993,  0.49999993,\n",
       "          0.49999993,  0.49999993,  0.49999993,  0.49999993,  0.49999993,\n",
       "          0.49999993,  0.49999993,  0.49999993,  0.49999993,  0.49999993,\n",
       "          0.49999993,  0.49999993,  0.49999993,  0.49999993,  0.49999993,\n",
       "          0.49999993,  0.49999993]]),\n",
       " array([[ 0.50000012,  0.50000012,  0.50000012,  0.50000012,  0.50000012,\n",
       "          0.50000012,  0.50000012,  0.50000012,  0.50000012,  0.50000012,\n",
       "          0.50000012,  0.50000012,  0.50000012,  0.50000012,  0.50000012,\n",
       "          0.50000012,  0.50000012,  0.50000012,  0.50000012,  0.50000012,\n",
       "          0.50000012,  0.50000012],\n",
       "        [ 0.49999988,  0.49999988,  0.49999988,  0.49999988,  0.49999988,\n",
       "          0.49999988,  0.49999988,  0.49999988,  0.49999988,  0.49999988,\n",
       "          0.49999988,  0.49999988,  0.49999988,  0.49999988,  0.49999988,\n",
       "          0.49999988,  0.49999988,  0.49999988,  0.49999988,  0.49999988,\n",
       "          0.49999988,  0.49999988]]),\n",
       " array([[ 0.49999999,  0.49999999,  0.49999999,  0.49999999,  0.49999999,\n",
       "          0.49999999,  0.49999999,  0.49999999,  0.49999999,  0.49999999,\n",
       "          0.49999999,  0.49999999,  0.49999999,  0.49999999,  0.49999999,\n",
       "          0.49999999,  0.49999999,  0.49999999,  0.49999999,  0.49999999,\n",
       "          0.49999999,  0.49999999],\n",
       "        [ 0.50000001,  0.50000001,  0.50000001,  0.50000001,  0.50000001,\n",
       "          0.50000001,  0.50000001,  0.50000001,  0.50000001,  0.50000001,\n",
       "          0.50000001,  0.50000001,  0.50000001,  0.50000001,  0.50000001,\n",
       "          0.50000001,  0.50000001,  0.50000001,  0.50000001,  0.50000001,\n",
       "          0.50000001,  0.50000001]]),\n",
       " array([[ 0.50000005,  0.50000005,  0.50000005,  0.50000005,  0.50000005,\n",
       "          0.50000005,  0.50000005,  0.50000005,  0.50000005,  0.50000005,\n",
       "          0.50000005,  0.50000005,  0.50000005,  0.50000005,  0.50000005,\n",
       "          0.50000005,  0.50000005,  0.50000005,  0.50000005,  0.50000005,\n",
       "          0.50000005,  0.50000005],\n",
       "        [ 0.49999995,  0.49999995,  0.49999995,  0.49999995,  0.49999995,\n",
       "          0.49999995,  0.49999995,  0.49999995,  0.49999995,  0.49999995,\n",
       "          0.49999995,  0.49999995,  0.49999995,  0.49999995,  0.49999995,\n",
       "          0.49999995,  0.49999995,  0.49999995,  0.49999995,  0.49999995,\n",
       "          0.49999995,  0.49999995]]),\n",
       " array([[ 0.50000005,  0.50000005,  0.50000005,  0.50000005,  0.50000005,\n",
       "          0.50000005,  0.50000005,  0.50000005,  0.50000005,  0.50000005,\n",
       "          0.50000005,  0.50000005,  0.50000005,  0.50000005,  0.50000005,\n",
       "          0.50000005,  0.50000005,  0.50000005,  0.50000005,  0.50000005,\n",
       "          0.50000005,  0.50000005],\n",
       "        [ 0.49999995,  0.49999995,  0.49999995,  0.49999995,  0.49999995,\n",
       "          0.49999995,  0.49999995,  0.49999995,  0.49999995,  0.49999995,\n",
       "          0.49999995,  0.49999995,  0.49999995,  0.49999995,  0.49999995,\n",
       "          0.49999995,  0.49999995,  0.49999995,  0.49999995,  0.49999995,\n",
       "          0.49999995,  0.49999995]]),\n",
       " array([[ 0.49999971,  0.49999971,  0.49999971,  0.49999971,  0.49999971,\n",
       "          0.49999971,  0.49999971,  0.49999971,  0.49999971,  0.49999971,\n",
       "          0.49999971,  0.49999971,  0.49999971,  0.49999971,  0.49999971,\n",
       "          0.49999971,  0.49999971,  0.49999971,  0.49999971,  0.49999971,\n",
       "          0.49999971,  0.49999971],\n",
       "        [ 0.50000029,  0.50000029,  0.50000029,  0.50000029,  0.50000029,\n",
       "          0.50000029,  0.50000029,  0.50000029,  0.50000029,  0.50000029,\n",
       "          0.50000029,  0.50000029,  0.50000029,  0.50000029,  0.50000029,\n",
       "          0.50000029,  0.50000029,  0.50000029,  0.50000029,  0.50000029,\n",
       "          0.50000029,  0.50000029]]),\n",
       " array([[ 0.49999975,  0.49999975,  0.49999975,  0.49999975,  0.49999975,\n",
       "          0.49999975,  0.49999975,  0.49999975,  0.49999975,  0.49999975,\n",
       "          0.49999975,  0.49999975,  0.49999975,  0.49999975,  0.49999975,\n",
       "          0.49999975,  0.49999975,  0.49999975,  0.49999975,  0.49999975,\n",
       "          0.49999975,  0.49999975],\n",
       "        [ 0.50000025,  0.50000025,  0.50000025,  0.50000025,  0.50000025,\n",
       "          0.50000025,  0.50000025,  0.50000025,  0.50000025,  0.50000025,\n",
       "          0.50000025,  0.50000025,  0.50000025,  0.50000025,  0.50000025,\n",
       "          0.50000025,  0.50000025,  0.50000025,  0.50000025,  0.50000025,\n",
       "          0.50000025,  0.50000025]]),\n",
       " array([[ 0.49999971,  0.49999971,  0.49999971,  0.49999971,  0.49999971,\n",
       "          0.49999971,  0.49999971,  0.49999971,  0.49999971,  0.49999971,\n",
       "          0.49999971,  0.49999971,  0.49999971,  0.49999971,  0.49999971,\n",
       "          0.49999971,  0.49999971,  0.49999971,  0.49999971,  0.49999971,\n",
       "          0.49999971,  0.49999971],\n",
       "        [ 0.50000029,  0.50000029,  0.50000029,  0.50000029,  0.50000029,\n",
       "          0.50000029,  0.50000029,  0.50000029,  0.50000029,  0.50000029,\n",
       "          0.50000029,  0.50000029,  0.50000029,  0.50000029,  0.50000029,\n",
       "          0.50000029,  0.50000029,  0.50000029,  0.50000029,  0.50000029,\n",
       "          0.50000029,  0.50000029]]),\n",
       " array([[ 0.4999997,  0.4999997,  0.4999997,  0.4999997,  0.4999997,\n",
       "          0.4999997,  0.4999997,  0.4999997,  0.4999997,  0.4999997,\n",
       "          0.4999997,  0.4999997,  0.4999997,  0.4999997,  0.4999997,\n",
       "          0.4999997,  0.4999997,  0.4999997,  0.4999997,  0.4999997,\n",
       "          0.4999997,  0.4999997],\n",
       "        [ 0.5000003,  0.5000003,  0.5000003,  0.5000003,  0.5000003,\n",
       "          0.5000003,  0.5000003,  0.5000003,  0.5000003,  0.5000003,\n",
       "          0.5000003,  0.5000003,  0.5000003,  0.5000003,  0.5000003,\n",
       "          0.5000003,  0.5000003,  0.5000003,  0.5000003,  0.5000003,\n",
       "          0.5000003,  0.5000003]]),\n",
       " array([[ 0.49999978,  0.49999978,  0.49999978,  0.49999978,  0.49999978,\n",
       "          0.49999978,  0.49999978,  0.49999978,  0.49999978,  0.49999978,\n",
       "          0.49999978,  0.49999978,  0.49999978,  0.49999978,  0.49999978,\n",
       "          0.49999978,  0.49999978,  0.49999978,  0.49999978,  0.49999978,\n",
       "          0.49999978,  0.49999978],\n",
       "        [ 0.50000022,  0.50000022,  0.50000022,  0.50000022,  0.50000022,\n",
       "          0.50000022,  0.50000022,  0.50000022,  0.50000022,  0.50000022,\n",
       "          0.50000022,  0.50000022,  0.50000022,  0.50000022,  0.50000022,\n",
       "          0.50000022,  0.50000022,  0.50000022,  0.50000022,  0.50000022,\n",
       "          0.50000022,  0.50000022]]),\n",
       " array([[ 0.4999998,  0.4999998,  0.4999998,  0.4999998,  0.4999998,\n",
       "          0.4999998,  0.4999998,  0.4999998,  0.4999998,  0.4999998,\n",
       "          0.4999998,  0.4999998,  0.4999998,  0.4999998,  0.4999998,\n",
       "          0.4999998,  0.4999998,  0.4999998,  0.4999998,  0.4999998,\n",
       "          0.4999998,  0.4999998],\n",
       "        [ 0.5000002,  0.5000002,  0.5000002,  0.5000002,  0.5000002,\n",
       "          0.5000002,  0.5000002,  0.5000002,  0.5000002,  0.5000002,\n",
       "          0.5000002,  0.5000002,  0.5000002,  0.5000002,  0.5000002,\n",
       "          0.5000002,  0.5000002,  0.5000002,  0.5000002,  0.5000002,\n",
       "          0.5000002,  0.5000002]]),\n",
       " array([[ 0.49999985,  0.49999985,  0.49999985,  0.49999985,  0.49999985,\n",
       "          0.49999985,  0.49999985,  0.49999985,  0.49999985,  0.49999985,\n",
       "          0.49999985,  0.49999985,  0.49999985,  0.49999985,  0.49999985,\n",
       "          0.49999985,  0.49999985,  0.49999985,  0.49999985,  0.49999985,\n",
       "          0.49999985,  0.49999985],\n",
       "        [ 0.50000015,  0.50000015,  0.50000015,  0.50000015,  0.50000015,\n",
       "          0.50000015,  0.50000015,  0.50000015,  0.50000015,  0.50000015,\n",
       "          0.50000015,  0.50000015,  0.50000015,  0.50000015,  0.50000015,\n",
       "          0.50000015,  0.50000015,  0.50000015,  0.50000015,  0.50000015,\n",
       "          0.50000015,  0.50000015]]),\n",
       " array([[ 0.49999993,  0.49999993,  0.49999993,  0.49999993,  0.49999993,\n",
       "          0.49999993,  0.49999993,  0.49999993,  0.49999993,  0.49999993,\n",
       "          0.49999993,  0.49999993,  0.49999993,  0.49999993,  0.49999993,\n",
       "          0.49999993,  0.49999993,  0.49999993,  0.49999993,  0.49999993,\n",
       "          0.49999993,  0.49999993],\n",
       "        [ 0.50000007,  0.50000007,  0.50000007,  0.50000007,  0.50000007,\n",
       "          0.50000007,  0.50000007,  0.50000007,  0.50000007,  0.50000007,\n",
       "          0.50000007,  0.50000007,  0.50000007,  0.50000007,  0.50000007,\n",
       "          0.50000007,  0.50000007,  0.50000007,  0.50000007,  0.50000007,\n",
       "          0.50000007,  0.50000007]]),\n",
       " array([[ 0.49999988,  0.49999988,  0.49999988,  0.49999988,  0.49999988,\n",
       "          0.49999988,  0.49999988,  0.49999988,  0.49999988,  0.49999988,\n",
       "          0.49999988,  0.49999988,  0.49999988,  0.49999988,  0.49999988,\n",
       "          0.49999988,  0.49999988,  0.49999988,  0.49999988,  0.49999988,\n",
       "          0.49999988,  0.49999988],\n",
       "        [ 0.50000012,  0.50000012,  0.50000012,  0.50000012,  0.50000012,\n",
       "          0.50000012,  0.50000012,  0.50000012,  0.50000012,  0.50000012,\n",
       "          0.50000012,  0.50000012,  0.50000012,  0.50000012,  0.50000012,\n",
       "          0.50000012,  0.50000012,  0.50000012,  0.50000012,  0.50000012,\n",
       "          0.50000012,  0.50000012]]),\n",
       " array([[ 0.49999979,  0.49999979,  0.49999979,  0.49999979,  0.49999979,\n",
       "          0.49999979,  0.49999979,  0.49999979,  0.49999979,  0.49999979,\n",
       "          0.49999979,  0.49999979,  0.49999979,  0.49999979,  0.49999979,\n",
       "          0.49999979,  0.49999979,  0.49999979,  0.49999979,  0.49999979,\n",
       "          0.49999979,  0.49999979],\n",
       "        [ 0.50000021,  0.50000021,  0.50000021,  0.50000021,  0.50000021,\n",
       "          0.50000021,  0.50000021,  0.50000021,  0.50000021,  0.50000021,\n",
       "          0.50000021,  0.50000021,  0.50000021,  0.50000021,  0.50000021,\n",
       "          0.50000021,  0.50000021,  0.50000021,  0.50000021,  0.50000021,\n",
       "          0.50000021,  0.50000021]]),\n",
       " array([[ 0.4999998,  0.4999998,  0.4999998,  0.4999998,  0.4999998,\n",
       "          0.4999998,  0.4999998,  0.4999998,  0.4999998,  0.4999998,\n",
       "          0.4999998,  0.4999998,  0.4999998,  0.4999998,  0.4999998,\n",
       "          0.4999998,  0.4999998,  0.4999998,  0.4999998,  0.4999998,\n",
       "          0.4999998,  0.4999998],\n",
       "        [ 0.5000002,  0.5000002,  0.5000002,  0.5000002,  0.5000002,\n",
       "          0.5000002,  0.5000002,  0.5000002,  0.5000002,  0.5000002,\n",
       "          0.5000002,  0.5000002,  0.5000002,  0.5000002,  0.5000002,\n",
       "          0.5000002,  0.5000002,  0.5000002,  0.5000002,  0.5000002,\n",
       "          0.5000002,  0.5000002]]),\n",
       " array([[ 0.49999975,  0.49999975,  0.49999975,  0.49999975,  0.49999975,\n",
       "          0.49999975,  0.49999975,  0.49999975,  0.49999975,  0.49999975,\n",
       "          0.49999975,  0.49999975,  0.49999975,  0.49999975,  0.49999975,\n",
       "          0.49999975,  0.49999975,  0.49999975,  0.49999975,  0.49999975,\n",
       "          0.49999975,  0.49999975],\n",
       "        [ 0.50000025,  0.50000025,  0.50000025,  0.50000025,  0.50000025,\n",
       "          0.50000025,  0.50000025,  0.50000025,  0.50000025,  0.50000025,\n",
       "          0.50000025,  0.50000025,  0.50000025,  0.50000025,  0.50000025,\n",
       "          0.50000025,  0.50000025,  0.50000025,  0.50000025,  0.50000025,\n",
       "          0.50000025,  0.50000025]]),\n",
       " array([[ 0.49999966,  0.49999966,  0.49999966,  0.49999966,  0.49999966,\n",
       "          0.49999966,  0.49999966,  0.49999966,  0.49999966,  0.49999966,\n",
       "          0.49999966,  0.49999966,  0.49999966,  0.49999966,  0.49999966,\n",
       "          0.49999966,  0.49999966,  0.49999966,  0.49999966,  0.49999966,\n",
       "          0.49999966,  0.49999966],\n",
       "        [ 0.50000034,  0.50000034,  0.50000034,  0.50000034,  0.50000034,\n",
       "          0.50000034,  0.50000034,  0.50000034,  0.50000034,  0.50000034,\n",
       "          0.50000034,  0.50000034,  0.50000034,  0.50000034,  0.50000034,\n",
       "          0.50000034,  0.50000034,  0.50000034,  0.50000034,  0.50000034,\n",
       "          0.50000034,  0.50000034]]),\n",
       " array([[ 0.49999967,  0.49999967,  0.49999967,  0.49999967,  0.49999967,\n",
       "          0.49999967,  0.49999967,  0.49999967,  0.49999967,  0.49999967,\n",
       "          0.49999967,  0.49999967,  0.49999967,  0.49999967,  0.49999967,\n",
       "          0.49999967,  0.49999967,  0.49999967,  0.49999967,  0.49999967,\n",
       "          0.49999967,  0.49999967],\n",
       "        [ 0.50000033,  0.50000033,  0.50000033,  0.50000033,  0.50000033,\n",
       "          0.50000033,  0.50000033,  0.50000033,  0.50000033,  0.50000033,\n",
       "          0.50000033,  0.50000033,  0.50000033,  0.50000033,  0.50000033,\n",
       "          0.50000033,  0.50000033,  0.50000033,  0.50000033,  0.50000033,\n",
       "          0.50000033,  0.50000033]])]"
      ]
     },
     "execution_count": 333,
     "metadata": {},
     "output_type": "execute_result"
    }
   ],
   "source": [
    "np_vals[key]"
   ]
  },
  {
   "cell_type": "code",
   "execution_count": 336,
   "metadata": {
    "scrolled": true
   },
   "outputs": [
    {
     "data": {
      "text/plain": [
       "[array([[ 0.04545455,  0.04545455,  0.04545455,  0.04545455,  0.04545455,\n",
       "          0.04545455,  0.04545455,  0.04545455,  0.04545455,  0.04545455,\n",
       "          0.04545455,  0.04545455,  0.04545455,  0.04545455,  0.04545455,\n",
       "          0.04545455,  0.04545455,  0.04545455,  0.04545455,  0.04545455,\n",
       "          0.04545455,  0.04545455],\n",
       "        [ 0.04545455,  0.04545455,  0.04545455,  0.04545455,  0.04545455,\n",
       "          0.04545455,  0.04545455,  0.04545455,  0.04545455,  0.04545455,\n",
       "          0.04545455,  0.04545455,  0.04545455,  0.04545455,  0.04545455,\n",
       "          0.04545455,  0.04545455,  0.04545455,  0.04545455,  0.04545455,\n",
       "          0.04545455,  0.04545455]], dtype=float32),\n",
       " array([[ 0.04545455,  0.04545455,  0.04545455,  0.04545455,  0.04545455,\n",
       "          0.04545455,  0.04545455,  0.04545455,  0.04545455,  0.04545455,\n",
       "          0.04545455,  0.04545455,  0.04545455,  0.04545455,  0.04545455,\n",
       "          0.04545455,  0.04545455,  0.04545455,  0.04545455,  0.04545455,\n",
       "          0.04545455,  0.04545455],\n",
       "        [ 0.04545455,  0.04545455,  0.04545455,  0.04545455,  0.04545455,\n",
       "          0.04545455,  0.04545455,  0.04545455,  0.04545455,  0.04545455,\n",
       "          0.04545455,  0.04545455,  0.04545455,  0.04545455,  0.04545455,\n",
       "          0.04545455,  0.04545455,  0.04545455,  0.04545455,  0.04545455,\n",
       "          0.04545455,  0.04545455]], dtype=float32),\n",
       " array([[ 0.04545455,  0.04545455,  0.04545455,  0.04545455,  0.04545455,\n",
       "          0.04545455,  0.04545455,  0.04545455,  0.04545455,  0.04545455,\n",
       "          0.04545455,  0.04545455,  0.04545455,  0.04545455,  0.04545455,\n",
       "          0.04545455,  0.04545455,  0.04545455,  0.04545455,  0.04545455,\n",
       "          0.04545455,  0.04545455],\n",
       "        [ 0.04545455,  0.04545455,  0.04545455,  0.04545455,  0.04545455,\n",
       "          0.04545455,  0.04545455,  0.04545455,  0.04545455,  0.04545455,\n",
       "          0.04545455,  0.04545455,  0.04545455,  0.04545455,  0.04545455,\n",
       "          0.04545455,  0.04545455,  0.04545455,  0.04545455,  0.04545455,\n",
       "          0.04545455,  0.04545455]], dtype=float32),\n",
       " array([[ 0.04545455,  0.04545455,  0.04545455,  0.04545455,  0.04545455,\n",
       "          0.04545455,  0.04545455,  0.04545455,  0.04545455,  0.04545455,\n",
       "          0.04545455,  0.04545455,  0.04545455,  0.04545455,  0.04545455,\n",
       "          0.04545455,  0.04545455,  0.04545455,  0.04545455,  0.04545455,\n",
       "          0.04545455,  0.04545455],\n",
       "        [ 0.04545455,  0.04545455,  0.04545455,  0.04545455,  0.04545455,\n",
       "          0.04545455,  0.04545455,  0.04545455,  0.04545455,  0.04545455,\n",
       "          0.04545455,  0.04545455,  0.04545455,  0.04545455,  0.04545455,\n",
       "          0.04545455,  0.04545455,  0.04545455,  0.04545455,  0.04545455,\n",
       "          0.04545455,  0.04545455]], dtype=float32),\n",
       " array([[ 0.04545455,  0.04545455,  0.04545455,  0.04545455,  0.04545455,\n",
       "          0.04545455,  0.04545455,  0.04545455,  0.04545455,  0.04545455,\n",
       "          0.04545455,  0.04545455,  0.04545455,  0.04545455,  0.04545455,\n",
       "          0.04545455,  0.04545455,  0.04545455,  0.04545455,  0.04545455,\n",
       "          0.04545455,  0.04545455],\n",
       "        [ 0.04545455,  0.04545455,  0.04545455,  0.04545455,  0.04545455,\n",
       "          0.04545455,  0.04545455,  0.04545455,  0.04545455,  0.04545455,\n",
       "          0.04545455,  0.04545455,  0.04545455,  0.04545455,  0.04545455,\n",
       "          0.04545455,  0.04545455,  0.04545455,  0.04545455,  0.04545455,\n",
       "          0.04545455,  0.04545455]], dtype=float32),\n",
       " array([[ 0.04545455,  0.04545455,  0.04545455,  0.04545455,  0.04545455,\n",
       "          0.04545455,  0.04545455,  0.04545455,  0.04545455,  0.04545455,\n",
       "          0.04545455,  0.04545455,  0.04545455,  0.04545455,  0.04545455,\n",
       "          0.04545455,  0.04545455,  0.04545455,  0.04545455,  0.04545455,\n",
       "          0.04545455,  0.04545455],\n",
       "        [ 0.04545455,  0.04545455,  0.04545455,  0.04545455,  0.04545455,\n",
       "          0.04545455,  0.04545455,  0.04545455,  0.04545455,  0.04545455,\n",
       "          0.04545455,  0.04545455,  0.04545455,  0.04545455,  0.04545455,\n",
       "          0.04545455,  0.04545455,  0.04545455,  0.04545455,  0.04545455,\n",
       "          0.04545455,  0.04545455]], dtype=float32),\n",
       " array([[ 0.04545455,  0.04545455,  0.04545455,  0.04545455,  0.04545455,\n",
       "          0.04545455,  0.04545455,  0.04545455,  0.04545455,  0.04545455,\n",
       "          0.04545455,  0.04545455,  0.04545455,  0.04545455,  0.04545455,\n",
       "          0.04545455,  0.04545455,  0.04545455,  0.04545455,  0.04545455,\n",
       "          0.04545455,  0.04545455],\n",
       "        [ 0.04545455,  0.04545455,  0.04545455,  0.04545455,  0.04545455,\n",
       "          0.04545455,  0.04545455,  0.04545455,  0.04545455,  0.04545455,\n",
       "          0.04545455,  0.04545455,  0.04545455,  0.04545455,  0.04545455,\n",
       "          0.04545455,  0.04545455,  0.04545455,  0.04545455,  0.04545455,\n",
       "          0.04545455,  0.04545455]], dtype=float32),\n",
       " array([[ 0.04545455,  0.04545455,  0.04545455,  0.04545455,  0.04545455,\n",
       "          0.04545455,  0.04545455,  0.04545455,  0.04545455,  0.04545455,\n",
       "          0.04545455,  0.04545455,  0.04545455,  0.04545455,  0.04545455,\n",
       "          0.04545455,  0.04545455,  0.04545455,  0.04545455,  0.04545455,\n",
       "          0.04545455,  0.04545455],\n",
       "        [ 0.04545455,  0.04545455,  0.04545455,  0.04545455,  0.04545455,\n",
       "          0.04545455,  0.04545455,  0.04545455,  0.04545455,  0.04545455,\n",
       "          0.04545455,  0.04545455,  0.04545455,  0.04545455,  0.04545455,\n",
       "          0.04545455,  0.04545455,  0.04545455,  0.04545455,  0.04545455,\n",
       "          0.04545455,  0.04545455]], dtype=float32),\n",
       " array([[ 0.04545455,  0.04545455,  0.04545455,  0.04545455,  0.04545455,\n",
       "          0.04545455,  0.04545455,  0.04545455,  0.04545455,  0.04545455,\n",
       "          0.04545455,  0.04545455,  0.04545455,  0.04545455,  0.04545455,\n",
       "          0.04545455,  0.04545455,  0.04545455,  0.04545455,  0.04545455,\n",
       "          0.04545455,  0.04545455],\n",
       "        [ 0.04545455,  0.04545455,  0.04545455,  0.04545455,  0.04545455,\n",
       "          0.04545455,  0.04545455,  0.04545455,  0.04545455,  0.04545455,\n",
       "          0.04545455,  0.04545455,  0.04545455,  0.04545455,  0.04545455,\n",
       "          0.04545455,  0.04545455,  0.04545455,  0.04545455,  0.04545455,\n",
       "          0.04545455,  0.04545455]], dtype=float32),\n",
       " array([[ 0.04545455,  0.04545455,  0.04545455,  0.04545455,  0.04545455,\n",
       "          0.04545455,  0.04545455,  0.04545455,  0.04545455,  0.04545455,\n",
       "          0.04545455,  0.04545455,  0.04545455,  0.04545455,  0.04545455,\n",
       "          0.04545455,  0.04545455,  0.04545455,  0.04545455,  0.04545455,\n",
       "          0.04545455,  0.04545455],\n",
       "        [ 0.04545455,  0.04545455,  0.04545455,  0.04545455,  0.04545455,\n",
       "          0.04545455,  0.04545455,  0.04545455,  0.04545455,  0.04545455,\n",
       "          0.04545455,  0.04545455,  0.04545455,  0.04545455,  0.04545455,\n",
       "          0.04545455,  0.04545455,  0.04545455,  0.04545455,  0.04545455,\n",
       "          0.04545455,  0.04545455]], dtype=float32),\n",
       " array([[ 0.04545455,  0.04545455,  0.04545455,  0.04545455,  0.04545455,\n",
       "          0.04545455,  0.04545455,  0.04545455,  0.04545455,  0.04545455,\n",
       "          0.04545455,  0.04545455,  0.04545455,  0.04545455,  0.04545455,\n",
       "          0.04545455,  0.04545455,  0.04545455,  0.04545455,  0.04545455,\n",
       "          0.04545455,  0.04545455],\n",
       "        [ 0.04545455,  0.04545455,  0.04545455,  0.04545455,  0.04545455,\n",
       "          0.04545455,  0.04545455,  0.04545455,  0.04545455,  0.04545455,\n",
       "          0.04545455,  0.04545455,  0.04545455,  0.04545455,  0.04545455,\n",
       "          0.04545455,  0.04545455,  0.04545455,  0.04545455,  0.04545455,\n",
       "          0.04545455,  0.04545455]], dtype=float32),\n",
       " array([[ 0.04545455,  0.04545455,  0.04545455,  0.04545455,  0.04545455,\n",
       "          0.04545455,  0.04545455,  0.04545455,  0.04545455,  0.04545455,\n",
       "          0.04545455,  0.04545455,  0.04545455,  0.04545455,  0.04545455,\n",
       "          0.04545455,  0.04545455,  0.04545455,  0.04545455,  0.04545455,\n",
       "          0.04545455,  0.04545455],\n",
       "        [ 0.04545455,  0.04545455,  0.04545455,  0.04545455,  0.04545455,\n",
       "          0.04545455,  0.04545455,  0.04545455,  0.04545455,  0.04545455,\n",
       "          0.04545455,  0.04545455,  0.04545455,  0.04545455,  0.04545455,\n",
       "          0.04545455,  0.04545455,  0.04545455,  0.04545455,  0.04545455,\n",
       "          0.04545455,  0.04545455]], dtype=float32),\n",
       " array([[ 0.04545455,  0.04545455,  0.04545455,  0.04545455,  0.04545455,\n",
       "          0.04545455,  0.04545455,  0.04545455,  0.04545455,  0.04545455,\n",
       "          0.04545455,  0.04545455,  0.04545455,  0.04545455,  0.04545455,\n",
       "          0.04545455,  0.04545455,  0.04545455,  0.04545455,  0.04545455,\n",
       "          0.04545455,  0.04545455],\n",
       "        [ 0.04545455,  0.04545455,  0.04545455,  0.04545455,  0.04545455,\n",
       "          0.04545455,  0.04545455,  0.04545455,  0.04545455,  0.04545455,\n",
       "          0.04545455,  0.04545455,  0.04545455,  0.04545455,  0.04545455,\n",
       "          0.04545455,  0.04545455,  0.04545455,  0.04545455,  0.04545455,\n",
       "          0.04545455,  0.04545455]], dtype=float32),\n",
       " array([[ 0.04545455,  0.04545455,  0.04545455,  0.04545455,  0.04545455,\n",
       "          0.04545455,  0.04545455,  0.04545455,  0.04545455,  0.04545455,\n",
       "          0.04545455,  0.04545455,  0.04545455,  0.04545455,  0.04545455,\n",
       "          0.04545455,  0.04545455,  0.04545455,  0.04545455,  0.04545455,\n",
       "          0.04545455,  0.04545455],\n",
       "        [ 0.04545455,  0.04545455,  0.04545455,  0.04545455,  0.04545455,\n",
       "          0.04545455,  0.04545455,  0.04545455,  0.04545455,  0.04545455,\n",
       "          0.04545455,  0.04545455,  0.04545455,  0.04545455,  0.04545455,\n",
       "          0.04545455,  0.04545455,  0.04545455,  0.04545455,  0.04545455,\n",
       "          0.04545455,  0.04545455]], dtype=float32),\n",
       " array([[ 0.04545455,  0.04545455,  0.04545455,  0.04545455,  0.04545455,\n",
       "          0.04545455,  0.04545455,  0.04545455,  0.04545455,  0.04545455,\n",
       "          0.04545455,  0.04545455,  0.04545455,  0.04545455,  0.04545455,\n",
       "          0.04545455,  0.04545455,  0.04545455,  0.04545455,  0.04545455,\n",
       "          0.04545455,  0.04545455],\n",
       "        [ 0.04545455,  0.04545455,  0.04545455,  0.04545455,  0.04545455,\n",
       "          0.04545455,  0.04545455,  0.04545455,  0.04545455,  0.04545455,\n",
       "          0.04545455,  0.04545455,  0.04545455,  0.04545455,  0.04545455,\n",
       "          0.04545455,  0.04545455,  0.04545455,  0.04545455,  0.04545455,\n",
       "          0.04545455,  0.04545455]], dtype=float32),\n",
       " array([[ 0.04545455,  0.04545455,  0.04545455,  0.04545455,  0.04545455,\n",
       "          0.04545455,  0.04545455,  0.04545455,  0.04545455,  0.04545455,\n",
       "          0.04545455,  0.04545455,  0.04545455,  0.04545455,  0.04545455,\n",
       "          0.04545455,  0.04545455,  0.04545455,  0.04545455,  0.04545455,\n",
       "          0.04545455,  0.04545455],\n",
       "        [ 0.04545455,  0.04545455,  0.04545455,  0.04545455,  0.04545455,\n",
       "          0.04545455,  0.04545455,  0.04545455,  0.04545455,  0.04545455,\n",
       "          0.04545455,  0.04545455,  0.04545455,  0.04545455,  0.04545455,\n",
       "          0.04545455,  0.04545455,  0.04545455,  0.04545455,  0.04545455,\n",
       "          0.04545455,  0.04545455]], dtype=float32),\n",
       " array([[ 0.04545455,  0.04545455,  0.04545455,  0.04545455,  0.04545455,\n",
       "          0.04545455,  0.04545455,  0.04545455,  0.04545455,  0.04545455,\n",
       "          0.04545455,  0.04545455,  0.04545455,  0.04545455,  0.04545455,\n",
       "          0.04545455,  0.04545455,  0.04545455,  0.04545455,  0.04545455,\n",
       "          0.04545455,  0.04545455],\n",
       "        [ 0.04545455,  0.04545455,  0.04545455,  0.04545455,  0.04545455,\n",
       "          0.04545455,  0.04545455,  0.04545455,  0.04545455,  0.04545455,\n",
       "          0.04545455,  0.04545455,  0.04545455,  0.04545455,  0.04545455,\n",
       "          0.04545455,  0.04545455,  0.04545455,  0.04545455,  0.04545455,\n",
       "          0.04545455,  0.04545455]], dtype=float32),\n",
       " array([[ 0.04545455,  0.04545455,  0.04545455,  0.04545455,  0.04545455,\n",
       "          0.04545455,  0.04545455,  0.04545455,  0.04545455,  0.04545455,\n",
       "          0.04545455,  0.04545455,  0.04545455,  0.04545455,  0.04545455,\n",
       "          0.04545455,  0.04545455,  0.04545455,  0.04545455,  0.04545455,\n",
       "          0.04545455,  0.04545455],\n",
       "        [ 0.04545455,  0.04545455,  0.04545455,  0.04545455,  0.04545455,\n",
       "          0.04545455,  0.04545455,  0.04545455,  0.04545455,  0.04545455,\n",
       "          0.04545455,  0.04545455,  0.04545455,  0.04545455,  0.04545455,\n",
       "          0.04545455,  0.04545455,  0.04545455,  0.04545455,  0.04545455,\n",
       "          0.04545455,  0.04545455]], dtype=float32),\n",
       " array([[ 0.04545455,  0.04545455,  0.04545455,  0.04545455,  0.04545455,\n",
       "          0.04545455,  0.04545455,  0.04545455,  0.04545455,  0.04545455,\n",
       "          0.04545455,  0.04545455,  0.04545455,  0.04545455,  0.04545455,\n",
       "          0.04545455,  0.04545455,  0.04545455,  0.04545455,  0.04545455,\n",
       "          0.04545455,  0.04545455],\n",
       "        [ 0.04545455,  0.04545455,  0.04545455,  0.04545455,  0.04545455,\n",
       "          0.04545455,  0.04545455,  0.04545455,  0.04545455,  0.04545455,\n",
       "          0.04545455,  0.04545455,  0.04545455,  0.04545455,  0.04545455,\n",
       "          0.04545455,  0.04545455,  0.04545455,  0.04545455,  0.04545455,\n",
       "          0.04545455,  0.04545455]], dtype=float32),\n",
       " array([[ 0.04545455,  0.04545455,  0.04545455,  0.04545455,  0.04545455,\n",
       "          0.04545455,  0.04545455,  0.04545455,  0.04545455,  0.04545455,\n",
       "          0.04545455,  0.04545455,  0.04545455,  0.04545455,  0.04545455,\n",
       "          0.04545455,  0.04545455,  0.04545455,  0.04545455,  0.04545455,\n",
       "          0.04545455,  0.04545455],\n",
       "        [ 0.04545455,  0.04545455,  0.04545455,  0.04545455,  0.04545455,\n",
       "          0.04545455,  0.04545455,  0.04545455,  0.04545455,  0.04545455,\n",
       "          0.04545455,  0.04545455,  0.04545455,  0.04545455,  0.04545455,\n",
       "          0.04545455,  0.04545455,  0.04545455,  0.04545455,  0.04545455,\n",
       "          0.04545455,  0.04545455]], dtype=float32)]"
      ]
     },
     "execution_count": 336,
     "metadata": {},
     "output_type": "execute_result"
    }
   ],
   "source": [
    "tf_vals[key]"
   ]
  },
  {
   "cell_type": "code",
   "execution_count": 218,
   "metadata": {},
   "outputs": [
    {
     "data": {
      "text/plain": [
       "{'batch_num_events': 130,\n",
       " 'events_in': array([[ 9,  9,  4,  4,  4,  4,  5,  4,  4, 10,  1,  9,  4,  9,  4,  9,  8,\n",
       "          8, 18,  7],\n",
       "        [ 4,  4,  4,  9, 10,  9, 12,  1,  6,  4,  8, 18,  8,  4,  4,  9,  4,\n",
       "         10, 11,  4]], dtype=int32),\n",
       " 'events_out': array([[ 9,  4,  4,  4,  4,  5,  4,  4, 10,  1,  9,  4,  9,  4,  9,  8,  8,\n",
       "         18,  7,  4],\n",
       "        [ 4,  4,  9, 10,  9, 12,  1,  6,  4,  8, 18,  8,  4,  4,  9,  4, 10,\n",
       "         11,  4,  9]], dtype=int32),\n",
       " 'initial_state': array([[ 0.,  0.,  0., ...,  0.,  0.,  0.],\n",
       "        [ 0.,  0.,  0., ...,  0.,  0.,  0.],\n",
       "        [ 0.,  0.,  0., ...,  0.,  0.,  0.],\n",
       "        ..., \n",
       "        [ 0.,  0.,  0., ...,  0.,  0.,  0.],\n",
       "        [ 0.,  0.,  0., ...,  0.,  0.,  0.],\n",
       "        [ 0.,  0.,  0., ...,  0.,  0.,  0.]]),\n",
       " 'initial_time': array([ 0.,  0.]),\n",
       " 'times_in': array([[ 0.03780895,  0.05659572,  0.0711524 ,  0.09084344,  0.1167087 ,\n",
       "          0.11749727,  0.11836644,  0.12978144,  0.14427023,  0.14588072,\n",
       "          0.17034163,  0.17376789,  0.19021592,  0.21238699,  0.21258176,\n",
       "          0.21540879,  0.21883103,  0.21883143,  0.21883258,  0.22609817],\n",
       "        [ 0.02668075,  0.03325118,  0.03622794,  0.08866453,  0.09788354,\n",
       "          0.0990687 ,  0.18555974,  0.1870842 ,  0.21152709,  0.21570823,\n",
       "          0.21883037,  0.21883269,  0.22277321,  0.22378501,  0.23709134,\n",
       "          0.26201022,  0.2624901 ,  0.27474064,  0.29912653,  0.30328643]]),\n",
       " 'times_out': array([[ 0.05659572,  0.0711524 ,  0.09084344,  0.1167087 ,  0.11749727,\n",
       "          0.11836644,  0.12978144,  0.14427023,  0.14588072,  0.17034163,\n",
       "          0.17376789,  0.19021592,  0.21238699,  0.21258176,  0.21540879,\n",
       "          0.21883103,  0.21883143,  0.21883258,  0.22609817,  0.25679366],\n",
       "        [ 0.03325118,  0.03622794,  0.08866453,  0.09788354,  0.0990687 ,\n",
       "          0.18555974,  0.1870842 ,  0.21152709,  0.21570823,  0.21883037,\n",
       "          0.21883269,  0.22277321,  0.22378501,  0.23709134,  0.26201022,\n",
       "          0.2624901 ,  0.27474064,  0.29912653,  0.30328643,  0.31445738]])}"
      ]
     },
     "execution_count": 218,
     "metadata": {},
     "output_type": "execute_result"
    }
   ],
   "source": [
    "np_batch"
   ]
  },
  {
   "cell_type": "code",
   "execution_count": 137,
   "metadata": {},
   "outputs": [
    {
     "data": {
      "text/plain": [
       "(2,)"
      ]
     },
     "execution_count": 137,
     "metadata": {},
     "output_type": "execute_result"
    }
   ],
   "source": [
    "f_d[rmtpp_mdl.events_in][:, 0].shape"
   ]
  },
  {
   "cell_type": "code",
   "execution_count": 135,
   "metadata": {},
   "outputs": [
    {
     "data": {
      "text/plain": [
       "array([[ 0.00208864, -0.0195967 , -0.01328186,  0.00196861],\n",
       "       [-0.01012831,  0.00314247, -0.00908024, -0.01412304]])"
      ]
     },
     "execution_count": 135,
     "metadata": {},
     "output_type": "execute_result"
    }
   ],
   "source": [
    "Wem[f_d[rmtpp_mdl.events_in][:, 0], :]"
   ]
  },
  {
   "cell_type": "code",
   "execution_count": 144,
   "metadata": {},
   "outputs": [
    {
     "data": {
      "text/plain": [
       "array([[-0.00234153, -0.00234137,  0.01579213,  0.00767435],\n",
       "       [-0.00469474,  0.0054256 , -0.00463418, -0.0046573 ],\n",
       "       [ 0.        ,  0.        ,  0.        ,  0.        ],\n",
       "       [ 0.        ,  0.        ,  0.        ,  0.        ]], dtype=float32)"
      ]
     },
     "execution_count": 144,
     "metadata": {},
     "output_type": "execute_result"
    }
   ],
   "source": [
    "# embedding_lookup fails silently on out of bounds access\n",
    "rmtpp_mdl.sess.run(tf.nn.embedding_lookup(rmtpp_mdl.Wem, [1, 2, -1, 1000]))"
   ]
  },
  {
   "cell_type": "code",
   "execution_count": 148,
   "metadata": {},
   "outputs": [
    {
     "data": {
      "text/plain": [
       "<tf.Tensor 'Const:0' shape=(16, 23) dtype=int64>"
      ]
     },
     "execution_count": 148,
     "metadata": {},
     "output_type": "execute_result"
    }
   ],
   "source": []
  },
  {
   "cell_type": "code",
   "execution_count": 181,
   "metadata": {},
   "outputs": [
    {
     "data": {
      "text/plain": [
       "['RMTPP/initial_state:0',\n",
       " 'RMTPP/initial_time:0',\n",
       " 'RMTPP/events_in:0',\n",
       " 'RMTPP/events_out:0',\n",
       " 'RMTPP/times_in:0',\n",
       " 'RMTPP/times_out:0',\n",
       " 'RMTPP/bptt_events:0']"
      ]
     },
     "execution_count": 181,
     "metadata": {},
     "output_type": "execute_result"
    }
   ],
   "source": [
    "[x.name for x in f_d.keys()]"
   ]
  },
  {
   "cell_type": "code",
   "execution_count": null,
   "metadata": {
    "collapsed": true
   },
   "outputs": [],
   "source": []
  },
  {
   "cell_type": "code",
   "execution_count": 158,
   "metadata": {},
   "outputs": [
    {
     "data": {
      "text/plain": [
       "array([ 1, 25, 68])"
      ]
     },
     "execution_count": 158,
     "metadata": {},
     "output_type": "execute_result"
    }
   ],
   "source": [
    "rmtpp_mdl.sess.run(tf.gather_nd(tf.constant(np.arange(16 * 23).reshape(16, 23)), \n",
    "                                tf.concat([\n",
    "                                    tf.expand_dims(tf.range(3), -1),\n",
    "                                    tf.mod(tf.constant([[1], [2], [-1]]), 23)\n",
    "                                ], axis=1)\n",
    "                               )\n",
    "                  )"
   ]
  },
  {
   "cell_type": "code",
   "execution_count": 718,
   "metadata": {},
   "outputs": [
    {
     "name": "stdout",
     "output_type": "stream",
     "text": [
      "Starting epoch... 0\n",
      "Loss during batch 0 last BPTT = 1.814, lr = 0.09965\n",
      "Loss during batch 10 last BPTT = -1.230, lr = 0.09629\n",
      "Loss during batch 20 last BPTT = -1.384, lr = 0.09315\n",
      "Loss during batch 30 last BPTT = -1.347, lr = 0.09021\n",
      "Loss during batch 40 last BPTT = -1.528, lr = 0.08745\n",
      "Loss during batch 50 last BPTT = -1.733, lr = 0.08485\n",
      "Loss during batch 60 last BPTT = -1.395, lr = 0.08241\n",
      "Loss during batch 70 last BPTT = -1.251, lr = 0.08010\n",
      "Loss during batch 80 last BPTT = -1.414, lr = 0.07791\n",
      "Loss on last epoch = -1.3227, new lr = 0.07770, global_step = 2870\n",
      "Model saved at ./save.rmtpp/model.ckpt\n",
      "Running evaluation on training data: ...\n",
      "** MAE = 0.010; valid = 377855, ACC = 0.435\n",
      "CPU times: user 4min 29s, sys: 53.5 s, total: 5min 22s\n",
      "Wall time: 10min 15s\n"
     ]
    }
   ],
   "source": [
    "%%time\n",
    "rmtpp_mdl.train(training_data=data, restart=False, \n",
    "                with_summaries=True, num_epochs=1, with_evals=True)"
   ]
  },
  {
   "cell_type": "code",
   "execution_count": 387,
   "metadata": {},
   "outputs": [
    {
     "name": "stdout",
     "output_type": "stream",
     "text": [
      "Restoring from ./save.rmtpp/model.ckpt-2870\n",
      "INFO:tensorflow:Restoring parameters from ./save.rmtpp/model.ckpt-2870\n",
      "Starting epoch... 1\n",
      "Loss during batch 0 last BPTT = -1.392, lr = 0.07749\n",
      "Loss during batch 10 last BPTT = -1.508, lr = 0.07544\n",
      "Loss during batch 20 last BPTT = -1.447, lr = 0.07350\n",
      "Loss during batch 30 last BPTT = -1.491, lr = 0.07166\n",
      "Loss during batch 40 last BPTT = -1.496, lr = 0.06991\n",
      "Loss during batch 50 last BPTT = -1.659, lr = 0.06824\n",
      "Loss during batch 60 last BPTT = -1.482, lr = 0.06664\n",
      "Loss during batch 70 last BPTT = -1.268, lr = 0.06513\n",
      "Loss during batch 80 last BPTT = -1.485, lr = 0.06367\n",
      "Loss on last epoch = -1.4179, new lr = 0.06353, global_step = 5740\n",
      "Starting epoch... 2\n",
      "Loss during batch 0 last BPTT = -1.439, lr = 0.06339\n",
      "Loss during batch 10 last BPTT = -1.355, lr = 0.06202\n",
      "Loss during batch 20 last BPTT = -1.375, lr = 0.06070\n",
      "Loss during batch 30 last BPTT = -1.532, lr = 0.05944\n",
      "Loss during batch 40 last BPTT = -1.392, lr = 0.05822\n",
      "Loss during batch 50 last BPTT = -1.592, lr = 0.05706\n",
      "Loss during batch 60 last BPTT = -1.570, lr = 0.05594\n",
      "Loss during batch 70 last BPTT = -1.346, lr = 0.05487\n",
      "Loss during batch 80 last BPTT = -1.430, lr = 0.05384\n",
      "Loss on last epoch = -1.4483, new lr = 0.05373, global_step = 8610\n",
      "Starting epoch... 3\n",
      "Loss during batch 0 last BPTT = -1.733, lr = 0.05363\n",
      "Loss during batch 10 last BPTT = -1.473, lr = 0.05265\n",
      "Loss during batch 20 last BPTT = -1.403, lr = 0.05169\n",
      "Loss during batch 30 last BPTT = -1.654, lr = 0.05077\n",
      "Loss during batch 40 last BPTT = -1.487, lr = 0.04989\n",
      "Loss during batch 50 last BPTT = -1.430, lr = 0.04903\n",
      "Loss during batch 60 last BPTT = -1.439, lr = 0.04820\n",
      "Loss during batch 70 last BPTT = -1.462, lr = 0.04740\n",
      "Loss during batch 80 last BPTT = -1.378, lr = 0.04663\n",
      "Loss on last epoch = -1.4499, new lr = 0.04655, global_step = 11480\n",
      "Starting epoch... 4\n",
      "Loss during batch 0 last BPTT = -1.397, lr = 0.04648\n",
      "Loss during batch 10 last BPTT = -1.459, lr = 0.04574\n",
      "Loss during batch 20 last BPTT = -1.427, lr = 0.04501\n",
      "Loss during batch 30 last BPTT = -1.457, lr = 0.04432\n",
      "Loss during batch 40 last BPTT = -1.484, lr = 0.04364\n",
      "Loss during batch 50 last BPTT = -1.547, lr = 0.04298\n",
      "Loss during batch 60 last BPTT = -0.999, lr = 0.04235\n",
      "Loss during batch 70 last BPTT = -1.715, lr = 0.04173\n",
      "Loss during batch 80 last BPTT = -1.225, lr = 0.04113\n",
      "Loss on last epoch = -1.4592, new lr = 0.04107, global_step = 14350\n",
      "Starting epoch... 5\n",
      "Loss during batch 0 last BPTT = -1.762, lr = 0.04101\n",
      "Loss during batch 10 last BPTT = -1.618, lr = 0.04043\n",
      "Loss during batch 20 last BPTT = -1.508, lr = 0.03986\n",
      "Loss during batch 30 last BPTT = -1.421, lr = 0.03932\n",
      "Loss during batch 40 last BPTT = -1.507, lr = 0.03878\n",
      "Loss during batch 50 last BPTT = -1.338, lr = 0.03826\n",
      "Loss during batch 60 last BPTT = -1.300, lr = 0.03776\n",
      "Loss during batch 70 last BPTT = -1.281, lr = 0.03726\n",
      "Loss during batch 80 last BPTT = -1.509, lr = 0.03678\n",
      "Loss on last epoch = -1.4653, new lr = 0.03674, global_step = 17220\n",
      "Starting epoch... 6\n",
      "Loss during batch 0 last BPTT = -1.367, lr = 0.03669\n",
      "Loss during batch 10 last BPTT = -1.421, lr = 0.03623\n",
      "Loss during batch 20 last BPTT = -1.373, lr = 0.03577\n",
      "Loss during batch 30 last BPTT = -1.571, lr = 0.03533\n",
      "Loss during batch 40 last BPTT = -1.624, lr = 0.03490\n",
      "Loss during batch 50 last BPTT = -1.497, lr = 0.03448\n",
      "Loss during batch 60 last BPTT = -1.464, lr = 0.03407\n",
      "Loss during batch 70 last BPTT = -1.580, lr = 0.03366\n",
      "Loss during batch 80 last BPTT = -1.292, lr = 0.03327\n",
      "Loss on last epoch = 16004.2917, new lr = 0.03323, global_step = 20090\n",
      "Starting epoch... 7\n",
      "Loss during batch 0 last BPTT = -1.445, lr = 0.03320\n",
      "Loss during batch 10 last BPTT = -1.640, lr = 0.03281\n",
      "Loss during batch 20 last BPTT = -1.182, lr = 0.03244\n",
      "Loss during batch 30 last BPTT = -1.493, lr = 0.03208\n",
      "Loss during batch 40 last BPTT = -1.660, lr = 0.03172\n",
      "Loss during batch 50 last BPTT = -1.437, lr = 0.03137\n",
      "Loss during batch 60 last BPTT = -1.565, lr = 0.03103\n",
      "Loss during batch 70 last BPTT = -1.568, lr = 0.03070\n",
      "Loss during batch 80 last BPTT = -1.407, lr = 0.03037\n",
      "Loss on last epoch = -1.4914, new lr = 0.03034, global_step = 22960\n",
      "Starting epoch... 8\n",
      "Loss during batch 0 last BPTT = -1.581, lr = 0.03031\n",
      "Loss during batch 10 last BPTT = -1.430, lr = 0.02999\n",
      "Loss during batch 20 last BPTT = -1.468, lr = 0.02968\n",
      "Loss during batch 30 last BPTT = -1.249, lr = 0.02937\n",
      "Loss during batch 40 last BPTT = -1.864, lr = 0.02907\n",
      "Loss during batch 50 last BPTT = -1.535, lr = 0.02878\n",
      "Loss during batch 60 last BPTT = -1.402, lr = 0.02849\n",
      "Loss during batch 70 last BPTT = -1.477, lr = 0.02821\n",
      "Loss during batch 80 last BPTT = -1.688, lr = 0.02794\n",
      "Loss on last epoch = -1.5154, new lr = 0.02791, global_step = 25830\n",
      "Starting epoch... 9\n",
      "Loss during batch 0 last BPTT = -1.307, lr = 0.02788\n",
      "Loss during batch 10 last BPTT = -1.399, lr = 0.02761\n",
      "Loss during batch 20 last BPTT = -1.619, lr = 0.02735\n",
      "Loss during batch 30 last BPTT = -1.703, lr = 0.02709\n",
      "Loss during batch 40 last BPTT = -1.529, lr = 0.02683\n",
      "Loss during batch 50 last BPTT = -1.736, lr = 0.02659\n",
      "Loss during batch 60 last BPTT = -1.566, lr = 0.02634\n",
      "Loss during batch 70 last BPTT = -1.497, lr = 0.02610\n",
      "Loss during batch 80 last BPTT = -1.294, lr = 0.02586\n",
      "Loss on last epoch = -1.5080, new lr = 0.02584, global_step = 28700\n",
      "Starting epoch... 10\n",
      "Loss during batch 0 last BPTT = -1.505, lr = 0.02582\n",
      "Loss during batch 10 last BPTT = -1.504, lr = 0.02559\n",
      "Loss during batch 20 last BPTT = -1.581, lr = 0.02536\n",
      "Loss during batch 30 last BPTT = -1.472, lr = 0.02514\n",
      "Loss during batch 40 last BPTT = -1.307, lr = 0.02492\n",
      "Loss during batch 50 last BPTT = -1.445, lr = 0.02470\n",
      "Loss during batch 60 last BPTT = -1.635, lr = 0.02449\n",
      "Loss during batch 70 last BPTT = -1.339, lr = 0.02428\n",
      "Loss during batch 80 last BPTT = -1.690, lr = 0.02408\n",
      "Loss on last epoch = -1.5497, new lr = 0.02406, global_step = 31570\n",
      "Model saved at ./save.rmtpp/model.ckpt\n",
      "Running evaluation on training data: ...\n"
     ]
    },
    {
     "name": "stderr",
     "output_type": "stream",
     "text": [
      "/home/utkarshu/prog/work/tf_rmtpp/src/tf_rmtpp/rmtpp_core.py:571: RuntimeWarning: overflow encountered in exp\n",
      "  C = np.exp(np.dot(h_i, Vt) + bt).reshape(-1)\n",
      "/home/utkarshu/prog/work/tf_rmtpp/src/tf_rmtpp/rmtpp_core.py:53: RuntimeWarning: invalid value encountered in multiply\n",
      "  return c * t * np.exp(-w * t + (c / w) * (np.exp(-w * t) - 1))\n",
      "/home/utkarshu/prog/work/tf_rmtpp/src/tf_rmtpp/rmtpp_core.py:571: RuntimeWarning: overflow encountered in exp\n",
      "  C = np.exp(np.dot(h_i, Vt) + bt).reshape(-1)\n",
      "/home/utkarshu/prog/work/tf_rmtpp/src/tf_rmtpp/rmtpp_core.py:53: RuntimeWarning: invalid value encountered in multiply\n",
      "  return c * t * np.exp(-w * t + (c / w) * (np.exp(-w * t) - 1))\n",
      "/home/utkarshu/prog/work/tf_rmtpp/src/tf_rmtpp/rmtpp_core.py:571: RuntimeWarning: overflow encountered in exp\n",
      "  C = np.exp(np.dot(h_i, Vt) + bt).reshape(-1)\n",
      "/home/utkarshu/prog/work/tf_rmtpp/src/tf_rmtpp/rmtpp_core.py:571: RuntimeWarning: overflow encountered in exp\n",
      "  C = np.exp(np.dot(h_i, Vt) + bt).reshape(-1)\n",
      "/home/utkarshu/prog/work/tf_rmtpp/src/tf_rmtpp/rmtpp_core.py:53: RuntimeWarning: invalid value encountered in multiply\n",
      "  return c * t * np.exp(-w * t + (c / w) * (np.exp(-w * t) - 1))\n",
      "/home/utkarshu/miniconda3/lib/python3.6/site-packages/scipy/integrate/quadpack.py:364: IntegrationWarning: The occurrence of roundoff error is detected, which prevents \n",
      "  the requested tolerance from being achieved.  The error may be \n",
      "  underestimated.\n",
      "  warnings.warn(msg, IntegrationWarning)\n",
      "/home/utkarshu/prog/work/tf_rmtpp/src/tf_rmtpp/rmtpp_core.py:53: RuntimeWarning: invalid value encountered in multiply\n",
      "  return c * t * np.exp(-w * t + (c / w) * (np.exp(-w * t) - 1))\n",
      "/home/utkarshu/prog/work/tf_rmtpp/src/tf_rmtpp/rmtpp_core.py:571: RuntimeWarning: overflow encountered in exp\n",
      "  C = np.exp(np.dot(h_i, Vt) + bt).reshape(-1)\n",
      "/home/utkarshu/miniconda3/lib/python3.6/site-packages/scipy/integrate/quadpack.py:364: IntegrationWarning: The occurrence of roundoff error is detected, which prevents \n",
      "  the requested tolerance from being achieved.  The error may be \n",
      "  underestimated.\n",
      "  warnings.warn(msg, IntegrationWarning)\n",
      "/home/utkarshu/miniconda3/lib/python3.6/site-packages/scipy/integrate/quadpack.py:364: IntegrationWarning: The occurrence of roundoff error is detected, which prevents \n",
      "  the requested tolerance from being achieved.  The error may be \n",
      "  underestimated.\n",
      "  warnings.warn(msg, IntegrationWarning)\n",
      "/home/utkarshu/prog/work/tf_rmtpp/src/tf_rmtpp/rmtpp_core.py:571: RuntimeWarning: overflow encountered in exp\n",
      "  C = np.exp(np.dot(h_i, Vt) + bt).reshape(-1)\n",
      "/home/utkarshu/prog/work/tf_rmtpp/src/tf_rmtpp/rmtpp_core.py:53: RuntimeWarning: invalid value encountered in multiply\n",
      "  return c * t * np.exp(-w * t + (c / w) * (np.exp(-w * t) - 1))\n",
      "/home/utkarshu/prog/work/tf_rmtpp/src/tf_rmtpp/rmtpp_core.py:53: RuntimeWarning: invalid value encountered in multiply\n",
      "  return c * t * np.exp(-w * t + (c / w) * (np.exp(-w * t) - 1))\n",
      "/home/utkarshu/prog/work/tf_rmtpp/src/tf_rmtpp/rmtpp_core.py:571: RuntimeWarning: overflow encountered in exp\n",
      "  C = np.exp(np.dot(h_i, Vt) + bt).reshape(-1)\n",
      "/home/utkarshu/prog/work/tf_rmtpp/src/tf_rmtpp/rmtpp_core.py:571: RuntimeWarning: overflow encountered in exp\n",
      "  C = np.exp(np.dot(h_i, Vt) + bt).reshape(-1)\n",
      "/home/utkarshu/miniconda3/lib/python3.6/site-packages/scipy/integrate/quadpack.py:364: IntegrationWarning: The occurrence of roundoff error is detected, which prevents \n",
      "  the requested tolerance from being achieved.  The error may be \n",
      "  underestimated.\n",
      "  warnings.warn(msg, IntegrationWarning)\n",
      "/home/utkarshu/miniconda3/lib/python3.6/site-packages/scipy/integrate/quadpack.py:364: IntegrationWarning: The occurrence of roundoff error is detected, which prevents \n",
      "  the requested tolerance from being achieved.  The error may be \n",
      "  underestimated.\n",
      "  warnings.warn(msg, IntegrationWarning)\n",
      "/home/utkarshu/prog/work/tf_rmtpp/src/tf_rmtpp/rmtpp_core.py:571: RuntimeWarning: overflow encountered in exp\n",
      "  C = np.exp(np.dot(h_i, Vt) + bt).reshape(-1)\n",
      "/home/utkarshu/prog/work/tf_rmtpp/src/tf_rmtpp/rmtpp_core.py:53: RuntimeWarning: invalid value encountered in multiply\n",
      "  return c * t * np.exp(-w * t + (c / w) * (np.exp(-w * t) - 1))\n",
      "/home/utkarshu/prog/work/tf_rmtpp/src/tf_rmtpp/rmtpp_core.py:571: RuntimeWarning: overflow encountered in exp\n",
      "  C = np.exp(np.dot(h_i, Vt) + bt).reshape(-1)\n",
      "/home/utkarshu/miniconda3/lib/python3.6/site-packages/scipy/integrate/quadpack.py:364: IntegrationWarning: The occurrence of roundoff error is detected, which prevents \n",
      "  the requested tolerance from being achieved.  The error may be \n",
      "  underestimated.\n",
      "  warnings.warn(msg, IntegrationWarning)\n",
      "/home/utkarshu/prog/work/tf_rmtpp/src/tf_rmtpp/rmtpp_core.py:53: RuntimeWarning: invalid value encountered in multiply\n",
      "  return c * t * np.exp(-w * t + (c / w) * (np.exp(-w * t) - 1))\n",
      "/home/utkarshu/prog/work/tf_rmtpp/src/tf_rmtpp/rmtpp_core.py:571: RuntimeWarning: overflow encountered in exp\n",
      "  C = np.exp(np.dot(h_i, Vt) + bt).reshape(-1)\n",
      "/home/utkarshu/prog/work/tf_rmtpp/src/tf_rmtpp/rmtpp_core.py:53: RuntimeWarning: invalid value encountered in multiply\n",
      "  return c * t * np.exp(-w * t + (c / w) * (np.exp(-w * t) - 1))\n",
      "/home/utkarshu/miniconda3/lib/python3.6/site-packages/scipy/integrate/quadpack.py:364: IntegrationWarning: The occurrence of roundoff error is detected, which prevents \n",
      "  the requested tolerance from being achieved.  The error may be \n",
      "  underestimated.\n",
      "  warnings.warn(msg, IntegrationWarning)\n",
      "/home/utkarshu/prog/work/tf_rmtpp/src/tf_rmtpp/rmtpp_core.py:53: RuntimeWarning: invalid value encountered in multiply\n",
      "  return c * t * np.exp(-w * t + (c / w) * (np.exp(-w * t) - 1))\n",
      "/home/utkarshu/miniconda3/lib/python3.6/site-packages/scipy/integrate/quadpack.py:364: IntegrationWarning: The occurrence of roundoff error is detected, which prevents \n",
      "  the requested tolerance from being achieved.  The error may be \n",
      "  underestimated.\n",
      "  warnings.warn(msg, IntegrationWarning)\n",
      "/home/utkarshu/miniconda3/lib/python3.6/site-packages/scipy/integrate/quadpack.py:364: IntegrationWarning: The occurrence of roundoff error is detected, which prevents \n",
      "  the requested tolerance from being achieved.  The error may be \n",
      "  underestimated.\n",
      "  warnings.warn(msg, IntegrationWarning)\n",
      "/home/utkarshu/prog/work/tf_rmtpp/src/tf_rmtpp/rmtpp_core.py:53: RuntimeWarning: invalid value encountered in multiply\n",
      "  return c * t * np.exp(-w * t + (c / w) * (np.exp(-w * t) - 1))\n",
      "/home/utkarshu/miniconda3/lib/python3.6/site-packages/scipy/integrate/quadpack.py:364: IntegrationWarning: The occurrence of roundoff error is detected, which prevents \n",
      "  the requested tolerance from being achieved.  The error may be \n",
      "  underestimated.\n",
      "  warnings.warn(msg, IntegrationWarning)\n",
      "/home/utkarshu/prog/work/tf_rmtpp/src/tf_rmtpp/rmtpp_core.py:571: RuntimeWarning: overflow encountered in exp\n",
      "  C = np.exp(np.dot(h_i, Vt) + bt).reshape(-1)\n",
      "/home/utkarshu/miniconda3/lib/python3.6/site-packages/scipy/integrate/quadpack.py:364: IntegrationWarning: The occurrence of roundoff error is detected, which prevents \n",
      "  the requested tolerance from being achieved.  The error may be \n",
      "  underestimated.\n",
      "  warnings.warn(msg, IntegrationWarning)\n",
      "/home/utkarshu/prog/work/tf_rmtpp/src/tf_rmtpp/rmtpp_core.py:571: RuntimeWarning: overflow encountered in exp\n",
      "  C = np.exp(np.dot(h_i, Vt) + bt).reshape(-1)\n",
      "/home/utkarshu/prog/work/tf_rmtpp/src/tf_rmtpp/rmtpp_core.py:571: RuntimeWarning: overflow encountered in exp\n",
      "  C = np.exp(np.dot(h_i, Vt) + bt).reshape(-1)\n",
      "/home/utkarshu/prog/work/tf_rmtpp/src/tf_rmtpp/rmtpp_core.py:571: RuntimeWarning: overflow encountered in exp\n",
      "  C = np.exp(np.dot(h_i, Vt) + bt).reshape(-1)\n",
      "/home/utkarshu/prog/work/tf_rmtpp/src/tf_rmtpp/rmtpp_core.py:53: RuntimeWarning: invalid value encountered in multiply\n",
      "  return c * t * np.exp(-w * t + (c / w) * (np.exp(-w * t) - 1))\n",
      "/home/utkarshu/prog/work/tf_rmtpp/src/tf_rmtpp/rmtpp_core.py:53: RuntimeWarning: invalid value encountered in multiply\n",
      "  return c * t * np.exp(-w * t + (c / w) * (np.exp(-w * t) - 1))\n",
      "/home/utkarshu/prog/work/tf_rmtpp/src/tf_rmtpp/rmtpp_core.py:53: RuntimeWarning: invalid value encountered in multiply\n",
      "  return c * t * np.exp(-w * t + (c / w) * (np.exp(-w * t) - 1))\n",
      "/home/utkarshu/prog/work/tf_rmtpp/src/tf_rmtpp/rmtpp_core.py:53: RuntimeWarning: invalid value encountered in multiply\n",
      "  return c * t * np.exp(-w * t + (c / w) * (np.exp(-w * t) - 1))\n"
     ]
    },
    {
     "name": "stderr",
     "output_type": "stream",
     "text": [
      "/home/utkarshu/prog/work/tf_rmtpp/src/tf_rmtpp/rmtpp_core.py:571: RuntimeWarning: overflow encountered in exp\n",
      "  C = np.exp(np.dot(h_i, Vt) + bt).reshape(-1)\n",
      "/home/utkarshu/prog/work/tf_rmtpp/src/tf_rmtpp/rmtpp_core.py:571: RuntimeWarning: overflow encountered in exp\n",
      "  C = np.exp(np.dot(h_i, Vt) + bt).reshape(-1)\n",
      "/home/utkarshu/miniconda3/lib/python3.6/site-packages/scipy/integrate/quadpack.py:364: IntegrationWarning: The occurrence of roundoff error is detected, which prevents \n",
      "  the requested tolerance from being achieved.  The error may be \n",
      "  underestimated.\n",
      "  warnings.warn(msg, IntegrationWarning)\n",
      "/home/utkarshu/prog/work/tf_rmtpp/src/tf_rmtpp/rmtpp_core.py:571: RuntimeWarning: overflow encountered in exp\n",
      "  C = np.exp(np.dot(h_i, Vt) + bt).reshape(-1)\n",
      "/home/utkarshu/miniconda3/lib/python3.6/site-packages/scipy/integrate/quadpack.py:364: IntegrationWarning: The occurrence of roundoff error is detected, which prevents \n",
      "  the requested tolerance from being achieved.  The error may be \n",
      "  underestimated.\n",
      "  warnings.warn(msg, IntegrationWarning)\n",
      "/home/utkarshu/miniconda3/lib/python3.6/site-packages/scipy/integrate/quadpack.py:364: IntegrationWarning: The occurrence of roundoff error is detected, which prevents \n",
      "  the requested tolerance from being achieved.  The error may be \n",
      "  underestimated.\n",
      "  warnings.warn(msg, IntegrationWarning)\n",
      "/home/utkarshu/prog/work/tf_rmtpp/src/tf_rmtpp/rmtpp_core.py:53: RuntimeWarning: invalid value encountered in multiply\n",
      "  return c * t * np.exp(-w * t + (c / w) * (np.exp(-w * t) - 1))\n",
      "/home/utkarshu/miniconda3/lib/python3.6/site-packages/scipy/integrate/quadpack.py:364: IntegrationWarning: The occurrence of roundoff error is detected, which prevents \n",
      "  the requested tolerance from being achieved.  The error may be \n",
      "  underestimated.\n",
      "  warnings.warn(msg, IntegrationWarning)\n",
      "/home/utkarshu/prog/work/tf_rmtpp/src/tf_rmtpp/rmtpp_core.py:53: RuntimeWarning: invalid value encountered in multiply\n",
      "  return c * t * np.exp(-w * t + (c / w) * (np.exp(-w * t) - 1))\n",
      "/home/utkarshu/prog/work/tf_rmtpp/src/tf_rmtpp/rmtpp_core.py:571: RuntimeWarning: overflow encountered in exp\n",
      "  C = np.exp(np.dot(h_i, Vt) + bt).reshape(-1)\n",
      "/home/utkarshu/miniconda3/lib/python3.6/site-packages/scipy/integrate/quadpack.py:364: IntegrationWarning: The occurrence of roundoff error is detected, which prevents \n",
      "  the requested tolerance from being achieved.  The error may be \n",
      "  underestimated.\n",
      "  warnings.warn(msg, IntegrationWarning)\n",
      "/home/utkarshu/prog/work/tf_rmtpp/src/tf_rmtpp/rmtpp_core.py:53: RuntimeWarning: invalid value encountered in multiply\n",
      "  return c * t * np.exp(-w * t + (c / w) * (np.exp(-w * t) - 1))\n",
      "/home/utkarshu/prog/work/tf_rmtpp/src/tf_rmtpp/rmtpp_core.py:53: RuntimeWarning: invalid value encountered in multiply\n",
      "  return c * t * np.exp(-w * t + (c / w) * (np.exp(-w * t) - 1))\n",
      "/home/utkarshu/miniconda3/lib/python3.6/site-packages/scipy/integrate/quadpack.py:364: IntegrationWarning: The occurrence of roundoff error is detected, which prevents \n",
      "  the requested tolerance from being achieved.  The error may be \n",
      "  underestimated.\n",
      "  warnings.warn(msg, IntegrationWarning)\n",
      "/home/utkarshu/miniconda3/lib/python3.6/site-packages/scipy/integrate/quadpack.py:364: IntegrationWarning: The occurrence of roundoff error is detected, which prevents \n",
      "  the requested tolerance from being achieved.  The error may be \n",
      "  underestimated.\n",
      "  warnings.warn(msg, IntegrationWarning)\n",
      "/home/utkarshu/miniconda3/lib/python3.6/site-packages/scipy/integrate/quadpack.py:364: IntegrationWarning: The occurrence of roundoff error is detected, which prevents \n",
      "  the requested tolerance from being achieved.  The error may be \n",
      "  underestimated.\n",
      "  warnings.warn(msg, IntegrationWarning)\n",
      "/home/utkarshu/prog/work/tf_rmtpp/src/tf_rmtpp/rmtpp_core.py:571: RuntimeWarning: overflow encountered in exp\n",
      "  C = np.exp(np.dot(h_i, Vt) + bt).reshape(-1)\n",
      "/home/utkarshu/prog/work/tf_rmtpp/src/tf_rmtpp/rmtpp_core.py:571: RuntimeWarning: overflow encountered in exp\n",
      "  C = np.exp(np.dot(h_i, Vt) + bt).reshape(-1)\n",
      "/home/utkarshu/prog/work/tf_rmtpp/src/tf_rmtpp/rmtpp_core.py:571: RuntimeWarning: overflow encountered in exp\n",
      "  C = np.exp(np.dot(h_i, Vt) + bt).reshape(-1)\n",
      "/home/utkarshu/prog/work/tf_rmtpp/src/tf_rmtpp/rmtpp_core.py:571: RuntimeWarning: overflow encountered in exp\n",
      "  C = np.exp(np.dot(h_i, Vt) + bt).reshape(-1)\n",
      "/home/utkarshu/prog/work/tf_rmtpp/src/tf_rmtpp/rmtpp_core.py:571: RuntimeWarning: overflow encountered in exp\n",
      "  C = np.exp(np.dot(h_i, Vt) + bt).reshape(-1)\n",
      "/home/utkarshu/prog/work/tf_rmtpp/src/tf_rmtpp/rmtpp_core.py:571: RuntimeWarning: overflow encountered in exp\n",
      "  C = np.exp(np.dot(h_i, Vt) + bt).reshape(-1)\n",
      "/home/utkarshu/prog/work/tf_rmtpp/src/tf_rmtpp/rmtpp_core.py:53: RuntimeWarning: invalid value encountered in multiply\n",
      "  return c * t * np.exp(-w * t + (c / w) * (np.exp(-w * t) - 1))\n",
      "/home/utkarshu/prog/work/tf_rmtpp/src/tf_rmtpp/rmtpp_core.py:53: RuntimeWarning: invalid value encountered in multiply\n",
      "  return c * t * np.exp(-w * t + (c / w) * (np.exp(-w * t) - 1))\n",
      "/home/utkarshu/prog/work/tf_rmtpp/src/tf_rmtpp/rmtpp_core.py:53: RuntimeWarning: invalid value encountered in multiply\n",
      "  return c * t * np.exp(-w * t + (c / w) * (np.exp(-w * t) - 1))\n",
      "/home/utkarshu/prog/work/tf_rmtpp/src/tf_rmtpp/rmtpp_core.py:571: RuntimeWarning: overflow encountered in exp\n",
      "  C = np.exp(np.dot(h_i, Vt) + bt).reshape(-1)\n",
      "/home/utkarshu/prog/work/tf_rmtpp/src/tf_rmtpp/rmtpp_core.py:53: RuntimeWarning: invalid value encountered in multiply\n",
      "  return c * t * np.exp(-w * t + (c / w) * (np.exp(-w * t) - 1))\n",
      "/home/utkarshu/miniconda3/lib/python3.6/site-packages/scipy/integrate/quadpack.py:364: IntegrationWarning: The occurrence of roundoff error is detected, which prevents \n",
      "  the requested tolerance from being achieved.  The error may be \n",
      "  underestimated.\n",
      "  warnings.warn(msg, IntegrationWarning)\n",
      "/home/utkarshu/miniconda3/lib/python3.6/site-packages/scipy/integrate/quadpack.py:364: IntegrationWarning: The occurrence of roundoff error is detected, which prevents \n",
      "  the requested tolerance from being achieved.  The error may be \n",
      "  underestimated.\n",
      "  warnings.warn(msg, IntegrationWarning)\n",
      "/home/utkarshu/prog/work/tf_rmtpp/src/tf_rmtpp/rmtpp_core.py:53: RuntimeWarning: invalid value encountered in multiply\n",
      "  return c * t * np.exp(-w * t + (c / w) * (np.exp(-w * t) - 1))\n",
      "/home/utkarshu/prog/work/tf_rmtpp/src/tf_rmtpp/rmtpp_core.py:53: RuntimeWarning: invalid value encountered in multiply\n",
      "  return c * t * np.exp(-w * t + (c / w) * (np.exp(-w * t) - 1))\n",
      "/home/utkarshu/miniconda3/lib/python3.6/site-packages/scipy/integrate/quadpack.py:364: IntegrationWarning: The occurrence of roundoff error is detected, which prevents \n",
      "  the requested tolerance from being achieved.  The error may be \n",
      "  underestimated.\n",
      "  warnings.warn(msg, IntegrationWarning)\n",
      "/home/utkarshu/miniconda3/lib/python3.6/site-packages/scipy/integrate/quadpack.py:364: IntegrationWarning: The occurrence of roundoff error is detected, which prevents \n",
      "  the requested tolerance from being achieved.  The error may be \n",
      "  underestimated.\n",
      "  warnings.warn(msg, IntegrationWarning)\n",
      "/home/utkarshu/prog/work/tf_rmtpp/src/tf_rmtpp/rmtpp_core.py:53: RuntimeWarning: invalid value encountered in multiply\n",
      "  return c * t * np.exp(-w * t + (c / w) * (np.exp(-w * t) - 1))\n",
      "/home/utkarshu/miniconda3/lib/python3.6/site-packages/scipy/integrate/quadpack.py:364: IntegrationWarning: The occurrence of roundoff error is detected, which prevents \n",
      "  the requested tolerance from being achieved.  The error may be \n",
      "  underestimated.\n",
      "  warnings.warn(msg, IntegrationWarning)\n",
      "/home/utkarshu/miniconda3/lib/python3.6/site-packages/scipy/integrate/quadpack.py:364: IntegrationWarning: The occurrence of roundoff error is detected, which prevents \n",
      "  the requested tolerance from being achieved.  The error may be \n",
      "  underestimated.\n",
      "  warnings.warn(msg, IntegrationWarning)\n",
      "/home/utkarshu/miniconda3/lib/python3.6/site-packages/scipy/integrate/quadpack.py:364: IntegrationWarning: The occurrence of roundoff error is detected, which prevents \n",
      "  the requested tolerance from being achieved.  The error may be \n",
      "  underestimated.\n",
      "  warnings.warn(msg, IntegrationWarning)\n",
      "/home/utkarshu/prog/work/tf_rmtpp/src/tf_rmtpp/rmtpp_core.py:571: RuntimeWarning: overflow encountered in exp\n",
      "  C = np.exp(np.dot(h_i, Vt) + bt).reshape(-1)\n"
     ]
    },
    {
     "name": "stderr",
     "output_type": "stream",
     "text": [
      "/home/utkarshu/prog/work/tf_rmtpp/src/tf_rmtpp/rmtpp_core.py:571: RuntimeWarning: overflow encountered in exp\n",
      "  C = np.exp(np.dot(h_i, Vt) + bt).reshape(-1)\n",
      "/home/utkarshu/prog/work/tf_rmtpp/src/tf_rmtpp/rmtpp_core.py:53: RuntimeWarning: invalid value encountered in multiply\n",
      "  return c * t * np.exp(-w * t + (c / w) * (np.exp(-w * t) - 1))\n",
      "/home/utkarshu/prog/work/tf_rmtpp/src/tf_rmtpp/rmtpp_core.py:53: RuntimeWarning: invalid value encountered in multiply\n",
      "  return c * t * np.exp(-w * t + (c / w) * (np.exp(-w * t) - 1))\n",
      "/home/utkarshu/miniconda3/lib/python3.6/site-packages/scipy/integrate/quadpack.py:364: IntegrationWarning: The occurrence of roundoff error is detected, which prevents \n",
      "  the requested tolerance from being achieved.  The error may be \n",
      "  underestimated.\n",
      "  warnings.warn(msg, IntegrationWarning)\n",
      "/home/utkarshu/miniconda3/lib/python3.6/site-packages/scipy/integrate/quadpack.py:364: IntegrationWarning: The occurrence of roundoff error is detected, which prevents \n",
      "  the requested tolerance from being achieved.  The error may be \n",
      "  underestimated.\n",
      "  warnings.warn(msg, IntegrationWarning)\n",
      "/home/utkarshu/prog/work/tf_rmtpp/src/tf_rmtpp/rmtpp_core.py:571: RuntimeWarning: overflow encountered in exp\n",
      "  C = np.exp(np.dot(h_i, Vt) + bt).reshape(-1)\n",
      "/home/utkarshu/prog/work/tf_rmtpp/src/tf_rmtpp/rmtpp_core.py:53: RuntimeWarning: invalid value encountered in multiply\n",
      "  return c * t * np.exp(-w * t + (c / w) * (np.exp(-w * t) - 1))\n",
      "/home/utkarshu/miniconda3/lib/python3.6/site-packages/scipy/integrate/quadpack.py:364: IntegrationWarning: The occurrence of roundoff error is detected, which prevents \n",
      "  the requested tolerance from being achieved.  The error may be \n",
      "  underestimated.\n",
      "  warnings.warn(msg, IntegrationWarning)\n",
      "/home/utkarshu/prog/work/tf_rmtpp/src/tf_rmtpp/rmtpp_core.py:571: RuntimeWarning: overflow encountered in exp\n",
      "  C = np.exp(np.dot(h_i, Vt) + bt).reshape(-1)\n",
      "/home/utkarshu/prog/work/tf_rmtpp/src/tf_rmtpp/rmtpp_core.py:53: RuntimeWarning: invalid value encountered in multiply\n",
      "  return c * t * np.exp(-w * t + (c / w) * (np.exp(-w * t) - 1))\n",
      "/home/utkarshu/miniconda3/lib/python3.6/site-packages/scipy/integrate/quadpack.py:364: IntegrationWarning: The occurrence of roundoff error is detected, which prevents \n",
      "  the requested tolerance from being achieved.  The error may be \n",
      "  underestimated.\n",
      "  warnings.warn(msg, IntegrationWarning)\n",
      "/home/utkarshu/prog/work/tf_rmtpp/src/tf_rmtpp/rmtpp_core.py:571: RuntimeWarning: overflow encountered in exp\n",
      "  C = np.exp(np.dot(h_i, Vt) + bt).reshape(-1)\n",
      "/home/utkarshu/prog/work/tf_rmtpp/src/tf_rmtpp/rmtpp_core.py:53: RuntimeWarning: invalid value encountered in multiply\n",
      "  return c * t * np.exp(-w * t + (c / w) * (np.exp(-w * t) - 1))\n",
      "/home/utkarshu/miniconda3/lib/python3.6/site-packages/scipy/integrate/quadpack.py:364: IntegrationWarning: The occurrence of roundoff error is detected, which prevents \n",
      "  the requested tolerance from being achieved.  The error may be \n",
      "  underestimated.\n",
      "  warnings.warn(msg, IntegrationWarning)\n",
      "/home/utkarshu/prog/work/tf_rmtpp/src/tf_rmtpp/rmtpp_core.py:571: RuntimeWarning: overflow encountered in exp\n",
      "  C = np.exp(np.dot(h_i, Vt) + bt).reshape(-1)\n",
      "/home/utkarshu/prog/work/tf_rmtpp/src/tf_rmtpp/rmtpp_core.py:53: RuntimeWarning: invalid value encountered in multiply\n",
      "  return c * t * np.exp(-w * t + (c / w) * (np.exp(-w * t) - 1))\n",
      "/home/utkarshu/miniconda3/lib/python3.6/site-packages/scipy/integrate/quadpack.py:364: IntegrationWarning: The occurrence of roundoff error is detected, which prevents \n",
      "  the requested tolerance from being achieved.  The error may be \n",
      "  underestimated.\n",
      "  warnings.warn(msg, IntegrationWarning)\n"
     ]
    },
    {
     "name": "stdout",
     "output_type": "stream",
     "text": [
      "** MAE = 0.014; valid = 108165, ACC = 0.001\n",
      "CPU times: user 35min 29s, sys: 4min 33s, total: 40min 2s\n",
      "Wall time: 35min 45s\n"
     ]
    }
   ],
   "source": [
    "%%time\n",
    "rmtpp_mdl.train(training_data=data, restart=True, with_summaries=True, num_epochs=10, with_evals=True)"
   ]
  },
  {
   "cell_type": "code",
   "execution_count": 388,
   "metadata": {},
   "outputs": [
    {
     "name": "stdout",
     "output_type": "stream",
     "text": [
      "Restoring from ./save.rmtpp/model.ckpt-31570\n",
      "INFO:tensorflow:Restoring parameters from ./save.rmtpp/model.ckpt-31570\n",
      "Starting epoch... 11\n",
      "Loss during batch 0 last BPTT = -1.462, lr = 0.02404\n",
      "Loss during batch 10 last BPTT = -1.679, lr = 0.02384\n",
      "Loss during batch 20 last BPTT = -1.373, lr = 0.02364\n",
      "Loss during batch 30 last BPTT = -1.710, lr = 0.02344\n",
      "Loss during batch 40 last BPTT = -1.640, lr = 0.02325\n",
      "Loss during batch 50 last BPTT = -1.360, lr = 0.02307\n",
      "Loss during batch 60 last BPTT = -1.509, lr = 0.02288\n",
      "Loss during batch 70 last BPTT = -1.593, lr = 0.02270\n",
      "Loss during batch 80 last BPTT = -1.368, lr = 0.02252\n",
      "Loss on last epoch = 38597887186223.0547, new lr = 0.02250, global_step = 34440\n",
      "Starting epoch... 12\n",
      "Loss during batch 0 last BPTT = -1.629, lr = 0.02248\n",
      "Loss during batch 10 last BPTT = -1.542, lr = 0.02231\n",
      "Loss during batch 20 last BPTT = -1.611, lr = 0.02214\n",
      "Loss during batch 30 last BPTT = -1.599, lr = 0.02197\n",
      "Loss during batch 40 last BPTT = -1.380, lr = 0.02180\n",
      "Loss during batch 50 last BPTT = -1.707, lr = 0.02163\n",
      "Loss during batch 60 last BPTT = -1.629, lr = 0.02147\n",
      "Loss during batch 70 last BPTT = -1.356, lr = 0.02131\n",
      "Loss during batch 80 last BPTT = -1.581, lr = 0.02115\n",
      "Loss on last epoch = -1.5741, new lr = 0.02114, global_step = 37310\n",
      "Starting epoch... 13\n",
      "Loss during batch 0 last BPTT = -1.530, lr = 0.02112\n",
      "Loss during batch 10 last BPTT = -1.680, lr = 0.02097\n",
      "Loss during batch 20 last BPTT = -1.644, lr = 0.02081\n",
      "Loss during batch 30 last BPTT = -1.550, lr = 0.02066\n",
      "Loss during batch 40 last BPTT = -1.677, lr = 0.02051\n",
      "Loss during batch 50 last BPTT = -1.843, lr = 0.02037\n",
      "Loss during batch 60 last BPTT = -1.673, lr = 0.02022\n",
      "Loss during batch 70 last BPTT = -1.600, lr = 0.02008\n",
      "Loss during batch 80 last BPTT = -1.525, lr = 0.01994\n",
      "Loss on last epoch = -1.6027, new lr = 0.01993, global_step = 40180\n",
      "Starting epoch... 14\n",
      "Loss during batch 0 last BPTT = -1.415, lr = 0.01991\n",
      "Loss during batch 10 last BPTT = -1.478, lr = 0.01978\n",
      "Loss during batch 20 last BPTT = -1.470, lr = 0.01964\n",
      "Loss during batch 30 last BPTT = -1.486, lr = 0.01951\n",
      "Loss during batch 40 last BPTT = -1.653, lr = 0.01937\n",
      "Loss during batch 50 last BPTT = -1.534, lr = 0.01924\n",
      "Loss during batch 60 last BPTT = -1.434, lr = 0.01911\n",
      "Loss during batch 70 last BPTT = -1.371, lr = 0.01899\n",
      "Loss during batch 80 last BPTT = -1.482, lr = 0.01886\n",
      "Loss on last epoch = -1.5916, new lr = 0.01885, global_step = 43050\n",
      "Starting epoch... 15\n",
      "Loss during batch 0 last BPTT = -1.656, lr = 0.01884\n",
      "Loss during batch 10 last BPTT = -1.689, lr = 0.01871\n",
      "Loss during batch 20 last BPTT = -1.459, lr = 0.01859\n",
      "Loss during batch 30 last BPTT = -1.839, lr = 0.01847\n",
      "Loss during batch 40 last BPTT = -1.805, lr = 0.01835\n",
      "Loss during batch 50 last BPTT = -1.475, lr = 0.01824\n",
      "Loss during batch 60 last BPTT = -1.345, lr = 0.01812\n",
      "Loss during batch 70 last BPTT = -1.682, lr = 0.01801\n",
      "Loss during batch 80 last BPTT = -1.591, lr = 0.01789\n",
      "Loss on last epoch = -1.5929, new lr = 0.01788, global_step = 45920\n",
      "Starting epoch... 16\n",
      "Loss during batch 0 last BPTT = -1.399, lr = 0.01787\n",
      "Loss during batch 10 last BPTT = -1.454, lr = 0.01776\n",
      "Loss during batch 20 last BPTT = -1.799, lr = 0.01765\n",
      "Loss during batch 30 last BPTT = -1.465, lr = 0.01754\n",
      "Loss during batch 40 last BPTT = -1.444, lr = 0.01744\n",
      "Loss during batch 50 last BPTT = -1.820, lr = 0.01733\n",
      "Loss during batch 60 last BPTT = -1.667, lr = 0.01723\n",
      "Loss during batch 70 last BPTT = -1.523, lr = 0.01712\n",
      "Loss during batch 80 last BPTT = -1.467, lr = 0.01702\n",
      "Loss on last epoch = 774004925834945.7500, new lr = 0.01701, global_step = 48790\n",
      "Starting epoch... 17\n",
      "Loss during batch 0 last BPTT = -1.675, lr = 0.01700\n",
      "Loss during batch 10 last BPTT = -1.637, lr = 0.01690\n",
      "Loss during batch 20 last BPTT = -1.525, lr = 0.01680\n",
      "Loss during batch 30 last BPTT = -1.520, lr = 0.01670\n",
      "Loss during batch 40 last BPTT = -1.640, lr = 0.01660\n",
      "Loss during batch 50 last BPTT = -1.445, lr = 0.01651\n",
      "Loss during batch 60 last BPTT = -1.529, lr = 0.01641\n",
      "Loss during batch 70 last BPTT = -1.481, lr = 0.01632\n",
      "Loss during batch 80 last BPTT = -1.796, lr = 0.01623\n",
      "Loss on last epoch = -1.6100, new lr = 0.01622, global_step = 51660\n",
      "Starting epoch... 18\n",
      "Loss during batch 0 last BPTT = -1.518, lr = 0.01621\n",
      "Loss during batch 10 last BPTT = -1.456, lr = 0.01612\n",
      "Loss during batch 20 last BPTT = -1.547, lr = 0.01603\n",
      "Loss during batch 30 last BPTT = -1.618, lr = 0.01594\n",
      "Loss during batch 40 last BPTT = -1.735, lr = 0.01585\n",
      "Loss during batch 50 last BPTT = -1.503, lr = 0.01576\n",
      "Loss during batch 60 last BPTT = -1.628, lr = 0.01568\n",
      "Loss during batch 70 last BPTT = -1.673, lr = 0.01559\n",
      "Loss during batch 80 last BPTT = -1.544, lr = 0.01551\n",
      "Loss on last epoch = -1.6228, new lr = 0.01550, global_step = 54530\n",
      "Starting epoch... 19\n",
      "Loss during batch 0 last BPTT = -1.646, lr = 0.01549\n",
      "Loss during batch 10 last BPTT = -1.440, lr = 0.01540\n",
      "Loss during batch 20 last BPTT = -1.558, lr = 0.01532\n",
      "Loss during batch 30 last BPTT = -1.723, lr = 0.01524\n",
      "Loss during batch 40 last BPTT = -1.403, lr = 0.01516\n",
      "Loss during batch 50 last BPTT = -1.641, lr = 0.01508\n",
      "Loss during batch 60 last BPTT = -1.463, lr = 0.01500\n",
      "Loss during batch 70 last BPTT = -1.649, lr = 0.01492\n",
      "Loss during batch 80 last BPTT = -1.576, lr = 0.01484\n",
      "Loss on last epoch = 270318514574710.1875, new lr = 0.01484, global_step = 57400\n",
      "Starting epoch... 20\n",
      "Loss during batch 0 last BPTT = -1.585, lr = 0.01483\n",
      "Loss during batch 10 last BPTT = -1.338, lr = 0.01475\n",
      "Loss during batch 20 last BPTT = -1.295, lr = 0.01468\n",
      "Loss during batch 30 last BPTT = -1.724, lr = 0.01460\n",
      "Loss during batch 40 last BPTT = -1.563, lr = 0.01453\n",
      "Loss during batch 50 last BPTT = -1.650, lr = 0.01445\n",
      "Loss during batch 60 last BPTT = -1.566, lr = 0.01438\n",
      "Loss during batch 70 last BPTT = -1.675, lr = 0.01431\n",
      "Loss during batch 80 last BPTT = -1.446, lr = 0.01424\n",
      "Loss on last epoch = -1.5988, new lr = 0.01423, global_step = 60270\n",
      "Model saved at ./save.rmtpp/model.ckpt\n",
      "CPU times: user 35min 9s, sys: 4min 8s, total: 39min 18s\n",
      "Wall time: 18min 52s\n"
     ]
    }
   ],
   "source": [
    "%%time\n",
    "rmtpp_mdl.train(training_data=data, restart=True, with_summaries=True, num_epochs=10, with_evals=False)"
   ]
  },
  {
   "cell_type": "code",
   "execution_count": 389,
   "metadata": {},
   "outputs": [
    {
     "name": "stdout",
     "output_type": "stream",
     "text": [
      "Restoring from ./save.rmtpp/model.ckpt-60270\n",
      "INFO:tensorflow:Restoring parameters from ./save.rmtpp/model.ckpt-60270\n",
      "Starting epoch... 21\n",
      "Loss during batch 0 last BPTT = -1.546, lr = 0.01422\n",
      "Loss during batch 10 last BPTT = -1.776, lr = 0.01415\n",
      "Loss during batch 20 last BPTT = -1.781, lr = 0.01408\n",
      "Loss during batch 30 last BPTT = -1.555, lr = 0.01401\n",
      "Loss during batch 40 last BPTT = -1.728, lr = 0.01395\n",
      "Loss during batch 50 last BPTT = -1.795, lr = 0.01388\n",
      "Loss during batch 60 last BPTT = -1.690, lr = 0.01381\n",
      "Loss during batch 70 last BPTT = -1.575, lr = 0.01374\n",
      "Loss during batch 80 last BPTT = -1.488, lr = 0.01368\n",
      "Loss on last epoch = -1.5989, new lr = 0.01367, global_step = 63140\n",
      "Starting epoch... 22\n",
      "Loss during batch 0 last BPTT = -1.337, lr = 0.01367\n",
      "Loss during batch 10 last BPTT = -1.898, lr = 0.01360\n",
      "Loss during batch 20 last BPTT = -1.746, lr = 0.01354\n",
      "Loss during batch 30 last BPTT = -1.661, lr = 0.01347\n",
      "Loss during batch 40 last BPTT = -1.820, lr = 0.01341\n",
      "Loss during batch 50 last BPTT = -1.746, lr = 0.01335\n",
      "Loss during batch 60 last BPTT = -1.752, lr = 0.01328\n",
      "Loss during batch 70 last BPTT = -1.653, lr = 0.01322\n",
      "Loss during batch 80 last BPTT = -1.715, lr = 0.01316\n",
      "Loss on last epoch = -1.6067, new lr = 0.01316, global_step = 66010\n",
      "Starting epoch... 23\n",
      "Loss during batch 0 last BPTT = -1.407, lr = 0.01315\n",
      "Loss during batch 10 last BPTT = -1.674, lr = 0.01309\n",
      "Loss during batch 20 last BPTT = -1.572, lr = 0.01303\n",
      "Loss during batch 30 last BPTT = -1.569, lr = 0.01297\n",
      "Loss during batch 40 last BPTT = -1.409, lr = 0.01291\n",
      "Loss during batch 50 last BPTT = -1.618, lr = 0.01285\n",
      "Loss during batch 60 last BPTT = -1.677, lr = 0.01280\n",
      "Loss during batch 70 last BPTT = -1.624, lr = 0.01274\n",
      "Loss during batch 80 last BPTT = -1.826, lr = 0.01268\n",
      "Loss on last epoch = 109479859956319.4219, new lr = 0.01268, global_step = 68880\n",
      "Starting epoch... 24\n",
      "Loss during batch 0 last BPTT = -1.653, lr = 0.01267\n",
      "Loss during batch 10 last BPTT = -1.435, lr = 0.01262\n",
      "Loss during batch 20 last BPTT = -1.577, lr = 0.01256\n",
      "Loss during batch 30 last BPTT = -1.685, lr = 0.01251\n",
      "Loss during batch 40 last BPTT = -1.595, lr = 0.01245\n",
      "Loss during batch 50 last BPTT = -1.462, lr = 0.01240\n",
      "Loss during batch 60 last BPTT = -1.585, lr = 0.01234\n",
      "Loss during batch 70 last BPTT = -1.739, lr = 0.01229\n",
      "Loss during batch 80 last BPTT = -1.484, lr = 0.01224\n",
      "Loss on last epoch = -1.6166, new lr = 0.01223, global_step = 71750\n",
      "Starting epoch... 25\n",
      "Loss during batch 0 last BPTT = -1.473, lr = 0.01223\n",
      "Loss during batch 10 last BPTT = -1.484, lr = 0.01218\n",
      "Loss during batch 20 last BPTT = -1.643, lr = 0.01212\n",
      "Loss during batch 30 last BPTT = -1.675, lr = 0.01207\n",
      "Loss during batch 40 last BPTT = -1.745, lr = 0.01202\n",
      "Loss during batch 50 last BPTT = -1.667, lr = 0.01197\n",
      "Loss during batch 60 last BPTT = -1.885, lr = 0.01192\n",
      "Loss during batch 70 last BPTT = -1.332, lr = 0.01187\n",
      "Loss during batch 80 last BPTT = -1.610, lr = 0.01182\n",
      "Loss on last epoch = -1.6193, new lr = 0.01182, global_step = 74620\n",
      "Starting epoch... 26\n",
      "Loss during batch 0 last BPTT = -1.518, lr = 0.01181\n",
      "Loss during batch 10 last BPTT = -1.661, lr = 0.01176\n",
      "Loss during batch 20 last BPTT = -1.528, lr = 0.01172\n",
      "Loss during batch 30 last BPTT = -1.506, lr = 0.01167\n",
      "Loss during batch 40 last BPTT = -1.814, lr = 0.01162\n",
      "Loss during batch 50 last BPTT = -1.783, lr = 0.01157\n",
      "Loss during batch 60 last BPTT = -1.631, lr = 0.01153\n",
      "Loss during batch 70 last BPTT = -1.545, lr = 0.01148\n",
      "Loss during batch 80 last BPTT = -1.688, lr = 0.01143\n",
      "Loss on last epoch = 4071870.3554, new lr = 0.01143, global_step = 77490\n",
      "Starting epoch... 27\n",
      "Loss during batch 0 last BPTT = -1.659, lr = 0.01143\n",
      "Loss during batch 10 last BPTT = -1.454, lr = 0.01138\n",
      "Loss during batch 20 last BPTT = -1.576, lr = 0.01133\n",
      "Loss during batch 30 last BPTT = -1.785, lr = 0.01129\n",
      "Loss during batch 40 last BPTT = -1.690, lr = 0.01125\n",
      "Loss during batch 50 last BPTT = -1.751, lr = 0.01120\n",
      "Loss during batch 60 last BPTT = -1.655, lr = 0.01116\n",
      "Loss during batch 70 last BPTT = -1.513, lr = 0.01111\n",
      "Loss during batch 80 last BPTT = -1.958, lr = 0.01107\n",
      "Loss on last epoch = -1.6164, new lr = 0.01107, global_step = 80360\n",
      "Starting epoch... 28\n",
      "Loss during batch 0 last BPTT = -1.617, lr = 0.01106\n",
      "Loss during batch 10 last BPTT = -1.683, lr = 0.01102\n",
      "Loss during batch 20 last BPTT = -1.443, lr = 0.01098\n",
      "Loss during batch 30 last BPTT = -1.370, lr = 0.01094\n",
      "Loss during batch 40 last BPTT = -1.616, lr = 0.01089\n",
      "Loss during batch 50 last BPTT = -1.586, lr = 0.01085\n",
      "Loss during batch 60 last BPTT = -1.619, lr = 0.01081\n",
      "Loss during batch 70 last BPTT = -1.679, lr = 0.01077\n",
      "Loss during batch 80 last BPTT = -1.600, lr = 0.01073\n",
      "Loss on last epoch = 658433546315238.8750, new lr = 0.01073, global_step = 83230\n",
      "Starting epoch... 29\n",
      "Loss during batch 0 last BPTT = -1.880, lr = 0.01072\n",
      "Loss during batch 10 last BPTT = -1.717, lr = 0.01068\n",
      "Loss during batch 20 last BPTT = -1.641, lr = 0.01064\n",
      "Loss during batch 30 last BPTT = -1.381, lr = 0.01060\n",
      "Loss during batch 40 last BPTT = -1.916, lr = 0.01056\n",
      "Loss during batch 50 last BPTT = -1.516, lr = 0.01052\n",
      "Loss during batch 60 last BPTT = -1.565, lr = 0.01049\n",
      "Loss during batch 70 last BPTT = -1.716, lr = 0.01045\n",
      "Loss during batch 80 last BPTT = -1.553, lr = 0.01041\n",
      "Loss on last epoch = -1.6125, new lr = 0.01041, global_step = 86100\n",
      "Starting epoch... 30\n",
      "Loss during batch 0 last BPTT = -1.481, lr = 0.01040\n",
      "Loss during batch 10 last BPTT = -1.679, lr = 0.01036\n",
      "Loss during batch 20 last BPTT = -1.401, lr = 0.01033\n",
      "Loss during batch 30 last BPTT = -1.879, lr = 0.01029\n",
      "Loss during batch 40 last BPTT = -1.852, lr = 0.01025\n",
      "Loss during batch 50 last BPTT = -1.497, lr = 0.01022\n",
      "Loss during batch 60 last BPTT = -1.488, lr = 0.01018\n",
      "Loss during batch 70 last BPTT = -1.562, lr = 0.01014\n",
      "Loss during batch 80 last BPTT = -2.061, lr = 0.01011\n",
      "Loss on last epoch = -1.6280, new lr = 0.01010, global_step = 88970\n",
      "Model saved at ./save.rmtpp/model.ckpt\n",
      "CPU times: user 34min 55s, sys: 4min 1s, total: 38min 57s\n",
      "Wall time: 18min 42s\n"
     ]
    }
   ],
   "source": [
    "%%time\n",
    "rmtpp_mdl.train(training_data=data, restart=True, with_summaries=True, num_epochs=10, with_evals=False)"
   ]
  },
  {
   "cell_type": "code",
   "execution_count": 647,
   "metadata": {},
   "outputs": [
    {
     "data": {
      "text/plain": [
       "array([[ nan,  nan,  nan,  nan,  nan,  nan,  nan,  nan,  nan,  nan,  nan,\n",
       "         nan,  nan,  nan,  nan,  nan,  nan,  nan,  nan,  nan,  nan,  nan,\n",
       "         nan,  nan,  nan,  nan,  nan,  nan,  nan,  nan,  nan,  nan,  nan,\n",
       "         nan,  nan,  nan,  nan,  nan,  nan,  nan,  nan,  nan,  nan,  nan,\n",
       "         nan,  nan,  nan,  nan,  nan,  nan,  nan,  nan,  nan,  nan,  nan,\n",
       "         nan,  nan,  nan,  nan,  nan,  nan,  nan,  nan,  nan]], dtype=float32)"
      ]
     },
     "execution_count": 647,
     "metadata": {},
     "output_type": "execute_result"
    }
   ],
   "source": [
    "rmtpp_mdl.sess.run(rmtpp_mdl.bh)"
   ]
  },
  {
   "cell_type": "code",
   "execution_count": 514,
   "metadata": {},
   "outputs": [
    {
     "data": {
      "text/plain": [
       "0.013124610843665211"
      ]
     },
     "execution_count": 514,
     "metadata": {},
     "output_type": "execute_result"
    }
   ],
   "source": [
    "np.mean((data['train_time_out_seq'] - data['train_time_in_seq'])[data['train_event_in_seq'] > 0])"
   ]
  },
  {
   "cell_type": "code",
   "execution_count": 197,
   "metadata": {},
   "outputs": [
    {
     "name": "stdout",
     "output_type": "stream",
     "text": [
      "Restoring from ./save.rmtpp/model.ckpt-4389\n",
      "INFO:tensorflow:Restoring parameters from ./save.rmtpp/model.ckpt-4389\n",
      "Starting epoch... 11\n",
      "Loss during batch 0 last BPTT = -184487973179453389661792108544.000, lr = 0.06762\n",
      "Loss on last epoch = -184487973179453389661792108544.0000, new lr = 0.06762, global_step = 4788\n",
      "Starting epoch... 12\n",
      "Loss during batch 0 last BPTT = -187383577181241474737395204096.000, lr = 0.06585\n",
      "Loss on last epoch = -187383577181241474737395204096.0000, new lr = 0.06585, global_step = 5187\n",
      "Starting epoch... 13\n",
      "Loss during batch 0 last BPTT = -130741284654747086018544926720.000, lr = 0.06416\n",
      "Loss on last epoch = -130741284654747086018544926720.0000, new lr = 0.06416, global_step = 5586\n",
      "Starting epoch... 14\n",
      "Loss during batch 0 last BPTT = -152195260040927101385657286656.000, lr = 0.06256\n",
      "Loss on last epoch = -152195260040927101385657286656.0000, new lr = 0.06256, global_step = 5985\n",
      "Starting epoch... 15\n",
      "Loss during batch 0 last BPTT = -162345023409074357127176257536.000, lr = 0.06104\n",
      "Loss on last epoch = -162345023409074357127176257536.0000, new lr = 0.06104, global_step = 6384\n",
      "Starting epoch... 16\n",
      "Loss during batch 0 last BPTT = -205807379997454441934848262144.000, lr = 0.05958\n",
      "Loss on last epoch = -205807379997454441934848262144.0000, new lr = 0.05958, global_step = 6783\n",
      "Starting epoch... 17\n",
      "Loss during batch 0 last BPTT = -187231403650317211792310272000.000, lr = 0.05820\n",
      "Loss on last epoch = -187231403650317211792310272000.0000, new lr = 0.05820, global_step = 7182\n",
      "Starting epoch... 18\n",
      "Loss during batch 0 last BPTT = -165194272674686628996531093504.000, lr = 0.05688\n",
      "Loss on last epoch = -165194272674686628996531093504.0000, new lr = 0.05688, global_step = 7581\n",
      "Starting epoch... 19\n",
      "Loss during batch 0 last BPTT = -165607744244777511964635037696.000, lr = 0.05562\n",
      "Loss on last epoch = -165607744244777511964635037696.0000, new lr = 0.05562, global_step = 7980\n",
      "Starting epoch... 20\n",
      "Loss during batch 0 last BPTT = -152301872194271212464953622528.000, lr = 0.05441\n",
      "Loss on last epoch = -152301872194271212464953622528.0000, new lr = 0.05441, global_step = 8379\n",
      "Model saved at ./save.rmtpp/model.ckpt\n",
      "CPU times: user 4min 3s, sys: 2min 11s, total: 6min 14s\n",
      "Wall time: 2min 41s\n"
     ]
    }
   ],
   "source": [
    "%%time\n",
    "rmtpp_mdl.train(training_data=data, restart=True, with_summaries=True, num_epochs=10)"
   ]
  },
  {
   "cell_type": "code",
   "execution_count": 580,
   "metadata": {},
   "outputs": [
    {
     "name": "stdout",
     "output_type": "stream",
     "text": [
      "CPU times: user 7.95 s, sys: 5.35 s, total: 13.3 s\n",
      "Wall time: 6min 45s\n"
     ]
    }
   ],
   "source": [
    "%%time\n",
    "train_time_preds, train_events_preds = rmtpp_mdl.predict_train(data=data, \n",
    "                                                               single_threaded=False)"
   ]
  },
  {
   "cell_type": "code",
   "execution_count": 581,
   "metadata": {},
   "outputs": [
    {
     "name": "stdout",
     "output_type": "stream",
     "text": [
      "CPU times: user 2.44 s, sys: 3.27 s, total: 5.71 s\n",
      "Wall time: 2min\n"
     ]
    }
   ],
   "source": [
    "%%time\n",
    "test_time_preds, test_events_preds = rmtpp_mdl.predict_test(data=data, \n",
    "                                                            single_threaded=False)"
   ]
  },
  {
   "cell_type": "code",
   "execution_count": 447,
   "metadata": {},
   "outputs": [
    {
     "data": {
      "text/plain": [
       "array([ 0.02738013,  0.01602918,  0.02759087,  0.02933192,  0.03105356,\n",
       "        0.03656282,  0.05459098,  0.06327584,  0.06608187,  0.06938239,\n",
       "        0.07430207,  0.08015435,  0.08423739,  0.08486586,  0.09088981,\n",
       "        0.09156575,  0.09267612,  0.10201938,  0.10365391,  0.12228292,\n",
       "        0.12386437,  0.1264394 ,  0.12795465,  0.13031584,  0.15695599,\n",
       "        0.1669771 ,  0.1672006 ,  0.16915276,  0.17132413,  0.17204702,\n",
       "        0.17723013,  0.17967722,  0.18244779,  0.184943  ,  0.19656371,\n",
       "        0.21381454,  0.21672656,  0.22469257,  0.22745849,  0.22771935,\n",
       "        0.22326078,  0.23091319,  0.2383613 ,  0.24303566,  0.24523483,\n",
       "        0.2472588 ,  0.2483997 ,  0.25538281,  0.25638071,  0.26710355,\n",
       "        0.28346782,  0.29021445,  0.29539624,  0.29781487,  0.30148874,\n",
       "        0.31309213,  0.32341733,  0.33141566,  0.33217156,  0.33293195,\n",
       "        0.33346916,  0.33992742,  0.3401174 ,  0.34073554,  0.35013183,\n",
       "        0.35066851,  0.35177533,  0.35297293,  0.35546293,  0.36399207,\n",
       "        0.36621385,  0.36738833,  0.37138006,  0.37138951,  0.37497164,\n",
       "        0.37949376,  0.39961383,  0.4043934 ,  0.40598978,  0.40810866,\n",
       "        0.41196566,  0.41636545,  0.4218661 ,  0.43895696,  0.43977442,\n",
       "        0.44390312,  0.45046493,  0.46563339,  0.48137513,  0.48630269,\n",
       "        0.48908733,  0.51017808,  0.51647941,  0.52337138,  0.52593932,\n",
       "        0.54240155,  0.54240633,  0.54379351,  0.54460154,  0.56178842,\n",
       "        0.55965825,  0.56573494,  0.57058818,  0.57077831,  0.57161028,\n",
       "        0.57974344,  0.58866436,  0.59297603,  0.59872706,  0.60161356,\n",
       "        0.60821472,  0.60979747,  0.61814427,  0.61864814,  0.62735454,\n",
       "        0.62846807,  0.63050216,  0.63107761,  0.6322892 ,  0.63619628,\n",
       "        0.63667197,  0.63834616,  0.64583321,  0.64646149,  0.64794971,\n",
       "        0.64881541,  0.65463368,  0.65716743,  0.66545766,  0.67127216,\n",
       "        0.67135801,  0.67447715,  0.67892922,  0.68127102,  0.68442067,\n",
       "        0.68484378,  0.68691928,  0.68991404,  0.69409883,  0.69884083,\n",
       "        0.70645695,  0.70657631,  0.70915701,  0.71023658,  0.71592088,\n",
       "        0.71663376,  0.72247539,  0.73353839,  0.73795499,  0.7419955 ,\n",
       "        0.74311269,  0.74311758,  0.74365952,  0.75031066,  0.75635067,\n",
       "        0.76570911,  0.77010806,  0.77413649,  0.77422822,  0.79260252,\n",
       "        0.7941309 ,  0.79493938,  0.81217216,  0.81748105,  0.82037738,\n",
       "        0.82742828,  0.83021129,  0.83504641,  0.83522289,  0.83580789,\n",
       "        0.83648714,  0.84208628,  0.84220544,  0.84974461,  0.85040495,\n",
       "        0.85679092,  0.86406788,  0.86519499,  0.8674822 ,  0.86786232,\n",
       "        0.86866092,  0.87062004,  0.87748863,  0.87875298,  0.87960892,\n",
       "        0.88044049,  0.88074028,  0.8815003 ,  0.88407628,  0.88993854,\n",
       "        0.89083206,  0.89842119,  0.89949997,  0.90615549,  0.90721102,\n",
       "        0.90769619,  0.90955635,  0.91146298,  0.91213374,  0.91279931,\n",
       "        0.91591091,  0.91859623,  0.921126  ,  0.92387857,  0.92672167,\n",
       "        0.93097204,  0.93120491,  0.93908144,  0.94440344,  0.95333617,\n",
       "        0.96636151,  0.9673596 ,  0.96751639,  0.96786777,  0.97348205,\n",
       "        0.97474255,  0.97553606,  0.97674444,  0.97689651,  0.97717189,\n",
       "        0.97679767,  0.97782386,  0.98131826,  0.98614454,  0.98632605,\n",
       "        0.99029161,  0.99439855,  0.99714799,  1.00316133,  1.00615019,\n",
       "        0.01208244,  0.01208244,  0.01208244,  0.01208244,  0.01208244,\n",
       "        0.01208244,  0.01208244,  0.01208244,  0.01208244,  0.01208244,\n",
       "        0.01208244,  0.01208244,  0.01208244,  0.01208244,  0.01208244,\n",
       "        0.01208244,  0.01208244,  0.01208244,  0.01208244,  0.01208244,\n",
       "        0.01208244,  0.01208244,  0.01208244,  0.01208244,  0.01208244,\n",
       "        0.01208244,  0.01208244,  0.01208244,  0.01208244,  0.01208244,\n",
       "        0.01208244,  0.01208244,  0.01208244,  0.01208244,  0.01208244,\n",
       "        0.01208244,  0.01208244,  0.01208244,  0.01208244,  0.01208244,\n",
       "        0.01208244,  0.01208244,  0.01208244,  0.01208244,  0.01208244,\n",
       "        0.01208244,  0.01208244,  0.01208244,  0.01208244,  0.01208244,\n",
       "        0.01208244,  0.01208244,  0.01208244,  0.01208244,  0.01208244,\n",
       "        0.01208244,  0.01208244,  0.01208244,  0.01208244,  0.01208244,\n",
       "        0.01208244,  0.01208244,  0.01208244,  0.01208244,  0.01208244,\n",
       "        0.01208244,  0.01208244,  0.01208244,  0.01208244,  0.01208244,\n",
       "        0.01208244,  0.01208244,  0.01208244,  0.01208244,  0.01208244,\n",
       "        0.01208244,  0.01208244,  0.01208244,  0.01208244,  0.01208244,\n",
       "        0.01208244,  0.01208244,  0.01208244,  0.01208244,  0.01208244,\n",
       "        0.01208244,  0.01208244,  0.01208244,  0.01208244,  0.01208244,\n",
       "        0.01208244,  0.01208244,  0.01208244,  0.01208244,  0.01208244,\n",
       "        0.01208244,  0.01208244,  0.01208244,  0.01208244,  0.01208244,\n",
       "        0.01208244,  0.01208244,  0.01208244,  0.01208244,  0.01208244,\n",
       "        0.01208244,  0.01208244,  0.01208244,  0.01208244,  0.01208244,\n",
       "        0.01208244,  0.01208244,  0.01208244,  0.01208244,  0.01208244,\n",
       "        0.01208244,  0.01208244,  0.01208244,  0.01208244,  0.01208244,\n",
       "        0.01208244,  0.01208244,  0.01208244,  0.01208244,  0.01208244,\n",
       "        0.01208244,  0.01208244,  0.01208244,  0.01208244,  0.01208244,\n",
       "        0.01208244,  0.01208244,  0.01208244,  0.01208244,  0.01208244,\n",
       "        0.01208244,  0.01208244,  0.01208244,  0.01208244,  0.01208244,\n",
       "        0.01208244,  0.01208244,  0.01208244,  0.01208244,  0.01208244,\n",
       "        0.01208244,  0.01208244,  0.01208244,  0.01208244,  0.01208244,\n",
       "        0.01208244,  0.01208244,  0.01208244,  0.01208244,  0.01208244,\n",
       "        0.01208244,  0.01208244,  0.01208244,  0.01208244,  0.01208244,\n",
       "        0.01208244,  0.01208244,  0.01208244,  0.01208244,  0.01208244,\n",
       "        0.01208244,  0.01208244,  0.01208244,  0.01208244,  0.01208244,\n",
       "        0.01208244,  0.01208244,  0.01208244,  0.01208244,  0.01208244,\n",
       "        0.01208244,  0.01208244,  0.01208244,  0.01208244,  0.01208244,\n",
       "        0.01208244,  0.01208244,  0.01208244,  0.01208244,  0.01208244,\n",
       "        0.01208244,  0.01208244,  0.01208244,  0.01208244,  0.01208244,\n",
       "        0.01208244,  0.01208244,  0.01208244,  0.01208244,  0.01208244,\n",
       "        0.01208244,  0.01208244,  0.01208244,  0.01208244,  0.01208244,\n",
       "        0.01208244,  0.01208244,  0.01208244,  0.01208244,  0.01208244,\n",
       "        0.01208244,  0.01208244,  0.01208244,  0.01208244,  0.01208244,\n",
       "        0.01208244,  0.01208244,  0.01208244,  0.01208244,  0.01208244,\n",
       "        0.01208244,  0.01208244,  0.01208244,  0.01208244,  0.01208244,\n",
       "        0.01208244,  0.01208244,  0.01208244,  0.01208244,  0.01208244,\n",
       "        0.01208244,  0.01208244,  0.01208244,  0.01208244,  0.01208244,\n",
       "        0.01208244,  0.01208244,  0.01208244,  0.01208244,  0.01208244,\n",
       "        0.01208244,  0.01208244,  0.01208244,  0.01208244,  0.01208244,\n",
       "        0.01208244,  0.01208244,  0.01208244,  0.01208244,  0.01208244,\n",
       "        0.01208244,  0.01208244,  0.01208244,  0.01208244,  0.01208244,\n",
       "        0.01208244,  0.01208244,  0.01208244,  0.01208244,  0.01208244,\n",
       "        0.01208244,  0.01208244,  0.01208244,  0.01208244,  0.01208244,\n",
       "        0.01208244,  0.01208244,  0.01208244,  0.01208244,  0.01208244,\n",
       "        0.01208244,  0.01208244,  0.01208244,  0.01208244,  0.01208244,\n",
       "        0.01208244,  0.01208244,  0.01208244,  0.01208244,  0.01208244,\n",
       "        0.01208244,  0.01208244,  0.01208244,  0.01208244,  0.01208244,\n",
       "        0.01208244,  0.01208244,  0.01208244,  0.01208244,  0.01208244,\n",
       "        0.01208244,  0.01208244,  0.01208244,  0.01208244,  0.01208244,\n",
       "        0.01208244,  0.01208244,  0.01208244,  0.01208244,  0.01208244,\n",
       "        0.01208244,  0.01208244,  0.01208244,  0.01208244,  0.01208244,\n",
       "        0.01208244,  0.01208244,  0.01208244,  0.01208244,  0.01208244,\n",
       "        0.01208244,  0.01208244,  0.01208244,  0.01208244,  0.01208244,\n",
       "        0.01208244,  0.01208244,  0.01208244,  0.01208244,  0.01208244,\n",
       "        0.01208244,  0.01208244,  0.01208244,  0.01208244,  0.01208244,\n",
       "        0.01208244,  0.01208244,  0.01208244,  0.01208244,  0.01208244,\n",
       "        0.01208244,  0.01208244,  0.01208244,  0.01208244,  0.01208244,\n",
       "        0.01208244,  0.01208244,  0.01208244,  0.01208244,  0.01208244,\n",
       "        0.01208244,  0.01208244,  0.01208244,  0.01208244,  0.01208244,\n",
       "        0.01208244,  0.01208244,  0.01208244,  0.01208244,  0.01208244,\n",
       "        0.01208244,  0.01208244,  0.01208244,  0.01208244,  0.01208244,\n",
       "        0.01208244,  0.01208244,  0.01208244,  0.01208244,  0.01208244,\n",
       "        0.01208244,  0.01208244,  0.01208244,  0.01208244,  0.01208244,\n",
       "        0.01208244,  0.01208244,  0.01208244,  0.01208244,  0.01208244,\n",
       "        0.01208244,  0.01208244,  0.01208244,  0.01208244,  0.01208244,\n",
       "        0.01208244,  0.01208244,  0.01208244,  0.01208244,  0.01208244,\n",
       "        0.01208244,  0.01208244,  0.01208244,  0.01208244,  0.01208244,\n",
       "        0.01208244,  0.01208244,  0.01208244,  0.01208244,  0.01208244,\n",
       "        0.01208244,  0.01208244,  0.01208244,  0.01208244,  0.01208244,\n",
       "        0.01208244,  0.01208244,  0.01208244,  0.01208244,  0.01208244,\n",
       "        0.01208244,  0.01208244,  0.01208244,  0.01208244,  0.01208244,\n",
       "        0.01208244,  0.01208244,  0.01208244,  0.01208244,  0.01208244,\n",
       "        0.01208244,  0.01208244,  0.01208244,  0.01208244,  0.01208244,\n",
       "        0.01208244,  0.01208244,  0.01208244,  0.01208244,  0.01208244,\n",
       "        0.01208244,  0.01208244,  0.01208244,  0.01208244,  0.01208244,\n",
       "        0.01208244,  0.01208244,  0.01208244,  0.01208244,  0.01208244,\n",
       "        0.01208244,  0.01208244,  0.01208244,  0.01208244,  0.01208244,\n",
       "        0.01208244,  0.01208244,  0.01208244,  0.01208244,  0.01208244,\n",
       "        0.01208244,  0.01208244,  0.01208244,  0.01208244,  0.01208244,\n",
       "        0.01208244,  0.01208244,  0.01208244,  0.01208244,  0.01208244,\n",
       "        0.01208244,  0.01208244,  0.01208244,  0.01208244,  0.01208244,\n",
       "        0.01208244,  0.01208244,  0.01208244,  0.01208244,  0.01208244,\n",
       "        0.01208244,  0.01208244,  0.01208244,  0.01208244,  0.01208244,\n",
       "        0.01208244,  0.01208244,  0.01208244,  0.01208244,  0.01208244,\n",
       "        0.01208244,  0.01208244,  0.01208244,  0.01208244,  0.01208244,\n",
       "        0.01208244,  0.01208244,  0.01208244,  0.01208244,  0.01208244,\n",
       "        0.01208244,  0.01208244,  0.01208244,  0.01208244,  0.01208244,\n",
       "        0.01208244,  0.01208244,  0.01208244,  0.01208244,  0.01208244,\n",
       "        0.01208244,  0.01208244,  0.01208244,  0.01208244,  0.01208244])"
      ]
     },
     "execution_count": 447,
     "metadata": {},
     "output_type": "execute_result"
    }
   ],
   "source": [
    "test_time_preds[0]"
   ]
  },
  {
   "cell_type": "code",
   "execution_count": 32,
   "metadata": {},
   "outputs": [
    {
     "data": {
      "image/png": "[encoded data removed]",
      "text/plain": [
       "<matplotlib.figure.Figure at 0x7fe0f4b91dd8>"
      ]
     },
     "metadata": {},
     "output_type": "display_data"
    }
   ],
   "source": [
    "X = np.arange(0.01, 5, 0.1)\n",
    "c, w = 1.0, -1.0\n",
    "plt.plot(X, [tf_rmtpp.rmtpp_core.quad_func(t, c, w) / t for t in X])\n",
    "plt.yscale('log')"
   ]
  },
  {
   "cell_type": "code",
   "execution_count": 807,
   "metadata": {},
   "outputs": [
    {
     "data": {
      "text/plain": [
       "dict_keys(['train_event_in_seq', 'train_event_out_seq', 'train_time_in_seq', 'train_time_out_seq', 'test_event_in_seq', 'test_event_out_seq', 'test_time_in_seq', 'test_time_out_seq', 'num_categories'])"
      ]
     },
     "execution_count": 807,
     "metadata": {},
     "output_type": "execute_result"
    }
   ],
   "source": [
    "data.keys()"
   ]
  },
  {
   "cell_type": "code",
   "execution_count": 582,
   "metadata": {},
   "outputs": [
    {
     "data": {
      "text/plain": [
       "(0.011261327784789284, 95902)"
      ]
     },
     "execution_count": 582,
     "metadata": {},
     "output_type": "execute_result"
    }
   ],
   "source": [
    "tf_rmtpp.utils.MAE(test_time_preds, \n",
    "                   data['test_time_out_seq'], \n",
    "                   data['test_event_out_seq'])"
   ]
  },
  {
   "cell_type": "code",
   "execution_count": 583,
   "metadata": {},
   "outputs": [
    {
     "data": {
      "text/plain": [
       "(0.011286010419434762, 377865)"
      ]
     },
     "execution_count": 583,
     "metadata": {},
     "output_type": "execute_result"
    }
   ],
   "source": [
    "tf_rmtpp.utils.MAE(train_time_preds, \n",
    "                   data['train_time_out_seq'], \n",
    "                   data['train_event_out_seq'])"
   ]
  },
  {
   "cell_type": "code",
   "execution_count": 584,
   "metadata": {},
   "outputs": [
    {
     "data": {
      "text/plain": [
       "0.39524697974144207"
      ]
     },
     "execution_count": 584,
     "metadata": {},
     "output_type": "execute_result"
    }
   ],
   "source": [
    "tf_rmtpp.utils.ACC(train_events_preds, \n",
    "                   data['train_event_out_seq'])"
   ]
  },
  {
   "cell_type": "code",
   "execution_count": 585,
   "metadata": {},
   "outputs": [
    {
     "data": {
      "text/plain": [
       "0.3879898229442556"
      ]
     },
     "execution_count": 585,
     "metadata": {},
     "output_type": "execute_result"
    }
   ],
   "source": [
    "tf_rmtpp.utils.ACC(test_events_preds, \n",
    "                   data['test_event_out_seq'])"
   ]
  },
  {
   "cell_type": "code",
   "execution_count": 586,
   "metadata": {},
   "outputs": [
    {
     "name": "stdout",
     "output_type": "stream",
     "text": [
      "Num categories =  22\n",
      "delta-t (training) = \n",
      "count    3.778740e+05\n",
      "mean     1.312461e-02\n",
      "std      1.652969e-02\n",
      "min      2.058333e-10\n",
      "25%      2.613212e-03\n",
      "50%      7.631856e-03\n",
      "75%      1.736150e-02\n",
      "max      3.220176e-01\n",
      "dtype: float64\n",
      "base-rate = 76.19273530557021, log(base_rate) = 4.33326612095048\n",
      "Class probs =  [  6.24255704e-02   1.97711406e-02   6.48364270e-03   4.36052758e-01\n",
      "   5.75456369e-02   6.17480959e-02   1.94244642e-02   1.92365709e-02\n",
      "   2.29195446e-01   1.39199839e-02   2.19914575e-03   2.74800595e-02\n",
      "   8.77805829e-03   1.88898945e-02   3.03011057e-03   9.92394290e-04\n",
      "   2.77341124e-03   5.37745386e-03   3.75257361e-03   7.14523889e-04\n",
      "   1.50843932e-04   5.82204650e-05]\n",
      "delta-t (testing) = \n",
      "count    9.590700e+04\n",
      "mean     1.291405e-02\n",
      "std      1.646905e-02\n",
      "min      2.058333e-10\n",
      "25%      2.424433e-03\n",
      "50%      7.344151e-03\n",
      "75%      1.706356e-02\n",
      "max      2.712632e-01\n",
      "dtype: float64\n",
      "base-rate = 77.43506973871634, log(base_rate) = 4.349439775377487\n",
      "Class probs =  [  6.24667647e-02   2.13435933e-02   7.06934843e-03   4.30688062e-01\n",
      "   5.79936814e-02   6.49587621e-02   2.00298206e-02   1.87264746e-02\n",
      "   2.28523465e-01   1.27832171e-02   2.03321968e-03   2.71617296e-02\n",
      "   8.39354792e-03   2.01862221e-02   3.13845705e-03   1.04267676e-03\n",
      "   2.79437372e-03   5.89112369e-03   3.86833078e-03   6.04752521e-04\n",
      "   2.29388887e-04   7.29873732e-05]\n",
      "Training sequence lenghts = \n",
      "count    5307.000000\n",
      "mean       71.202940\n",
      "std        42.446415\n",
      "min        40.000000\n",
      "25%        46.000000\n",
      "50%        57.000000\n",
      "75%        79.000000\n",
      "max       719.000000\n",
      "dtype: float64\n",
      "Testing sequence lenghts = \n",
      "count    1326.000000\n",
      "mean       72.328054\n",
      "std        48.312648\n",
      "min        40.000000\n",
      "25%        46.000000\n",
      "50%        57.000000\n",
      "75%        79.000000\n",
      "max       735.000000\n",
      "dtype: float64\n"
     ]
    }
   ],
   "source": [
    "tf_rmtpp.utils.data_stats(data)"
   ]
  },
  {
   "cell_type": "code",
   "execution_count": 372,
   "metadata": {},
   "outputs": [
    {
     "data": {
      "text/plain": [
       "22"
      ]
     },
     "execution_count": 372,
     "metadata": {},
     "output_type": "execute_result"
    }
   ],
   "source": []
  },
  {
   "cell_type": "code",
   "execution_count": null,
   "metadata": {
    "collapsed": true
   },
   "outputs": [],
   "source": [
    "from IPython.core.debugger import Pdb\n",
    "pdb = Pdb()"
   ]
  },
  {
   "cell_type": "code",
   "execution_count": null,
   "metadata": {
    "collapsed": true
   },
   "outputs": [],
   "source": [
    "rmtpp_mdl.sess.run(tf.nn.softplus(rmtpp_mdl.wt))"
   ]
  },
  {
   "cell_type": "code",
   "execution_count": null,
   "metadata": {
    "collapsed": true
   },
   "outputs": [],
   "source": [
    "tf_rmtpp.rmtpp_core.softplus(rmtpp_mdl.sess.run(rmtpp_mdl.wt))"
   ]
  },
  {
   "cell_type": "code",
   "execution_count": 168,
   "metadata": {
    "scrolled": true
   },
   "outputs": [
    {
     "name": "stdout",
     "output_type": "stream",
     "text": [
      "> \u001b[0;32m/home/utkarshu/prog/work/tf_rmtpp/src/tf_rmtpp/rmtpp_core.py\u001b[0m(574)\u001b[0;36mpredict_train\u001b[0;34m()\u001b[0m\n",
      "\u001b[0;32m    572 \u001b[0;31m    \u001b[0;32mdef\u001b[0m \u001b[0mpredict_train\u001b[0m\u001b[0;34m(\u001b[0m\u001b[0mself\u001b[0m\u001b[0;34m,\u001b[0m \u001b[0mdata\u001b[0m\u001b[0;34m,\u001b[0m \u001b[0msingle_threaded\u001b[0m\u001b[0;34m=\u001b[0m\u001b[0;32mFalse\u001b[0m\u001b[0;34m)\u001b[0m\u001b[0;34m:\u001b[0m\u001b[0;34m\u001b[0m\u001b[0m\n",
      "\u001b[0m\u001b[0;32m    573 \u001b[0;31m        \u001b[0;34m\"\"\"Make (time, event) predictions on the training data.\"\"\"\u001b[0m\u001b[0;34m\u001b[0m\u001b[0m\n",
      "\u001b[0m\u001b[0;32m--> 574 \u001b[0;31m        return self.predict(event_in_seq=data['train_event_in_seq'],\n",
      "\u001b[0m\u001b[0;32m    575 \u001b[0;31m                            \u001b[0mtime_in_seq\u001b[0m\u001b[0;34m=\u001b[0m\u001b[0mdata\u001b[0m\u001b[0;34m[\u001b[0m\u001b[0;34m'train_time_in_seq'\u001b[0m\u001b[0;34m]\u001b[0m\u001b[0;34m,\u001b[0m\u001b[0;34m\u001b[0m\u001b[0m\n",
      "\u001b[0m\u001b[0;32m    576 \u001b[0;31m                            single_threaded=single_threaded)\n",
      "\u001b[0m\n",
      "ipdb> until 551\n",
      "*** \"until\" line number is smaller than current line number\n",
      "ipdb> s\n",
      "> \u001b[0;32m/home/utkarshu/prog/work/tf_rmtpp/src/tf_rmtpp/rmtpp_core.py\u001b[0m(575)\u001b[0;36mpredict_train\u001b[0;34m()\u001b[0m\n",
      "\u001b[0;32m    572 \u001b[0;31m    \u001b[0;32mdef\u001b[0m \u001b[0mpredict_train\u001b[0m\u001b[0;34m(\u001b[0m\u001b[0mself\u001b[0m\u001b[0;34m,\u001b[0m \u001b[0mdata\u001b[0m\u001b[0;34m,\u001b[0m \u001b[0msingle_threaded\u001b[0m\u001b[0;34m=\u001b[0m\u001b[0;32mFalse\u001b[0m\u001b[0;34m)\u001b[0m\u001b[0;34m:\u001b[0m\u001b[0;34m\u001b[0m\u001b[0m\n",
      "\u001b[0m\u001b[0;32m    573 \u001b[0;31m        \u001b[0;34m\"\"\"Make (time, event) predictions on the training data.\"\"\"\u001b[0m\u001b[0;34m\u001b[0m\u001b[0m\n",
      "\u001b[0m\u001b[0;32m    574 \u001b[0;31m        return self.predict(event_in_seq=data['train_event_in_seq'],\n",
      "\u001b[0m\u001b[0;32m--> 575 \u001b[0;31m                            \u001b[0mtime_in_seq\u001b[0m\u001b[0;34m=\u001b[0m\u001b[0mdata\u001b[0m\u001b[0;34m[\u001b[0m\u001b[0;34m'train_time_in_seq'\u001b[0m\u001b[0;34m]\u001b[0m\u001b[0;34m,\u001b[0m\u001b[0;34m\u001b[0m\u001b[0m\n",
      "\u001b[0m\u001b[0;32m    576 \u001b[0;31m                            single_threaded=single_threaded)\n",
      "\u001b[0m\n",
      "ipdb> s\n",
      "> \u001b[0;32m/home/utkarshu/prog/work/tf_rmtpp/src/tf_rmtpp/rmtpp_core.py\u001b[0m(576)\u001b[0;36mpredict_train\u001b[0;34m()\u001b[0m\n",
      "\u001b[0;32m    572 \u001b[0;31m    \u001b[0;32mdef\u001b[0m \u001b[0mpredict_train\u001b[0m\u001b[0;34m(\u001b[0m\u001b[0mself\u001b[0m\u001b[0;34m,\u001b[0m \u001b[0mdata\u001b[0m\u001b[0;34m,\u001b[0m \u001b[0msingle_threaded\u001b[0m\u001b[0;34m=\u001b[0m\u001b[0;32mFalse\u001b[0m\u001b[0;34m)\u001b[0m\u001b[0;34m:\u001b[0m\u001b[0;34m\u001b[0m\u001b[0m\n",
      "\u001b[0m\u001b[0;32m    573 \u001b[0;31m        \u001b[0;34m\"\"\"Make (time, event) predictions on the training data.\"\"\"\u001b[0m\u001b[0;34m\u001b[0m\u001b[0m\n",
      "\u001b[0m\u001b[0;32m    574 \u001b[0;31m        return self.predict(event_in_seq=data['train_event_in_seq'],\n",
      "\u001b[0m\u001b[0;32m    575 \u001b[0;31m                            \u001b[0mtime_in_seq\u001b[0m\u001b[0;34m=\u001b[0m\u001b[0mdata\u001b[0m\u001b[0;34m[\u001b[0m\u001b[0;34m'train_time_in_seq'\u001b[0m\u001b[0;34m]\u001b[0m\u001b[0;34m,\u001b[0m\u001b[0;34m\u001b[0m\u001b[0m\n",
      "\u001b[0m\u001b[0;32m--> 576 \u001b[0;31m                            single_threaded=single_threaded)\n",
      "\u001b[0m\n",
      "ipdb> s\n",
      "--Call--\n",
      "> \u001b[0;32m/home/utkarshu/prog/work/tf_rmtpp/src/tf_rmtpp/rmtpp_core.py\u001b[0m(502)\u001b[0;36mpredict\u001b[0;34m()\u001b[0m\n",
      "\u001b[0;32m    500 \u001b[0;31m        \u001b[0msaver\u001b[0m\u001b[0;34m.\u001b[0m\u001b[0mrestore\u001b[0m\u001b[0;34m(\u001b[0m\u001b[0mself\u001b[0m\u001b[0;34m.\u001b[0m\u001b[0msess\u001b[0m\u001b[0;34m,\u001b[0m \u001b[0mckpt\u001b[0m\u001b[0;34m.\u001b[0m\u001b[0mmodel_checkpoint_path\u001b[0m\u001b[0;34m)\u001b[0m\u001b[0;34m\u001b[0m\u001b[0m\n",
      "\u001b[0m\u001b[0;32m    501 \u001b[0;31m\u001b[0;34m\u001b[0m\u001b[0m\n",
      "\u001b[0m\u001b[0;32m--> 502 \u001b[0;31m    \u001b[0;32mdef\u001b[0m \u001b[0mpredict\u001b[0m\u001b[0;34m(\u001b[0m\u001b[0mself\u001b[0m\u001b[0;34m,\u001b[0m \u001b[0mevent_in_seq\u001b[0m\u001b[0;34m,\u001b[0m \u001b[0mtime_in_seq\u001b[0m\u001b[0;34m,\u001b[0m \u001b[0msingle_threaded\u001b[0m\u001b[0;34m=\u001b[0m\u001b[0;32mFalse\u001b[0m\u001b[0;34m)\u001b[0m\u001b[0;34m:\u001b[0m\u001b[0;34m\u001b[0m\u001b[0m\n",
      "\u001b[0m\u001b[0;32m    503 \u001b[0;31m        \u001b[0;34m\"\"\"Treats the entire dataset as a single batch and processes it.\"\"\"\u001b[0m\u001b[0;34m\u001b[0m\u001b[0m\n",
      "\u001b[0m\u001b[0;32m    504 \u001b[0;31m\u001b[0;34m\u001b[0m\u001b[0m\n",
      "\u001b[0m\n",
      "ipdb> until 555\n",
      "> \u001b[0;32m/home/utkarshu/prog/work/tf_rmtpp/src/tf_rmtpp/rmtpp_core.py\u001b[0m(558)\u001b[0;36mpredict\u001b[0;34m()\u001b[0m\n",
      "\u001b[0;32m    556 \u001b[0;31m            \u001b[0;32mreturn\u001b[0m \u001b[0mpreds_i\u001b[0m\u001b[0;34m\u001b[0m\u001b[0m\n",
      "\u001b[0m\u001b[0;32m    557 \u001b[0;31m\u001b[0;34m\u001b[0m\u001b[0m\n",
      "\u001b[0m\u001b[0;32m--> 558 \u001b[0;31m        \u001b[0;32mif\u001b[0m \u001b[0msingle_threaded\u001b[0m\u001b[0;34m:\u001b[0m\u001b[0;34m\u001b[0m\u001b[0m\n",
      "\u001b[0m\u001b[0;32m    559 \u001b[0;31m            \u001b[0mall_time_preds\u001b[0m \u001b[0;34m=\u001b[0m \u001b[0;34m[\u001b[0m\u001b[0m_quad_worker\u001b[0m\u001b[0;34m(\u001b[0m\u001b[0;34m(\u001b[0m\u001b[0midx\u001b[0m\u001b[0;34m,\u001b[0m \u001b[0mx\u001b[0m\u001b[0;34m)\u001b[0m\u001b[0;34m)\u001b[0m \u001b[0;32mfor\u001b[0m \u001b[0midx\u001b[0m\u001b[0;34m,\u001b[0m \u001b[0mx\u001b[0m \u001b[0;32min\u001b[0m \u001b[0menumerate\u001b[0m\u001b[0;34m(\u001b[0m\u001b[0mall_hidden_states\u001b[0m\u001b[0;34m)\u001b[0m\u001b[0;34m]\u001b[0m\u001b[0;34m\u001b[0m\u001b[0m\n",
      "\u001b[0m\u001b[0;32m    560 \u001b[0;31m        \u001b[0;32melse\u001b[0m\u001b[0;34m:\u001b[0m\u001b[0;34m\u001b[0m\u001b[0m\n",
      "\u001b[0m\n",
      "ipdb> s\n",
      "> \u001b[0;32m/home/utkarshu/prog/work/tf_rmtpp/src/tf_rmtpp/rmtpp_core.py\u001b[0m(559)\u001b[0;36mpredict\u001b[0;34m()\u001b[0m\n",
      "\u001b[0;32m    557 \u001b[0;31m\u001b[0;34m\u001b[0m\u001b[0m\n",
      "\u001b[0m\u001b[0;32m    558 \u001b[0;31m        \u001b[0;32mif\u001b[0m \u001b[0msingle_threaded\u001b[0m\u001b[0;34m:\u001b[0m\u001b[0;34m\u001b[0m\u001b[0m\n",
      "\u001b[0m\u001b[0;32m--> 559 \u001b[0;31m            \u001b[0mall_time_preds\u001b[0m \u001b[0;34m=\u001b[0m \u001b[0;34m[\u001b[0m\u001b[0m_quad_worker\u001b[0m\u001b[0;34m(\u001b[0m\u001b[0;34m(\u001b[0m\u001b[0midx\u001b[0m\u001b[0;34m,\u001b[0m \u001b[0mx\u001b[0m\u001b[0;34m)\u001b[0m\u001b[0;34m)\u001b[0m \u001b[0;32mfor\u001b[0m \u001b[0midx\u001b[0m\u001b[0;34m,\u001b[0m \u001b[0mx\u001b[0m \u001b[0;32min\u001b[0m \u001b[0menumerate\u001b[0m\u001b[0;34m(\u001b[0m\u001b[0mall_hidden_states\u001b[0m\u001b[0;34m)\u001b[0m\u001b[0;34m]\u001b[0m\u001b[0;34m\u001b[0m\u001b[0m\n",
      "\u001b[0m\u001b[0;32m    560 \u001b[0;31m        \u001b[0;32melse\u001b[0m\u001b[0;34m:\u001b[0m\u001b[0;34m\u001b[0m\u001b[0m\n",
      "\u001b[0m\u001b[0;32m    561 \u001b[0;31m            \u001b[0;32mwith\u001b[0m \u001b[0mMP\u001b[0m\u001b[0;34m.\u001b[0m\u001b[0mPool\u001b[0m\u001b[0;34m(\u001b[0m\u001b[0;34m)\u001b[0m \u001b[0;32mas\u001b[0m \u001b[0mpool\u001b[0m\u001b[0;34m:\u001b[0m\u001b[0;34m\u001b[0m\u001b[0m\n",
      "\u001b[0m\n",
      "ipdb> s\n",
      "--Call--\n",
      "> \u001b[0;32m/home/utkarshu/prog/work/tf_rmtpp/src/tf_rmtpp/rmtpp_core.py\u001b[0m(559)\u001b[0;36m<listcomp>\u001b[0;34m()\u001b[0m\n",
      "\u001b[0;32m    557 \u001b[0;31m\u001b[0;34m\u001b[0m\u001b[0m\n",
      "\u001b[0m\u001b[0;32m    558 \u001b[0;31m        \u001b[0;32mif\u001b[0m \u001b[0msingle_threaded\u001b[0m\u001b[0;34m:\u001b[0m\u001b[0;34m\u001b[0m\u001b[0m\n",
      "\u001b[0m\u001b[0;32m--> 559 \u001b[0;31m            \u001b[0mall_time_preds\u001b[0m \u001b[0;34m=\u001b[0m \u001b[0;34m[\u001b[0m\u001b[0m_quad_worker\u001b[0m\u001b[0;34m(\u001b[0m\u001b[0;34m(\u001b[0m\u001b[0midx\u001b[0m\u001b[0;34m,\u001b[0m \u001b[0mx\u001b[0m\u001b[0;34m)\u001b[0m\u001b[0;34m)\u001b[0m \u001b[0;32mfor\u001b[0m \u001b[0midx\u001b[0m\u001b[0;34m,\u001b[0m \u001b[0mx\u001b[0m \u001b[0;32min\u001b[0m \u001b[0menumerate\u001b[0m\u001b[0;34m(\u001b[0m\u001b[0mall_hidden_states\u001b[0m\u001b[0;34m)\u001b[0m\u001b[0;34m]\u001b[0m\u001b[0;34m\u001b[0m\u001b[0m\n",
      "\u001b[0m\u001b[0;32m    560 \u001b[0;31m        \u001b[0;32melse\u001b[0m\u001b[0;34m:\u001b[0m\u001b[0;34m\u001b[0m\u001b[0m\n",
      "\u001b[0m\u001b[0;32m    561 \u001b[0;31m            \u001b[0;32mwith\u001b[0m \u001b[0mMP\u001b[0m\u001b[0;34m.\u001b[0m\u001b[0mPool\u001b[0m\u001b[0;34m(\u001b[0m\u001b[0;34m)\u001b[0m \u001b[0;32mas\u001b[0m \u001b[0mpool\u001b[0m\u001b[0;34m:\u001b[0m\u001b[0;34m\u001b[0m\u001b[0m\n",
      "\u001b[0m\n",
      "ipdb> s\n",
      "> \u001b[0;32m/home/utkarshu/prog/work/tf_rmtpp/src/tf_rmtpp/rmtpp_core.py\u001b[0m(559)\u001b[0;36m<listcomp>\u001b[0;34m()\u001b[0m\n",
      "\u001b[0;32m    557 \u001b[0;31m\u001b[0;34m\u001b[0m\u001b[0m\n",
      "\u001b[0m\u001b[0;32m    558 \u001b[0;31m        \u001b[0;32mif\u001b[0m \u001b[0msingle_threaded\u001b[0m\u001b[0;34m:\u001b[0m\u001b[0;34m\u001b[0m\u001b[0m\n",
      "\u001b[0m\u001b[0;32m--> 559 \u001b[0;31m            \u001b[0mall_time_preds\u001b[0m \u001b[0;34m=\u001b[0m \u001b[0;34m[\u001b[0m\u001b[0m_quad_worker\u001b[0m\u001b[0;34m(\u001b[0m\u001b[0;34m(\u001b[0m\u001b[0midx\u001b[0m\u001b[0;34m,\u001b[0m \u001b[0mx\u001b[0m\u001b[0;34m)\u001b[0m\u001b[0;34m)\u001b[0m \u001b[0;32mfor\u001b[0m \u001b[0midx\u001b[0m\u001b[0;34m,\u001b[0m \u001b[0mx\u001b[0m \u001b[0;32min\u001b[0m \u001b[0menumerate\u001b[0m\u001b[0;34m(\u001b[0m\u001b[0mall_hidden_states\u001b[0m\u001b[0;34m)\u001b[0m\u001b[0;34m]\u001b[0m\u001b[0;34m\u001b[0m\u001b[0m\n",
      "\u001b[0m\u001b[0;32m    560 \u001b[0;31m        \u001b[0;32melse\u001b[0m\u001b[0;34m:\u001b[0m\u001b[0;34m\u001b[0m\u001b[0m\n",
      "\u001b[0m\u001b[0;32m    561 \u001b[0;31m            \u001b[0;32mwith\u001b[0m \u001b[0mMP\u001b[0m\u001b[0;34m.\u001b[0m\u001b[0mPool\u001b[0m\u001b[0;34m(\u001b[0m\u001b[0;34m)\u001b[0m \u001b[0;32mas\u001b[0m \u001b[0mpool\u001b[0m\u001b[0;34m:\u001b[0m\u001b[0;34m\u001b[0m\u001b[0m\n",
      "\u001b[0m\n",
      "ipdb> s\n",
      "--Call--\n",
      "> \u001b[0;32m/home/utkarshu/prog/work/tf_rmtpp/src/tf_rmtpp/rmtpp_core.py\u001b[0m(546)\u001b[0;36m_quad_worker\u001b[0;34m()\u001b[0m\n",
      "\u001b[0;32m    544 \u001b[0;31m\u001b[0;34m\u001b[0m\u001b[0m\n",
      "\u001b[0m\u001b[0;32m    545 \u001b[0;31m        \u001b[0;32mglobal\u001b[0m \u001b[0m_quad_worker\u001b[0m\u001b[0;34m\u001b[0m\u001b[0m\n",
      "\u001b[0m\u001b[0;32m--> 546 \u001b[0;31m        \u001b[0;32mdef\u001b[0m \u001b[0m_quad_worker\u001b[0m\u001b[0;34m(\u001b[0m\u001b[0mparams\u001b[0m\u001b[0;34m)\u001b[0m\u001b[0;34m:\u001b[0m\u001b[0;34m\u001b[0m\u001b[0m\n",
      "\u001b[0m\u001b[0;32m    547 \u001b[0;31m            \u001b[0midx\u001b[0m\u001b[0;34m,\u001b[0m \u001b[0mh_i\u001b[0m \u001b[0;34m=\u001b[0m \u001b[0mparams\u001b[0m\u001b[0;34m\u001b[0m\u001b[0m\n",
      "\u001b[0m\u001b[0;32m    548 \u001b[0;31m            \u001b[0mpreds_i\u001b[0m \u001b[0;34m=\u001b[0m \u001b[0;34m[\u001b[0m\u001b[0;34m]\u001b[0m\u001b[0;34m\u001b[0m\u001b[0m\n",
      "\u001b[0m\n",
      "ipdb> s\n",
      "> \u001b[0;32m/home/utkarshu/prog/work/tf_rmtpp/src/tf_rmtpp/rmtpp_core.py\u001b[0m(547)\u001b[0;36m_quad_worker\u001b[0;34m()\u001b[0m\n",
      "\u001b[0;32m    545 \u001b[0;31m        \u001b[0;32mglobal\u001b[0m \u001b[0m_quad_worker\u001b[0m\u001b[0;34m\u001b[0m\u001b[0m\n",
      "\u001b[0m\u001b[0;32m    546 \u001b[0;31m        \u001b[0;32mdef\u001b[0m \u001b[0m_quad_worker\u001b[0m\u001b[0;34m(\u001b[0m\u001b[0mparams\u001b[0m\u001b[0;34m)\u001b[0m\u001b[0;34m:\u001b[0m\u001b[0;34m\u001b[0m\u001b[0m\n",
      "\u001b[0m\u001b[0;32m--> 547 \u001b[0;31m            \u001b[0midx\u001b[0m\u001b[0;34m,\u001b[0m \u001b[0mh_i\u001b[0m \u001b[0;34m=\u001b[0m \u001b[0mparams\u001b[0m\u001b[0;34m\u001b[0m\u001b[0m\n",
      "\u001b[0m\u001b[0;32m    548 \u001b[0;31m            \u001b[0mpreds_i\u001b[0m \u001b[0;34m=\u001b[0m \u001b[0;34m[\u001b[0m\u001b[0;34m]\u001b[0m\u001b[0;34m\u001b[0m\u001b[0m\n",
      "\u001b[0m\u001b[0;32m    549 \u001b[0;31m            \u001b[0mC\u001b[0m \u001b[0;34m=\u001b[0m \u001b[0mnp\u001b[0m\u001b[0;34m.\u001b[0m\u001b[0mexp\u001b[0m\u001b[0;34m(\u001b[0m\u001b[0mnp\u001b[0m\u001b[0;34m.\u001b[0m\u001b[0mdot\u001b[0m\u001b[0;34m(\u001b[0m\u001b[0mh_i\u001b[0m\u001b[0;34m,\u001b[0m \u001b[0mVt\u001b[0m\u001b[0;34m)\u001b[0m \u001b[0;34m+\u001b[0m \u001b[0mbt\u001b[0m\u001b[0;34m)\u001b[0m\u001b[0;34m.\u001b[0m\u001b[0mreshape\u001b[0m\u001b[0;34m(\u001b[0m\u001b[0;34m-\u001b[0m\u001b[0;36m1\u001b[0m\u001b[0;34m)\u001b[0m\u001b[0;34m\u001b[0m\u001b[0m\n",
      "\u001b[0m\n",
      "ipdb> s\n",
      "> \u001b[0;32m/home/utkarshu/prog/work/tf_rmtpp/src/tf_rmtpp/rmtpp_core.py\u001b[0m(548)\u001b[0;36m_quad_worker\u001b[0;34m()\u001b[0m\n",
      "\u001b[0;32m    546 \u001b[0;31m        \u001b[0;32mdef\u001b[0m \u001b[0m_quad_worker\u001b[0m\u001b[0;34m(\u001b[0m\u001b[0mparams\u001b[0m\u001b[0;34m)\u001b[0m\u001b[0;34m:\u001b[0m\u001b[0;34m\u001b[0m\u001b[0m\n",
      "\u001b[0m\u001b[0;32m    547 \u001b[0;31m            \u001b[0midx\u001b[0m\u001b[0;34m,\u001b[0m \u001b[0mh_i\u001b[0m \u001b[0;34m=\u001b[0m \u001b[0mparams\u001b[0m\u001b[0;34m\u001b[0m\u001b[0m\n",
      "\u001b[0m\u001b[0;32m--> 548 \u001b[0;31m            \u001b[0mpreds_i\u001b[0m \u001b[0;34m=\u001b[0m \u001b[0;34m[\u001b[0m\u001b[0;34m]\u001b[0m\u001b[0;34m\u001b[0m\u001b[0m\n",
      "\u001b[0m\u001b[0;32m    549 \u001b[0;31m            \u001b[0mC\u001b[0m \u001b[0;34m=\u001b[0m \u001b[0mnp\u001b[0m\u001b[0;34m.\u001b[0m\u001b[0mexp\u001b[0m\u001b[0;34m(\u001b[0m\u001b[0mnp\u001b[0m\u001b[0;34m.\u001b[0m\u001b[0mdot\u001b[0m\u001b[0;34m(\u001b[0m\u001b[0mh_i\u001b[0m\u001b[0;34m,\u001b[0m \u001b[0mVt\u001b[0m\u001b[0;34m)\u001b[0m \u001b[0;34m+\u001b[0m \u001b[0mbt\u001b[0m\u001b[0;34m)\u001b[0m\u001b[0;34m.\u001b[0m\u001b[0mreshape\u001b[0m\u001b[0;34m(\u001b[0m\u001b[0;34m-\u001b[0m\u001b[0;36m1\u001b[0m\u001b[0;34m)\u001b[0m\u001b[0;34m\u001b[0m\u001b[0m\n",
      "\u001b[0m\u001b[0;32m    550 \u001b[0;31m\u001b[0;34m\u001b[0m\u001b[0m\n",
      "\u001b[0m\n"
     ]
    },
    {
     "name": "stdout",
     "output_type": "stream",
     "text": [
      "ipdb> s\n",
      "> \u001b[0;32m/home/utkarshu/prog/work/tf_rmtpp/src/tf_rmtpp/rmtpp_core.py\u001b[0m(549)\u001b[0;36m_quad_worker\u001b[0;34m()\u001b[0m\n",
      "\u001b[0;32m    547 \u001b[0;31m            \u001b[0midx\u001b[0m\u001b[0;34m,\u001b[0m \u001b[0mh_i\u001b[0m \u001b[0;34m=\u001b[0m \u001b[0mparams\u001b[0m\u001b[0;34m\u001b[0m\u001b[0m\n",
      "\u001b[0m\u001b[0;32m    548 \u001b[0;31m            \u001b[0mpreds_i\u001b[0m \u001b[0;34m=\u001b[0m \u001b[0;34m[\u001b[0m\u001b[0;34m]\u001b[0m\u001b[0;34m\u001b[0m\u001b[0m\n",
      "\u001b[0m\u001b[0;32m--> 549 \u001b[0;31m            \u001b[0mC\u001b[0m \u001b[0;34m=\u001b[0m \u001b[0mnp\u001b[0m\u001b[0;34m.\u001b[0m\u001b[0mexp\u001b[0m\u001b[0;34m(\u001b[0m\u001b[0mnp\u001b[0m\u001b[0;34m.\u001b[0m\u001b[0mdot\u001b[0m\u001b[0;34m(\u001b[0m\u001b[0mh_i\u001b[0m\u001b[0;34m,\u001b[0m \u001b[0mVt\u001b[0m\u001b[0;34m)\u001b[0m \u001b[0;34m+\u001b[0m \u001b[0mbt\u001b[0m\u001b[0;34m)\u001b[0m\u001b[0;34m.\u001b[0m\u001b[0mreshape\u001b[0m\u001b[0;34m(\u001b[0m\u001b[0;34m-\u001b[0m\u001b[0;36m1\u001b[0m\u001b[0;34m)\u001b[0m\u001b[0;34m\u001b[0m\u001b[0m\n",
      "\u001b[0m\u001b[0;32m    550 \u001b[0;31m\u001b[0;34m\u001b[0m\u001b[0m\n",
      "\u001b[0m\u001b[0;32m    551 \u001b[0;31m            \u001b[0;32mfor\u001b[0m \u001b[0mc_\u001b[0m\u001b[0;34m,\u001b[0m \u001b[0mt_last\u001b[0m \u001b[0;32min\u001b[0m \u001b[0mzip\u001b[0m\u001b[0;34m(\u001b[0m\u001b[0mC\u001b[0m\u001b[0;34m,\u001b[0m \u001b[0mtime_in_seq\u001b[0m\u001b[0;34m[\u001b[0m\u001b[0;34m:\u001b[0m\u001b[0;34m,\u001b[0m \u001b[0midx\u001b[0m\u001b[0;34m]\u001b[0m\u001b[0;34m)\u001b[0m\u001b[0;34m:\u001b[0m\u001b[0;34m\u001b[0m\u001b[0m\n",
      "\u001b[0m\n",
      "ipdb> n\n",
      "> \u001b[0;32m/home/utkarshu/prog/work/tf_rmtpp/src/tf_rmtpp/rmtpp_core.py\u001b[0m(551)\u001b[0;36m_quad_worker\u001b[0;34m()\u001b[0m\n",
      "\u001b[0;32m    549 \u001b[0;31m            \u001b[0mC\u001b[0m \u001b[0;34m=\u001b[0m \u001b[0mnp\u001b[0m\u001b[0;34m.\u001b[0m\u001b[0mexp\u001b[0m\u001b[0;34m(\u001b[0m\u001b[0mnp\u001b[0m\u001b[0;34m.\u001b[0m\u001b[0mdot\u001b[0m\u001b[0;34m(\u001b[0m\u001b[0mh_i\u001b[0m\u001b[0;34m,\u001b[0m \u001b[0mVt\u001b[0m\u001b[0;34m)\u001b[0m \u001b[0;34m+\u001b[0m \u001b[0mbt\u001b[0m\u001b[0;34m)\u001b[0m\u001b[0;34m.\u001b[0m\u001b[0mreshape\u001b[0m\u001b[0;34m(\u001b[0m\u001b[0;34m-\u001b[0m\u001b[0;36m1\u001b[0m\u001b[0;34m)\u001b[0m\u001b[0;34m\u001b[0m\u001b[0m\n",
      "\u001b[0m\u001b[0;32m    550 \u001b[0;31m\u001b[0;34m\u001b[0m\u001b[0m\n",
      "\u001b[0m\u001b[0;32m--> 551 \u001b[0;31m            \u001b[0;32mfor\u001b[0m \u001b[0mc_\u001b[0m\u001b[0;34m,\u001b[0m \u001b[0mt_last\u001b[0m \u001b[0;32min\u001b[0m \u001b[0mzip\u001b[0m\u001b[0;34m(\u001b[0m\u001b[0mC\u001b[0m\u001b[0;34m,\u001b[0m \u001b[0mtime_in_seq\u001b[0m\u001b[0;34m[\u001b[0m\u001b[0;34m:\u001b[0m\u001b[0;34m,\u001b[0m \u001b[0midx\u001b[0m\u001b[0;34m]\u001b[0m\u001b[0;34m)\u001b[0m\u001b[0;34m:\u001b[0m\u001b[0;34m\u001b[0m\u001b[0m\n",
      "\u001b[0m\u001b[0;32m    552 \u001b[0;31m                \u001b[0margs\u001b[0m \u001b[0;34m=\u001b[0m \u001b[0;34m(\u001b[0m\u001b[0mc_\u001b[0m\u001b[0;34m,\u001b[0m \u001b[0mwt\u001b[0m\u001b[0;34m)\u001b[0m\u001b[0;34m\u001b[0m\u001b[0m\n",
      "\u001b[0m\u001b[0;32m    553 \u001b[0;31m                \u001b[0mval\u001b[0m\u001b[0;34m,\u001b[0m \u001b[0m_err\u001b[0m \u001b[0;34m=\u001b[0m \u001b[0mquad\u001b[0m\u001b[0;34m(\u001b[0m\u001b[0mquad_func\u001b[0m\u001b[0;34m,\u001b[0m \u001b[0;36m0\u001b[0m\u001b[0;34m,\u001b[0m \u001b[0mnp\u001b[0m\u001b[0;34m.\u001b[0m\u001b[0minf\u001b[0m\u001b[0;34m,\u001b[0m \u001b[0margs\u001b[0m\u001b[0;34m=\u001b[0m\u001b[0margs\u001b[0m\u001b[0;34m)\u001b[0m\u001b[0;34m\u001b[0m\u001b[0m\n",
      "\u001b[0m\n",
      "ipdb> C\n",
      "array([  1.97831831e+15,   1.97831831e+15,   1.97831831e+15,\n",
      "         1.97831831e+15,   1.97831831e+15,   1.97831831e+15,\n",
      "         1.97831831e+15,   1.97831831e+15,   1.97831831e+15,\n",
      "         1.97831831e+15,   1.97831831e+15,   1.97831831e+15,\n",
      "         1.97831831e+15,   1.97831831e+15,   1.97831831e+15,\n",
      "         1.97831831e+15,   1.97831831e+15,   1.97831831e+15,\n",
      "         1.97831831e+15,   1.97831831e+15,   1.97831831e+15,\n",
      "         1.97831831e+15,   1.97831831e+15,   1.97831831e+15,\n",
      "         1.97831831e+15,   1.97831831e+15,   1.97831831e+15,\n",
      "         1.97831831e+15,   1.97831831e+15,   1.97831831e+15,\n",
      "         1.97831831e+15,   1.97831831e+15,   1.97831831e+15,\n",
      "         1.97831831e+15,   1.97831831e+15,   1.97831831e+15,\n",
      "         1.97831831e+15,   1.97831831e+15,   1.97831831e+15,\n",
      "         1.97831831e+15,   1.97831831e+15,   1.97831831e+15,\n",
      "         1.97831831e+15,   1.97831831e+15,   1.97831831e+15,\n",
      "         1.97831831e+15,   1.97831831e+15,   1.97831831e+15,\n",
      "         1.97831831e+15,   1.97831831e+15,   1.97831831e+15,\n",
      "         1.97831831e+15,   1.97831831e+15,   1.97831831e+15,\n",
      "         1.97831831e+15,   1.97831831e+15,   1.97831831e+15,\n",
      "         1.97831831e+15,   1.97831831e+15,   1.97831831e+15,\n",
      "         1.97831831e+15,   1.97831831e+15,   1.97831831e+15,\n",
      "         1.97831831e+15,   1.97831831e+15,   1.97831831e+15,\n",
      "         1.97831831e+15,   1.97831831e+15,   1.97831831e+15,\n",
      "         1.97831831e+15,   1.97831831e+15,   1.97831831e+15,\n",
      "         1.97831831e+15,   1.97831831e+15,   1.97831831e+15,\n",
      "         1.97831831e+15,   1.97831831e+15,   1.97831831e+15,\n",
      "         1.97831831e+15,   1.97831831e+15,   1.97831831e+15,\n",
      "         1.97831831e+15,   1.97831831e+15,   1.97831831e+15,\n",
      "         1.97831831e+15,   1.97831831e+15,   1.97831831e+15,\n",
      "         1.97831831e+15,   1.97831831e+15,   1.97831831e+15,\n",
      "         1.97831831e+15,   1.97831831e+15,   1.97831831e+15,\n",
      "         1.97831831e+15,   1.97831831e+15,   1.97831831e+15,\n",
      "         1.97831831e+15,   1.97831831e+15,   1.97831831e+15,\n",
      "         1.97831831e+15], dtype=float32)\n",
      "ipdb> h_i\n",
      "array([[  7.13341343e-16,   7.04132930e-16,   7.11919598e-16, ...,\n",
      "          7.10254067e-16,   7.03531484e-16,   7.04990339e-16],\n",
      "       [  7.07047941e-16,   6.97918091e-16,   7.05635990e-16, ...,\n",
      "          7.03985176e-16,   6.97321991e-16,   6.98767930e-16],\n",
      "       [  7.00748610e-16,   6.91700128e-16,   6.99349259e-16, ...,\n",
      "          6.97713109e-16,   6.91109322e-16,   6.92542343e-16],\n",
      "       ..., \n",
      "       [  2.99174022e-16,   2.95281615e-16,   2.98575461e-16, ...,\n",
      "          2.97857627e-16,   2.95035022e-16,   2.95636654e-16],\n",
      "       [  2.96489325e-16,   2.92631884e-16,   2.95896137e-16, ...,\n",
      "          2.95185873e-16,   2.92388600e-16,   2.92983720e-16],\n",
      "       [  2.93863496e-16,   2.90040201e-16,   2.93275549e-16, ...,\n",
      "          2.92570500e-16,   2.89798003e-16,   2.90387802e-16]], dtype=float32)\n",
      "ipdb> bt\n",
      "  \u001b[0;32m/home/utkarshu/miniconda3/lib/python3.6/bdb.py\u001b[0m(465)\u001b[0;36mruncall\u001b[0;34m()\u001b[0m\n",
      "\u001b[1;32m    463 \u001b[0m        \u001b[0mres\u001b[0m \u001b[0;34m=\u001b[0m \u001b[0;32mNone\u001b[0m\u001b[0;34m\u001b[0m\u001b[0m\n",
      "\u001b[1;32m    464 \u001b[0m        \u001b[0;32mtry\u001b[0m\u001b[0;34m:\u001b[0m\u001b[0;34m\u001b[0m\u001b[0m\n",
      "\u001b[0;32m--> 465 \u001b[0;31m            \u001b[0mres\u001b[0m \u001b[0;34m=\u001b[0m \u001b[0mfunc\u001b[0m\u001b[0;34m(\u001b[0m\u001b[0;34m*\u001b[0m\u001b[0margs\u001b[0m\u001b[0;34m,\u001b[0m \u001b[0;34m**\u001b[0m\u001b[0mkwds\u001b[0m\u001b[0;34m)\u001b[0m\u001b[0;34m\u001b[0m\u001b[0m\n",
      "\u001b[0m\u001b[1;32m    466 \u001b[0m        \u001b[0;32mexcept\u001b[0m \u001b[0mBdbQuit\u001b[0m\u001b[0;34m:\u001b[0m\u001b[0;34m\u001b[0m\u001b[0m\n",
      "\u001b[1;32m    467 \u001b[0m            \u001b[0;32mpass\u001b[0m\u001b[0;34m\u001b[0m\u001b[0m\n",
      "\n",
      "  \u001b[0;32m/home/utkarshu/prog/work/tf_rmtpp/src/tf_rmtpp/rmtpp_core.py\u001b[0m(576)\u001b[0;36mpredict_train\u001b[0;34m()\u001b[0m\n",
      "\u001b[1;32m    572 \u001b[0m    \u001b[0;32mdef\u001b[0m \u001b[0mpredict_train\u001b[0m\u001b[0;34m(\u001b[0m\u001b[0mself\u001b[0m\u001b[0;34m,\u001b[0m \u001b[0mdata\u001b[0m\u001b[0;34m,\u001b[0m \u001b[0msingle_threaded\u001b[0m\u001b[0;34m=\u001b[0m\u001b[0;32mFalse\u001b[0m\u001b[0;34m)\u001b[0m\u001b[0;34m:\u001b[0m\u001b[0;34m\u001b[0m\u001b[0m\n",
      "\u001b[1;32m    573 \u001b[0m        \u001b[0;34m\"\"\"Make (time, event) predictions on the training data.\"\"\"\u001b[0m\u001b[0;34m\u001b[0m\u001b[0m\n",
      "\u001b[1;32m    574 \u001b[0m        return self.predict(event_in_seq=data['train_event_in_seq'],\n",
      "\u001b[1;32m    575 \u001b[0m                            \u001b[0mtime_in_seq\u001b[0m\u001b[0;34m=\u001b[0m\u001b[0mdata\u001b[0m\u001b[0;34m[\u001b[0m\u001b[0;34m'train_time_in_seq'\u001b[0m\u001b[0;34m]\u001b[0m\u001b[0;34m,\u001b[0m\u001b[0;34m\u001b[0m\u001b[0m\n",
      "\u001b[0;32m--> 576 \u001b[0;31m                            single_threaded=single_threaded)\n",
      "\u001b[0m\n",
      "  \u001b[0;32m/home/utkarshu/prog/work/tf_rmtpp/src/tf_rmtpp/rmtpp_core.py\u001b[0m(559)\u001b[0;36mpredict\u001b[0;34m()\u001b[0m\n",
      "\u001b[1;32m    557 \u001b[0m\u001b[0;34m\u001b[0m\u001b[0m\n",
      "\u001b[1;32m    558 \u001b[0m        \u001b[0;32mif\u001b[0m \u001b[0msingle_threaded\u001b[0m\u001b[0;34m:\u001b[0m\u001b[0;34m\u001b[0m\u001b[0m\n",
      "\u001b[0;32m--> 559 \u001b[0;31m            \u001b[0mall_time_preds\u001b[0m \u001b[0;34m=\u001b[0m \u001b[0;34m[\u001b[0m\u001b[0m_quad_worker\u001b[0m\u001b[0;34m(\u001b[0m\u001b[0;34m(\u001b[0m\u001b[0midx\u001b[0m\u001b[0;34m,\u001b[0m \u001b[0mx\u001b[0m\u001b[0;34m)\u001b[0m\u001b[0;34m)\u001b[0m \u001b[0;32mfor\u001b[0m \u001b[0midx\u001b[0m\u001b[0;34m,\u001b[0m \u001b[0mx\u001b[0m \u001b[0;32min\u001b[0m \u001b[0menumerate\u001b[0m\u001b[0;34m(\u001b[0m\u001b[0mall_hidden_states\u001b[0m\u001b[0;34m)\u001b[0m\u001b[0;34m]\u001b[0m\u001b[0;34m\u001b[0m\u001b[0m\n",
      "\u001b[0m\u001b[1;32m    560 \u001b[0m        \u001b[0;32melse\u001b[0m\u001b[0;34m:\u001b[0m\u001b[0;34m\u001b[0m\u001b[0m\n",
      "\u001b[1;32m    561 \u001b[0m            \u001b[0;32mwith\u001b[0m \u001b[0mMP\u001b[0m\u001b[0;34m.\u001b[0m\u001b[0mPool\u001b[0m\u001b[0;34m(\u001b[0m\u001b[0;34m)\u001b[0m \u001b[0;32mas\u001b[0m \u001b[0mpool\u001b[0m\u001b[0;34m:\u001b[0m\u001b[0;34m\u001b[0m\u001b[0m\n",
      "\n",
      "  \u001b[0;32m/home/utkarshu/prog/work/tf_rmtpp/src/tf_rmtpp/rmtpp_core.py\u001b[0m(559)\u001b[0;36m<listcomp>\u001b[0;34m()\u001b[0m\n",
      "\u001b[1;32m    557 \u001b[0m\u001b[0;34m\u001b[0m\u001b[0m\n",
      "\u001b[1;32m    558 \u001b[0m        \u001b[0;32mif\u001b[0m \u001b[0msingle_threaded\u001b[0m\u001b[0;34m:\u001b[0m\u001b[0;34m\u001b[0m\u001b[0m\n",
      "\u001b[0;32m--> 559 \u001b[0;31m            \u001b[0mall_time_preds\u001b[0m \u001b[0;34m=\u001b[0m \u001b[0;34m[\u001b[0m\u001b[0m_quad_worker\u001b[0m\u001b[0;34m(\u001b[0m\u001b[0;34m(\u001b[0m\u001b[0midx\u001b[0m\u001b[0;34m,\u001b[0m \u001b[0mx\u001b[0m\u001b[0;34m)\u001b[0m\u001b[0;34m)\u001b[0m \u001b[0;32mfor\u001b[0m \u001b[0midx\u001b[0m\u001b[0;34m,\u001b[0m \u001b[0mx\u001b[0m \u001b[0;32min\u001b[0m \u001b[0menumerate\u001b[0m\u001b[0;34m(\u001b[0m\u001b[0mall_hidden_states\u001b[0m\u001b[0;34m)\u001b[0m\u001b[0;34m]\u001b[0m\u001b[0;34m\u001b[0m\u001b[0m\n",
      "\u001b[0m\u001b[1;32m    560 \u001b[0m        \u001b[0;32melse\u001b[0m\u001b[0;34m:\u001b[0m\u001b[0;34m\u001b[0m\u001b[0m\n",
      "\u001b[1;32m    561 \u001b[0m            \u001b[0;32mwith\u001b[0m \u001b[0mMP\u001b[0m\u001b[0;34m.\u001b[0m\u001b[0mPool\u001b[0m\u001b[0;34m(\u001b[0m\u001b[0;34m)\u001b[0m \u001b[0;32mas\u001b[0m \u001b[0mpool\u001b[0m\u001b[0;34m:\u001b[0m\u001b[0;34m\u001b[0m\u001b[0m\n",
      "\n",
      "> \u001b[0;32m/home/utkarshu/prog/work/tf_rmtpp/src/tf_rmtpp/rmtpp_core.py\u001b[0m(551)\u001b[0;36m_quad_worker\u001b[0;34m()\u001b[0m\n",
      "\u001b[0;32m    549 \u001b[0;31m            \u001b[0mC\u001b[0m \u001b[0;34m=\u001b[0m \u001b[0mnp\u001b[0m\u001b[0;34m.\u001b[0m\u001b[0mexp\u001b[0m\u001b[0;34m(\u001b[0m\u001b[0mnp\u001b[0m\u001b[0;34m.\u001b[0m\u001b[0mdot\u001b[0m\u001b[0;34m(\u001b[0m\u001b[0mh_i\u001b[0m\u001b[0;34m,\u001b[0m \u001b[0mVt\u001b[0m\u001b[0;34m)\u001b[0m \u001b[0;34m+\u001b[0m \u001b[0mbt\u001b[0m\u001b[0;34m)\u001b[0m\u001b[0;34m.\u001b[0m\u001b[0mreshape\u001b[0m\u001b[0;34m(\u001b[0m\u001b[0;34m-\u001b[0m\u001b[0;36m1\u001b[0m\u001b[0;34m)\u001b[0m\u001b[0;34m\u001b[0m\u001b[0m\n",
      "\u001b[0m\u001b[0;32m    550 \u001b[0;31m\u001b[0;34m\u001b[0m\u001b[0m\n",
      "\u001b[0m\u001b[0;32m--> 551 \u001b[0;31m            \u001b[0;32mfor\u001b[0m \u001b[0mc_\u001b[0m\u001b[0;34m,\u001b[0m \u001b[0mt_last\u001b[0m \u001b[0;32min\u001b[0m \u001b[0mzip\u001b[0m\u001b[0;34m(\u001b[0m\u001b[0mC\u001b[0m\u001b[0;34m,\u001b[0m \u001b[0mtime_in_seq\u001b[0m\u001b[0;34m[\u001b[0m\u001b[0;34m:\u001b[0m\u001b[0;34m,\u001b[0m \u001b[0midx\u001b[0m\u001b[0;34m]\u001b[0m\u001b[0;34m)\u001b[0m\u001b[0;34m:\u001b[0m\u001b[0;34m\u001b[0m\u001b[0m\n",
      "\u001b[0m\u001b[0;32m    552 \u001b[0;31m                \u001b[0margs\u001b[0m \u001b[0;34m=\u001b[0m \u001b[0;34m(\u001b[0m\u001b[0mc_\u001b[0m\u001b[0;34m,\u001b[0m \u001b[0mwt\u001b[0m\u001b[0;34m)\u001b[0m\u001b[0;34m\u001b[0m\u001b[0m\n",
      "\u001b[0m\u001b[0;32m    553 \u001b[0;31m                \u001b[0mval\u001b[0m\u001b[0;34m,\u001b[0m \u001b[0m_err\u001b[0m \u001b[0;34m=\u001b[0m \u001b[0mquad\u001b[0m\u001b[0;34m(\u001b[0m\u001b[0mquad_func\u001b[0m\u001b[0;34m,\u001b[0m \u001b[0;36m0\u001b[0m\u001b[0;34m,\u001b[0m \u001b[0mnp\u001b[0m\u001b[0;34m.\u001b[0m\u001b[0minf\u001b[0m\u001b[0;34m,\u001b[0m \u001b[0margs\u001b[0m\u001b[0;34m=\u001b[0m\u001b[0margs\u001b[0m\u001b[0;34m)\u001b[0m\u001b[0;34m\u001b[0m\u001b[0m\n",
      "\u001b[0m\n"
     ]
    },
    {
     "name": "stdout",
     "output_type": "stream",
     "text": [
      "ipdb> print(bt)\n",
      "[[ 35.22102356]]\n",
      "ipdb> n\n",
      "> \u001b[0;32m/home/utkarshu/prog/work/tf_rmtpp/src/tf_rmtpp/rmtpp_core.py\u001b[0m(552)\u001b[0;36m_quad_worker\u001b[0;34m()\u001b[0m\n",
      "\u001b[0;32m    550 \u001b[0;31m\u001b[0;34m\u001b[0m\u001b[0m\n",
      "\u001b[0m\u001b[0;32m    551 \u001b[0;31m            \u001b[0;32mfor\u001b[0m \u001b[0mc_\u001b[0m\u001b[0;34m,\u001b[0m \u001b[0mt_last\u001b[0m \u001b[0;32min\u001b[0m \u001b[0mzip\u001b[0m\u001b[0;34m(\u001b[0m\u001b[0mC\u001b[0m\u001b[0;34m,\u001b[0m \u001b[0mtime_in_seq\u001b[0m\u001b[0;34m[\u001b[0m\u001b[0;34m:\u001b[0m\u001b[0;34m,\u001b[0m \u001b[0midx\u001b[0m\u001b[0;34m]\u001b[0m\u001b[0;34m)\u001b[0m\u001b[0;34m:\u001b[0m\u001b[0;34m\u001b[0m\u001b[0m\n",
      "\u001b[0m\u001b[0;32m--> 552 \u001b[0;31m                \u001b[0margs\u001b[0m \u001b[0;34m=\u001b[0m \u001b[0;34m(\u001b[0m\u001b[0mc_\u001b[0m\u001b[0;34m,\u001b[0m \u001b[0mwt\u001b[0m\u001b[0;34m)\u001b[0m\u001b[0;34m\u001b[0m\u001b[0m\n",
      "\u001b[0m\u001b[0;32m    553 \u001b[0;31m                \u001b[0mval\u001b[0m\u001b[0;34m,\u001b[0m \u001b[0m_err\u001b[0m \u001b[0;34m=\u001b[0m \u001b[0mquad\u001b[0m\u001b[0;34m(\u001b[0m\u001b[0mquad_func\u001b[0m\u001b[0;34m,\u001b[0m \u001b[0;36m0\u001b[0m\u001b[0;34m,\u001b[0m \u001b[0mnp\u001b[0m\u001b[0;34m.\u001b[0m\u001b[0minf\u001b[0m\u001b[0;34m,\u001b[0m \u001b[0margs\u001b[0m\u001b[0;34m=\u001b[0m\u001b[0margs\u001b[0m\u001b[0;34m)\u001b[0m\u001b[0;34m\u001b[0m\u001b[0m\n",
      "\u001b[0m\u001b[0;32m    554 \u001b[0;31m                \u001b[0mpreds_i\u001b[0m\u001b[0;34m.\u001b[0m\u001b[0mappend\u001b[0m\u001b[0;34m(\u001b[0m\u001b[0mt_last\u001b[0m \u001b[0;34m+\u001b[0m \u001b[0mval\u001b[0m\u001b[0;34m)\u001b[0m\u001b[0;34m\u001b[0m\u001b[0m\n",
      "\u001b[0m\n",
      "ipdb> n\n",
      "> \u001b[0;32m/home/utkarshu/prog/work/tf_rmtpp/src/tf_rmtpp/rmtpp_core.py\u001b[0m(553)\u001b[0;36m_quad_worker\u001b[0;34m()\u001b[0m\n",
      "\u001b[0;32m    551 \u001b[0;31m            \u001b[0;32mfor\u001b[0m \u001b[0mc_\u001b[0m\u001b[0;34m,\u001b[0m \u001b[0mt_last\u001b[0m \u001b[0;32min\u001b[0m \u001b[0mzip\u001b[0m\u001b[0;34m(\u001b[0m\u001b[0mC\u001b[0m\u001b[0;34m,\u001b[0m \u001b[0mtime_in_seq\u001b[0m\u001b[0;34m[\u001b[0m\u001b[0;34m:\u001b[0m\u001b[0;34m,\u001b[0m \u001b[0midx\u001b[0m\u001b[0;34m]\u001b[0m\u001b[0;34m)\u001b[0m\u001b[0;34m:\u001b[0m\u001b[0;34m\u001b[0m\u001b[0m\n",
      "\u001b[0m\u001b[0;32m    552 \u001b[0;31m                \u001b[0margs\u001b[0m \u001b[0;34m=\u001b[0m \u001b[0;34m(\u001b[0m\u001b[0mc_\u001b[0m\u001b[0;34m,\u001b[0m \u001b[0mwt\u001b[0m\u001b[0;34m)\u001b[0m\u001b[0;34m\u001b[0m\u001b[0m\n",
      "\u001b[0m\u001b[0;32m--> 553 \u001b[0;31m                \u001b[0mval\u001b[0m\u001b[0;34m,\u001b[0m \u001b[0m_err\u001b[0m \u001b[0;34m=\u001b[0m \u001b[0mquad\u001b[0m\u001b[0;34m(\u001b[0m\u001b[0mquad_func\u001b[0m\u001b[0;34m,\u001b[0m \u001b[0;36m0\u001b[0m\u001b[0;34m,\u001b[0m \u001b[0mnp\u001b[0m\u001b[0;34m.\u001b[0m\u001b[0minf\u001b[0m\u001b[0;34m,\u001b[0m \u001b[0margs\u001b[0m\u001b[0;34m=\u001b[0m\u001b[0margs\u001b[0m\u001b[0;34m)\u001b[0m\u001b[0;34m\u001b[0m\u001b[0m\n",
      "\u001b[0m\u001b[0;32m    554 \u001b[0;31m                \u001b[0mpreds_i\u001b[0m\u001b[0;34m.\u001b[0m\u001b[0mappend\u001b[0m\u001b[0;34m(\u001b[0m\u001b[0mt_last\u001b[0m \u001b[0;34m+\u001b[0m \u001b[0mval\u001b[0m\u001b[0;34m)\u001b[0m\u001b[0;34m\u001b[0m\u001b[0m\n",
      "\u001b[0m\u001b[0;32m    555 \u001b[0;31m\u001b[0;34m\u001b[0m\u001b[0m\n",
      "\u001b[0m\n",
      "ipdb> args\n",
      "params = (0, array([[  7.13341343e-16,   7.04132930e-16,   7.11919598e-16, ...,\n",
      "          7.10254067e-16,   7.03531484e-16,   7.04990339e-16],\n",
      "       [  7.07047941e-16,   6.97918091e-16,   7.05635990e-16, ...,\n",
      "          7.03985176e-16,   6.97321991e-16,   6.98767930e-16],\n",
      "       [  7.00748610e-16,   6.91700128e-16,   6.99349259e-16, ...,\n",
      "          6.97713109e-16,   6.91109322e-16,   6.92542343e-16],\n",
      "       ..., \n",
      "       [  2.99174022e-16,   2.95281615e-16,   2.98575461e-16, ...,\n",
      "          2.97857627e-16,   2.95035022e-16,   2.95636654e-16],\n",
      "       [  2.96489325e-16,   2.92631884e-16,   2.95896137e-16, ...,\n",
      "          2.95185873e-16,   2.92388600e-16,   2.92983720e-16],\n",
      "       [  2.93863496e-16,   2.90040201e-16,   2.93275549e-16, ...,\n",
      "          2.92570500e-16,   2.89798003e-16,   2.90387802e-16]], dtype=float32))\n",
      "ipdb> print(args)\n",
      "(1.9783183e+15, array([[  7.89925014e-09]], dtype=float32))\n",
      "ipdb> quad_func(0, c_, wt)\n",
      "array([[ 0.]], dtype=float32)\n",
      "ipdb> quad_func(np.inf, c_, wt)\n"
     ]
    },
    {
     "name": "stderr",
     "output_type": "stream",
     "text": [
      "/home/utkarshu/prog/work/tf_rmtpp/src/tf_rmtpp/rmtpp_core.py:40: RuntimeWarning: invalid value encountered in multiply\n",
      "  return c * t * np.exp(-w * t - (c / w) * (np.exp(-w * t) - 1))\n"
     ]
    },
    {
     "name": "stdout",
     "output_type": "stream",
     "text": [
      "array([[ nan]], dtype=float32)\n",
      "ipdb> quad_func(100, c_, wt)\n"
     ]
    },
    {
     "name": "stderr",
     "output_type": "stream",
     "text": [
      "/home/utkarshu/prog/work/tf_rmtpp/src/tf_rmtpp/rmtpp_core.py:40: RuntimeWarning: overflow encountered in exp\n",
      "  return c * t * np.exp(-w * t - (c / w) * (np.exp(-w * t) - 1))\n"
     ]
    },
    {
     "name": "stdout",
     "output_type": "stream",
     "text": [
      "array([[ inf]], dtype=float32)\n",
      "ipdb> np.exp(-wt * 100)\n",
      "array([[ 0.99999923]], dtype=float32)\n",
      "ipdb> -wt * t - (c_ / wt) * (np.exp(-wt * t) - 1)\n",
      "*** NameError: name 't' is not defined\n",
      "ipdb> -wt * 100 - (c_ / wt) * (np.exp(-wt * 100) - 1)\n",
      "array([[  1.94058992e+17]], dtype=float32)\n",
      "ipdb> quit\n"
     ]
    }
   ],
   "source": [
    "pdb.runcall(rmtpp_mdl.predict_train, data=data, single_threaded=True)"
   ]
  },
  {
   "cell_type": "code",
   "execution_count": 556,
   "metadata": {},
   "outputs": [
    {
     "data": {
      "text/plain": [
       "(1990, 100, 1999)"
      ]
     },
     "execution_count": 556,
     "metadata": {},
     "output_type": "execute_result"
    }
   ],
   "source": [
    "time_preds.shape"
   ]
  },
  {
   "cell_type": "code",
   "execution_count": 562,
   "metadata": {},
   "outputs": [
    {
     "data": {
      "text/plain": [
       "(100, 1999)"
      ]
     },
     "execution_count": 562,
     "metadata": {},
     "output_type": "execute_result"
    }
   ],
   "source": [
    "data['test_time_out_seq'].shape"
   ]
  },
  {
   "cell_type": "code",
   "execution_count": 538,
   "metadata": {},
   "outputs": [
    {
     "data": {
      "text/plain": [
       "1990"
      ]
     },
     "execution_count": 538,
     "metadata": {},
     "output_type": "execute_result"
    }
   ],
   "source": [
    "len(time_preds)"
   ]
  },
  {
   "cell_type": "code",
   "execution_count": 537,
   "metadata": {},
   "outputs": [
    {
     "data": {
      "text/plain": [
       "1999"
      ]
     },
     "execution_count": 537,
     "metadata": {},
     "output_type": "execute_result"
    }
   ],
   "source": [
    "len(time_preds[0][0])"
   ]
  },
  {
   "cell_type": "code",
   "execution_count": 527,
   "metadata": {},
   "outputs": [
    {
     "ename": "AttributeError",
     "evalue": "'list' object has no attribute 'shape'",
     "output_type": "error",
     "traceback": [
      "\u001b[0;31m---------------------------------------------------------------------------\u001b[0m",
      "\u001b[0;31mAttributeError\u001b[0m                            Traceback (most recent call last)",
      "\u001b[0;32m<ipython-input-527-e71bfa62a78a>\u001b[0m in \u001b[0;36m<module>\u001b[0;34m()\u001b[0m\n\u001b[0;32m----> 1\u001b[0;31m \u001b[0mtime_preds\u001b[0m\u001b[0;34m.\u001b[0m\u001b[0mshape\u001b[0m\u001b[0;34m\u001b[0m\u001b[0m\n\u001b[0m",
      "\u001b[0;31mAttributeError\u001b[0m: 'list' object has no attribute 'shape'"
     ]
    }
   ],
   "source": [
    "time_preds.shape"
   ]
  },
  {
   "cell_type": "code",
   "execution_count": 526,
   "metadata": {},
   "outputs": [
    {
     "data": {
      "text/plain": [
       "array([[ 0.67356926]], dtype=float32)"
      ]
     },
     "execution_count": 526,
     "metadata": {},
     "output_type": "execute_result"
    }
   ],
   "source": [
    "rmtpp_mdl.sess.run(rmtpp_mdl.wt)"
   ]
  },
  {
   "cell_type": "code",
   "execution_count": 524,
   "metadata": {},
   "outputs": [
    {
     "data": {
      "text/plain": [
       "1363.0"
      ]
     },
     "execution_count": 524,
     "metadata": {},
     "output_type": "execute_result"
    }
   ],
   "source": [
    "np.mean(np.asarray(time_preds).shape)"
   ]
  },
  {
   "cell_type": "code",
   "execution_count": null,
   "metadata": {
    "collapsed": true
   },
   "outputs": [],
   "source": [
    "time_preds"
   ]
  },
  {
   "cell_type": "code",
   "execution_count": null,
   "metadata": {
    "collapsed": true
   },
   "outputs": [],
   "source": [
    "pd.Series(time_preds)"
   ]
  },
  {
   "cell_type": "code",
   "execution_count": 511,
   "metadata": {},
   "outputs": [
    {
     "ename": "ValueError",
     "evalue": "range parameter must be finite.",
     "output_type": "error",
     "traceback": [
      "\u001b[0;31m---------------------------------------------------------------------------\u001b[0m",
      "\u001b[0;31mValueError\u001b[0m                                Traceback (most recent call last)",
      "\u001b[0;32m<ipython-input-511-67d498c8a1e5>\u001b[0m in \u001b[0;36m<module>\u001b[0;34m()\u001b[0m\n\u001b[0;32m----> 1\u001b[0;31m \u001b[0mplt\u001b[0m\u001b[0;34m.\u001b[0m\u001b[0mhist\u001b[0m\u001b[0;34m(\u001b[0m\u001b[0mtime_preds\u001b[0m\u001b[0;34m)\u001b[0m\u001b[0;34m\u001b[0m\u001b[0m\n\u001b[0m",
      "\u001b[0;32m/home/utkarshu/miniconda3/lib/python3.6/site-packages/matplotlib/pyplot.py\u001b[0m in \u001b[0;36mhist\u001b[0;34m(x, bins, range, normed, weights, cumulative, bottom, histtype, align, orientation, rwidth, log, color, label, stacked, hold, data, **kwargs)\u001b[0m\n\u001b[1;32m   3079\u001b[0m                       \u001b[0mhisttype\u001b[0m\u001b[0;34m=\u001b[0m\u001b[0mhisttype\u001b[0m\u001b[0;34m,\u001b[0m \u001b[0malign\u001b[0m\u001b[0;34m=\u001b[0m\u001b[0malign\u001b[0m\u001b[0;34m,\u001b[0m \u001b[0morientation\u001b[0m\u001b[0;34m=\u001b[0m\u001b[0morientation\u001b[0m\u001b[0;34m,\u001b[0m\u001b[0;34m\u001b[0m\u001b[0m\n\u001b[1;32m   3080\u001b[0m                       \u001b[0mrwidth\u001b[0m\u001b[0;34m=\u001b[0m\u001b[0mrwidth\u001b[0m\u001b[0;34m,\u001b[0m \u001b[0mlog\u001b[0m\u001b[0;34m=\u001b[0m\u001b[0mlog\u001b[0m\u001b[0;34m,\u001b[0m \u001b[0mcolor\u001b[0m\u001b[0;34m=\u001b[0m\u001b[0mcolor\u001b[0m\u001b[0;34m,\u001b[0m \u001b[0mlabel\u001b[0m\u001b[0;34m=\u001b[0m\u001b[0mlabel\u001b[0m\u001b[0;34m,\u001b[0m\u001b[0;34m\u001b[0m\u001b[0m\n\u001b[0;32m-> 3081\u001b[0;31m                       stacked=stacked, data=data, **kwargs)\n\u001b[0m\u001b[1;32m   3082\u001b[0m     \u001b[0;32mfinally\u001b[0m\u001b[0;34m:\u001b[0m\u001b[0;34m\u001b[0m\u001b[0m\n\u001b[1;32m   3083\u001b[0m         \u001b[0max\u001b[0m\u001b[0;34m.\u001b[0m\u001b[0m_hold\u001b[0m \u001b[0;34m=\u001b[0m \u001b[0mwashold\u001b[0m\u001b[0;34m\u001b[0m\u001b[0m\n",
      "\u001b[0;32m/home/utkarshu/miniconda3/lib/python3.6/site-packages/matplotlib/__init__.py\u001b[0m in \u001b[0;36minner\u001b[0;34m(ax, *args, **kwargs)\u001b[0m\n\u001b[1;32m   1896\u001b[0m                     warnings.warn(msg % (label_namer, func.__name__),\n\u001b[1;32m   1897\u001b[0m                                   RuntimeWarning, stacklevel=2)\n\u001b[0;32m-> 1898\u001b[0;31m             \u001b[0;32mreturn\u001b[0m \u001b[0mfunc\u001b[0m\u001b[0;34m(\u001b[0m\u001b[0max\u001b[0m\u001b[0;34m,\u001b[0m \u001b[0;34m*\u001b[0m\u001b[0margs\u001b[0m\u001b[0;34m,\u001b[0m \u001b[0;34m**\u001b[0m\u001b[0mkwargs\u001b[0m\u001b[0;34m)\u001b[0m\u001b[0;34m\u001b[0m\u001b[0m\n\u001b[0m\u001b[1;32m   1899\u001b[0m         \u001b[0mpre_doc\u001b[0m \u001b[0;34m=\u001b[0m \u001b[0minner\u001b[0m\u001b[0;34m.\u001b[0m\u001b[0m__doc__\u001b[0m\u001b[0;34m\u001b[0m\u001b[0m\n\u001b[1;32m   1900\u001b[0m         \u001b[0;32mif\u001b[0m \u001b[0mpre_doc\u001b[0m \u001b[0;32mis\u001b[0m \u001b[0;32mNone\u001b[0m\u001b[0;34m:\u001b[0m\u001b[0;34m\u001b[0m\u001b[0m\n",
      "\u001b[0;32m/home/utkarshu/miniconda3/lib/python3.6/site-packages/matplotlib/axes/_axes.py\u001b[0m in \u001b[0;36mhist\u001b[0;34m(***failed resolving arguments***)\u001b[0m\n\u001b[1;32m   6193\u001b[0m             \u001b[0;31m# this will automatically overwrite bins,\u001b[0m\u001b[0;34m\u001b[0m\u001b[0;34m\u001b[0m\u001b[0m\n\u001b[1;32m   6194\u001b[0m             \u001b[0;31m# so that each histogram uses the same bins\u001b[0m\u001b[0;34m\u001b[0m\u001b[0;34m\u001b[0m\u001b[0m\n\u001b[0;32m-> 6195\u001b[0;31m             \u001b[0mm\u001b[0m\u001b[0;34m,\u001b[0m \u001b[0mbins\u001b[0m \u001b[0;34m=\u001b[0m \u001b[0mnp\u001b[0m\u001b[0;34m.\u001b[0m\u001b[0mhistogram\u001b[0m\u001b[0;34m(\u001b[0m\u001b[0mx\u001b[0m\u001b[0;34m[\u001b[0m\u001b[0mi\u001b[0m\u001b[0;34m]\u001b[0m\u001b[0;34m,\u001b[0m \u001b[0mbins\u001b[0m\u001b[0;34m,\u001b[0m \u001b[0mweights\u001b[0m\u001b[0;34m=\u001b[0m\u001b[0mw\u001b[0m\u001b[0;34m[\u001b[0m\u001b[0mi\u001b[0m\u001b[0;34m]\u001b[0m\u001b[0;34m,\u001b[0m \u001b[0;34m**\u001b[0m\u001b[0mhist_kwargs\u001b[0m\u001b[0;34m)\u001b[0m\u001b[0;34m\u001b[0m\u001b[0m\n\u001b[0m\u001b[1;32m   6196\u001b[0m             \u001b[0mm\u001b[0m \u001b[0;34m=\u001b[0m \u001b[0mm\u001b[0m\u001b[0;34m.\u001b[0m\u001b[0mastype\u001b[0m\u001b[0;34m(\u001b[0m\u001b[0mfloat\u001b[0m\u001b[0;34m)\u001b[0m  \u001b[0;31m# causes problems later if it's an int\u001b[0m\u001b[0;34m\u001b[0m\u001b[0m\n\u001b[1;32m   6197\u001b[0m             \u001b[0;32mif\u001b[0m \u001b[0mmlast\u001b[0m \u001b[0;32mis\u001b[0m \u001b[0;32mNone\u001b[0m\u001b[0;34m:\u001b[0m\u001b[0;34m\u001b[0m\u001b[0m\n",
      "\u001b[0;32m/home/utkarshu/miniconda3/lib/python3.6/site-packages/numpy/lib/function_base.py\u001b[0m in \u001b[0;36mhistogram\u001b[0;34m(a, bins, range, normed, weights, density)\u001b[0m\n\u001b[1;32m    668\u001b[0m     \u001b[0;32mif\u001b[0m \u001b[0;32mnot\u001b[0m \u001b[0mnp\u001b[0m\u001b[0;34m.\u001b[0m\u001b[0mall\u001b[0m\u001b[0;34m(\u001b[0m\u001b[0mnp\u001b[0m\u001b[0;34m.\u001b[0m\u001b[0misfinite\u001b[0m\u001b[0;34m(\u001b[0m\u001b[0;34m[\u001b[0m\u001b[0mmn\u001b[0m\u001b[0;34m,\u001b[0m \u001b[0mmx\u001b[0m\u001b[0;34m]\u001b[0m\u001b[0;34m)\u001b[0m\u001b[0;34m)\u001b[0m\u001b[0;34m:\u001b[0m\u001b[0;34m\u001b[0m\u001b[0m\n\u001b[1;32m    669\u001b[0m         raise ValueError(\n\u001b[0;32m--> 670\u001b[0;31m             'range parameter must be finite.')\n\u001b[0m\u001b[1;32m    671\u001b[0m     \u001b[0;32mif\u001b[0m \u001b[0mmn\u001b[0m \u001b[0;34m==\u001b[0m \u001b[0mmx\u001b[0m\u001b[0;34m:\u001b[0m\u001b[0;34m\u001b[0m\u001b[0m\n\u001b[1;32m    672\u001b[0m         \u001b[0mmn\u001b[0m \u001b[0;34m-=\u001b[0m \u001b[0;36m0.5\u001b[0m\u001b[0;34m\u001b[0m\u001b[0m\n",
      "\u001b[0;31mValueError\u001b[0m: range parameter must be finite."
     ]
    },
    {
     "data": {
      "image/png": "[encoded data removed]",
      "text/plain": [
       "<matplotlib.figure.Figure at 0x7fdd904d9588>"
      ]
     },
     "metadata": {},
     "output_type": "display_data"
    }
   ],
   "source": [
    "plt.hist(time_preds)"
   ]
  },
  {
   "cell_type": "code",
   "execution_count": 439,
   "metadata": {},
   "outputs": [
    {
     "name": "stdout",
     "output_type": "stream",
     "text": [
      "Restoring from ./save.rmtpp/model.ckpt-799\n",
      "INFO:tensorflow:Restoring parameters from ./save.rmtpp/model.ckpt-799\n",
      "Starting epoch... 1\n",
      "Loss during batch 0 last BPTT = 3892142519466590208.000, lr = 0.08622\n",
      "Loss on last epoch = 3892142519466590208.0000, new lr = 0.08622, global_step = 1598\n",
      "Starting epoch... 2\n",
      "Loss during batch 0 last BPTT = 4477427402338729984.000, lr = 0.08066\n",
      "Loss on last epoch = 4477427402338729984.0000, new lr = 0.08066, global_step = 2397\n",
      "Starting epoch... 3\n",
      "Loss during batch 0 last BPTT = 3853046085006131200.000, lr = 0.07578\n",
      "Loss on last epoch = 3853046085006131200.0000, new lr = 0.07578, global_step = 3196\n",
      "Starting epoch... 4\n",
      "Loss during batch 0 last BPTT = 3826016240904699904.000, lr = 0.07145\n",
      "Loss on last epoch = 3826016240904699904.0000, new lr = 0.07145, global_step = 3995\n",
      "Starting epoch... 5\n",
      "Loss during batch 0 last BPTT = 3895325055873187840.000, lr = 0.06759\n",
      "Loss on last epoch = 3895325055873187840.0000, new lr = 0.06759, global_step = 4794\n",
      "Starting epoch... 6\n",
      "Loss during batch 0 last BPTT = 3255386198763372544.000, lr = 0.06413\n",
      "Loss on last epoch = 3255386198763372544.0000, new lr = 0.06413, global_step = 5593\n",
      "Starting epoch... 7\n",
      "Loss during batch 0 last BPTT = 3218644918209609728.000, lr = 0.06101\n",
      "Loss on last epoch = 3218644918209609728.0000, new lr = 0.06101, global_step = 6392\n",
      "Starting epoch... 8\n",
      "Loss during batch 0 last BPTT = 3438362525811343360.000, lr = 0.05817\n",
      "Loss on last epoch = 3438362525811343360.0000, new lr = 0.05817, global_step = 7191\n",
      "Starting epoch... 9\n",
      "Loss during batch 0 last BPTT = 5279453514836213760.000, lr = 0.05559\n",
      "Loss on last epoch = 5279453514836213760.0000, new lr = 0.05559, global_step = 7990\n",
      "Model saved at ./save.rmtpp/model.ckpt\n",
      "CPU times: user 11min 31s, sys: 0 ns, total: 11min 31s\n",
      "Wall time: 4min 37s\n"
     ]
    }
   ],
   "source": [
    "%%time\n",
    "rmtpp_mdl.train(training_data=data, restart=True, with_summaries=True, num_epochs=9)"
   ]
  },
  {
   "cell_type": "code",
   "execution_count": 447,
   "metadata": {},
   "outputs": [
    {
     "data": {
      "text/plain": [
       "1.5625"
      ]
     },
     "execution_count": 447,
     "metadata": {},
     "output_type": "execute_result"
    }
   ],
   "source": [
    "len(data['train_event_in_seq']) / rmtpp_mdl.BATCH_SIZE"
   ]
  },
  {
   "cell_type": "code",
   "execution_count": 446,
   "metadata": {},
   "outputs": [
    {
     "data": {
      "text/plain": [
       "799.9"
      ]
     },
     "execution_count": 446,
     "metadata": {},
     "output_type": "execute_result"
    }
   ],
   "source": [
    "(len(data['train_event_in_seq'][0]) / rmtpp_mdl.BPTT)"
   ]
  },
  {
   "cell_type": "code",
   "execution_count": 445,
   "metadata": {},
   "outputs": [
    {
     "data": {
      "text/plain": [
       "7999"
      ]
     },
     "execution_count": 445,
     "metadata": {},
     "output_type": "execute_result"
    }
   ],
   "source": [
    "(len(data['train_event_in_seq'][0])) #  / rmtpp_mdl.BATCH_SIZE) / rmtpp_mdl.BPTT"
   ]
  },
  {
   "cell_type": "code",
   "execution_count": 227,
   "metadata": {},
   "outputs": [
    {
     "data": {
      "text/plain": [
       "array([ 0.00921901,  0.00011524])"
      ]
     },
     "execution_count": 227,
     "metadata": {},
     "output_type": "execute_result"
    }
   ],
   "source": [
    "data['train_time_in_seq'][[2, 3], :][:, 4] - data['train_time_in_seq'][[2, 3], :][:, 3]"
   ]
  },
  {
   "cell_type": "code",
   "execution_count": 166,
   "metadata": {},
   "outputs": [
    {
     "data": {
      "text/plain": [
       "array([[ 0.05606906,  0.05609789,  0.12283624, ...,  0.        ,\n",
       "         0.        ,  0.        ],\n",
       "       [ 0.03780895,  0.05659572,  0.0711524 , ...,  0.        ,\n",
       "         0.        ,  0.        ]])"
      ]
     },
     "execution_count": 166,
     "metadata": {},
     "output_type": "execute_result"
    }
   ],
   "source": [
    "data['train_time_in_seq'][[0, 1], :]"
   ]
  },
  {
   "cell_type": "code",
   "execution_count": 167,
   "metadata": {},
   "outputs": [
    {
     "data": {
      "text/plain": [
       "array([[ 0.05609789,  0.12283624,  0.12970529, ...,  0.        ,\n",
       "         0.        ,  0.        ],\n",
       "       [ 0.05659572,  0.0711524 ,  0.09084344, ...,  0.        ,\n",
       "         0.        ,  0.        ]])"
      ]
     },
     "execution_count": 167,
     "metadata": {},
     "output_type": "execute_result"
    }
   ],
   "source": [
    "data['train_time_out_seq'][[0, 1], :]"
   ]
  },
  {
   "cell_type": "code",
   "execution_count": 157,
   "metadata": {},
   "outputs": [
    {
     "data": {
      "text/plain": [
       "719"
      ]
     },
     "execution_count": 157,
     "metadata": {},
     "output_type": "execute_result"
    }
   ],
   "source": [
    "len(data['train_time_in_seq'][2])"
   ]
  },
  {
   "cell_type": "code",
   "execution_count": 152,
   "metadata": {},
   "outputs": [
    {
     "data": {
      "text/plain": [
       "0.99998044189529367"
      ]
     },
     "execution_count": 152,
     "metadata": {},
     "output_type": "execute_result"
    }
   ],
   "source": [
    "np.max(data['train_time_in_seq'])"
   ]
  },
  {
   "cell_type": "code",
   "execution_count": 153,
   "metadata": {},
   "outputs": [
    {
     "data": {
      "text/plain": [
       "0.99920974436497556"
      ]
     },
     "execution_count": 153,
     "metadata": {},
     "output_type": "execute_result"
    }
   ],
   "source": [
    "np.max(data['test_time_in_seq'])"
   ]
  },
  {
   "cell_type": "code",
   "execution_count": 87,
   "metadata": {},
   "outputs": [
    {
     "data": {
      "text/plain": [
       "1326"
      ]
     },
     "execution_count": 87,
     "metadata": {},
     "output_type": "execute_result"
    }
   ],
   "source": [
    "len(data['test_event_in_seq'])"
   ]
  },
  {
   "cell_type": "code",
   "execution_count": 83,
   "metadata": {},
   "outputs": [
    {
     "data": {
      "text/plain": [
       "10"
      ]
     },
     "execution_count": 83,
     "metadata": {},
     "output_type": "execute_result"
    }
   ],
   "source": [
    "rmtpp_mdl.BPTT"
   ]
  },
  {
   "cell_type": "code",
   "execution_count": 86,
   "metadata": {},
   "outputs": [
    {
     "data": {
      "text/plain": [
       "(730, 1326)"
      ]
     },
     "execution_count": 86,
     "metadata": {},
     "output_type": "execute_result"
    }
   ],
   "source": [
    "len(h_preds), len(events_preds[0])"
   ]
  },
  {
   "cell_type": "code",
   "execution_count": 96,
   "metadata": {},
   "outputs": [
    {
     "data": {
      "text/plain": [
       "array([ 0. ,  0.2,  0. ,  0. ,  0.2,  0.2,  0.2,  0. ,  0. ,  0.2,  0. ,\n",
       "        0. ,  0. ,  0. ,  0. ,  0. ,  0. ,  0. ,  0. ,  0. ,  0. ,  0. ,\n",
       "        0. ], dtype=float32)"
      ]
     },
     "execution_count": 96,
     "metadata": {},
     "output_type": "execute_result"
    }
   ],
   "source": [
    "events_preds[29][10]"
   ]
  },
  {
   "cell_type": "code",
   "execution_count": 95,
   "metadata": {},
   "outputs": [
    {
     "data": {
      "text/plain": [
       "array([ 0. ,  0.2,  0. ,  0. ,  0.2,  0.2,  0.2,  0. ,  0. ,  0.2,  0. ,\n",
       "        0. ,  0. ,  0. ,  0. ,  0. ,  0. ,  0. ,  0. ,  0. ,  0. ,  0. ,\n",
       "        0. ], dtype=float32)"
      ]
     },
     "execution_count": 95,
     "metadata": {},
     "output_type": "execute_result"
    }
   ],
   "source": [
    "events_preds[0][100]"
   ]
  },
  {
   "cell_type": "code",
   "execution_count": 117,
   "metadata": {},
   "outputs": [
    {
     "data": {
      "text/plain": [
       "4.273139e-06"
      ]
     },
     "execution_count": 117,
     "metadata": {},
     "output_type": "execute_result"
    }
   ],
   "source": [
    "iterSession.run(rmtpp_mdl.learning_rate)"
   ]
  },
  {
   "cell_type": "code",
   "execution_count": null,
   "metadata": {
    "collapsed": true
   },
   "outputs": [],
   "source": []
  },
  {
   "cell_type": "code",
   "execution_count": null,
   "metadata": {
    "collapsed": true
   },
   "outputs": [],
   "source": []
  },
  {
   "cell_type": "code",
   "execution_count": null,
   "metadata": {
    "collapsed": true
   },
   "outputs": [],
   "source": []
  },
  {
   "cell_type": "code",
   "execution_count": null,
   "metadata": {
    "collapsed": true
   },
   "outputs": [],
   "source": []
  },
  {
   "cell_type": "code",
   "execution_count": null,
   "metadata": {
    "collapsed": true
   },
   "outputs": [],
   "source": []
  },
  {
   "cell_type": "code",
   "execution_count": null,
   "metadata": {
    "collapsed": true
   },
   "outputs": [],
   "source": []
  },
  {
   "cell_type": "code",
   "execution_count": 22,
   "metadata": {
    "collapsed": true
   },
   "outputs": [],
   "source": [
    "def foo(n, p):\n",
    "    return np.exp((1 - p + np.log(p)) / n)"
   ]
  },
  {
   "cell_type": "code",
   "execution_count": 29,
   "metadata": {},
   "outputs": [
    {
     "name": "stderr",
     "output_type": "stream",
     "text": [
      "/home/utkarshu/miniconda3/lib/python3.6/site-packages/ipykernel_launcher.py:2: RuntimeWarning: divide by zero encountered in log\n",
      "  \n"
     ]
    },
    {
     "data": {
      "text/plain": [
       "<matplotlib.legend.Legend at 0x7fe21bbee780>"
      ]
     },
     "execution_count": 29,
     "metadata": {},
     "output_type": "execute_result"
    },
    {
     "data": {
      "image/png": "[encoded data removed]",
      "text/plain": [
       "<matplotlib.figure.Figure at 0x7fe21bc6fb38>"
      ]
     },
     "metadata": {},
     "output_type": "display_data"
    }
   ],
   "source": [
    "p = np.arange(0, 1, 0.01)\n",
    "plt.plot(p, foo(0.01, p), label='0.01')\n",
    "plt.plot(p, foo(0.1, p), label='0.1')\n",
    "plt.plot(p, foo(0.5, p), label='0.5')\n",
    "plt.plot(p, foo(1.0, p), label='1.0')\n",
    "# plt.plot(p, foo(2.0, p), label='2.0')\n",
    "plt.plot(p, p, label='x = y')\n",
    "plt.ylabel(r'$P[t_{next} > m^{-1}(\\theta)]$')\n",
    "plt.xlabel(r'Threshold ($\\theta$)')\n",
    "plt.legend()"
   ]
  },
  {
   "cell_type": "code",
   "execution_count": null,
   "metadata": {
    "collapsed": true
   },
   "outputs": [],
   "source": []
  },
  {
   "cell_type": "markdown",
   "metadata": {
    "collapsed": true
   },
   "source": [
    "### Soft-min"
   ]
  },
  {
   "cell_type": "code",
   "execution_count": 883,
   "metadata": {
    "collapsed": true
   },
   "outputs": [],
   "source": [
    "def soft_min(x):\n",
    "    \"\"\"Provides a soft version of the function min(1, x).\"\"\"\n",
    "    return (np.exp(2.1 * x) - 1)/(np.exp(2.1 * x) + 1)\n",
    "\n",
    "def hard_min(x):\n",
    "    return np.minimum(x, 1)"
   ]
  },
  {
   "cell_type": "code",
   "execution_count": 884,
   "metadata": {},
   "outputs": [
    {
     "data": {
      "text/plain": [
       "[<matplotlib.lines.Line2D at 0x7fdc20124518>]"
      ]
     },
     "execution_count": 884,
     "metadata": {},
     "output_type": "execute_result"
    },
    {
     "data": {
      "image/png": "[encoded data removed]",
      "text/plain": [
       "<matplotlib.figure.Figure at 0x7fdc20124550>"
      ]
     },
     "metadata": {},
     "output_type": "display_data"
    }
   ],
   "source": [
    "x = np.arange(0, 5, 0.01)\n",
    "y_hard = hard_min(x)\n",
    "y_soft = soft_min(x)\n",
    "plt.plot(x, y_hard, 'k')\n",
    "plt.plot(x, y_soft, '--b')"
   ]
  },
  {
   "cell_type": "code",
   "execution_count": 868,
   "metadata": {},
   "outputs": [
    {
     "data": {
      "text/plain": [
       "array([ 0. ,  0.1,  0.2,  0.3,  0.4,  0.5,  0.6,  0.7,  0.8,  0.9,  1. ,\n",
       "        1. ,  1. ,  1. ,  1. ,  1. ,  1. ,  1. ,  1. ,  1. ])"
      ]
     },
     "execution_count": 868,
     "metadata": {},
     "output_type": "execute_result"
    }
   ],
   "source": [
    "hard_min(np.arange(0, 2, 0.1))"
   ]
  },
  {
   "cell_type": "code",
   "execution_count": 885,
   "metadata": {},
   "outputs": [
    {
     "data": {
      "text/plain": [
       "array([ 0.        ,  0.10461582,  0.2069665 ,  0.30497892,  0.39693043,\n",
       "        0.4815498 ,  0.55805222,  0.62611477,  0.68580906,  0.73751106,\n",
       "        0.78180636,  0.81940371,  0.85106411,  0.87754767,  0.89957745,\n",
       "        0.91781744,  0.93286155,  0.94523038,  0.95537312,  0.96367262])"
      ]
     },
     "execution_count": 885,
     "metadata": {},
     "output_type": "execute_result"
    }
   ],
   "source": [
    "soft_min(np.arange(0, 2, 0.1))"
   ]
  },
  {
   "cell_type": "code",
   "execution_count": null,
   "metadata": {
    "collapsed": true
   },
   "outputs": [],
   "source": []
  },
  {
   "cell_type": "code",
   "execution_count": null,
   "metadata": {
    "collapsed": true
   },
   "outputs": [],
   "source": []
  },
  {
   "cell_type": "code",
   "execution_count": null,
   "metadata": {
    "collapsed": true
   },
   "outputs": [],
   "source": []
  },
  {
   "cell_type": "code",
   "execution_count": null,
   "metadata": {
    "collapsed": true
   },
   "outputs": [],
   "source": []
  },
  {
   "cell_type": "code",
   "execution_count": null,
   "metadata": {
    "collapsed": true
   },
   "outputs": [],
   "source": []
  },
  {
   "cell_type": "code",
   "execution_count": null,
   "metadata": {
    "collapsed": true
   },
   "outputs": [],
   "source": []
  },
  {
   "cell_type": "code",
   "execution_count": null,
   "metadata": {
    "collapsed": true
   },
   "outputs": [],
   "source": []
  },
  {
   "cell_type": "code",
   "execution_count": null,
   "metadata": {
    "collapsed": true
   },
   "outputs": [],
   "source": []
  },
  {
   "cell_type": "code",
   "execution_count": null,
   "metadata": {
    "collapsed": true
   },
   "outputs": [],
   "source": []
  },
  {
   "cell_type": "code",
   "execution_count": null,
   "metadata": {
    "collapsed": true
   },
   "outputs": [],
   "source": []
  },
  {
   "cell_type": "code",
   "execution_count": null,
   "metadata": {
    "collapsed": true
   },
   "outputs": [],
   "source": []
  },
  {
   "cell_type": "code",
   "execution_count": null,
   "metadata": {
    "collapsed": true
   },
   "outputs": [],
   "source": []
  },
  {
   "cell_type": "code",
   "execution_count": null,
   "metadata": {
    "collapsed": true
   },
   "outputs": [],
   "source": []
  },
  {
   "cell_type": "code",
   "execution_count": null,
   "metadata": {
    "collapsed": true
   },
   "outputs": [],
   "source": []
  },
  {
   "cell_type": "code",
   "execution_count": null,
   "metadata": {
    "collapsed": true
   },
   "outputs": [],
   "source": []
  },
  {
   "cell_type": "code",
   "execution_count": null,
   "metadata": {
    "collapsed": true
   },
   "outputs": [],
   "source": []
  },
  {
   "cell_type": "code",
   "execution_count": null,
   "metadata": {
    "collapsed": true
   },
   "outputs": [],
   "source": []
  }
 ],
 "metadata": {
  "kernelspec": {
   "display_name": "Python 3",
   "language": "python",
   "name": "python3"
  },
  "language_info": {
   "codemirror_mode": {
    "name": "ipython",
    "version": 3
   },
   "file_extension": ".py",
   "mimetype": "text/x-python",
   "name": "python",
   "nbconvert_exporter": "python",
   "pygments_lexer": "ipython3",
   "version": "3.6.1"
  }
 },
 "nbformat": 4,
 "nbformat_minor": 2
}
